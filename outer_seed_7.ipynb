{
  "cells": [
    {
      "cell_type": "markdown",
      "metadata": {
        "id": "i9A-T0mAW2C0"
      },
      "source": [
        "# Combined Experiments"
      ]
    },
    {
      "cell_type": "markdown",
      "metadata": {
        "id": "4zUcRgWRYus1"
      },
      "source": [
        "first do the experiment1 ,the combined data, and then split it into 5 folds, then organize them into five pairs of training and testing data"
      ]
    },
    {
      "cell_type": "code",
      "execution_count": null,
      "metadata": {
        "colab": {
          "base_uri": "https://localhost:8080/"
        },
        "id": "b_47zy4mY3i_",
        "outputId": "252d13f3-5bcd-4294-eb05-b9ed9cc88118"
      },
      "outputs": [
        {
          "output_type": "stream",
          "name": "stdout",
          "text": [
            "Training and test data for 5 folds with seed 7 have been generated and saved.\n"
          ]
        }
      ],
      "source": [
        "import pandas as pd\n",
        "from sklearn.model_selection import KFold\n",
        "\n",
        "# Load the combined data\n",
        "combined_data_7 = pd.read_csv('combined_data_7.csv')\n",
        "\n",
        "# Initialize KFold with 5 splits\n",
        "kf = KFold(n_splits=5, shuffle=True, random_state=7)\n",
        "\n",
        "# Create storage for training and test data splits\n",
        "folds = []\n",
        "\n",
        "# Split the data into 5 folds\n",
        "for train_index, test_index in kf.split(combined_data_7):\n",
        "    train_data = combined_data_7.iloc[train_index]\n",
        "    test_data = combined_data_7.iloc[test_index]\n",
        "    folds.append((train_data, test_data))\n",
        "\n",
        "# Save each training and test group as separate files\n",
        "for i, (train_data, test_data) in enumerate(folds):\n",
        "    train_data.to_csv(f'combined_train_7_fold{i+1}.csv', index=False)\n",
        "    test_data.to_csv(f'combined_test_7_fold{i+1}.csv', index=False)\n",
        "\n",
        "print(\"Training and test data for 5 folds with seed 7 have been generated and saved.\")\n"
      ]
    },
    {
      "cell_type": "markdown",
      "metadata": {
        "id": "bip-xt9cZv7Y"
      },
      "source": [
        "do the feature selection for each group"
      ]
    },
    {
      "cell_type": "code",
      "execution_count": null,
      "metadata": {
        "colab": {
          "base_uri": "https://localhost:8080/"
        },
        "id": "462MZV4CE0Kf",
        "outputId": "2865f0d0-a9d4-4240-e469-8158970a1ff3"
      },
      "outputs": [
        {
          "output_type": "stream",
          "name": "stdout",
          "text": [
            "Top 25 features for fold 1 with seed 7 saved.\n",
            "Top 25 features for fold 2 with seed 7 saved.\n",
            "Top 25 features for fold 3 with seed 7 saved.\n",
            "Top 25 features for fold 4 with seed 7 saved.\n",
            "Top 25 features for fold 5 with seed 7 saved.\n"
          ]
        }
      ],
      "source": [
        "import pandas as pd\n",
        "from sklearn.ensemble import RandomForestRegressor\n",
        "\n",
        "# Function to perform feature selection\n",
        "def feature_selection(train_data, target_column, preselected_features, k=25):\n",
        "    # Separate features and target\n",
        "    X = train_data.drop(columns=[target_column, 'TIMESTAMP'], errors='ignore')  # Drop TIMESTAMP\n",
        "    y = train_data[target_column]\n",
        "\n",
        "    # Train a RandomForestRegressor model\n",
        "    rf_model = RandomForestRegressor(n_estimators=100, random_state=100)\n",
        "    rf_model.fit(X, y)\n",
        "\n",
        "    # Get feature names and their importance scores\n",
        "    feature_importances = rf_model.feature_importances_\n",
        "    feature_names = X.columns\n",
        "\n",
        "    # Combine feature names and scores into a DataFrame\n",
        "    selected_features = pd.DataFrame({\n",
        "        'Feature': feature_names,\n",
        "        'Importance': feature_importances\n",
        "    }).sort_values(by='Importance', ascending=False)\n",
        "\n",
        "    # Select the preselected features (label, T_out, RH_out)\n",
        "    preselected_df = selected_features[selected_features['Feature'].isin(preselected_features)]\n",
        "\n",
        "    # Select the remaining top features after excluding preselected ones\n",
        "    remaining_features = selected_features[~selected_features['Feature'].isin(preselected_features)]\n",
        "    top_remaining_features = remaining_features.head(k - len(preselected_features))\n",
        "\n",
        "    # Combine preselected features with the top remaining features\n",
        "    final_features = pd.concat([preselected_df, top_remaining_features])\n",
        "\n",
        "    return final_features\n",
        "\n",
        "# Perform feature selection for each fold\n",
        "target_column = 'WH_RTU_Total'\n",
        "preselected_features = ['label', 'T_out', 'RH_out']\n",
        "\n",
        "for i in range(1, 6):\n",
        "    train_data = pd.read_csv(f'combined_train_7_fold{i}.csv')\n",
        "\n",
        "    # Perform feature selection\n",
        "    top_features = feature_selection(train_data, target_column, preselected_features, k=25)\n",
        "\n",
        "    # Save top features\n",
        "    top_features.to_csv(f'combined_train_7_fold{i}_top25_features.csv', index=False)\n",
        "\n",
        "    print(f\"Top 25 features for fold {i} with seed 7 saved.\")\n"
      ]
    },
    {
      "cell_type": "markdown",
      "metadata": {
        "id": "rSekzqyd9Ocl"
      },
      "source": [
        "then i need to select the related data from both the training and test set in the five groups based on the feature selected in former section(which is the training data)"
      ]
    },
    {
      "cell_type": "code",
      "execution_count": null,
      "metadata": {
        "colab": {
          "base_uri": "https://localhost:8080/"
        },
        "id": "pv74sjYB9dw4",
        "outputId": "c72d64f4-1716-4678-cab7-517ffa91f24c"
      },
      "outputs": [
        {
          "output_type": "stream",
          "name": "stdout",
          "text": [
            "Filtered train data for fold 1 with seed 7 saved.\n",
            "Filtered test data, heating data, and cooling data for fold 1 with seed 7 saved.\n",
            "Filtered train data for fold 2 with seed 7 saved.\n",
            "Filtered test data, heating data, and cooling data for fold 2 with seed 7 saved.\n",
            "Filtered train data for fold 3 with seed 7 saved.\n",
            "Filtered test data, heating data, and cooling data for fold 3 with seed 7 saved.\n",
            "Filtered train data for fold 4 with seed 7 saved.\n",
            "Filtered test data, heating data, and cooling data for fold 4 with seed 7 saved.\n",
            "Filtered train data for fold 5 with seed 7 saved.\n",
            "Filtered test data, heating data, and cooling data for fold 5 with seed 7 saved.\n"
          ]
        }
      ],
      "source": [
        "# Target variable\n",
        "target_column = 'WH_RTU_Total'\n",
        "\n",
        "for i in range(1, 6):\n",
        "    # Load the original training and test datasets for the current fold\n",
        "    train_data = pd.read_csv(f'combined_train_7_fold{i}.csv')\n",
        "    test_data = pd.read_csv(f'combined_test_7_fold{i}.csv')\n",
        "\n",
        "    # Load the top 25 features selected from the current fold\n",
        "    top_features = pd.read_csv(f'combined_train_7_fold{i}_top25_features.csv')['Feature'].tolist()\n",
        "\n",
        "    # Ensure the target column is included in the selected features\n",
        "    train_columns = top_features + [target_column]  # Train data includes target\n",
        "    test_columns = top_features + [target_column]  # Test data includes target\n",
        "\n",
        "    # Filter the training data\n",
        "    filtered_train_data = train_data[train_columns]\n",
        "    filtered_train_data.to_csv(f'fold_7_{i}_filtered_train_data.csv', index=False)\n",
        "    print(f\"Filtered train data for fold {i} with seed 7 saved.\")\n",
        "\n",
        "    # Filter the test data\n",
        "    filtered_test_data = test_data[test_columns]\n",
        "\n",
        "    # Split the test data into heating and cooling datasets\n",
        "    test_data_heating = filtered_test_data[filtered_test_data['label'] == 1]\n",
        "    test_data_cooling = filtered_test_data[filtered_test_data['label'] == 0]\n",
        "\n",
        "    # Save all datasets\n",
        "    filtered_test_data.to_csv(f'fold_7_{i}_filtered_test_data.csv', index=False)\n",
        "    test_data_heating.to_csv(f'fold_7_{i}_filtered_test_data_heating.csv', index=False)\n",
        "    test_data_cooling.to_csv(f'fold_7_{i}_filtered_test_data_cooling.csv', index=False)\n",
        "    print(f\"Filtered test data, heating data, and cooling data for fold {i} with seed 7 saved.\")\n"
      ]
    },
    {
      "cell_type": "markdown",
      "metadata": {
        "id": "h53709sH-kya"
      },
      "source": [
        "generate the mae and R2 value for the four models:linear regression, random forest ,xgboost and stacking ensemble regressor."
      ]
    },
    {
      "cell_type": "code",
      "execution_count": null,
      "metadata": {
        "colab": {
          "base_uri": "https://localhost:8080/"
        },
        "id": "k2sogHDs_Afe",
        "outputId": "f9a050b2-fb8f-4ea7-fb5e-f97986c23152"
      },
      "outputs": [
        {
          "output_type": "stream",
          "name": "stdout",
          "text": [
            "Requirement already satisfied: pandas in /usr/local/lib/python3.10/dist-packages (2.2.2)\n",
            "Requirement already satisfied: numpy in /usr/local/lib/python3.10/dist-packages (1.26.4)\n",
            "Requirement already satisfied: scikit-learn in /usr/local/lib/python3.10/dist-packages (1.6.0)\n",
            "Requirement already satisfied: xgboost in /usr/local/lib/python3.10/dist-packages (2.1.3)\n",
            "Requirement already satisfied: python-dateutil>=2.8.2 in /usr/local/lib/python3.10/dist-packages (from pandas) (2.8.2)\n",
            "Requirement already satisfied: pytz>=2020.1 in /usr/local/lib/python3.10/dist-packages (from pandas) (2024.2)\n",
            "Requirement already satisfied: tzdata>=2022.7 in /usr/local/lib/python3.10/dist-packages (from pandas) (2024.2)\n",
            "Requirement already satisfied: scipy>=1.6.0 in /usr/local/lib/python3.10/dist-packages (from scikit-learn) (1.13.1)\n",
            "Requirement already satisfied: joblib>=1.2.0 in /usr/local/lib/python3.10/dist-packages (from scikit-learn) (1.4.2)\n",
            "Requirement already satisfied: threadpoolctl>=3.1.0 in /usr/local/lib/python3.10/dist-packages (from scikit-learn) (3.5.0)\n",
            "Requirement already satisfied: nvidia-nccl-cu12 in /usr/local/lib/python3.10/dist-packages (from xgboost) (2.23.4)\n",
            "Requirement already satisfied: six>=1.5 in /usr/local/lib/python3.10/dist-packages (from python-dateutil>=2.8.2->pandas) (1.17.0)\n",
            "Fold 1, Model Linear Regression, Dataset Combined, MAE: 4.4469, R²: 0.6870\n",
            "Fold 1, Model Linear Regression, Dataset Cooling, MAE: 4.9894, R²: 0.4557\n",
            "Fold 1, Model Linear Regression, Dataset Heating, MAE: 3.8932, R²: 0.3907\n",
            "Fold 1, Model Random Forest, Dataset Combined, MAE: 2.7142, R²: 0.8467\n",
            "Fold 1, Model Random Forest, Dataset Cooling, MAE: 2.1859, R²: 0.8011\n",
            "Fold 1, Model Random Forest, Dataset Heating, MAE: 3.2533, R²: 0.5460\n",
            "Fold 1, Model XGBoost, Dataset Combined, MAE: 2.7745, R²: 0.8438\n",
            "Fold 1, Model XGBoost, Dataset Cooling, MAE: 2.3014, R²: 0.8069\n",
            "Fold 1, Model XGBoost, Dataset Heating, MAE: 3.2573, R²: 0.5159\n",
            "Fold 1, Model Stacking Regressor, Dataset Combined, MAE: 2.8581, R²: 0.8461\n",
            "Fold 1, Model Stacking Regressor, Dataset Cooling, MAE: 2.3213, R²: 0.8073\n",
            "Fold 1, Model Stacking Regressor, Dataset Heating, MAE: 3.4058, R²: 0.5281\n",
            "Fold 2, Model Linear Regression, Dataset Combined, MAE: 4.2724, R²: 0.7077\n",
            "Fold 2, Model Linear Regression, Dataset Cooling, MAE: 4.6352, R²: 0.4643\n",
            "Fold 2, Model Linear Regression, Dataset Heating, MAE: 3.9204, R²: 0.3257\n",
            "Fold 2, Model Random Forest, Dataset Combined, MAE: 2.7624, R²: 0.8475\n",
            "Fold 2, Model Random Forest, Dataset Cooling, MAE: 2.1162, R²: 0.8004\n",
            "Fold 2, Model Random Forest, Dataset Heating, MAE: 3.3892, R²: 0.4717\n",
            "Fold 2, Model XGBoost, Dataset Combined, MAE: 2.9562, R²: 0.8310\n",
            "Fold 2, Model XGBoost, Dataset Cooling, MAE: 2.5085, R²: 0.7594\n",
            "Fold 2, Model XGBoost, Dataset Heating, MAE: 3.3905, R²: 0.4575\n",
            "Fold 2, Model Stacking Regressor, Dataset Combined, MAE: 2.9261, R²: 0.8453\n",
            "Fold 2, Model Stacking Regressor, Dataset Cooling, MAE: 2.3680, R²: 0.7942\n",
            "Fold 2, Model Stacking Regressor, Dataset Heating, MAE: 3.4676, R²: 0.4713\n",
            "Fold 3, Model Linear Regression, Dataset Combined, MAE: 4.9490, R²: 0.6236\n",
            "Fold 3, Model Linear Regression, Dataset Cooling, MAE: 5.6724, R²: 0.3748\n",
            "Fold 3, Model Linear Regression, Dataset Heating, MAE: 4.2071, R²: 0.1304\n",
            "Fold 3, Model Random Forest, Dataset Combined, MAE: 2.9709, R²: 0.8147\n",
            "Fold 3, Model Random Forest, Dataset Cooling, MAE: 2.8355, R²: 0.7146\n",
            "Fold 3, Model Random Forest, Dataset Heating, MAE: 3.1097, R²: 0.5011\n",
            "Fold 3, Model XGBoost, Dataset Combined, MAE: 3.0325, R²: 0.8100\n",
            "Fold 3, Model XGBoost, Dataset Cooling, MAE: 2.8656, R²: 0.7230\n",
            "Fold 3, Model XGBoost, Dataset Heating, MAE: 3.2036, R²: 0.4391\n",
            "Fold 3, Model Stacking Regressor, Dataset Combined, MAE: 3.0757, R²: 0.8168\n",
            "Fold 3, Model Stacking Regressor, Dataset Cooling, MAE: 2.9477, R²: 0.7255\n",
            "Fold 3, Model Stacking Regressor, Dataset Heating, MAE: 3.2071, R²: 0.4828\n",
            "Fold 4, Model Linear Regression, Dataset Combined, MAE: 4.0554, R²: 0.7175\n",
            "Fold 4, Model Linear Regression, Dataset Cooling, MAE: 4.2833, R²: 0.4854\n",
            "Fold 4, Model Linear Regression, Dataset Heating, MAE: 3.8263, R²: 0.3330\n",
            "Fold 4, Model Random Forest, Dataset Combined, MAE: 2.6808, R²: 0.8429\n",
            "Fold 4, Model Random Forest, Dataset Cooling, MAE: 2.0724, R²: 0.7755\n",
            "Fold 4, Model Random Forest, Dataset Heating, MAE: 3.2923, R²: 0.4881\n",
            "Fold 4, Model XGBoost, Dataset Combined, MAE: 2.7573, R²: 0.8385\n",
            "Fold 4, Model XGBoost, Dataset Cooling, MAE: 2.2268, R²: 0.7705\n",
            "Fold 4, Model XGBoost, Dataset Heating, MAE: 3.2904, R²: 0.4704\n",
            "Fold 4, Model Stacking Regressor, Dataset Combined, MAE: 2.8377, R²: 0.8404\n",
            "Fold 4, Model Stacking Regressor, Dataset Cooling, MAE: 2.3190, R²: 0.7701\n",
            "Fold 4, Model Stacking Regressor, Dataset Heating, MAE: 3.3591, R²: 0.4845\n",
            "Fold 5, Model Linear Regression, Dataset Combined, MAE: 4.6048, R²: 0.7108\n",
            "Fold 5, Model Linear Regression, Dataset Cooling, MAE: 5.3108, R²: 0.4561\n",
            "Fold 5, Model Linear Regression, Dataset Heating, MAE: 3.9130, R²: 0.3323\n",
            "Fold 5, Model Random Forest, Dataset Combined, MAE: 2.8092, R²: 0.8576\n",
            "Fold 5, Model Random Forest, Dataset Cooling, MAE: 2.4866, R²: 0.7769\n",
            "Fold 5, Model Random Forest, Dataset Heating, MAE: 3.1253, R²: 0.5485\n",
            "Fold 5, Model XGBoost, Dataset Combined, MAE: 2.8942, R²: 0.8500\n",
            "Fold 5, Model XGBoost, Dataset Cooling, MAE: 2.6556, R²: 0.7711\n",
            "Fold 5, Model XGBoost, Dataset Heating, MAE: 3.1280, R²: 0.5083\n",
            "Fold 5, Model Stacking Regressor, Dataset Combined, MAE: 2.8500, R²: 0.8616\n",
            "Fold 5, Model Stacking Regressor, Dataset Cooling, MAE: 2.5353, R²: 0.7857\n",
            "Fold 5, Model Stacking Regressor, Dataset Heating, MAE: 3.1584, R²: 0.5549\n",
            "\n",
            "Summary Results for All Models:\n",
            "                                  MAE        R²\n",
            "Model              Dataset                     \n",
            "Linear Regression  Combined  4.465691  0.689317\n",
            "                   Cooling   4.978216  0.447258\n",
            "                   Heating   3.952009  0.302404\n",
            "Random Forest      Combined  2.787476  0.841872\n",
            "                   Cooling   2.339308  0.773701\n",
            "                   Heating   3.233961  0.511070\n",
            "Stacking Regressor Combined  2.909535  0.842062\n",
            "                   Cooling   2.498258  0.776566\n",
            "                   Heating   3.319592  0.504301\n",
            "XGBoost            Combined  2.882927  0.834678\n",
            "                   Cooling   2.511601  0.766179\n",
            "                   Heating   3.253947  0.478254\n"
          ]
        }
      ],
      "source": [
        "!pip install pandas numpy scikit-learn xgboost\n",
        "\n",
        "from sklearn.ensemble import GradientBoostingRegressor\n",
        "import pandas as pd\n",
        "import numpy as np\n",
        "from sklearn.linear_model import LinearRegression\n",
        "from sklearn.ensemble import RandomForestRegressor\n",
        "from xgboost import XGBRegressor\n",
        "from sklearn.ensemble import StackingRegressor\n",
        "from sklearn.metrics import mean_absolute_error, r2_score\n",
        "\n",
        "# Placeholder for storing results\n",
        "results = []\n",
        "\n",
        "\n",
        "# Loop through each fold\n",
        "for i in range(1, 6):\n",
        "    # Load filtered training and test datasets for the current fold\n",
        "    train_data = pd.read_csv(f'fold_7_{i}_filtered_train_data.csv')\n",
        "    test_data_combined = pd.read_csv(f'fold_7_{i}_filtered_test_data.csv')\n",
        "    test_data_cooling = pd.read_csv(f'fold_7_{i}_filtered_test_data_cooling.csv')\n",
        "    test_data_heating = pd.read_csv(f'fold_7_{i}_filtered_test_data_heating.csv')\n",
        "\n",
        "    # Separate features and target for training data\n",
        "    target_column = 'WH_RTU_Total'\n",
        "    X_train = train_data.drop(columns=[target_column])\n",
        "    y_train = train_data[target_column]\n",
        "\n",
        "    # Define models with default parameters\n",
        "    models = {\n",
        "        'Linear Regression': LinearRegression(),\n",
        "        'Random Forest': RandomForestRegressor(random_state=100),\n",
        "        'XGBoost': XGBRegressor(random_state=100),\n",
        "        'Stacking Regressor': StackingRegressor(\n",
        "            estimators=[\n",
        "                ('rf', RandomForestRegressor(random_state=100)),  # Random Forest\n",
        "                ('gb', GradientBoostingRegressor(random_state=100))  # Gradient Boosting\n",
        "            ],\n",
        "            final_estimator=LinearRegression()  # Linear Regression as the meta-learner\n",
        "        )\n",
        "    }\n",
        "\n",
        "    # Function to evaluate models on a given dataset\n",
        "    def evaluate_model(model, X_train, y_train, X_test, y_test, dataset_type):\n",
        "        model.fit(X_train, y_train)\n",
        "        y_pred = model.predict(X_test)\n",
        "        mae = mean_absolute_error(y_test, y_pred)\n",
        "        r2 = r2_score(y_test, y_pred)\n",
        "        return mae, r2\n",
        "\n",
        "    # Evaluate models on combined, cooling, and heating datasets\n",
        "    for model_name, model in models.items():\n",
        "        for dataset_type, test_data in [('Combined', test_data_combined),\n",
        "                                        ('Cooling', test_data_cooling),\n",
        "                                        ('Heating', test_data_heating)]:\n",
        "            # Separate features and target for the current test dataset\n",
        "            X_test = test_data.drop(columns=[target_column])\n",
        "            y_test = test_data[target_column]\n",
        "\n",
        "            # Calculate MAE and R²\n",
        "            mae, r2 = evaluate_model(model, X_train, y_train, X_test, y_test, dataset_type)\n",
        "\n",
        "            # Store results\n",
        "            results.append({\n",
        "                'Fold': i,\n",
        "                'Seed': 7,  # Add the seed column\n",
        "                'Model': model_name,\n",
        "                'Dataset': dataset_type,\n",
        "                'MAE': mae,\n",
        "                'R²': r2,\n",
        "                'Experiment': 1  # Add the experiment column\n",
        "            })\n",
        "\n",
        "            print(f\"Fold {i}, Model {model_name}, Dataset {dataset_type}, MAE: {mae:.4f}, R²: {r2:.4f}\")\n",
        "\n",
        "# Convert results to a DataFrame\n",
        "results_df = pd.DataFrame(results)\n",
        "\n",
        "# Save results to CSV\n",
        "results_df.to_csv(f'model_results_7_mae_r2_detailed.csv', index=False)\n",
        "\n",
        "# Display overall summary\n",
        "print(\"\\nSummary Results for All Models:\")\n",
        "summary = results_df.groupby(['Model', 'Dataset']).agg({'MAE': 'mean', 'R²': 'mean'}).sort_values(by=['Model', 'Dataset'])\n",
        "print(summary)\n"
      ]
    },
    {
      "cell_type": "markdown",
      "metadata": {
        "id": "-D57gmj6zG13"
      },
      "source": [
        "## Random Forest"
      ]
    },
    {
      "cell_type": "markdown",
      "metadata": {
        "id": "SjRib9g8gyPY"
      },
      "source": [
        "### Random Forest Hyperparameter Tuning python\n",
        "\n"
      ]
    },
    {
      "cell_type": "code",
      "execution_count": null,
      "metadata": {
        "colab": {
          "base_uri": "https://localhost:8080/"
        },
        "id": "COH3JRgRSDfJ",
        "outputId": "0b5fe83f-4972-4e1a-d894-1cb42f8ecc47"
      },
      "outputs": [
        {
          "output_type": "stream",
          "name": "stdout",
          "text": [
            "Fold 1, Model Random Forest, Dataset Combined, MAE: 2.7067, R²: 0.8468, Best Params: {'max_depth': 10, 'min_samples_split': 2, 'n_estimators': 100}\n",
            "Fold 1, Model Random Forest, Dataset Cooling, MAE: 2.1838, R²: 0.7978, Best Params: {'max_depth': 10, 'min_samples_split': 2, 'n_estimators': 100}\n",
            "Fold 1, Model Random Forest, Dataset Heating, MAE: 3.2404, R²: 0.5544, Best Params: {'max_depth': 10, 'min_samples_split': 2, 'n_estimators': 100}\n",
            "Fold 2, Model Random Forest, Dataset Combined, MAE: 2.7660, R²: 0.8456, Best Params: {'max_depth': 20, 'min_samples_split': 2, 'n_estimators': 150}\n",
            "Fold 2, Model Random Forest, Dataset Cooling, MAE: 2.1200, R²: 0.7950, Best Params: {'max_depth': 20, 'min_samples_split': 2, 'n_estimators': 150}\n",
            "Fold 2, Model Random Forest, Dataset Heating, MAE: 3.3928, R²: 0.4714, Best Params: {'max_depth': 20, 'min_samples_split': 2, 'n_estimators': 150}\n",
            "Fold 3, Model Random Forest, Dataset Combined, MAE: 2.9967, R²: 0.8136, Best Params: {'max_depth': 10, 'min_samples_split': 2, 'n_estimators': 100}\n",
            "Fold 3, Model Random Forest, Dataset Cooling, MAE: 2.8515, R²: 0.7099, Best Params: {'max_depth': 10, 'min_samples_split': 2, 'n_estimators': 100}\n",
            "Fold 3, Model Random Forest, Dataset Heating, MAE: 3.1455, R²: 0.5078, Best Params: {'max_depth': 10, 'min_samples_split': 2, 'n_estimators': 100}\n",
            "Fold 4, Model Random Forest, Dataset Combined, MAE: 2.6809, R²: 0.8448, Best Params: {'max_depth': 10, 'min_samples_split': 2, 'n_estimators': 100}\n",
            "Fold 4, Model Random Forest, Dataset Cooling, MAE: 2.0971, R²: 0.7711, Best Params: {'max_depth': 10, 'min_samples_split': 2, 'n_estimators': 100}\n",
            "Fold 4, Model Random Forest, Dataset Heating, MAE: 3.2677, R²: 0.5104, Best Params: {'max_depth': 10, 'min_samples_split': 2, 'n_estimators': 100}\n",
            "Fold 5, Model Random Forest, Dataset Combined, MAE: 2.8281, R²: 0.8570, Best Params: {'max_depth': 10, 'min_samples_split': 2, 'n_estimators': 150}\n",
            "Fold 5, Model Random Forest, Dataset Cooling, MAE: 2.5184, R²: 0.7703, Best Params: {'max_depth': 10, 'min_samples_split': 2, 'n_estimators': 150}\n",
            "Fold 5, Model Random Forest, Dataset Heating, MAE: 3.1316, R²: 0.5620, Best Params: {'max_depth': 10, 'min_samples_split': 2, 'n_estimators': 150}\n",
            "\n",
            "Summary Results for Random Forest:\n",
            "           Model   Dataset       MAE        R²\n",
            "0  Random Forest  Combined  2.795688  0.841561\n",
            "1  Random Forest   Cooling  2.354148  0.768843\n",
            "2  Random Forest   Heating  3.235599  0.521199\n"
          ]
        }
      ],
      "source": [
        "from sklearn.model_selection import GridSearchCV\n",
        "import pandas as pd\n",
        "from sklearn.ensemble import RandomForestRegressor\n",
        "from sklearn.metrics import mean_absolute_error, r2_score\n",
        "\n",
        "# Placeholder for storing results\n",
        "results_rf = []\n",
        "\n",
        "\n",
        "\n",
        "# Define hyperparameter grid for Random Forest\n",
        "param_grid_rf = {\n",
        "    'n_estimators': [50, 100, 150],\n",
        "    'max_depth': [10, 20, None],\n",
        "    'min_samples_split': [2, 5, 10],\n",
        "}\n",
        "\n",
        "for i in range(1, 6):\n",
        "    # Load datasets\n",
        "    train_data = pd.read_csv(f'fold_7_{i}_filtered_train_data.csv')\n",
        "    test_data_combined = pd.read_csv(f'fold_7_{i}_filtered_test_data.csv')\n",
        "    test_data_cooling = pd.read_csv(f'fold_7_{i}_filtered_test_data_cooling.csv')\n",
        "    test_data_heating = pd.read_csv(f'fold_7_{i}_filtered_test_data_heating.csv')\n",
        "\n",
        "    # Split features and target\n",
        "    X_train = train_data.drop(columns=['WH_RTU_Total'])\n",
        "    y_train = train_data['WH_RTU_Total']\n",
        "\n",
        "    # Initialize Random Forest and perform GridSearchCV\n",
        "    rf = RandomForestRegressor(random_state=100)\n",
        "    grid_search_rf = GridSearchCV(rf, param_grid_rf, cv=3, scoring='neg_mean_absolute_error', n_jobs=-1)\n",
        "    grid_search_rf.fit(X_train, y_train)\n",
        "\n",
        "    # Get the best model and hyperparameters\n",
        "    best_rf = grid_search_rf.best_estimator_\n",
        "    best_params = grid_search_rf.best_params_\n",
        "\n",
        "    # Evaluate on Combined, Cooling, and Heating datasets\n",
        "    for dataset_type, test_data in [('Combined', test_data_combined),\n",
        "                                    ('Cooling', test_data_cooling),\n",
        "                                    ('Heating', test_data_heating)]:\n",
        "        # Split test features and target\n",
        "        X_test = test_data.drop(columns=['WH_RTU_Total'])\n",
        "        y_test = test_data['WH_RTU_Total']\n",
        "\n",
        "        # Predict and calculate metrics\n",
        "        y_pred = best_rf.predict(X_test)\n",
        "        mae = mean_absolute_error(y_test, y_pred)\n",
        "        r2 = r2_score(y_test, y_pred)\n",
        "\n",
        "        # Store results\n",
        "        results_rf.append({\n",
        "            'Fold': i,\n",
        "            'Seed': 7,  # Add the seed column\n",
        "            'Model': 'Random Forest',\n",
        "            'Dataset': dataset_type,\n",
        "            'MAE': mae,\n",
        "            'R²': r2,\n",
        "            'Best Params': best_params,\n",
        "            'Experiment': 1\n",
        "        })\n",
        "\n",
        "        print(f\"Fold {i}, Model Random Forest, Dataset {dataset_type}, MAE: {mae:.4f}, R²: {r2:.4f}, Best Params: {best_params}\")\n",
        "\n",
        "# Convert results to DataFrame\n",
        "results_rf_df = pd.DataFrame(results_rf)\n",
        "\n",
        "# Save detailed results to CSV\n",
        "results_rf_df.to_csv(f'random_forest_7_combined_hyperparameter_results_detailed.csv', index=False)\n",
        "\n",
        "# Display overall summary\n",
        "print(\"\\nSummary Results for Random Forest:\")\n",
        "summary_rf = results_rf_df.groupby(['Model', 'Dataset']).agg({'MAE': 'mean', 'R²': 'mean'}).reset_index()\n",
        "print(summary_rf)\n",
        "\n",
        "# Save summary to CSV 这个section里面有没有inner seed呢？\n",
        "summary_rf.to_csv(f'random_forest_7_combined_hyperparameter_results_summary.csv', index=False)\n"
      ]
    },
    {
      "cell_type": "markdown",
      "metadata": {
        "id": "5qyjZwoTh0BE"
      },
      "source": [
        "### random forest feature importance generation"
      ]
    },
    {
      "cell_type": "code",
      "execution_count": null,
      "metadata": {
        "colab": {
          "base_uri": "https://localhost:8080/"
        },
        "id": "KLUGoQ-5h5X4",
        "outputId": "d909018e-8e78-4281-c290-c0587d3c8107"
      },
      "outputs": [
        {
          "output_type": "stream",
          "name": "stdout",
          "text": [
            "Feature importance for seed 7 has been successfully saved.\n"
          ]
        }
      ],
      "source": [
        "import pandas as pd\n",
        "from sklearn.ensemble import RandomForestRegressor\n",
        "\n",
        "# Placeholder for feature importance results\n",
        "feature_importance_results = []\n",
        "\n",
        "# Section 1: Calculate Feature Importance\n",
        "for fold in range(1, 6):\n",
        "    # Load training data\n",
        "    train_data = pd.read_csv(f'fold_7_{fold}_filtered_train_data.csv')\n",
        "    X_train = train_data.drop(columns=['WH_RTU_Total'])\n",
        "    y_train = train_data['WH_RTU_Total']\n",
        "\n",
        "    # Load the best model for the current fold\n",
        "    results_rf_df = pd.read_csv(f'random_forest_7_combined_hyperparameter_results_detailed.csv')\n",
        "    best_params = results_rf_df.loc[(results_rf_df['Fold'] == fold) & (results_rf_df['Dataset'] == 'Combined'), 'Best Params'].iloc[0]\n",
        "    best_params_dict = eval(best_params)\n",
        "    best_rf = RandomForestRegressor(random_state=100, **best_params_dict)\n",
        "    best_rf.fit(X_train, y_train)\n",
        "\n",
        "    # Calculate feature importance\n",
        "    feature_importances = best_rf.feature_importances_\n",
        "    feature_names = X_train.columns\n",
        "    importance_df = pd.DataFrame({\n",
        "        'Feature': feature_names,\n",
        "        'Importance': feature_importances,\n",
        "        'Fold': fold,\n",
        "        'Seed': 7,  # Add seed column\n",
        "        'Model': 'Random Forest',\n",
        "        'Experiment': 1 # Add model column\n",
        "    })\n",
        "    feature_importance_results.append(importance_df)\n",
        "\n",
        "# Combine and save feature importance results\n",
        "feature_importance_combined = pd.concat(feature_importance_results, ignore_index=True)\n",
        "feature_importance_combined.to_csv(f'random_forest_7_combined_feature_importance.csv', index=False)\n",
        "\n",
        "print(f\"Feature importance for seed 7 has been successfully saved.\")\n"
      ]
    },
    {
      "cell_type": "markdown",
      "metadata": {
        "id": "XJ6xVkVnusUw"
      },
      "source": [
        "### generate residual ,predict, label, tout and rh out"
      ]
    },
    {
      "cell_type": "code",
      "execution_count": null,
      "metadata": {
        "colab": {
          "base_uri": "https://localhost:8080/"
        },
        "id": "xzWEI7HQWOlq",
        "outputId": "5bf5be6f-7693-4a80-97ec-ff4e9d9c337e"
      },
      "outputs": [
        {
          "output_type": "stream",
          "name": "stdout",
          "text": [
            "Processed fold 1, dataset cooling.\n",
            "Processed fold 1, dataset heating.\n",
            "Processed fold 2, dataset cooling.\n",
            "Processed fold 2, dataset heating.\n",
            "Processed fold 3, dataset cooling.\n",
            "Processed fold 3, dataset heating.\n",
            "Processed fold 4, dataset cooling.\n",
            "Processed fold 4, dataset heating.\n",
            "Processed fold 5, dataset cooling.\n",
            "Processed fold 5, dataset heating.\n",
            "All folds processed and merged data saved successfully.\n"
          ]
        }
      ],
      "source": [
        "import pandas as pd\n",
        "from sklearn.ensemble import RandomForestRegressor\n",
        "\n",
        "# Fixed seed value\n",
        "\n",
        "merged_data = []  # Placeholder for storing final merged data\n",
        "\n",
        "# Loop through each fold\n",
        "for fold in range(1, 6):\n",
        "    # Load training data\n",
        "    train_data = pd.read_csv(f'fold_7_{fold}_filtered_train_data.csv')\n",
        "    X_train = train_data.drop(columns=['WH_RTU_Total'])\n",
        "    y_train = train_data['WH_RTU_Total']\n",
        "\n",
        "    # Load the best model parameters for the current fold\n",
        "    best_params_df = pd.read_csv('random_forest_7_combined_hyperparameter_results_detailed.csv')\n",
        "    best_params = best_params_df.loc[(best_params_df['Fold'] == fold) & (best_params_df['Dataset'] == 'Combined'), 'Best Params'].iloc[0]\n",
        "    best_params_dict = eval(best_params)\n",
        "\n",
        "    # Train Random Forest model\n",
        "    best_rf = RandomForestRegressor(random_state=100, **best_params_dict)\n",
        "    best_rf.fit(X_train, y_train)\n",
        "\n",
        "    # Loop through Cooling and Heating datasets\n",
        "    for dataset_type in ['cooling', 'heating']:\n",
        "        # Load test data\n",
        "        test_data = pd.read_csv(f'fold_7_{fold}_filtered_test_data_{dataset_type}.csv')\n",
        "\n",
        "        # Split features and target\n",
        "        X_test = test_data.drop(columns=['WH_RTU_Total'])\n",
        "        y_test = test_data['WH_RTU_Total']\n",
        "\n",
        "        # Predict and calculate residuals\n",
        "        y_pred = best_rf.predict(X_test)\n",
        "        test_data['Predicted'] = y_pred\n",
        "        test_data['Residual'] = test_data['WH_RTU_Total'] - test_data['Predicted']\n",
        "\n",
        "        # Select and rename required columns\n",
        "        if 'T_out' in test_data.columns and 'RH_out' in test_data.columns:\n",
        "            selected_data = test_data[['WH_RTU_Total', 'Predicted', 'Residual', 'T_out', 'RH_out', 'label']].rename(columns={\n",
        "                'WH_RTU_Total': 'Actual'\n",
        "            })\n",
        "        else:\n",
        "            raise ValueError(f\"'T_out' or 'RH_out' is missing in test data for fold {fold} and dataset {dataset_type}\")\n",
        "\n",
        "        # Add fold, seed, and model columns\n",
        "        selected_data['Fold'] = fold\n",
        "        selected_data['Seed'] = 7\n",
        "        selected_data['Model'] = 'Random Forest'\n",
        "        selected_data['Experiment'] = 1\n",
        "\n",
        "        # Append to final merged data\n",
        "        merged_data.append(selected_data)\n",
        "        print(f\"Processed fold {fold}, dataset {dataset_type}.\")\n",
        "\n",
        "# Combine all folds and datasets into a single DataFrame\n",
        "merged_final_data = pd.concat(merged_data, ignore_index=True)\n",
        "# Save the merged data\n",
        "merged_final_data.to_csv(f'random_forest_7_combined_residual.csv', index=False)\n",
        "\n",
        "print(\"All folds processed and merged data saved successfully.\")\n"
      ]
    },
    {
      "cell_type": "markdown",
      "metadata": {
        "id": "eH1AKQHzzUfc"
      },
      "source": [
        "## XGBoost"
      ]
    },
    {
      "cell_type": "markdown",
      "metadata": {
        "id": "ac1tUI3UjOMF"
      },
      "source": [
        "### XGBoost Hyperparameter Tuning python\n",
        "\n"
      ]
    },
    {
      "cell_type": "code",
      "execution_count": null,
      "metadata": {
        "colab": {
          "base_uri": "https://localhost:8080/"
        },
        "id": "aeWM0_T0jNUF",
        "outputId": "4975e8db-72cc-4d49-f949-d4b104e5eb5b"
      },
      "outputs": [
        {
          "output_type": "stream",
          "name": "stdout",
          "text": [
            "Requirement already satisfied: pandas in /usr/local/lib/python3.10/dist-packages (2.2.2)\n",
            "Requirement already satisfied: numpy in /usr/local/lib/python3.10/dist-packages (1.26.4)\n",
            "Requirement already satisfied: scikit-learn in /usr/local/lib/python3.10/dist-packages (1.0.2)\n",
            "Requirement already satisfied: xgboost in /usr/local/lib/python3.10/dist-packages (2.1.3)\n",
            "Requirement already satisfied: python-dateutil>=2.8.2 in /usr/local/lib/python3.10/dist-packages (from pandas) (2.8.2)\n",
            "Requirement already satisfied: pytz>=2020.1 in /usr/local/lib/python3.10/dist-packages (from pandas) (2024.2)\n",
            "Requirement already satisfied: tzdata>=2022.7 in /usr/local/lib/python3.10/dist-packages (from pandas) (2024.2)\n",
            "Requirement already satisfied: scipy>=1.1.0 in /usr/local/lib/python3.10/dist-packages (from scikit-learn) (1.13.1)\n",
            "Requirement already satisfied: joblib>=0.11 in /usr/local/lib/python3.10/dist-packages (from scikit-learn) (1.4.2)\n",
            "Requirement already satisfied: threadpoolctl>=2.0.0 in /usr/local/lib/python3.10/dist-packages (from scikit-learn) (3.5.0)\n",
            "Requirement already satisfied: nvidia-nccl-cu12 in /usr/local/lib/python3.10/dist-packages (from xgboost) (2.23.4)\n",
            "Requirement already satisfied: six>=1.5 in /usr/local/lib/python3.10/dist-packages (from python-dateutil>=2.8.2->pandas) (1.17.0)\n",
            "Requirement already satisfied: scikit-learn==1.0.2 in /usr/local/lib/python3.10/dist-packages (1.0.2)\n",
            "Requirement already satisfied: numpy>=1.14.6 in /usr/local/lib/python3.10/dist-packages (from scikit-learn==1.0.2) (1.26.4)\n",
            "Requirement already satisfied: scipy>=1.1.0 in /usr/local/lib/python3.10/dist-packages (from scikit-learn==1.0.2) (1.13.1)\n",
            "Requirement already satisfied: joblib>=0.11 in /usr/local/lib/python3.10/dist-packages (from scikit-learn==1.0.2) (1.4.2)\n",
            "Requirement already satisfied: threadpoolctl>=2.0.0 in /usr/local/lib/python3.10/dist-packages (from scikit-learn==1.0.2) (3.5.0)\n",
            "Fold 1, Model XGBoost, Dataset Combined, MAE: 2.7994, R²: 0.8430, Best Params: {'learning_rate': 0.2, 'max_depth': 6, 'n_estimators': 50, 'subsample': 0.8}\n",
            "Fold 1, Model XGBoost, Dataset Cooling, MAE: 2.3295, R²: 0.7945, Best Params: {'learning_rate': 0.2, 'max_depth': 6, 'n_estimators': 50, 'subsample': 0.8}\n",
            "Fold 1, Model XGBoost, Dataset Heating, MAE: 3.2789, R²: 0.5390, Best Params: {'learning_rate': 0.2, 'max_depth': 6, 'n_estimators': 50, 'subsample': 0.8}\n",
            "Fold 2, Model XGBoost, Dataset Combined, MAE: 2.8673, R²: 0.8451, Best Params: {'learning_rate': 0.1, 'max_depth': 6, 'n_estimators': 50, 'subsample': 1.0}\n",
            "Fold 2, Model XGBoost, Dataset Cooling, MAE: 2.3336, R²: 0.7900, Best Params: {'learning_rate': 0.1, 'max_depth': 6, 'n_estimators': 50, 'subsample': 1.0}\n",
            "Fold 2, Model XGBoost, Dataset Heating, MAE: 3.3851, R²: 0.4791, Best Params: {'learning_rate': 0.1, 'max_depth': 6, 'n_estimators': 50, 'subsample': 1.0}\n",
            "Fold 3, Model XGBoost, Dataset Combined, MAE: 2.8729, R²: 0.8315, Best Params: {'learning_rate': 0.1, 'max_depth': 6, 'n_estimators': 100, 'subsample': 0.8}\n",
            "Fold 3, Model XGBoost, Dataset Cooling, MAE: 2.7202, R²: 0.7468, Best Params: {'learning_rate': 0.1, 'max_depth': 6, 'n_estimators': 100, 'subsample': 0.8}\n",
            "Fold 3, Model XGBoost, Dataset Heating, MAE: 3.0295, R²: 0.5267, Best Params: {'learning_rate': 0.1, 'max_depth': 6, 'n_estimators': 100, 'subsample': 0.8}\n",
            "Fold 4, Model XGBoost, Dataset Combined, MAE: 2.6957, R²: 0.8474, Best Params: {'learning_rate': 0.1, 'max_depth': 6, 'n_estimators': 50, 'subsample': 0.8}\n",
            "Fold 4, Model XGBoost, Dataset Cooling, MAE: 2.2106, R²: 0.7692, Best Params: {'learning_rate': 0.1, 'max_depth': 6, 'n_estimators': 50, 'subsample': 0.8}\n",
            "Fold 4, Model XGBoost, Dataset Heating, MAE: 3.1832, R²: 0.5319, Best Params: {'learning_rate': 0.1, 'max_depth': 6, 'n_estimators': 50, 'subsample': 0.8}\n",
            "Fold 5, Model XGBoost, Dataset Combined, MAE: 2.7960, R²: 0.8639, Best Params: {'learning_rate': 0.1, 'max_depth': 6, 'n_estimators': 150, 'subsample': 1.0}\n",
            "Fold 5, Model XGBoost, Dataset Cooling, MAE: 2.5121, R²: 0.7899, Best Params: {'learning_rate': 0.1, 'max_depth': 6, 'n_estimators': 150, 'subsample': 1.0}\n",
            "Fold 5, Model XGBoost, Dataset Heating, MAE: 3.0741, R²: 0.5604, Best Params: {'learning_rate': 0.1, 'max_depth': 6, 'n_estimators': 150, 'subsample': 1.0}\n",
            "\n",
            "Summary Results for XGBoost:\n",
            "     Model   Dataset       MAE        R²\n",
            "0  XGBoost  Combined  2.806252  0.846177\n",
            "1  XGBoost   Cooling  2.421210  0.778075\n",
            "2  XGBoost   Heating  3.190162  0.527412\n"
          ]
        }
      ],
      "source": [
        "!pip install pandas numpy scikit-learn xgboost\n",
        "!pip install scikit-learn==1.0.2\n",
        "from sklearn.model_selection import GridSearchCV\n",
        "from xgboost import XGBRegressor\n",
        "import pandas as pd\n",
        "from sklearn.metrics import mean_absolute_error, r2_score\n",
        "\n",
        "# Placeholder for storing results\n",
        "results_xgb = []\n",
        "\n",
        "\n",
        "\n",
        "# Define hyperparameter grid for XGBoost\n",
        "param_grid_xgb = {\n",
        "    'n_estimators': [50, 100, 150],\n",
        "    'max_depth': [3, 6, 9],\n",
        "    'learning_rate': [0.01, 0.1, 0.2],\n",
        "    'subsample': [0.8, 1.0]\n",
        "}\n",
        "\n",
        "for i in range(1, 6):\n",
        "    # Load datasets\n",
        "    train_data = pd.read_csv(f'fold_7_{i}_filtered_train_data.csv')\n",
        "    test_data_combined = pd.read_csv(f'fold_7_{i}_filtered_test_data.csv')\n",
        "    test_data_cooling = pd.read_csv(f'fold_7_{i}_filtered_test_data_cooling.csv')\n",
        "    test_data_heating = pd.read_csv(f'fold_7_{i}_filtered_test_data_heating.csv')\n",
        "\n",
        "    # Split features and target\n",
        "    X_train = train_data.drop(columns=['WH_RTU_Total'])\n",
        "    y_train = train_data['WH_RTU_Total']\n",
        "\n",
        "    # Initialize XGBoost and perform GridSearchCV\n",
        "    xgb = XGBRegressor(random_state=100)\n",
        "    grid_search_xgb = GridSearchCV(xgb, param_grid_xgb, cv=3, scoring='neg_mean_absolute_error', n_jobs=-1)\n",
        "    grid_search_xgb.fit(X_train, y_train)\n",
        "\n",
        "    # Get the best model and hyperparameters\n",
        "    best_xgb = grid_search_xgb.best_estimator_\n",
        "    best_params = grid_search_xgb.best_params_\n",
        "\n",
        "    # Evaluate on Combined, Cooling, and Heating datasets\n",
        "    for dataset_type, test_data in [('Combined', test_data_combined),\n",
        "                                    ('Cooling', test_data_cooling),\n",
        "                                    ('Heating', test_data_heating)]:\n",
        "        # Split test features and target\n",
        "        X_test = test_data.drop(columns=['WH_RTU_Total'])\n",
        "        y_test = test_data['WH_RTU_Total']\n",
        "\n",
        "        # Predict and calculate metrics\n",
        "        y_pred = best_xgb.predict(X_test)\n",
        "        mae = mean_absolute_error(y_test, y_pred)\n",
        "        r2 = r2_score(y_test, y_pred)\n",
        "\n",
        "        # Store results\n",
        "        results_xgb.append({\n",
        "            'Fold': i,\n",
        "            'Seed': 7,\n",
        "            'Model': 'XGBoost',\n",
        "            'Dataset': dataset_type,\n",
        "            'MAE': mae,\n",
        "            'R²': r2,\n",
        "            'Best Params': best_params,\n",
        "            'Experiment': 1\n",
        "        })\n",
        "\n",
        "        print(f\"Fold {i}, Model XGBoost, Dataset {dataset_type}, MAE: {mae:.4f}, R²: {r2:.4f}, Best Params: {best_params}\")\n",
        "\n",
        "# Convert results to DataFrame\n",
        "results_xgb_df = pd.DataFrame(results_xgb)\n",
        "\n",
        "# Save detailed results to CSV\n",
        "results_xgb_df.to_csv(f'xgboost_7_combined_hyperparameter_results_detailed.csv', index=False)\n",
        "\n",
        "# Display overall summary\n",
        "print(\"\\nSummary Results for XGBoost:\")\n",
        "summary_xgb = results_xgb_df.groupby(['Model', 'Dataset']).agg({'MAE': 'mean', 'R²': 'mean'}).reset_index()\n",
        "print(summary_xgb)\n",
        "\n",
        "# Save summary to CSV\n",
        "summary_xgb.to_csv(f'xgboost_7_combined_hyperparameter_results_summary.csv', index=False)\n"
      ]
    },
    {
      "cell_type": "markdown",
      "metadata": {
        "id": "jEs4F6Fdw28P"
      },
      "source": [
        "### feature importance for xgboost"
      ]
    },
    {
      "cell_type": "code",
      "execution_count": null,
      "metadata": {
        "colab": {
          "base_uri": "https://localhost:8080/"
        },
        "collapsed": true,
        "id": "jafrscDjw6vM",
        "outputId": "aa222dc4-6c5f-4e3b-c484-674fbc26ea14"
      },
      "outputs": [
        {
          "output_type": "stream",
          "name": "stdout",
          "text": [
            "Feature importance for seed 7 has been successfully saved.\n"
          ]
        }
      ],
      "source": [
        "import pandas as pd\n",
        "from xgboost import XGBRegressor\n",
        "\n",
        "# Placeholder for feature importance results\n",
        "feature_importance_results = []\n",
        "\n",
        "\n",
        "\n",
        "# Section 1: Calculate Feature Importance\n",
        "for fold in range(1, 6):\n",
        "    # Load training data\n",
        "    train_data = pd.read_csv(f'fold_7_{fold}_filtered_train_data.csv')\n",
        "    X_train = train_data.drop(columns=['WH_RTU_Total'])\n",
        "    y_train = train_data['WH_RTU_Total']\n",
        "\n",
        "    # Extract the best parameters from the results file\n",
        "    results_xgb_df = pd.read_csv(f'xgboost_7_combined_hyperparameter_results_detailed.csv')\n",
        "    best_params = results_xgb_df.loc[\n",
        "        (results_xgb_df['Fold'] == fold) & (results_xgb_df['Dataset'] == 'Combined'),\n",
        "        'Best Params'\n",
        "    ].iloc[0]\n",
        "    best_params_dict = eval(best_params)  # Parse string into dictionary\n",
        "\n",
        "    # Initialize and train the model with the best parameters\n",
        "    best_xgb = XGBRegressor(random_state=100, **best_params_dict)\n",
        "    best_xgb.fit(X_train, y_train)\n",
        "\n",
        "    # Calculate feature importance\n",
        "    feature_importances = best_xgb.feature_importances_\n",
        "    feature_names = X_train.columns\n",
        "    importance_df = pd.DataFrame({\n",
        "        'Feature': feature_names,\n",
        "        'Importance': feature_importances,\n",
        "        'Fold': fold,\n",
        "        'Seed': 7,  # Add seed column\n",
        "        'Model': 'XGBoost',\n",
        "        'Experiment': 1  # Add model column\n",
        "    })\n",
        "    feature_importance_results.append(importance_df)\n",
        "\n",
        "# Combine all feature importance results\n",
        "feature_importance_combined = pd.concat(feature_importance_results, ignore_index=True)\n",
        "\n",
        "# Save the feature importance results to a file\n",
        "feature_importance_combined.to_csv(f'xgboost_7_combined_feature_importance.csv', index=False)\n",
        "\n",
        "print(f\"Feature importance for seed 7 has been successfully saved.\")\n"
      ]
    },
    {
      "cell_type": "markdown",
      "metadata": {
        "id": "U4_dQgOGC6LQ"
      },
      "source": [
        "### generate residual，predict，label，tout and rh out"
      ]
    },
    {
      "cell_type": "code",
      "execution_count": null,
      "metadata": {
        "colab": {
          "base_uri": "https://localhost:8080/"
        },
        "id": "qW4I3AgpDCnf",
        "outputId": "bb79756b-159e-48f4-b595-6a0c155d728e"
      },
      "outputs": [
        {
          "output_type": "stream",
          "name": "stdout",
          "text": [
            "Processed fold 1, dataset cooling.\n",
            "Processed fold 1, dataset heating.\n",
            "Processed fold 2, dataset cooling.\n",
            "Processed fold 2, dataset heating.\n",
            "Processed fold 3, dataset cooling.\n",
            "Processed fold 3, dataset heating.\n",
            "Processed fold 4, dataset cooling.\n",
            "Processed fold 4, dataset heating.\n",
            "Processed fold 5, dataset cooling.\n",
            "Processed fold 5, dataset heating.\n",
            "All folds processed and merged data saved successfully.\n"
          ]
        }
      ],
      "source": [
        "import pandas as pd\n",
        "from xgboost import XGBRegressor\n",
        "\n",
        "# Fixed seed value\n",
        "\n",
        "merged_data = []  # Placeholder for storing final merged data\n",
        "\n",
        "# Loop through each fold\n",
        "for fold in range(1, 6):\n",
        "    # Load training data\n",
        "    train_data = pd.read_csv(f'fold_7_{fold}_filtered_train_data.csv')\n",
        "    X_train = train_data.drop(columns=['WH_RTU_Total'])\n",
        "    y_train = train_data['WH_RTU_Total']\n",
        "\n",
        "    # Load the best model parameters for the current fold\n",
        "    best_params_df = pd.read_csv('xgboost_7_combined_hyperparameter_results_detailed.csv')\n",
        "    best_params = best_params_df.loc[(best_params_df['Fold'] == fold) & (best_params_df['Dataset'] == 'Combined'), 'Best Params'].iloc[0]\n",
        "    best_params_dict = eval(best_params)\n",
        "\n",
        "    # Train XGBoost model\n",
        "    best_xgb = XGBRegressor(random_state=100, **best_params_dict)\n",
        "    best_xgb.fit(X_train, y_train)\n",
        "\n",
        "    # Loop through Cooling and Heating datasets\n",
        "    for dataset_type in ['cooling', 'heating']:\n",
        "        # Load test data\n",
        "        test_data = pd.read_csv(f'fold_7_{fold}_filtered_test_data_{dataset_type}.csv')\n",
        "\n",
        "        # Split features and target\n",
        "        X_test = test_data.drop(columns=['WH_RTU_Total'])\n",
        "        y_test = test_data['WH_RTU_Total']\n",
        "\n",
        "        # Predict and calculate residuals\n",
        "        y_pred = best_xgb.predict(X_test)\n",
        "        test_data['Predicted'] = y_pred\n",
        "        test_data['Residual'] = test_data['WH_RTU_Total'] - test_data['Predicted']\n",
        "\n",
        "        # Select and rename required columns\n",
        "        if 'T_out' in test_data.columns and 'RH_out' in test_data.columns:\n",
        "            selected_data = test_data[['WH_RTU_Total', 'Predicted', 'Residual', 'T_out', 'RH_out', 'label']].rename(columns={\n",
        "                'WH_RTU_Total': 'Actual'\n",
        "            })\n",
        "        else:\n",
        "            raise ValueError(f\"'T_out' or 'RH_out' is missing in test data for fold {fold} and dataset {dataset_type}\")\n",
        "\n",
        "        # Add fold, seed, and model columns\n",
        "        selected_data['Fold'] = fold\n",
        "        selected_data['Seed'] = 7\n",
        "        selected_data['Model'] = 'XGBoost'\n",
        "        selected_data['Experiment'] = 1\n",
        "\n",
        "        # Append to final merged data\n",
        "        merged_data.append(selected_data)\n",
        "        print(f\"Processed fold {fold}, dataset {dataset_type}.\")\n",
        "\n",
        "# Combine all folds and datasets into a single DataFrame\n",
        "merged_final_data = pd.concat(merged_data, ignore_index=True)\n",
        "# Save the merged data\n",
        "merged_final_data.to_csv(f'xgboost_7_combined_residual.csv', index=False)\n",
        "\n",
        "print(\"All folds processed and merged data saved successfully.\")\n"
      ]
    },
    {
      "cell_type": "markdown",
      "metadata": {
        "id": "Li5yH4TMzcgE"
      },
      "source": [
        "## Stacking Regressor"
      ]
    },
    {
      "cell_type": "markdown",
      "metadata": {
        "id": "RtJ1JeVBqFYZ"
      },
      "source": [
        "### Stacking Regressor Hyperparameter Tuning"
      ]
    },
    {
      "cell_type": "code",
      "execution_count": null,
      "metadata": {
        "colab": {
          "base_uri": "https://localhost:8080/"
        },
        "id": "BOnwFdcAqH_V",
        "outputId": "4bd6f933-b4ab-4bc6-af50-4f7b15286e81"
      },
      "outputs": [
        {
          "output_type": "stream",
          "name": "stdout",
          "text": [
            "Fold 1, Model Stacking Regressor, Dataset Combined, MAE: 2.6871, R²: 0.8536, Best Params: {'final_estimator__fit_intercept': False, 'gb__learning_rate': 0.1, 'gb__max_depth': 6, 'rf__max_depth': 10, 'rf__n_estimators': 100}\n",
            "Fold 1, Model Stacking Regressor, Dataset Cooling, MAE: 2.1464, R²: 0.8160, Best Params: {'final_estimator__fit_intercept': False, 'gb__learning_rate': 0.1, 'gb__max_depth': 6, 'rf__max_depth': 10, 'rf__n_estimators': 100}\n",
            "Fold 1, Model Stacking Regressor, Dataset Heating, MAE: 3.2389, R²: 0.5531, Best Params: {'final_estimator__fit_intercept': False, 'gb__learning_rate': 0.1, 'gb__max_depth': 6, 'rf__max_depth': 10, 'rf__n_estimators': 100}\n",
            "Fold 2, Model Stacking Regressor, Dataset Combined, MAE: 2.7969, R²: 0.8454, Best Params: {'final_estimator__fit_intercept': True, 'gb__learning_rate': 0.01, 'gb__max_depth': 6, 'rf__max_depth': 20, 'rf__n_estimators': 100}\n",
            "Fold 2, Model Stacking Regressor, Dataset Cooling, MAE: 2.1479, R²: 0.8038, Best Params: {'final_estimator__fit_intercept': True, 'gb__learning_rate': 0.01, 'gb__max_depth': 6, 'rf__max_depth': 20, 'rf__n_estimators': 100}\n",
            "Fold 2, Model Stacking Regressor, Dataset Heating, MAE: 3.4264, R²: 0.4507, Best Params: {'final_estimator__fit_intercept': True, 'gb__learning_rate': 0.01, 'gb__max_depth': 6, 'rf__max_depth': 20, 'rf__n_estimators': 100}\n",
            "Fold 3, Model Stacking Regressor, Dataset Combined, MAE: 3.1212, R²: 0.8148, Best Params: {'final_estimator__fit_intercept': False, 'gb__learning_rate': 0.1, 'gb__max_depth': 3, 'rf__max_depth': 10, 'rf__n_estimators': 100}\n",
            "Fold 3, Model Stacking Regressor, Dataset Cooling, MAE: 3.0155, R²: 0.7187, Best Params: {'final_estimator__fit_intercept': False, 'gb__learning_rate': 0.1, 'gb__max_depth': 3, 'rf__max_depth': 10, 'rf__n_estimators': 100}\n",
            "Fold 3, Model Stacking Regressor, Dataset Heating, MAE: 3.2296, R²: 0.4893, Best Params: {'final_estimator__fit_intercept': False, 'gb__learning_rate': 0.1, 'gb__max_depth': 3, 'rf__max_depth': 10, 'rf__n_estimators': 100}\n",
            "Fold 4, Model Stacking Regressor, Dataset Combined, MAE: 2.6968, R²: 0.8398, Best Params: {'final_estimator__fit_intercept': True, 'gb__learning_rate': 0.01, 'gb__max_depth': 6, 'rf__max_depth': 20, 'rf__n_estimators': 100}\n",
            "Fold 4, Model Stacking Regressor, Dataset Cooling, MAE: 2.0937, R²: 0.7714, Best Params: {'final_estimator__fit_intercept': True, 'gb__learning_rate': 0.01, 'gb__max_depth': 6, 'rf__max_depth': 20, 'rf__n_estimators': 100}\n",
            "Fold 4, Model Stacking Regressor, Dataset Heating, MAE: 3.3029, R²: 0.4771, Best Params: {'final_estimator__fit_intercept': True, 'gb__learning_rate': 0.01, 'gb__max_depth': 6, 'rf__max_depth': 20, 'rf__n_estimators': 100}\n",
            "Fold 5, Model Stacking Regressor, Dataset Combined, MAE: 2.9008, R²: 0.8569, Best Params: {'final_estimator__fit_intercept': False, 'gb__learning_rate': 0.1, 'gb__max_depth': 3, 'rf__max_depth': 20, 'rf__n_estimators': 100}\n",
            "Fold 5, Model Stacking Regressor, Dataset Cooling, MAE: 2.6087, R²: 0.7751, Best Params: {'final_estimator__fit_intercept': False, 'gb__learning_rate': 0.1, 'gb__max_depth': 3, 'rf__max_depth': 20, 'rf__n_estimators': 100}\n",
            "Fold 5, Model Stacking Regressor, Dataset Heating, MAE: 3.1870, R²: 0.5485, Best Params: {'final_estimator__fit_intercept': False, 'gb__learning_rate': 0.1, 'gb__max_depth': 3, 'rf__max_depth': 20, 'rf__n_estimators': 100}\n",
            "\n",
            "Summary Results for Stacking Regressor:\n",
            "                Model   Dataset       MAE        R²\n",
            "0  Stacking Regressor  Combined  2.840541  0.842116\n",
            "1  Stacking Regressor   Cooling  2.402431  0.777002\n",
            "2  Stacking Regressor   Heating  3.276966  0.503741\n"
          ]
        }
      ],
      "source": [
        "from sklearn.model_selection import GridSearchCV\n",
        "from sklearn.ensemble import StackingRegressor\n",
        "from sklearn.linear_model import LinearRegression\n",
        "from sklearn.ensemble import RandomForestRegressor, GradientBoostingRegressor\n",
        "from sklearn.metrics import mean_absolute_error, r2_score\n",
        "import pandas as pd\n",
        "\n",
        "# Placeholder for storing results\n",
        "results_stacking = []\n",
        "\n",
        "\n",
        "# Define hyperparameter grid for Stacking Regressor\n",
        "param_grid_stacking = {\n",
        "    'final_estimator__fit_intercept': [True, False],  # Meta-model parameter (LinearRegression)\n",
        "    'rf__n_estimators': [50, 100],                   # Base model: Random Forest\n",
        "    'rf__max_depth': [10, 20],                       # Base model: Random Forest\n",
        "    'gb__learning_rate': [0.01, 0.1],                # Base model: Gradient Boosting\n",
        "    'gb__max_depth': [3, 6]                          # Base model: Gradient Boosting\n",
        "}\n",
        "\n",
        "for i in range(1, 6):\n",
        "    # Load datasets\n",
        "    train_data = pd.read_csv(f'fold_7_{i}_filtered_train_data.csv')\n",
        "    test_data_combined = pd.read_csv(f'fold_7_{i}_filtered_test_data.csv')\n",
        "    test_data_cooling = pd.read_csv(f'fold_7_{i}_filtered_test_data_cooling.csv')\n",
        "    test_data_heating = pd.read_csv(f'fold_7_{i}_filtered_test_data_heating.csv')\n",
        "\n",
        "    # Split features and target\n",
        "    X_train = train_data.drop(columns=['WH_RTU_Total'])\n",
        "    y_train = train_data['WH_RTU_Total']\n",
        "\n",
        "    # Define base models and Stacking Regressor\n",
        "    base_models = [\n",
        "        ('rf', RandomForestRegressor(random_state=100)),\n",
        "        ('gb', GradientBoostingRegressor(random_state=100))\n",
        "    ]\n",
        "    meta_model = LinearRegression()\n",
        "    stacking = StackingRegressor(estimators=base_models, final_estimator=meta_model)\n",
        "\n",
        "    # Perform GridSearchCV on the Stacking Regressor\n",
        "    grid_search_stacking = GridSearchCV(stacking, param_grid_stacking, cv=3, scoring='neg_mean_absolute_error', n_jobs=-1)\n",
        "    grid_search_stacking.fit(X_train, y_train)\n",
        "\n",
        "    # Get the best model and hyperparameters\n",
        "    best_stacking = grid_search_stacking.best_estimator_\n",
        "    best_params = grid_search_stacking.best_params_\n",
        "\n",
        "    # Evaluate on Combined, Cooling, and Heating datasets\n",
        "    for dataset_type, test_data in [('Combined', test_data_combined),\n",
        "                                    ('Cooling', test_data_cooling),\n",
        "                                    ('Heating', test_data_heating)]:\n",
        "        # Split test features and target\n",
        "        X_test = test_data.drop(columns=['WH_RTU_Total'])\n",
        "        y_test = test_data['WH_RTU_Total']\n",
        "\n",
        "        # Predict and calculate metrics\n",
        "        y_pred = best_stacking.predict(X_test)\n",
        "        mae = mean_absolute_error(y_test, y_pred)\n",
        "        r2 = r2_score(y_test, y_pred)\n",
        "\n",
        "        # Store results\n",
        "        results_stacking.append({\n",
        "            'Fold': i,\n",
        "            'Seed': 7,  # Add seed column\n",
        "            'Model': 'Stacking Regressor',\n",
        "            'Dataset': dataset_type,\n",
        "            'MAE': mae,\n",
        "            'R²': r2,\n",
        "            'Best Params': best_params,\n",
        "            'Experiment': 1  # Add model column\n",
        "        })\n",
        "\n",
        "        print(f\"Fold {i}, Model Stacking Regressor, Dataset {dataset_type}, MAE: {mae:.4f}, R²: {r2:.4f}, Best Params: {best_params}\")\n",
        "\n",
        "# Convert results to DataFrame\n",
        "results_stacking_df = pd.DataFrame(results_stacking)\n",
        "\n",
        "# Save detailed results to CSV\n",
        "results_stacking_df.to_csv('stacking_7_combined_hyperparameter_results_detailed.csv', index=False)\n",
        "\n",
        "# Display overall summary\n",
        "print(\"\\nSummary Results for Stacking Regressor:\")\n",
        "summary_stacking = results_stacking_df.groupby(['Model', 'Dataset']).agg({'MAE': 'mean', 'R²': 'mean'}).reset_index()\n",
        "print(summary_stacking)\n",
        "\n",
        "# Save summary to CSV\n",
        "summary_stacking.to_csv('stacking_7_combined_hyperparameter_results_summary.csv', index=False)\n"
      ]
    },
    {
      "cell_type": "markdown",
      "metadata": {
        "id": "q_4JmnPXx5gl"
      },
      "source": [
        "### feature importance for combine stacking regressor"
      ]
    },
    {
      "cell_type": "code",
      "execution_count": null,
      "metadata": {
        "colab": {
          "base_uri": "https://localhost:8080/"
        },
        "id": "ERQYu4Mxx5Gq",
        "outputId": "9c2bef38-3c0e-4ec4-b001-69a58535b9ed"
      },
      "outputs": [
        {
          "output_type": "stream",
          "name": "stdout",
          "text": [
            "Feature importance for seed 7 has been successfully saved.\n"
          ]
        }
      ],
      "source": [
        "import pandas as pd\n",
        "from sklearn.linear_model import LinearRegression\n",
        "from sklearn.ensemble import RandomForestRegressor, GradientBoostingRegressor, StackingRegressor\n",
        "\n",
        "# Placeholder for feature importance results\n",
        "feature_importance_results = []\n",
        "\n",
        "\n",
        "\n",
        "# Section 1: Calculate Feature Importance\n",
        "for fold in range(1, 6):\n",
        "    # Load training data\n",
        "    train_data = pd.read_csv(f'fold_7_{fold}_filtered_train_data.csv')\n",
        "    X_train = train_data.drop(columns=['WH_RTU_Total'])\n",
        "    y_train = train_data['WH_RTU_Total']\n",
        "\n",
        "    # Extract the best parameters from the results file\n",
        "    results_stacking_df = pd.read_csv(f'stacking_7_combined_hyperparameter_results_detailed.csv')\n",
        "    best_params = results_stacking_df.loc[\n",
        "        (results_stacking_df['Fold'] == fold) & (results_stacking_df['Dataset'] == 'Combined'),\n",
        "        'Best Params'\n",
        "    ].iloc[0]\n",
        "    best_params_dict = eval(best_params)  # Parse string into dictionary\n",
        "\n",
        "    # Define base models\n",
        "    base_models = [\n",
        "        ('rf', RandomForestRegressor(random_state=100, **{k.split('__')[1]: v for k, v in best_params_dict.items() if k.startswith('rf__')})),\n",
        "        ('gb', GradientBoostingRegressor(random_state=100, **{k.split('__')[1]: v for k, v in best_params_dict.items() if k.startswith('gb__')}))\n",
        "    ]\n",
        "    meta_model = LinearRegression(**{k.split('__')[1]: v for k, v in best_params_dict.items() if k.startswith('final_estimator__')})\n",
        "\n",
        "    # Define Stacking Regressor and fit the model\n",
        "    stacking = StackingRegressor(estimators=base_models, final_estimator=meta_model)\n",
        "    stacking.fit(X_train, y_train)\n",
        "\n",
        "    # Calculate feature importances from base models\n",
        "    for model_name, model in stacking.named_estimators_.items():\n",
        "        if hasattr(model, 'feature_importances_'):  # Check if the model supports feature importance\n",
        "            feature_importances = model.feature_importances_\n",
        "            feature_names = X_train.columns\n",
        "            importance_df = pd.DataFrame({\n",
        "                'Feature': feature_names,\n",
        "                'Importance': feature_importances,\n",
        "                'Model': model_name,\n",
        "                'Fold': fold,\n",
        "                'Seed': 7,\n",
        "                'Experiment': 1  # Add seed column for reference\n",
        "            })\n",
        "            feature_importance_results.append(importance_df)\n",
        "\n",
        "# Combine all feature importance results\n",
        "feature_importance_combined = pd.concat(feature_importance_results, ignore_index=True)\n",
        "\n",
        "# Save the feature importance results to a file\n",
        "feature_importance_combined.to_csv(f'stacking_7_combined_feature_importance.csv', index=False)\n",
        "\n",
        "print(f\"Feature importance for seed 7 has been successfully saved.\")\n"
      ]
    },
    {
      "cell_type": "markdown",
      "metadata": {
        "id": "MqruwTArcjs0"
      },
      "source": [
        "### generate residual ，predict，label，t_out and RH_OUT"
      ]
    },
    {
      "cell_type": "code",
      "execution_count": null,
      "metadata": {
        "colab": {
          "base_uri": "https://localhost:8080/"
        },
        "id": "LMfd6F22W2HB",
        "outputId": "384ddc41-f723-499d-efd0-69c3f0ff9fb0"
      },
      "outputs": [
        {
          "output_type": "stream",
          "name": "stdout",
          "text": [
            "Processed fold 1, dataset cooling.\n",
            "Processed fold 1, dataset heating.\n",
            "Processed fold 2, dataset cooling.\n",
            "Processed fold 2, dataset heating.\n",
            "Processed fold 3, dataset cooling.\n",
            "Processed fold 3, dataset heating.\n",
            "Processed fold 4, dataset cooling.\n",
            "Processed fold 4, dataset heating.\n",
            "Processed fold 5, dataset cooling.\n",
            "Processed fold 5, dataset heating.\n",
            "All folds processed and merged data saved successfully.\n"
          ]
        }
      ],
      "source": [
        "import pandas as pd\n",
        "from sklearn.ensemble import StackingRegressor, RandomForestRegressor, GradientBoostingRegressor\n",
        "from sklearn.linear_model import LinearRegression\n",
        "\n",
        "\n",
        "\n",
        "merged_data = []  # Placeholder for storing final merged data\n",
        "\n",
        "# Load the best model parameters for each fold\n",
        "best_params_df = pd.read_csv('stacking_7_combined_hyperparameter_results_detailed.csv')\n",
        "\n",
        "# Loop through each fold\n",
        "for fold in range(1, 6):\n",
        "    # Load training data\n",
        "    train_data = pd.read_csv(f'fold_7_{fold}_filtered_train_data.csv')\n",
        "    X_train = train_data.drop(columns=['WH_RTU_Total'])\n",
        "    y_train = train_data['WH_RTU_Total']\n",
        "\n",
        "    # Get the best parameters for the current fold\n",
        "    best_params = best_params_df.loc[best_params_df['Fold'] == fold, 'Best Params'].iloc[0]\n",
        "    best_params_dict = eval(best_params)\n",
        "\n",
        "    # Define base models and Stacking Regressor with best parameters\n",
        "    base_models = [\n",
        "        ('rf', RandomForestRegressor(random_state=100,\n",
        "                                     n_estimators=best_params_dict['rf__n_estimators'],\n",
        "                                     max_depth=best_params_dict['rf__max_depth'])),\n",
        "        ('gb', GradientBoostingRegressor(random_state=100,\n",
        "                                         learning_rate=best_params_dict['gb__learning_rate'],\n",
        "                                         max_depth=best_params_dict['gb__max_depth']))\n",
        "    ]\n",
        "    meta_model = LinearRegression(fit_intercept=best_params_dict['final_estimator__fit_intercept'])\n",
        "    best_stacking = StackingRegressor(estimators=base_models, final_estimator=meta_model)\n",
        "\n",
        "    # Train the Stacking Regressor\n",
        "    best_stacking.fit(X_train, y_train)\n",
        "\n",
        "    # Loop through Cooling and Heating datasets\n",
        "    for dataset_type in ['cooling', 'heating']:\n",
        "        # Load test data\n",
        "        test_data = pd.read_csv(f'fold_7_{fold}_filtered_test_data_{dataset_type}.csv')\n",
        "\n",
        "        # Split features and target\n",
        "        X_test = test_data.drop(columns=['WH_RTU_Total'])\n",
        "        y_test = test_data['WH_RTU_Total']\n",
        "\n",
        "        # Predict and calculate residuals\n",
        "        y_pred = best_stacking.predict(X_test)\n",
        "        test_data['Predicted'] = y_pred\n",
        "        test_data['Residual'] = test_data['WH_RTU_Total'] - test_data['Predicted']\n",
        "\n",
        "        # Select and rename required columns\n",
        "        if 'T_out' in test_data.columns and 'RH_out' in test_data.columns:\n",
        "            selected_data = test_data[['WH_RTU_Total', 'Predicted', 'Residual', 'T_out', 'RH_out', 'label']].rename(columns={\n",
        "                'WH_RTU_Total': 'Actual'\n",
        "            })\n",
        "        else:\n",
        "            raise ValueError(f\"'T_out' or 'RH_out' is missing in test data for fold {fold} and dataset {dataset_type}\")\n",
        "\n",
        "        # Add fold, seed, and model columns\n",
        "        selected_data['Fold'] = fold\n",
        "        selected_data['Seed'] = 7\n",
        "        selected_data['Model'] = 'StackingRegressor'\n",
        "        selected_data['Experiment'] = 1\n",
        "\n",
        "        # Append to final merged data\n",
        "        merged_data.append(selected_data)\n",
        "        print(f\"Processed fold {fold}, dataset {dataset_type}.\")\n",
        "\n",
        "# Combine all folds and datasets into a single DataFrame\n",
        "merged_final_data = pd.concat(merged_data, ignore_index=True)\n",
        "# Save the merged data\n",
        "merged_final_data.to_csv(f'stacking_7_combined_residual.csv', index=False)\n",
        "\n",
        "print(\"All folds processed and merged data saved successfully.\")\n"
      ]
    },
    {
      "cell_type": "markdown",
      "metadata": {
        "id": "4igMB904NPx9"
      },
      "source": [
        "# Cooling Experiment"
      ]
    },
    {
      "cell_type": "markdown",
      "metadata": {
        "id": "5P2T4w25Mcz6"
      },
      "source": [
        "do the same model performance for cooling data, first divide the cooling data into 5 folds and generate differet training and testing groups"
      ]
    },
    {
      "cell_type": "code",
      "execution_count": null,
      "metadata": {
        "colab": {
          "base_uri": "https://localhost:8080/"
        },
        "id": "l8qgHS9IMnUE",
        "outputId": "9ceab8bc-b11e-4042-adf2-f4ced119884f"
      },
      "outputs": [
        {
          "output_type": "stream",
          "name": "stdout",
          "text": [
            "Training and test data for 5 folds with seed 7 have been generated and saved.\n"
          ]
        }
      ],
      "source": [
        "import pandas as pd\n",
        "from sklearn.model_selection import KFold\n",
        "\n",
        "# Load the combined data\n",
        "cooling_data_with_interactions_7 = pd.read_csv('cooling_data_with_interactions_7.csv')\n",
        "\n",
        "# Initialize KFold with 5 splits\n",
        "kf = KFold(n_splits=5, shuffle=True, random_state=7)\n",
        "\n",
        "# Create storage for training and test data splits\n",
        "folds = []\n",
        "\n",
        "# Split the data into 5 folds\n",
        "for train_index, test_index in kf.split(cooling_data_with_interactions_7):\n",
        "    train_data = cooling_data_with_interactions_7.iloc[train_index]\n",
        "    test_data = cooling_data_with_interactions_7.iloc[test_index]\n",
        "    folds.append((train_data, test_data))\n",
        "\n",
        "# Save each training and test group as separate files\n",
        "for i, (train_data, test_data) in enumerate(folds):\n",
        "    train_data.to_csv(f'cooling_train_7_fold{i+1}.csv', index=False)\n",
        "    test_data.to_csv(f'cooling_test_7_fold{i+1}.csv', index=False)\n",
        "\n",
        "print(\"Training and test data for 5 folds with seed 7 have been generated and saved.\")\n"
      ]
    },
    {
      "cell_type": "markdown",
      "metadata": {
        "id": "bVASFn-_Na2F"
      },
      "source": [
        "do the feature selection solely based on the training data"
      ]
    },
    {
      "cell_type": "code",
      "execution_count": null,
      "metadata": {
        "colab": {
          "base_uri": "https://localhost:8080/"
        },
        "id": "iHykW-loNgCJ",
        "outputId": "109ad31c-18d2-46ac-913e-1ea8da839b23"
      },
      "outputs": [
        {
          "output_type": "stream",
          "name": "stdout",
          "text": [
            "Top 25 features for cooling fold 1 with seed 7 saved.\n",
            "Top 25 features for cooling fold 2 with seed 7 saved.\n",
            "Top 25 features for cooling fold 3 with seed 7 saved.\n",
            "Top 25 features for cooling fold 4 with seed 7 saved.\n",
            "Top 25 features for cooling fold 5 with seed 7 saved.\n"
          ]
        }
      ],
      "source": [
        "import pandas as pd\n",
        "from sklearn.ensemble import RandomForestRegressor\n",
        "\n",
        "# Function to perform feature selection\n",
        "def feature_selection(train_data, target_column, preselected_features, k=25):\n",
        "    # Separate features and target\n",
        "    X = train_data.drop(columns=[target_column, 'TIMESTAMP'], errors='ignore')  # Drop TIMESTAMP\n",
        "    y = train_data[target_column]\n",
        "\n",
        "    # Train a RandomForestRegressor model\n",
        "    rf_model = RandomForestRegressor(n_estimators=100, random_state=100)\n",
        "    rf_model.fit(X, y)\n",
        "\n",
        "    # Get feature names and their importance scores\n",
        "    feature_importances = rf_model.feature_importances_\n",
        "    feature_names = X.columns\n",
        "\n",
        "    # Combine feature names and scores into a DataFrame\n",
        "    selected_features = pd.DataFrame({\n",
        "        'Feature': feature_names,\n",
        "        'Importance': feature_importances\n",
        "    }).sort_values(by='Importance', ascending=False)\n",
        "\n",
        "    # Select the preselected features (label, T_out, RH_out)\n",
        "    preselected_df = selected_features[selected_features['Feature'].isin(preselected_features)]\n",
        "\n",
        "    # Select the remaining top features after excluding preselected ones\n",
        "    remaining_features = selected_features[~selected_features['Feature'].isin(preselected_features)]\n",
        "    top_remaining_features = remaining_features.head(k - len(preselected_features))\n",
        "\n",
        "    # Combine preselected features with the top remaining features\n",
        "    final_features = pd.concat([preselected_df, top_remaining_features])\n",
        "\n",
        "    return final_features\n",
        "\n",
        "# Perform feature selection for each fold\n",
        "target_column = 'WH_RTU_Total'\n",
        "preselected_features = ['label', 'T_out', 'RH_out']\n",
        "\n",
        "for i in range(1, 6):\n",
        "    train_data = pd.read_csv(f'cooling_train_7_fold{i}.csv')\n",
        "\n",
        "    # Perform feature selection\n",
        "    top_features = feature_selection(train_data, target_column, preselected_features, k=25)\n",
        "\n",
        "    # Save top features\n",
        "    top_features.to_csv(f'cooling_train_7_fold{i}_top25_features.csv', index=False)\n",
        "\n",
        "    print(f\"Top 25 features for cooling fold {i} with seed 7 saved.\")\n"
      ]
    },
    {
      "cell_type": "markdown",
      "metadata": {
        "id": "6YlDMNe2QA1D"
      },
      "source": [
        "prepare the cooling dataset's training and test data"
      ]
    },
    {
      "cell_type": "code",
      "execution_count": null,
      "metadata": {
        "colab": {
          "base_uri": "https://localhost:8080/"
        },
        "id": "k4b3nYkXQGfy",
        "outputId": "f7bc6cdd-501d-48a6-95a6-43d56770f287"
      },
      "outputs": [
        {
          "output_type": "stream",
          "name": "stdout",
          "text": [
            "Filtered cooling train data for fold 1 saved.\n",
            "Filtered cooling test data for fold 1 saved.\n",
            "Filtered cooling train data for fold 2 saved.\n",
            "Filtered cooling test data for fold 2 saved.\n",
            "Filtered cooling train data for fold 3 saved.\n",
            "Filtered cooling test data for fold 3 saved.\n",
            "Filtered cooling train data for fold 4 saved.\n",
            "Filtered cooling test data for fold 4 saved.\n",
            "Filtered cooling train data for fold 5 saved.\n",
            "Filtered cooling test data for fold 5 saved.\n"
          ]
        }
      ],
      "source": [
        "import pandas as pd\n",
        "\n",
        "# Target variable\n",
        "target_column = 'WH_RTU_Total'\n",
        "\n",
        "for i in range(1, 6):\n",
        "    # Load the original training and test datasets for the current fold\n",
        "    train_data = pd.read_csv(f'cooling_train_7_fold{i}.csv')\n",
        "    test_data = pd.read_csv(f'cooling_test_7_fold{i}.csv')\n",
        "\n",
        "    # Load the top 25 features selected from the current fold\n",
        "    top_features = pd.read_csv(f'cooling_train_7_fold{i}_top25_features.csv')['Feature'].tolist()\n",
        "\n",
        "    # Ensure the target column is included in the selected features\n",
        "    filtered_columns = top_features + [target_column]  # Train data does not include 'label'\n",
        "\n",
        "    # Filter the training data\n",
        "    filtered_train_data = train_data[filtered_columns]\n",
        "    filtered_train_data.to_csv(f'fold{i}_cooling_filtered_train_7_data.csv', index=False)\n",
        "    print(f\"Filtered cooling train data for fold {i} saved.\")\n",
        "\n",
        "    # Filter the test data (temporarily including 'label')\n",
        "    filtered_test_data = test_data[filtered_columns]\n",
        "\n",
        "    # Save all datasets\n",
        "    filtered_test_data.to_csv(f'fold{i}_cooling_filtered_test_7_data.csv', index=False)\n",
        "    print(f\"Filtered cooling test data for fold {i} saved.\")\n",
        "\n"
      ]
    },
    {
      "cell_type": "markdown",
      "metadata": {
        "id": "2AhCXvSTRyvS"
      },
      "source": [
        "generate the mae and R2 value for the four models:linear regression, random forest ,xgboost and stacking ensemble regressor."
      ]
    },
    {
      "cell_type": "code",
      "execution_count": null,
      "metadata": {
        "colab": {
          "base_uri": "https://localhost:8080/"
        },
        "id": "wXEa8mLQR7ka",
        "outputId": "1810c352-01a3-4b13-9b15-720e04826f01"
      },
      "outputs": [
        {
          "output_type": "stream",
          "name": "stdout",
          "text": [
            "Requirement already satisfied: pandas in /usr/local/lib/python3.10/dist-packages (2.2.2)\n",
            "Requirement already satisfied: numpy in /usr/local/lib/python3.10/dist-packages (1.26.4)\n",
            "Requirement already satisfied: scikit-learn in /usr/local/lib/python3.10/dist-packages (1.0.2)\n",
            "Requirement already satisfied: xgboost in /usr/local/lib/python3.10/dist-packages (2.1.3)\n",
            "Requirement already satisfied: python-dateutil>=2.8.2 in /usr/local/lib/python3.10/dist-packages (from pandas) (2.8.2)\n",
            "Requirement already satisfied: pytz>=2020.1 in /usr/local/lib/python3.10/dist-packages (from pandas) (2024.2)\n",
            "Requirement already satisfied: tzdata>=2022.7 in /usr/local/lib/python3.10/dist-packages (from pandas) (2024.2)\n",
            "Requirement already satisfied: scipy>=1.1.0 in /usr/local/lib/python3.10/dist-packages (from scikit-learn) (1.13.1)\n",
            "Requirement already satisfied: joblib>=0.11 in /usr/local/lib/python3.10/dist-packages (from scikit-learn) (1.4.2)\n",
            "Requirement already satisfied: threadpoolctl>=2.0.0 in /usr/local/lib/python3.10/dist-packages (from scikit-learn) (3.5.0)\n",
            "Requirement already satisfied: nvidia-nccl-cu12 in /usr/local/lib/python3.10/dist-packages (from xgboost) (2.23.4)\n",
            "Requirement already satisfied: six>=1.5 in /usr/local/lib/python3.10/dist-packages (from python-dateutil>=2.8.2->pandas) (1.17.0)\n",
            "Requirement already satisfied: scikit-learn==1.0.2 in /usr/local/lib/python3.10/dist-packages (1.0.2)\n",
            "Requirement already satisfied: numpy>=1.14.6 in /usr/local/lib/python3.10/dist-packages (from scikit-learn==1.0.2) (1.26.4)\n",
            "Requirement already satisfied: scipy>=1.1.0 in /usr/local/lib/python3.10/dist-packages (from scikit-learn==1.0.2) (1.13.1)\n",
            "Requirement already satisfied: joblib>=0.11 in /usr/local/lib/python3.10/dist-packages (from scikit-learn==1.0.2) (1.4.2)\n",
            "Requirement already satisfied: threadpoolctl>=2.0.0 in /usr/local/lib/python3.10/dist-packages (from scikit-learn==1.0.2) (3.5.0)\n",
            "Fold 1, Model Linear Regression, MAE: 4.5155, R²: 0.4642\n",
            "Fold 1, Model Random Forest, MAE: 2.1898, R²: 0.7685\n",
            "Fold 1, Model XGBoost, MAE: 2.3067, R²: 0.7672\n",
            "Fold 1, Model Stacking Regressor, MAE: 2.2690, R²: 0.7779\n",
            "Fold 2, Model Linear Regression, MAE: 5.2100, R²: 0.4420\n",
            "Fold 2, Model Random Forest, MAE: 2.6287, R²: 0.7521\n",
            "Fold 2, Model XGBoost, MAE: 2.7408, R²: 0.7205\n",
            "Fold 2, Model Stacking Regressor, MAE: 2.6674, R²: 0.7388\n",
            "Fold 3, Model Linear Regression, MAE: 4.5551, R²: 0.4586\n",
            "Fold 3, Model Random Forest, MAE: 2.3968, R²: 0.7350\n",
            "Fold 3, Model XGBoost, MAE: 2.4427, R²: 0.7354\n",
            "Fold 3, Model Stacking Regressor, MAE: 2.4172, R²: 0.7549\n",
            "Fold 4, Model Linear Regression, MAE: 4.5621, R²: 0.5348\n",
            "Fold 4, Model Random Forest, MAE: 2.4246, R²: 0.7645\n",
            "Fold 4, Model XGBoost, MAE: 2.3668, R²: 0.7843\n",
            "Fold 4, Model Stacking Regressor, MAE: 2.3287, R²: 0.7866\n",
            "Fold 5, Model Linear Regression, MAE: 4.8706, R²: 0.5214\n",
            "Fold 5, Model Random Forest, MAE: 2.5990, R²: 0.7753\n",
            "Fold 5, Model XGBoost, MAE: 2.6222, R²: 0.7823\n",
            "Fold 5, Model Stacking Regressor, MAE: 2.5973, R²: 0.7925\n",
            "\n",
            "Summary Results for All Models (Cooling Data):\n",
            "                         MAE        R²\n",
            "Model                                 \n",
            "Random Forest       2.447773  0.759081\n",
            "Stacking Regressor  2.455920  0.770130\n",
            "XGBoost             2.495832  0.757921\n",
            "Linear Regression   4.742650  0.484194\n"
          ]
        }
      ],
      "source": [
        "!pip install pandas numpy scikit-learn xgboost\n",
        "!pip install scikit-learn==1.0.2\n",
        "from sklearn.model_selection import GridSearchCV\n",
        "from xgboost import XGBRegressor\n",
        "import pandas as pd\n",
        "from sklearn.metrics import mean_absolute_error, r2_score\n",
        "from sklearn.ensemble import GradientBoostingRegressor\n",
        "import pandas as pd\n",
        "import numpy as np\n",
        "from sklearn.linear_model import LinearRegression\n",
        "from sklearn.ensemble import RandomForestRegressor\n",
        "from xgboost import XGBRegressor\n",
        "from sklearn.ensemble import StackingRegressor\n",
        "from sklearn.metrics import mean_absolute_error, r2_score\n",
        "# Placeholder for storing results\n",
        "results = []\n",
        "\n",
        "# Loop through each fold\n",
        "for i in range(1, 6):\n",
        "    # Load filtered training and test datasets for cooling data\n",
        "    train_data = pd.read_csv(f'fold{i}_cooling_filtered_train_7_data.csv')\n",
        "    test_data = pd.read_csv(f'fold{i}_cooling_filtered_test_7_data.csv')\n",
        "\n",
        "    # Separate features and target for training and testing data\n",
        "    target_column = 'WH_RTU_Total'\n",
        "    X_train = train_data.drop(columns=[target_column])\n",
        "    y_train = train_data[target_column]\n",
        "    X_test = test_data.drop(columns=[target_column])\n",
        "    y_test = test_data[target_column]\n",
        "\n",
        "    # Define models with default parameters\n",
        "    models = {\n",
        "        'Linear Regression': LinearRegression(),\n",
        "        'Random Forest': RandomForestRegressor(random_state=100),\n",
        "        'XGBoost': XGBRegressor(random_state=100),\n",
        "        'Stacking Regressor': StackingRegressor(\n",
        "            estimators=[\n",
        "                ('lr', LinearRegression()),\n",
        "                ('rf', RandomForestRegressor(random_state=100)),\n",
        "                ('xgb', XGBRegressor(random_state=100))\n",
        "            ]\n",
        "        )\n",
        "    }\n",
        "\n",
        "    # Train and evaluate each model\n",
        "    for model_name, model in models.items():\n",
        "        # Train model\n",
        "        model.fit(X_train, y_train)\n",
        "\n",
        "        # Predict on test data\n",
        "        y_pred = model.predict(X_test)\n",
        "\n",
        "        # Calculate MAE and R²\n",
        "        mae = mean_absolute_error(y_test, y_pred)\n",
        "        r2 = r2_score(y_test, y_pred)\n",
        "\n",
        "        # Store results\n",
        "        results.append({\n",
        "            'Fold': i,\n",
        "            'Seed': 7,\n",
        "            'Model': model_name,\n",
        "            'Dataset': 'Cooling',\n",
        "            'MAE': mae,\n",
        "            'R²': r2,\n",
        "            'Experiment':2\n",
        "        })\n",
        "\n",
        "        print(f\"Fold {i}, Model {model_name}, MAE: {mae:.4f}, R²: {r2:.4f}\")\n",
        "\n",
        "# Convert results to a DataFrame\n",
        "results_df = pd.DataFrame(results)\n",
        "\n",
        "# Save results to CSV\n",
        "results_df.to_csv('cooling_data_results_mae_r2.csv', index=False)\n",
        "\n",
        "# Display overall summary\n",
        "print(\"\\nSummary Results for All Models (Cooling Data):\")\n",
        "summary = results_df.groupby('Model').agg({'MAE': 'mean', 'R²': 'mean'}).sort_values(by='MAE')\n",
        "print(summary)\n"
      ]
    },
    {
      "cell_type": "markdown",
      "metadata": {
        "id": "EoMivWWAfuFJ"
      },
      "source": [
        "## Random Forest"
      ]
    },
    {
      "cell_type": "markdown",
      "metadata": {
        "id": "hB5bSKiemn92"
      },
      "source": [
        "### hyper parameter tuning for cooling random forest"
      ]
    },
    {
      "cell_type": "code",
      "execution_count": null,
      "metadata": {
        "colab": {
          "base_uri": "https://localhost:8080/"
        },
        "id": "viqEAGG6mu0T",
        "outputId": "5b5e2da6-fd3f-460b-cd6c-ad6b0432396b"
      },
      "outputs": [
        {
          "output_type": "stream",
          "name": "stdout",
          "text": [
            "Fold 1, Model Random Forest, Dataset Cooling, MAE: 2.1952, R²: 0.7683, Best Params: {'max_depth': None, 'min_samples_split': 2, 'n_estimators': 150}\n",
            "Fold 2, Model Random Forest, Dataset Cooling, MAE: 2.6287, R²: 0.7521, Best Params: {'max_depth': None, 'min_samples_split': 2, 'n_estimators': 100}\n",
            "Fold 3, Model Random Forest, Dataset Cooling, MAE: 2.3565, R²: 0.7380, Best Params: {'max_depth': 10, 'min_samples_split': 2, 'n_estimators': 150}\n",
            "Fold 4, Model Random Forest, Dataset Cooling, MAE: 2.4181, R²: 0.7603, Best Params: {'max_depth': 10, 'min_samples_split': 2, 'n_estimators': 150}\n",
            "Fold 5, Model Random Forest, Dataset Cooling, MAE: 2.6183, R²: 0.7672, Best Params: {'max_depth': 10, 'min_samples_split': 2, 'n_estimators': 150}\n",
            "\n",
            "Summary Results for Random Forest:\n",
            "           Model  Dataset       MAE        R²\n",
            "0  Random Forest  Cooling  2.443345  0.757195\n"
          ]
        }
      ],
      "source": [
        "import pandas as pd\n",
        "from sklearn.model_selection import GridSearchCV\n",
        "from sklearn.ensemble import RandomForestRegressor\n",
        "from sklearn.metrics import mean_absolute_error, r2_score\n",
        "\n",
        "# Placeholder for storing results\n",
        "results_rf = []\n",
        "\n",
        "# Define hyperparameter grid for Random Forest\n",
        "param_grid_rf = {\n",
        "    'n_estimators': [50, 100, 150],\n",
        "    'max_depth': [10, 20, None],\n",
        "    'min_samples_split': [2, 5, 10],\n",
        "}\n",
        "\n",
        "for i in range(1, 6):\n",
        "    # Load datasets\n",
        "    train_data = pd.read_csv(f'fold{i}_cooling_filtered_train_7_data.csv')\n",
        "    test_data = pd.read_csv(f'fold{i}_cooling_filtered_test_7_data.csv')\n",
        "\n",
        "    # Split features and target\n",
        "    X_train = train_data.drop(columns=['WH_RTU_Total'])\n",
        "    y_train = train_data['WH_RTU_Total']\n",
        "\n",
        "    # Initialize Random Forest and perform GridSearchCV\n",
        "    rf = RandomForestRegressor(random_state=100)\n",
        "    grid_search_rf = GridSearchCV(rf, param_grid_rf, cv=3, scoring='neg_mean_absolute_error', n_jobs=-1)\n",
        "    grid_search_rf.fit(X_train, y_train)\n",
        "\n",
        "    # Get the best model and hyperparameters\n",
        "    best_rf = grid_search_rf.best_estimator_\n",
        "    best_params = grid_search_rf.best_params_\n",
        "\n",
        "    # Split test features and target\n",
        "    X_test = test_data.drop(columns=['WH_RTU_Total'])\n",
        "    y_test = test_data['WH_RTU_Total']\n",
        "\n",
        "    # Predict and calculate metrics\n",
        "    y_pred = best_rf.predict(X_test)\n",
        "    mae = mean_absolute_error(y_test, y_pred)\n",
        "    r2 = r2_score(y_test, y_pred)\n",
        "\n",
        "    # Store results\n",
        "    results_rf.append({\n",
        "        'Fold': i,\n",
        "        'Seed':7,\n",
        "        'Model': 'Random Forest',\n",
        "        'Dataset': 'Cooling',\n",
        "        'MAE': mae,\n",
        "        'R²': r2,\n",
        "        'Best Params': best_params,\n",
        "        'Experiment': 2\n",
        "    })\n",
        "\n",
        "    print(f\"Fold {i}, Model Random Forest, Dataset Cooling, MAE: {mae:.4f}, R²: {r2:.4f}, Best Params: {best_params}\")\n",
        "\n",
        "# Convert results to DataFrame\n",
        "results_rf_df = pd.DataFrame(results_rf)\n",
        "\n",
        "# Save detailed results to CSV\n",
        "results_rf_df.to_csv('random_forest_7_cooling_hyperparameter_results_detailed.csv', index=False)\n",
        "\n",
        "# Display overall summary\n",
        "print(\"\\nSummary Results for Random Forest:\")\n",
        "summary_rf = results_rf_df.groupby(['Model', 'Dataset']).agg({'MAE': 'mean', 'R²': 'mean'}).reset_index()\n",
        "print(summary_rf)\n",
        "\n",
        "# Save summary to CSV\n",
        "summary_rf.to_csv('random_forest_7_cooling_summary_results.csv', index=False)\n"
      ]
    },
    {
      "cell_type": "markdown",
      "metadata": {
        "id": "lBh34A3riemE"
      },
      "source": [
        "### Feature Importance for Random Forest"
      ]
    },
    {
      "cell_type": "code",
      "execution_count": null,
      "metadata": {
        "colab": {
          "base_uri": "https://localhost:8080/"
        },
        "id": "PNnfoqF_jz0B",
        "outputId": "99d74484-9c40-47db-9782-e78b0b80b7fc"
      },
      "outputs": [
        {
          "output_type": "stream",
          "name": "stdout",
          "text": [
            "Feature importance for seed 7 and experiment 2 has been successfully saved.\n"
          ]
        }
      ],
      "source": [
        "import pandas as pd\n",
        "from sklearn.ensemble import RandomForestRegressor\n",
        "\n",
        "# Placeholder for feature importance results\n",
        "feature_importance_results = []\n",
        "\n",
        "# Fixed seed value\n",
        "\n",
        "experiment = 2  # Experiment number\n",
        "\n",
        "# Section 1: Calculate Feature Importance\n",
        "for fold in range(1, 6):\n",
        "    # Load training data\n",
        "    train_data = pd.read_csv(f'fold{fold}_cooling_filtered_train_7_data.csv')\n",
        "    X_train = train_data.drop(columns=['WH_RTU_Total'])\n",
        "    y_train = train_data['WH_RTU_Total']\n",
        "\n",
        "    # Load the best model parameters for the current fold\n",
        "    results_rf_df = pd.read_csv('random_forest_7_cooling_hyperparameter_results_detailed.csv')\n",
        "    best_params = results_rf_df.loc[(results_rf_df['Fold'] == fold) & (results_rf_df['Dataset'] == 'Cooling'), 'Best Params'].iloc[0]\n",
        "    best_params_dict = eval(best_params)\n",
        "\n",
        "    # Train Random Forest model with best parameters\n",
        "    best_rf = RandomForestRegressor(random_state=100, **best_params_dict)\n",
        "    best_rf.fit(X_train, y_train)\n",
        "\n",
        "    # Calculate feature importance\n",
        "    feature_importances = best_rf.feature_importances_\n",
        "    feature_names = X_train.columns\n",
        "    importance_df = pd.DataFrame({\n",
        "        'Feature': feature_names,\n",
        "        'Importance': feature_importances,\n",
        "        'Fold': fold,\n",
        "        'Seed': 7,  # Add seed column\n",
        "        'Model': 'Random Forest',\n",
        "        'Experiment': experiment  # Add experiment column\n",
        "    })\n",
        "    feature_importance_results.append(importance_df)\n",
        "\n",
        "# Combine and save feature importance results\n",
        "feature_importance_combined = pd.concat(feature_importance_results, ignore_index=True)\n",
        "feature_importance_combined.to_csv(f'random_forest_7_cooling_feature_importance_experiment_{experiment}.csv', index=False)\n",
        "\n",
        "print(f\"Feature importance for seed 7 and experiment {experiment} has been successfully saved.\")"
      ]
    },
    {
      "cell_type": "markdown",
      "metadata": {
        "id": "kjlP0Zw9j87Y"
      },
      "source": [
        "### residual，predict，label，T_OUT and RH_OUT"
      ]
    },
    {
      "cell_type": "code",
      "execution_count": null,
      "metadata": {
        "colab": {
          "base_uri": "https://localhost:8080/"
        },
        "id": "a0-tUjg6kDpz",
        "outputId": "71d00522-1740-4889-c334-92915a846f05"
      },
      "outputs": [
        {
          "output_type": "stream",
          "name": "stdout",
          "text": [
            "Processed fold 1.\n",
            "Processed fold 2.\n",
            "Processed fold 3.\n",
            "Processed fold 4.\n",
            "Processed fold 5.\n",
            "All folds processed and merged data saved successfully to random_forest_7_cooling_residual.csv.\n"
          ]
        }
      ],
      "source": [
        "import pandas as pd\n",
        "from sklearn.ensemble import RandomForestRegressor\n",
        "\n",
        "\n",
        "experiment = 2  # Experiment number\n",
        "merged_data = []  # Placeholder for storing final merged data\n",
        "\n",
        "# Loop through each fold\n",
        "for fold in range(1, 6):\n",
        "    # Load training data\n",
        "    train_data = pd.read_csv(f'fold{fold}_cooling_filtered_train_7_data.csv')\n",
        "    X_train = train_data.drop(columns=['WH_RTU_Total'])\n",
        "    y_train = train_data['WH_RTU_Total']\n",
        "\n",
        "    # Load the best model parameters for the current fold\n",
        "    best_params_df = pd.read_csv('random_forest_7_cooling_hyperparameter_results_detailed.csv')\n",
        "    best_params = best_params_df.loc[(best_params_df['Fold'] == fold) & (best_params_df['Dataset'] == 'Cooling'), 'Best Params'].iloc[0]\n",
        "    best_params_dict = eval(best_params)\n",
        "\n",
        "    # Train Random Forest model with best parameters\n",
        "    best_rf = RandomForestRegressor(random_state=100, **best_params_dict)\n",
        "    best_rf.fit(X_train, y_train)\n",
        "\n",
        "    # Load test data\n",
        "    test_data = pd.read_csv(f'fold{fold}_cooling_filtered_test_7_data.csv')\n",
        "    test_data['Label'] = 'Cooling'  # Dynamically add label based on dataset type\n",
        "\n",
        "    # Split features and target\n",
        "    X_test = test_data.drop(columns=['WH_RTU_Total', 'Label'])\n",
        "    y_test = test_data['WH_RTU_Total']\n",
        "\n",
        "    # Predict and calculate residuals\n",
        "    y_pred = best_rf.predict(X_test)\n",
        "    test_data['Predicted'] = y_pred\n",
        "    test_data['Residual'] = test_data['WH_RTU_Total'] - test_data['Predicted']\n",
        "\n",
        "    # Select and rename required columns\n",
        "    if 'T_out' in test_data.columns and 'RH_out' in test_data.columns:\n",
        "        selected_data = test_data[['WH_RTU_Total', 'Predicted', 'Residual', 'T_out', 'RH_out', 'Label']].rename(columns={\n",
        "            'WH_RTU_Total': 'Actual'\n",
        "        })\n",
        "    else:\n",
        "        missing_columns = [col for col in ['T_out', 'RH_out'] if col not in test_data.columns]\n",
        "        raise ValueError(f\"{', '.join(missing_columns)} is/are missing in test data for fold {fold}\")\n",
        "\n",
        "    # Add fold, seed, and model columns\n",
        "    selected_data['Fold'] = fold\n",
        "    selected_data['Seed'] = 7\n",
        "    selected_data['Model'] = 'Random Forest'\n",
        "    selected_data['Experiment'] = experiment\n",
        "\n",
        "    # Append to final merged data\n",
        "    merged_data.append(selected_data)\n",
        "    print(f\"Processed fold {fold}.\")\n",
        "\n",
        "# Combine all folds into a single DataFrame\n",
        "merged_final_data = pd.concat(merged_data, ignore_index=True)\n",
        "\n",
        "# Save the merged data\n",
        "output_file = 'random_forest_7_cooling_residual.csv'\n",
        "merged_final_data.to_csv(output_file, index=False)\n",
        "\n",
        "print(f\"All folds processed and merged data saved successfully to {output_file}.\")\n"
      ]
    },
    {
      "cell_type": "markdown",
      "metadata": {
        "id": "LZbHnBaumOUk"
      },
      "source": [
        "## XGBOOST"
      ]
    },
    {
      "cell_type": "markdown",
      "metadata": {
        "id": "EZcAlxKYo8QC"
      },
      "source": [
        "### hyper parameter tuning for cooling XGBoost"
      ]
    },
    {
      "cell_type": "code",
      "execution_count": null,
      "metadata": {
        "id": "IAasa5aupBWa",
        "colab": {
          "base_uri": "https://localhost:8080/"
        },
        "outputId": "aeb684fa-8bff-415a-bb10-ab617bdf91de"
      },
      "outputs": [
        {
          "output_type": "stream",
          "name": "stdout",
          "text": [
            "Requirement already satisfied: pandas in /usr/local/lib/python3.10/dist-packages (2.2.2)\n",
            "Requirement already satisfied: numpy in /usr/local/lib/python3.10/dist-packages (1.26.4)\n",
            "Requirement already satisfied: scikit-learn in /usr/local/lib/python3.10/dist-packages (1.0.2)\n",
            "Requirement already satisfied: xgboost in /usr/local/lib/python3.10/dist-packages (2.1.3)\n",
            "Requirement already satisfied: python-dateutil>=2.8.2 in /usr/local/lib/python3.10/dist-packages (from pandas) (2.8.2)\n",
            "Requirement already satisfied: pytz>=2020.1 in /usr/local/lib/python3.10/dist-packages (from pandas) (2024.2)\n",
            "Requirement already satisfied: tzdata>=2022.7 in /usr/local/lib/python3.10/dist-packages (from pandas) (2024.2)\n",
            "Requirement already satisfied: scipy>=1.1.0 in /usr/local/lib/python3.10/dist-packages (from scikit-learn) (1.13.1)\n",
            "Requirement already satisfied: joblib>=0.11 in /usr/local/lib/python3.10/dist-packages (from scikit-learn) (1.4.2)\n",
            "Requirement already satisfied: threadpoolctl>=2.0.0 in /usr/local/lib/python3.10/dist-packages (from scikit-learn) (3.5.0)\n",
            "Requirement already satisfied: nvidia-nccl-cu12 in /usr/local/lib/python3.10/dist-packages (from xgboost) (2.23.4)\n",
            "Requirement already satisfied: six>=1.5 in /usr/local/lib/python3.10/dist-packages (from python-dateutil>=2.8.2->pandas) (1.17.0)\n",
            "Requirement already satisfied: scikit-learn==1.0.2 in /usr/local/lib/python3.10/dist-packages (1.0.2)\n",
            "Requirement already satisfied: numpy>=1.14.6 in /usr/local/lib/python3.10/dist-packages (from scikit-learn==1.0.2) (1.26.4)\n",
            "Requirement already satisfied: scipy>=1.1.0 in /usr/local/lib/python3.10/dist-packages (from scikit-learn==1.0.2) (1.13.1)\n",
            "Requirement already satisfied: joblib>=0.11 in /usr/local/lib/python3.10/dist-packages (from scikit-learn==1.0.2) (1.4.2)\n",
            "Requirement already satisfied: threadpoolctl>=2.0.0 in /usr/local/lib/python3.10/dist-packages (from scikit-learn==1.0.2) (3.5.0)\n",
            "Fold 1, Model XGBoost, Dataset Cooling, MAE: 1.9915, R²: 0.8309, Best Params: {'learning_rate': 0.1, 'max_depth': 6, 'n_estimators': 150, 'subsample': 0.8}\n",
            "Fold 2, Model XGBoost, Dataset Cooling, MAE: 2.4153, R²: 0.7715, Best Params: {'learning_rate': 0.1, 'max_depth': 9, 'n_estimators': 150, 'subsample': 0.8}\n",
            "Fold 3, Model XGBoost, Dataset Cooling, MAE: 2.3043, R²: 0.7450, Best Params: {'learning_rate': 0.1, 'max_depth': 6, 'n_estimators': 150, 'subsample': 0.8}\n",
            "Fold 4, Model XGBoost, Dataset Cooling, MAE: 2.1834, R²: 0.8148, Best Params: {'learning_rate': 0.1, 'max_depth': 6, 'n_estimators': 100, 'subsample': 0.8}\n",
            "Fold 5, Model XGBoost, Dataset Cooling, MAE: 2.3796, R²: 0.8061, Best Params: {'learning_rate': 0.1, 'max_depth': 6, 'n_estimators': 150, 'subsample': 0.8}\n",
            "\n",
            "Summary Results for XGBoost:\n",
            "     Model  Dataset       MAE        R²\n",
            "0  XGBoost  Cooling  2.254841  0.793653\n"
          ]
        }
      ],
      "source": [
        "!pip install pandas numpy scikit-learn xgboost\n",
        "!pip install scikit-learn==1.0.2\n",
        "from sklearn.model_selection import GridSearchCV\n",
        "from xgboost import XGBRegressor\n",
        "import pandas as pd\n",
        "from sklearn.metrics import mean_absolute_error, r2_score\n",
        "\n",
        "# Placeholder for storing results\n",
        "results_xgb = []\n",
        "experiment = 2  # Experiment number\n",
        "# Define hyperparameter grid for XGBoost\n",
        "param_grid_xgb = {\n",
        "    'n_estimators': [50, 100, 150],\n",
        "    'max_depth': [3, 6, 9],\n",
        "    'learning_rate': [0.01, 0.1, 0.2],\n",
        "    'subsample': [0.8, 1.0]\n",
        "}\n",
        "\n",
        "for i in range(1, 6):\n",
        "    # Load datasets\n",
        "    train_data = pd.read_csv(f'fold{i}_cooling_filtered_train_7_data.csv')\n",
        "    test_data = pd.read_csv(f'fold{i}_cooling_filtered_test_7_data.csv')\n",
        "\n",
        "    # Split features and target\n",
        "    X_train = train_data.drop(columns=['WH_RTU_Total'])\n",
        "    y_train = train_data['WH_RTU_Total']\n",
        "\n",
        "    # Initialize XGBoost and perform GridSearchCV\n",
        "    xgb = XGBRegressor(random_state=100)\n",
        "    grid_search_xgb = GridSearchCV(xgb, param_grid_xgb, cv=3, scoring='neg_mean_absolute_error', n_jobs=-1)\n",
        "    grid_search_xgb.fit(X_train, y_train)\n",
        "\n",
        "    # Get the best model and hyperparameters\n",
        "    best_xgb = grid_search_xgb.best_estimator_\n",
        "    best_params = grid_search_xgb.best_params_\n",
        "\n",
        "    # Split test features and target\n",
        "    X_test = test_data.drop(columns=['WH_RTU_Total'])\n",
        "    y_test = test_data['WH_RTU_Total']\n",
        "\n",
        "    # Predict and calculate metrics\n",
        "    y_pred = best_xgb.predict(X_test)\n",
        "    mae = mean_absolute_error(y_test, y_pred)\n",
        "    r2 = r2_score(y_test, y_pred)\n",
        "\n",
        "    # Store results\n",
        "    results_xgb.append({\n",
        "        'Fold': i,\n",
        "        'Seed': 7,\n",
        "        'Model': 'XGBoost',\n",
        "        'Dataset': 'Cooling',\n",
        "        'MAE': mae,\n",
        "        'R²': r2,\n",
        "        'Best Params': best_params,\n",
        "        'Experiment' : experiment\n",
        "    })\n",
        "\n",
        "\n",
        "    print(f\"Fold {i}, Model XGBoost, Dataset Cooling, MAE: {mae:.4f}, R²: {r2:.4f}, Best Params: {best_params}\")\n",
        "\n",
        "# Convert results to DataFrame\n",
        "results_xgb_df = pd.DataFrame(results_xgb)\n",
        "\n",
        "# Save detailed results to CSV\n",
        "results_xgb_df.to_csv('xgboost_7_cooling_hyperparameter_results_detailed.csv', index=False)\n",
        "\n",
        "# Display overall summary\n",
        "print(\"\\nSummary Results for XGBoost:\")\n",
        "summary_xgb = results_xgb_df.groupby(['Model', 'Dataset']).agg({'MAE': 'mean', 'R²': 'mean'}).reset_index()\n",
        "print(summary_xgb)\n",
        "\n",
        "# Save summary to CSV\n",
        "summary_xgb.to_csv('xgboost_7_cooling_summary_results.csv', index=False)\n"
      ]
    },
    {
      "cell_type": "markdown",
      "metadata": {
        "id": "YtaO99LPmcDD"
      },
      "source": [
        "### Feature Importance"
      ]
    },
    {
      "cell_type": "code",
      "execution_count": null,
      "metadata": {
        "id": "blKCszcwmig1",
        "colab": {
          "base_uri": "https://localhost:8080/"
        },
        "outputId": "a1cb6574-95dc-4d2a-e693-3e72d1d6569b"
      },
      "outputs": [
        {
          "output_type": "stream",
          "name": "stdout",
          "text": [
            "Feature importance for seed 7 and experiment 2 has been successfully saved.\n"
          ]
        }
      ],
      "source": [
        "import pandas as pd\n",
        "from xgboost import XGBRegressor\n",
        "\n",
        "# Placeholder for feature importance results\n",
        "feature_importance_results = []\n",
        "\n",
        "\n",
        "experiment = 2  # Experiment number\n",
        "\n",
        "# Section 1: Calculate Feature Importance\n",
        "for fold in range(1, 6):\n",
        "    # Load training data\n",
        "    train_data = pd.read_csv(f'fold{fold}_cooling_filtered_train_7_data.csv')\n",
        "    X_train = train_data.drop(columns=['WH_RTU_Total'])\n",
        "    y_train = train_data['WH_RTU_Total']\n",
        "\n",
        "    # Extract the best parameters from the results file\n",
        "    results_xgb_df = pd.read_csv('xgboost_7_cooling_hyperparameter_results_detailed.csv')\n",
        "    best_params = results_xgb_df.loc[\n",
        "        (results_xgb_df['Fold'] == fold) & (results_xgb_df['Dataset'] == 'Cooling'),\n",
        "        'Best Params'\n",
        "    ].iloc[0]\n",
        "    best_params_dict = eval(best_params)  # Parse string into dictionary\n",
        "\n",
        "    # Initialize and train the model with the best parameters\n",
        "    best_xgb = XGBRegressor(random_state=100, **best_params_dict)\n",
        "    best_xgb.fit(X_train, y_train)\n",
        "\n",
        "    # Calculate feature importance\n",
        "    feature_importances = best_xgb.feature_importances_\n",
        "    feature_names = X_train.columns\n",
        "    importance_df = pd.DataFrame({\n",
        "        'Feature': feature_names,\n",
        "        'Importance': feature_importances,\n",
        "        'Fold': fold,\n",
        "        'Seed': 7,  # Add seed column\n",
        "        'Model': 'XGBoost',\n",
        "        'Experiment': experiment  # Add experiment column\n",
        "    })\n",
        "    feature_importance_results.append(importance_df)\n",
        "\n",
        "# Combine all feature importance results\n",
        "feature_importance_combined = pd.concat(feature_importance_results, ignore_index=True)\n",
        "\n",
        "# Save the feature importance results to a file\n",
        "feature_importance_combined.to_csv(f'xgboost_7_cooling_feature_importance_experiment_{experiment}.csv', index=False)\n",
        "\n",
        "print(f\"Feature importance for seed 7 and experiment {experiment} has been successfully saved.\")"
      ]
    },
    {
      "cell_type": "markdown",
      "metadata": {
        "id": "vuaD1tI_mi9i"
      },
      "source": [
        "### Residual analysis"
      ]
    },
    {
      "cell_type": "code",
      "execution_count": null,
      "metadata": {
        "id": "noocNEDYmoB2",
        "colab": {
          "base_uri": "https://localhost:8080/"
        },
        "outputId": "af2c4bd6-d3a7-40be-ed1d-0b41a6b6713f"
      },
      "outputs": [
        {
          "output_type": "stream",
          "name": "stdout",
          "text": [
            "Processed fold 1.\n",
            "Processed fold 2.\n",
            "Processed fold 3.\n",
            "Processed fold 4.\n",
            "Processed fold 5.\n",
            "All folds processed and merged data saved successfully to xgboost_7_cooling_residual.csv.\n"
          ]
        }
      ],
      "source": [
        "import pandas as pd\n",
        "from xgboost import XGBRegressor\n",
        "\n",
        "\n",
        "experiment = 2  # Experiment number\n",
        "merged_data = []  # Placeholder for storing final merged data\n",
        "\n",
        "# Loop through each fold\n",
        "for fold in range(1, 6):\n",
        "    # Load training data\n",
        "    train_data = pd.read_csv(f'fold{fold}_cooling_filtered_train_7_data.csv')\n",
        "    X_train = train_data.drop(columns=['WH_RTU_Total'])\n",
        "    y_train = train_data['WH_RTU_Total']\n",
        "\n",
        "    # Load the best model parameters for the current fold\n",
        "    best_params_df = pd.read_csv('xgboost_7_cooling_hyperparameter_results_detailed.csv')\n",
        "    best_params = best_params_df.loc[(best_params_df['Fold'] == fold) & (best_params_df['Dataset'] == 'Cooling'), 'Best Params'].iloc[0]\n",
        "    best_params_dict = eval(best_params)\n",
        "\n",
        "    # Train XGBoost model with best parameters\n",
        "    best_xgb = XGBRegressor(random_state=100, **best_params_dict)\n",
        "    best_xgb.fit(X_train, y_train)\n",
        "\n",
        "    # Load test data\n",
        "    test_data = pd.read_csv(f'fold{fold}_cooling_filtered_test_7_data.csv')\n",
        "    test_data['Label'] = 'Cooling'  # Dynamically add label based on dataset type\n",
        "\n",
        "    # Split features and target\n",
        "    X_test = test_data.drop(columns=['WH_RTU_Total', 'Label'])\n",
        "    y_test = test_data['WH_RTU_Total']\n",
        "\n",
        "    # Predict and calculate residuals\n",
        "    y_pred = best_xgb.predict(X_test)\n",
        "    test_data['Predicted'] = y_pred\n",
        "    test_data['Residual'] = test_data['WH_RTU_Total'] - test_data['Predicted']\n",
        "\n",
        "    # Select and rename required columns\n",
        "    if 'T_out' in test_data.columns and 'RH_out' in test_data.columns:\n",
        "        selected_data = test_data[['WH_RTU_Total', 'Predicted', 'Residual', 'T_out', 'RH_out', 'Label']].rename(columns={\n",
        "            'WH_RTU_Total': 'Actual'\n",
        "        })\n",
        "    else:\n",
        "        missing_columns = [col for col in ['T_out', 'RH_out'] if col not in test_data.columns]\n",
        "        raise ValueError(f\"{', '.join(missing_columns)} is/are missing in test data for fold {fold}\")\n",
        "\n",
        "    # Add fold, seed, and model columns\n",
        "    selected_data['Fold'] = fold\n",
        "    selected_data['Seed'] = 7\n",
        "    selected_data['Model'] = 'XGBoost'\n",
        "    selected_data['Experiment'] = experiment\n",
        "\n",
        "    # Append to final merged data\n",
        "    merged_data.append(selected_data)\n",
        "    print(f\"Processed fold {fold}.\")\n",
        "\n",
        "# Combine all folds into a single DataFrame\n",
        "merged_final_data = pd.concat(merged_data, ignore_index=True)\n",
        "\n",
        "# Save the merged data\n",
        "output_file = 'xgboost_7_cooling_residual.csv'\n",
        "merged_final_data.to_csv(output_file, index=False)\n",
        "\n",
        "print(f\"All folds processed and merged data saved successfully to {output_file}.\")\n"
      ]
    },
    {
      "cell_type": "markdown",
      "metadata": {
        "id": "UsAc0-M4oAwU"
      },
      "source": [
        "## Stacking Regressor"
      ]
    },
    {
      "cell_type": "markdown",
      "metadata": {
        "id": "xaPrtDkupmxG"
      },
      "source": [
        "### hyper parameter tuning for cooling Stacking Regressor"
      ]
    },
    {
      "cell_type": "code",
      "execution_count": null,
      "metadata": {
        "id": "5OFl-su9pnko",
        "colab": {
          "base_uri": "https://localhost:8080/"
        },
        "outputId": "d325afbc-ad7e-491f-a149-77f57b616fb0"
      },
      "outputs": [
        {
          "output_type": "stream",
          "name": "stdout",
          "text": [
            "Fold 1, Model Stacking Regressor, Dataset Cooling, MAE: 2.2027, R²: 0.7613, Best Params: {'final_estimator__fit_intercept': True, 'gb__learning_rate': 0.01, 'gb__max_depth': 3, 'rf__max_depth': 10, 'rf__n_estimators': 100}\n",
            "Fold 2, Model Stacking Regressor, Dataset Cooling, MAE: 2.5620, R²: 0.7535, Best Params: {'final_estimator__fit_intercept': True, 'gb__learning_rate': 0.1, 'gb__max_depth': 6, 'rf__max_depth': 20, 'rf__n_estimators': 100}\n",
            "Fold 3, Model Stacking Regressor, Dataset Cooling, MAE: 2.2622, R²: 0.7386, Best Params: {'final_estimator__fit_intercept': False, 'gb__learning_rate': 0.1, 'gb__max_depth': 6, 'rf__max_depth': 10, 'rf__n_estimators': 100}\n",
            "Fold 4, Model Stacking Regressor, Dataset Cooling, MAE: 2.2323, R²: 0.7949, Best Params: {'final_estimator__fit_intercept': True, 'gb__learning_rate': 0.1, 'gb__max_depth': 6, 'rf__max_depth': 10, 'rf__n_estimators': 100}\n",
            "Fold 5, Model Stacking Regressor, Dataset Cooling, MAE: 2.4819, R²: 0.7928, Best Params: {'final_estimator__fit_intercept': True, 'gb__learning_rate': 0.1, 'gb__max_depth': 6, 'rf__max_depth': 20, 'rf__n_estimators': 100}\n",
            "\n",
            "Summary Results for Stacking Regressor:\n",
            "                Model  Dataset       MAE       R²\n",
            "0  Stacking Regressor  Cooling  2.348199  0.76822\n"
          ]
        }
      ],
      "source": [
        "import pandas as pd\n",
        "from sklearn.model_selection import GridSearchCV\n",
        "from sklearn.ensemble import StackingRegressor\n",
        "from sklearn.linear_model import LinearRegression\n",
        "from sklearn.ensemble import RandomForestRegressor, GradientBoostingRegressor\n",
        "from sklearn.metrics import mean_absolute_error, r2_score\n",
        "\n",
        "# Placeholder for storing results\n",
        "results_stacking = []\n",
        "\n",
        "experiment = 2  # Experiment number\n",
        "# Define hyperparameter grid for Stacking Regressor\n",
        "param_grid_stacking = {\n",
        "    'final_estimator__fit_intercept': [True, False],  # Meta-model parameter (LinearRegression)\n",
        "    'rf__n_estimators': [50, 100],                   # Base model: Random Forest\n",
        "    'rf__max_depth': [10, 20],                       # Base model: Random Forest\n",
        "    'gb__learning_rate': [0.01, 0.1],                # Base model: Gradient Boosting\n",
        "    'gb__max_depth': [3, 6]                          # Base model: Gradient Boosting\n",
        "}\n",
        "\n",
        "for i in range(1, 6):\n",
        "    # Load datasets\n",
        "    train_data = pd.read_csv(f'fold{i}_cooling_filtered_train_7_data.csv')\n",
        "    test_data = pd.read_csv(f'fold{i}_cooling_filtered_test_7_data.csv')\n",
        "\n",
        "    # Split features and target\n",
        "    X_train = train_data.drop(columns=['WH_RTU_Total'])\n",
        "    y_train = train_data['WH_RTU_Total']\n",
        "\n",
        "    # Define base models and Stacking Regressor\n",
        "    base_models = [\n",
        "        ('rf', RandomForestRegressor(random_state=100)),\n",
        "        ('gb', GradientBoostingRegressor(random_state=100))\n",
        "    ]\n",
        "    meta_model = LinearRegression()\n",
        "    stacking = StackingRegressor(estimators=base_models, final_estimator=meta_model)\n",
        "\n",
        "    # Perform GridSearchCV on the Stacking Regressor\n",
        "    grid_search_stacking = GridSearchCV(stacking, param_grid_stacking, cv=3, scoring='neg_mean_absolute_error', n_jobs=-1)\n",
        "    grid_search_stacking.fit(X_train, y_train)\n",
        "\n",
        "    # Get the best model and hyperparameters\n",
        "    best_stacking = grid_search_stacking.best_estimator_\n",
        "    best_params = grid_search_stacking.best_params_\n",
        "\n",
        "    # Split test features and target\n",
        "    X_test = test_data.drop(columns=['WH_RTU_Total'])\n",
        "    y_test = test_data['WH_RTU_Total']\n",
        "\n",
        "    # Predict and calculate metrics\n",
        "    y_pred = best_stacking.predict(X_test)\n",
        "    mae = mean_absolute_error(y_test, y_pred)\n",
        "    r2 = r2_score(y_test, y_pred)\n",
        "\n",
        "    # Store results\n",
        "    results_stacking.append({\n",
        "        'Fold': i,\n",
        "        'Seed': 7,\n",
        "        'Model': 'Stacking Regressor',\n",
        "        'Dataset': 'Cooling',\n",
        "        'MAE': mae,\n",
        "        'R²': r2,\n",
        "        'Best Params': best_params,\n",
        "        'Experiment': experiment\n",
        "    })\n",
        "\n",
        "    print(f\"Fold {i}, Model Stacking Regressor, Dataset Cooling, MAE: {mae:.4f}, R²: {r2:.4f}, Best Params: {best_params}\")\n",
        "\n",
        "# Convert results to DataFrame\n",
        "results_stacking_df = pd.DataFrame(results_stacking)\n",
        "\n",
        "# Save detailed results to CSV\n",
        "results_stacking_df.to_csv('stacking_7_cooling_hyperparameter_results_detailed.csv', index=False)\n",
        "\n",
        "# Display overall summary\n",
        "print(\"\\nSummary Results for Stacking Regressor:\")\n",
        "summary_stacking = results_stacking_df.groupby(['Model', 'Dataset']).agg({'MAE': 'mean', 'R²': 'mean'}).reset_index()\n",
        "print(summary_stacking)\n",
        "\n",
        "# Save summary to CSV\n",
        "summary_stacking.to_csv('stacking_7_cooling_summary_results.csv', index=False)\n"
      ]
    },
    {
      "cell_type": "markdown",
      "metadata": {
        "id": "ka0OE08_oJYW"
      },
      "source": [
        "### Feature Importance"
      ]
    },
    {
      "cell_type": "code",
      "execution_count": null,
      "metadata": {
        "id": "9xbNcEqToMGK",
        "colab": {
          "base_uri": "https://localhost:8080/"
        },
        "outputId": "58a697d6-6a63-408d-f278-222eca78ca23"
      },
      "outputs": [
        {
          "output_type": "stream",
          "name": "stdout",
          "text": [
            "Feature importance for seed 7 and experiment 2 has been successfully saved.\n"
          ]
        }
      ],
      "source": [
        "import pandas as pd\n",
        "from sklearn.linear_model import LinearRegression\n",
        "from sklearn.ensemble import RandomForestRegressor, GradientBoostingRegressor, StackingRegressor\n",
        "\n",
        "# Placeholder for feature importance results\n",
        "feature_importance_results = []\n",
        "\n",
        "\n",
        "experiment = 2  # Experiment number\n",
        "\n",
        "# Section 1: Calculate Feature Importance\n",
        "for fold in range(1, 6):\n",
        "    # Load training data\n",
        "    train_data = pd.read_csv(f'fold{fold}_cooling_filtered_train_7_data.csv')\n",
        "    X_train = train_data.drop(columns=['WH_RTU_Total'])\n",
        "    y_train = train_data['WH_RTU_Total']\n",
        "\n",
        "    # Extract the best parameters from the results file\n",
        "    results_stacking_df = pd.read_csv('stacking_7_cooling_hyperparameter_results_detailed.csv')\n",
        "    best_params = results_stacking_df.loc[\n",
        "        (results_stacking_df['Fold'] == fold) & (results_stacking_df['Dataset'] == 'Cooling'),\n",
        "        'Best Params'\n",
        "    ].iloc[0]\n",
        "    best_params_dict = eval(best_params)  # Parse string into dictionary\n",
        "\n",
        "    # Define base models\n",
        "    base_models = [\n",
        "        ('rf', RandomForestRegressor(random_state=100, **{k.split('__')[1]: v for k, v in best_params_dict.items() if k.startswith('rf__')})),\n",
        "        ('gb', GradientBoostingRegressor(random_state=100, **{k.split('__')[1]: v for k, v in best_params_dict.items() if k.startswith('gb__')}))\n",
        "    ]\n",
        "    meta_model = LinearRegression(**{k.split('__')[1]: v for k, v in best_params_dict.items() if k.startswith('final_estimator__')})\n",
        "\n",
        "    # Define Stacking Regressor and fit the model\n",
        "    stacking = StackingRegressor(estimators=base_models, final_estimator=meta_model)\n",
        "    stacking.fit(X_train, y_train)\n",
        "\n",
        "    # Calculate feature importances from base models\n",
        "    for model_name, model in stacking.named_estimators_.items():\n",
        "        if hasattr(model, 'feature_importances_'):  # Check if the model supports feature importance\n",
        "            feature_importances = model.feature_importances_\n",
        "            feature_names = X_train.columns\n",
        "            importance_df = pd.DataFrame({\n",
        "                'Feature': feature_names,\n",
        "                'Importance': feature_importances,\n",
        "                'Model': model_name,\n",
        "                'Fold': fold,\n",
        "                'Seed': 7,\n",
        "                'Experiment': experiment  # Add experiment column\n",
        "            })\n",
        "            feature_importance_results.append(importance_df)\n",
        "\n",
        "# Combine all feature importance results\n",
        "feature_importance_combined = pd.concat(feature_importance_results, ignore_index=True)\n",
        "\n",
        "# Save the feature importance results to a file\n",
        "feature_importance_combined.to_csv(f'stacking_7_cooling_feature_importance_experiment_{experiment}.csv', index=False)\n",
        "\n",
        "print(f\"Feature importance for seed 7 and experiment {experiment} has been successfully saved.\")"
      ]
    },
    {
      "cell_type": "markdown",
      "metadata": {
        "id": "LdlCtmVooMrS"
      },
      "source": [
        "### Residual Analysis"
      ]
    },
    {
      "cell_type": "code",
      "execution_count": null,
      "metadata": {
        "id": "pIzbglcNoPzd",
        "colab": {
          "base_uri": "https://localhost:8080/"
        },
        "outputId": "84dcccdf-10c6-4062-91e6-43b66b818175"
      },
      "outputs": [
        {
          "output_type": "stream",
          "name": "stdout",
          "text": [
            "Processed fold 1.\n",
            "Processed fold 2.\n",
            "Processed fold 3.\n",
            "Processed fold 4.\n",
            "Processed fold 5.\n",
            "All folds processed and merged data saved successfully to stacking_7_cooling_residual.csv.\n"
          ]
        }
      ],
      "source": [
        "import pandas as pd\n",
        "from sklearn.ensemble import StackingRegressor, RandomForestRegressor, GradientBoostingRegressor\n",
        "from sklearn.linear_model import LinearRegression\n",
        "\n",
        "\n",
        "experiment = 2  # Experiment number\n",
        "merged_data = []  # Placeholder for storing final merged data\n",
        "\n",
        "# Load the best model parameters for each fold\n",
        "best_params_df = pd.read_csv('stacking_7_cooling_hyperparameter_results_detailed.csv')\n",
        "\n",
        "# Loop through each fold\n",
        "for fold in range(1, 6):\n",
        "    # Load training data\n",
        "    train_data = pd.read_csv(f'fold{fold}_cooling_filtered_train_7_data.csv')\n",
        "    X_train = train_data.drop(columns=['WH_RTU_Total'])\n",
        "    y_train = train_data['WH_RTU_Total']\n",
        "\n",
        "    # Get the best parameters for the current fold\n",
        "    best_params = best_params_df.loc[best_params_df['Fold'] == fold, 'Best Params'].iloc[0]\n",
        "    best_params_dict = eval(best_params)\n",
        "\n",
        "    # Define base models and Stacking Regressor with best parameters\n",
        "    base_models = [\n",
        "        ('rf', RandomForestRegressor(random_state=100,\n",
        "                                     n_estimators=best_params_dict['rf__n_estimators'],\n",
        "                                     max_depth=best_params_dict['rf__max_depth'])),\n",
        "        ('gb', GradientBoostingRegressor(random_state=100,\n",
        "                                         learning_rate=best_params_dict['gb__learning_rate'],\n",
        "                                         max_depth=best_params_dict['gb__max_depth']))\n",
        "    ]\n",
        "    meta_model = LinearRegression(fit_intercept=best_params_dict['final_estimator__fit_intercept'])\n",
        "    best_stacking = StackingRegressor(estimators=base_models, final_estimator=meta_model)\n",
        "\n",
        "    # Train the Stacking Regressor\n",
        "    best_stacking.fit(X_train, y_train)\n",
        "\n",
        "    # Load test data\n",
        "    test_data = pd.read_csv(f'fold{fold}_cooling_filtered_test_7_data.csv')\n",
        "    test_data['Label'] = 'Cooling'  # Dynamically add label based on dataset type\n",
        "\n",
        "    # Split features and target\n",
        "    X_test = test_data.drop(columns=['WH_RTU_Total', 'Label'])\n",
        "    y_test = test_data['WH_RTU_Total']\n",
        "\n",
        "    # Predict and calculate residuals\n",
        "    y_pred = best_stacking.predict(X_test)\n",
        "    test_data = test_data.reset_index(drop=True)  # Reset test_data index\n",
        "    y_pred_series = pd.Series(y_pred, index=test_data.index)  # Align y_pred with test_data index\n",
        "    test_data['Predicted'] = y_pred_series\n",
        "    test_data['Residual'] = test_data['WH_RTU_Total'] - test_data['Predicted']\n",
        "\n",
        "    # Select and rename required columns\n",
        "    if 'T_out' in test_data.columns and 'RH_out' in test_data.columns:\n",
        "        selected_data = test_data[['WH_RTU_Total', 'Predicted', 'Residual', 'T_out', 'RH_out', 'Label']].rename(columns={\n",
        "            'WH_RTU_Total': 'Actual'\n",
        "        })\n",
        "    else:\n",
        "        missing_columns = [col for col in ['T_out', 'RH_out'] if col not in test_data.columns]\n",
        "        raise ValueError(f\"{', '.join(missing_columns)} is/are missing in test data for fold {fold}\")\n",
        "\n",
        "    # Add fold, seed, and model columns\n",
        "    selected_data['Fold'] = fold\n",
        "    selected_data['Seed'] = 7\n",
        "    selected_data['Model'] = 'StackingRegressor'\n",
        "    selected_data['Experiment'] = experiment\n",
        "\n",
        "    # Append to final merged data\n",
        "    merged_data.append(selected_data)\n",
        "    print(f\"Processed fold {fold}.\")\n",
        "\n",
        "# Combine all folds into a single DataFrame\n",
        "merged_final_data = pd.concat(merged_data, ignore_index=True)\n",
        "\n",
        "# Save the merged data\n",
        "output_file = 'stacking_7_cooling_residual.csv'\n",
        "merged_final_data.to_csv(output_file, index=False)\n",
        "\n",
        "print(f\"All folds processed and merged data saved successfully to {output_file}.\")\n"
      ]
    },
    {
      "cell_type": "markdown",
      "metadata": {
        "id": "H4lVX_r2DINK"
      },
      "source": [
        "# heating Experiment"
      ]
    },
    {
      "cell_type": "markdown",
      "metadata": {
        "id": "-7bggNUkDINL"
      },
      "source": [
        "do the same model performance for heating data, first divide the heating data into 5 folds and generate differet training and testing groups"
      ]
    },
    {
      "cell_type": "code",
      "execution_count": null,
      "metadata": {
        "colab": {
          "base_uri": "https://localhost:8080/"
        },
        "outputId": "2dafd0c0-f522-4aa5-b01b-a56a35bb81de",
        "id": "gJm_mW16DINL"
      },
      "outputs": [
        {
          "output_type": "stream",
          "name": "stdout",
          "text": [
            "Training and test data for 5 folds with seed 7 have been generated and saved.\n"
          ]
        }
      ],
      "source": [
        "import pandas as pd\n",
        "from sklearn.model_selection import KFold\n",
        "\n",
        "# Load the combined data\n",
        "heating_data_with_interactions_7 = pd.read_csv('heating_data_with_interactions_7.csv')\n",
        "\n",
        "# Initialize KFold with 5 splits\n",
        "kf = KFold(n_splits=5, shuffle=True, random_state=7)\n",
        "\n",
        "# Create storage for training and test data splits\n",
        "folds = []\n",
        "\n",
        "# Split the data into 5 folds\n",
        "for train_index, test_index in kf.split(heating_data_with_interactions_7):\n",
        "    train_data = heating_data_with_interactions_7.iloc[train_index]\n",
        "    test_data = heating_data_with_interactions_7.iloc[test_index]\n",
        "    folds.append((train_data, test_data))\n",
        "\n",
        "# Save each training and test group as separate files\n",
        "for i, (train_data, test_data) in enumerate(folds):\n",
        "    train_data.to_csv(f'heating_train_7_fold{i+1}.csv', index=False)\n",
        "    test_data.to_csv(f'heating_test_7_fold{i+1}.csv', index=False)\n",
        "\n",
        "print(\"Training and test data for 5 folds with seed 7 have been generated and saved.\")\n"
      ]
    },
    {
      "cell_type": "markdown",
      "metadata": {
        "id": "fyzy892oDINM"
      },
      "source": [
        "do the feature selection solely based on the training data"
      ]
    },
    {
      "cell_type": "code",
      "execution_count": null,
      "metadata": {
        "colab": {
          "base_uri": "https://localhost:8080/"
        },
        "outputId": "39caff79-472e-4138-adfa-3106d2551fe4",
        "id": "KSVwRzwkDINM"
      },
      "outputs": [
        {
          "output_type": "stream",
          "name": "stdout",
          "text": [
            "Top 25 features for heating fold 1 with seed 7 saved.\n",
            "Top 25 features for heating fold 2 with seed 7 saved.\n",
            "Top 25 features for heating fold 3 with seed 7 saved.\n",
            "Top 25 features for heating fold 4 with seed 7 saved.\n",
            "Top 25 features for heating fold 5 with seed 7 saved.\n"
          ]
        }
      ],
      "source": [
        "import pandas as pd\n",
        "from sklearn.ensemble import RandomForestRegressor\n",
        "\n",
        "# Function to perform feature selection\n",
        "def feature_selection(train_data, target_column, preselected_features, k=25):\n",
        "    # Separate features and target\n",
        "    X = train_data.drop(columns=[target_column, 'TIMESTAMP'], errors='ignore')  # Drop TIMESTAMP\n",
        "    y = train_data[target_column]\n",
        "\n",
        "    # Train a RandomForestRegressor model\n",
        "    rf_model = RandomForestRegressor(n_estimators=100, random_state=100)\n",
        "    rf_model.fit(X, y)\n",
        "\n",
        "    # Get feature names and their importance scores\n",
        "    feature_importances = rf_model.feature_importances_\n",
        "    feature_names = X.columns\n",
        "\n",
        "    # Combine feature names and scores into a DataFrame\n",
        "    selected_features = pd.DataFrame({\n",
        "        'Feature': feature_names,\n",
        "        'Importance': feature_importances\n",
        "    }).sort_values(by='Importance', ascending=False)\n",
        "\n",
        "    # Select the preselected features (label, T_out, RH_out)\n",
        "    preselected_df = selected_features[selected_features['Feature'].isin(preselected_features)]\n",
        "\n",
        "    # Select the remaining top features after excluding preselected ones\n",
        "    remaining_features = selected_features[~selected_features['Feature'].isin(preselected_features)]\n",
        "    top_remaining_features = remaining_features.head(k - len(preselected_features))\n",
        "\n",
        "    # Combine preselected features with the top remaining features\n",
        "    final_features = pd.concat([preselected_df, top_remaining_features])\n",
        "\n",
        "    return final_features\n",
        "\n",
        "# Perform feature selection for each fold\n",
        "target_column = 'WH_RTU_Total'\n",
        "preselected_features = ['label', 'T_out', 'RH_out']\n",
        "\n",
        "for i in range(1, 6):\n",
        "    train_data = pd.read_csv(f'heating_train_7_fold{i}.csv')\n",
        "\n",
        "    # Perform feature selection\n",
        "    top_features = feature_selection(train_data, target_column, preselected_features, k=25)\n",
        "\n",
        "    # Save top features\n",
        "    top_features.to_csv(f'heating_train_7_fold{i}_top25_features.csv', index=False)\n",
        "\n",
        "    print(f\"Top 25 features for heating fold {i} with seed 7 saved.\")\n"
      ]
    },
    {
      "cell_type": "markdown",
      "metadata": {
        "id": "yAZBPdLUDINM"
      },
      "source": [
        "prepare the heating dataset's training and test data"
      ]
    },
    {
      "cell_type": "code",
      "execution_count": null,
      "metadata": {
        "colab": {
          "base_uri": "https://localhost:8080/"
        },
        "outputId": "8e83c08c-3868-4a7f-953f-09273ce96ec2",
        "id": "QZkURa4dDINN"
      },
      "outputs": [
        {
          "output_type": "stream",
          "name": "stdout",
          "text": [
            "Filtered heating train data for fold 1 saved.\n",
            "Filtered heating test data for fold 1 saved.\n",
            "Filtered heating train data for fold 2 saved.\n",
            "Filtered heating test data for fold 2 saved.\n",
            "Filtered heating train data for fold 3 saved.\n",
            "Filtered heating test data for fold 3 saved.\n",
            "Filtered heating train data for fold 4 saved.\n",
            "Filtered heating test data for fold 4 saved.\n",
            "Filtered heating train data for fold 5 saved.\n",
            "Filtered heating test data for fold 5 saved.\n"
          ]
        }
      ],
      "source": [
        "import pandas as pd\n",
        "\n",
        "# Target variable\n",
        "target_column = 'WH_RTU_Total'\n",
        "\n",
        "for i in range(1, 6):\n",
        "    # Load the original training and test datasets for the current fold\n",
        "    train_data = pd.read_csv(f'heating_train_7_fold{i}.csv')\n",
        "    test_data = pd.read_csv(f'heating_test_7_fold{i}.csv')\n",
        "\n",
        "    # Load the top 25 features selected from the current fold\n",
        "    top_features = pd.read_csv(f'heating_train_7_fold{i}_top25_features.csv')['Feature'].tolist()\n",
        "\n",
        "    # Ensure the target column is included in the selected features\n",
        "    filtered_columns = top_features + [target_column]  # Train data does not include 'label'\n",
        "\n",
        "    # Filter the training data\n",
        "    filtered_train_data = train_data[filtered_columns]\n",
        "    filtered_train_data.to_csv(f'fold{i}_heating_filtered_train_7_data.csv', index=False)\n",
        "    print(f\"Filtered heating train data for fold {i} saved.\")\n",
        "\n",
        "    # Filter the test data (temporarily including 'label')\n",
        "    filtered_test_data = test_data[filtered_columns]\n",
        "\n",
        "    # Save all datasets\n",
        "    filtered_test_data.to_csv(f'fold{i}_heating_filtered_test_7_data.csv', index=False)\n",
        "    print(f\"Filtered heating test data for fold {i} saved.\")\n",
        "\n"
      ]
    },
    {
      "cell_type": "markdown",
      "metadata": {
        "id": "IySI1Vf-DINN"
      },
      "source": [
        "generate the mae and R2 value for the four models:linear regression, random forest ,xgboost and stacking ensemble regressor."
      ]
    },
    {
      "cell_type": "code",
      "execution_count": null,
      "metadata": {
        "colab": {
          "base_uri": "https://localhost:8080/"
        },
        "outputId": "6feb8672-0a2d-43ff-b2b9-7b3b64a420a3",
        "id": "8PSp7cFIDINN"
      },
      "outputs": [
        {
          "output_type": "stream",
          "name": "stdout",
          "text": [
            "Requirement already satisfied: pandas in /usr/local/lib/python3.10/dist-packages (2.2.2)\n",
            "Requirement already satisfied: numpy in /usr/local/lib/python3.10/dist-packages (1.26.4)\n",
            "Requirement already satisfied: scikit-learn in /usr/local/lib/python3.10/dist-packages (1.0.2)\n",
            "Requirement already satisfied: xgboost in /usr/local/lib/python3.10/dist-packages (2.1.3)\n",
            "Requirement already satisfied: python-dateutil>=2.8.2 in /usr/local/lib/python3.10/dist-packages (from pandas) (2.8.2)\n",
            "Requirement already satisfied: pytz>=2020.1 in /usr/local/lib/python3.10/dist-packages (from pandas) (2024.2)\n",
            "Requirement already satisfied: tzdata>=2022.7 in /usr/local/lib/python3.10/dist-packages (from pandas) (2024.2)\n",
            "Requirement already satisfied: scipy>=1.1.0 in /usr/local/lib/python3.10/dist-packages (from scikit-learn) (1.13.1)\n",
            "Requirement already satisfied: joblib>=0.11 in /usr/local/lib/python3.10/dist-packages (from scikit-learn) (1.4.2)\n",
            "Requirement already satisfied: threadpoolctl>=2.0.0 in /usr/local/lib/python3.10/dist-packages (from scikit-learn) (3.5.0)\n",
            "Requirement already satisfied: nvidia-nccl-cu12 in /usr/local/lib/python3.10/dist-packages (from xgboost) (2.23.4)\n",
            "Requirement already satisfied: six>=1.5 in /usr/local/lib/python3.10/dist-packages (from python-dateutil>=2.8.2->pandas) (1.17.0)\n",
            "Requirement already satisfied: scikit-learn==1.0.2 in /usr/local/lib/python3.10/dist-packages (1.0.2)\n",
            "Requirement already satisfied: numpy>=1.14.6 in /usr/local/lib/python3.10/dist-packages (from scikit-learn==1.0.2) (1.26.4)\n",
            "Requirement already satisfied: scipy>=1.1.0 in /usr/local/lib/python3.10/dist-packages (from scikit-learn==1.0.2) (1.13.1)\n",
            "Requirement already satisfied: joblib>=0.11 in /usr/local/lib/python3.10/dist-packages (from scikit-learn==1.0.2) (1.4.2)\n",
            "Requirement already satisfied: threadpoolctl>=2.0.0 in /usr/local/lib/python3.10/dist-packages (from scikit-learn==1.0.2) (3.5.0)\n",
            "Fold 1, Model Linear Regression, MAE: 3.7215, R²: 0.3357\n",
            "Fold 1, Model Random Forest, MAE: 2.9668, R²: 0.5791\n",
            "Fold 1, Model XGBoost, MAE: 2.7520, R²: 0.5881\n",
            "Fold 1, Model Stacking Regressor, MAE: 3.0932, R²: 0.5587\n",
            "Fold 2, Model Linear Regression, MAE: 3.7249, R²: 0.4001\n",
            "Fold 2, Model Random Forest, MAE: 2.8925, R²: 0.6099\n",
            "Fold 2, Model XGBoost, MAE: 2.9534, R²: 0.5612\n",
            "Fold 2, Model Stacking Regressor, MAE: 2.8972, R²: 0.6105\n",
            "Fold 3, Model Linear Regression, MAE: 3.5472, R²: 0.3820\n",
            "Fold 3, Model Random Forest, MAE: 2.9867, R²: 0.5368\n",
            "Fold 3, Model XGBoost, MAE: 2.9043, R²: 0.5216\n",
            "Fold 3, Model Stacking Regressor, MAE: 3.0106, R²: 0.5441\n",
            "Fold 4, Model Linear Regression, MAE: 3.4986, R²: 0.4806\n",
            "Fold 4, Model Random Forest, MAE: 2.9301, R²: 0.6209\n",
            "Fold 4, Model XGBoost, MAE: 2.8631, R²: 0.6110\n",
            "Fold 4, Model Stacking Regressor, MAE: 3.0730, R²: 0.6066\n",
            "Fold 5, Model Linear Regression, MAE: 3.6487, R²: 0.3616\n",
            "Fold 5, Model Random Forest, MAE: 2.9072, R²: 0.5871\n",
            "Fold 5, Model XGBoost, MAE: 2.8143, R²: 0.5848\n",
            "Fold 5, Model Stacking Regressor, MAE: 3.0404, R²: 0.5649\n",
            "\n",
            "Summary Results for All Models (heating Data):\n",
            "                         MAE        R²\n",
            "Model                                 \n",
            "XGBoost             2.857432  0.573337\n",
            "Random Forest       2.936654  0.586782\n",
            "Stacking Regressor  3.022882  0.576942\n",
            "Linear Regression   3.628181  0.392014\n"
          ]
        }
      ],
      "source": [
        "!pip install pandas numpy scikit-learn xgboost\n",
        "!pip install scikit-learn==1.0.2\n",
        "from sklearn.model_selection import GridSearchCV\n",
        "from xgboost import XGBRegressor\n",
        "import pandas as pd\n",
        "from sklearn.metrics import mean_absolute_error, r2_score\n",
        "from sklearn.ensemble import GradientBoostingRegressor\n",
        "import pandas as pd\n",
        "import numpy as np\n",
        "from sklearn.linear_model import LinearRegression\n",
        "from sklearn.ensemble import RandomForestRegressor\n",
        "from xgboost import XGBRegressor\n",
        "from sklearn.ensemble import StackingRegressor\n",
        "from sklearn.metrics import mean_absolute_error, r2_score\n",
        "# Placeholder for storing results\n",
        "results = []\n",
        "\n",
        "# Loop through each fold\n",
        "for i in range(1, 6):\n",
        "    # Load filtered training and test datasets for heating data\n",
        "    train_data = pd.read_csv(f'fold{i}_heating_filtered_train_7_data.csv')\n",
        "    test_data = pd.read_csv(f'fold{i}_heating_filtered_test_7_data.csv')\n",
        "\n",
        "    # Separate features and target for training and testing data\n",
        "    target_column = 'WH_RTU_Total'\n",
        "    X_train = train_data.drop(columns=[target_column])\n",
        "    y_train = train_data[target_column]\n",
        "    X_test = test_data.drop(columns=[target_column])\n",
        "    y_test = test_data[target_column]\n",
        "\n",
        "    # Define models with default parameters\n",
        "    models = {\n",
        "        'Linear Regression': LinearRegression(),\n",
        "        'Random Forest': RandomForestRegressor(random_state=100),\n",
        "        'XGBoost': XGBRegressor(random_state=100),\n",
        "        'Stacking Regressor': StackingRegressor(\n",
        "            estimators=[\n",
        "                ('lr', LinearRegression()),\n",
        "                ('rf', RandomForestRegressor(random_state=100)),\n",
        "                ('xgb', XGBRegressor(random_state=100))\n",
        "            ]\n",
        "        )\n",
        "    }\n",
        "\n",
        "    # Train and evaluate each model\n",
        "    for model_name, model in models.items():\n",
        "        # Train model\n",
        "        model.fit(X_train, y_train)\n",
        "\n",
        "        # Predict on test data\n",
        "        y_pred = model.predict(X_test)\n",
        "\n",
        "        # Calculate MAE and R²\n",
        "        mae = mean_absolute_error(y_test, y_pred)\n",
        "        r2 = r2_score(y_test, y_pred)\n",
        "\n",
        "        # Store results\n",
        "        results.append({\n",
        "            'Fold': i,\n",
        "            'Seed': 7,\n",
        "            'Model': model_name,\n",
        "            'Dataset': 'heating',\n",
        "            'MAE': mae,\n",
        "            'R²': r2,\n",
        "            'Experiment':2\n",
        "        })\n",
        "\n",
        "        print(f\"Fold {i}, Model {model_name}, MAE: {mae:.4f}, R²: {r2:.4f}\")\n",
        "\n",
        "# Convert results to a DataFrame\n",
        "results_df = pd.DataFrame(results)\n",
        "\n",
        "# Save results to CSV\n",
        "results_df.to_csv('heating_data_results_mae_r2.csv', index=False)\n",
        "\n",
        "# Display overall summary\n",
        "print(\"\\nSummary Results for All Models (heating Data):\")\n",
        "summary = results_df.groupby('Model').agg({'MAE': 'mean', 'R²': 'mean'}).sort_values(by='MAE')\n",
        "print(summary)\n"
      ]
    },
    {
      "cell_type": "markdown",
      "metadata": {
        "id": "qy6WhflKDINO"
      },
      "source": [
        "## Random Forest"
      ]
    },
    {
      "cell_type": "markdown",
      "metadata": {
        "id": "1XPjaG54DINO"
      },
      "source": [
        "### hyper parameter tuning for heating random forest"
      ]
    },
    {
      "cell_type": "code",
      "execution_count": null,
      "metadata": {
        "colab": {
          "base_uri": "https://localhost:8080/"
        },
        "outputId": "ead1f2d6-7ec3-41a3-b34a-1ac2bbe0e0b7",
        "id": "GFCxCmRdDINO"
      },
      "outputs": [
        {
          "output_type": "stream",
          "name": "stdout",
          "text": [
            "Fold 1, Model Random Forest, Dataset heating, MAE: 2.9668, R²: 0.5791, Best Params: {'max_depth': None, 'min_samples_split': 2, 'n_estimators': 100}\n",
            "Fold 2, Model Random Forest, Dataset heating, MAE: 2.9214, R²: 0.6061, Best Params: {'max_depth': None, 'min_samples_split': 5, 'n_estimators': 100}\n",
            "Fold 3, Model Random Forest, Dataset heating, MAE: 2.9830, R²: 0.5358, Best Params: {'max_depth': 20, 'min_samples_split': 2, 'n_estimators': 150}\n",
            "Fold 4, Model Random Forest, Dataset heating, MAE: 2.9301, R²: 0.6209, Best Params: {'max_depth': None, 'min_samples_split': 2, 'n_estimators': 100}\n",
            "Fold 5, Model Random Forest, Dataset heating, MAE: 2.9907, R²: 0.5707, Best Params: {'max_depth': 10, 'min_samples_split': 2, 'n_estimators': 100}\n",
            "\n",
            "Summary Results for Random Forest:\n",
            "           Model  Dataset       MAE        R²\n",
            "0  Random Forest  heating  2.958407  0.582532\n"
          ]
        }
      ],
      "source": [
        "import pandas as pd\n",
        "from sklearn.model_selection import GridSearchCV\n",
        "from sklearn.ensemble import RandomForestRegressor\n",
        "from sklearn.metrics import mean_absolute_error, r2_score\n",
        "\n",
        "# Placeholder for storing results\n",
        "results_rf = []\n",
        "\n",
        "# Define hyperparameter grid for Random Forest\n",
        "param_grid_rf = {\n",
        "    'n_estimators': [50, 100, 150],\n",
        "    'max_depth': [10, 20, None],\n",
        "    'min_samples_split': [2, 5, 10],\n",
        "}\n",
        "\n",
        "for i in range(1, 6):\n",
        "    # Load datasets\n",
        "    train_data = pd.read_csv(f'fold{i}_heating_filtered_train_7_data.csv')\n",
        "    test_data = pd.read_csv(f'fold{i}_heating_filtered_test_7_data.csv')\n",
        "\n",
        "    # Split features and target\n",
        "    X_train = train_data.drop(columns=['WH_RTU_Total'])\n",
        "    y_train = train_data['WH_RTU_Total']\n",
        "\n",
        "    # Initialize Random Forest and perform GridSearchCV\n",
        "    rf = RandomForestRegressor(random_state=100)\n",
        "    grid_search_rf = GridSearchCV(rf, param_grid_rf, cv=3, scoring='neg_mean_absolute_error', n_jobs=-1)\n",
        "    grid_search_rf.fit(X_train, y_train)\n",
        "\n",
        "    # Get the best model and hyperparameters\n",
        "    best_rf = grid_search_rf.best_estimator_\n",
        "    best_params = grid_search_rf.best_params_\n",
        "\n",
        "    # Split test features and target\n",
        "    X_test = test_data.drop(columns=['WH_RTU_Total'])\n",
        "    y_test = test_data['WH_RTU_Total']\n",
        "\n",
        "    # Predict and calculate metrics\n",
        "    y_pred = best_rf.predict(X_test)\n",
        "    mae = mean_absolute_error(y_test, y_pred)\n",
        "    r2 = r2_score(y_test, y_pred)\n",
        "\n",
        "    # Store results\n",
        "    results_rf.append({\n",
        "        'Fold': i,\n",
        "        'Seed':7,\n",
        "        'Model': 'Random Forest',\n",
        "        'Dataset': 'heating',\n",
        "        'MAE': mae,\n",
        "        'R²': r2,\n",
        "        'Best Params': best_params,\n",
        "        'Experiment': 2\n",
        "    })\n",
        "\n",
        "    print(f\"Fold {i}, Model Random Forest, Dataset heating, MAE: {mae:.4f}, R²: {r2:.4f}, Best Params: {best_params}\")\n",
        "\n",
        "# Convert results to DataFrame\n",
        "results_rf_df = pd.DataFrame(results_rf)\n",
        "\n",
        "# Save detailed results to CSV\n",
        "results_rf_df.to_csv('random_forest_7_heating_hyperparameter_results_detailed.csv', index=False)\n",
        "\n",
        "# Display overall summary\n",
        "print(\"\\nSummary Results for Random Forest:\")\n",
        "summary_rf = results_rf_df.groupby(['Model', 'Dataset']).agg({'MAE': 'mean', 'R²': 'mean'}).reset_index()\n",
        "print(summary_rf)\n",
        "\n",
        "# Save summary to CSV\n",
        "summary_rf.to_csv('random_forest_7_heating_summary_results.csv', index=False)\n"
      ]
    },
    {
      "cell_type": "markdown",
      "metadata": {
        "id": "WTliZY-SDINO"
      },
      "source": [
        "### Feature Importance for Random Forest"
      ]
    },
    {
      "cell_type": "code",
      "execution_count": null,
      "metadata": {
        "colab": {
          "base_uri": "https://localhost:8080/"
        },
        "outputId": "a6dac7f2-dcb0-461e-aa2c-c0ee12709a90",
        "id": "ERasBc1IDINP"
      },
      "outputs": [
        {
          "output_type": "stream",
          "name": "stdout",
          "text": [
            "Feature importance for seed 7 and experiment 2 has been successfully saved.\n"
          ]
        }
      ],
      "source": [
        "import pandas as pd\n",
        "from sklearn.ensemble import RandomForestRegressor\n",
        "\n",
        "# Placeholder for feature importance results\n",
        "feature_importance_results = []\n",
        "\n",
        "# Fixed seed value\n",
        "\n",
        "experiment = 2  # Experiment number\n",
        "\n",
        "# Section 1: Calculate Feature Importance\n",
        "for fold in range(1, 6):\n",
        "    # Load training data\n",
        "    train_data = pd.read_csv(f'fold{fold}_heating_filtered_train_7_data.csv')\n",
        "    X_train = train_data.drop(columns=['WH_RTU_Total'])\n",
        "    y_train = train_data['WH_RTU_Total']\n",
        "\n",
        "    # Load the best model parameters for the current fold\n",
        "    results_rf_df = pd.read_csv('random_forest_7_heating_hyperparameter_results_detailed.csv')\n",
        "    best_params = results_rf_df.loc[(results_rf_df['Fold'] == fold) & (results_rf_df['Dataset'] == 'heating'), 'Best Params'].iloc[0]\n",
        "    best_params_dict = eval(best_params)\n",
        "\n",
        "    # Train Random Forest model with best parameters\n",
        "    best_rf = RandomForestRegressor(random_state=100, **best_params_dict)\n",
        "    best_rf.fit(X_train, y_train)\n",
        "\n",
        "    # Calculate feature importance\n",
        "    feature_importances = best_rf.feature_importances_\n",
        "    feature_names = X_train.columns\n",
        "    importance_df = pd.DataFrame({\n",
        "        'Feature': feature_names,\n",
        "        'Importance': feature_importances,\n",
        "        'Fold': fold,\n",
        "        'Seed': 7,  # Add seed column\n",
        "        'Model': 'Random Forest',\n",
        "        'Experiment': experiment  # Add experiment column\n",
        "    })\n",
        "    feature_importance_results.append(importance_df)\n",
        "\n",
        "# Combine and save feature importance results\n",
        "feature_importance_combined = pd.concat(feature_importance_results, ignore_index=True)\n",
        "feature_importance_combined.to_csv(f'random_forest_7_heating_feature_importance_experiment_{experiment}.csv', index=False)\n",
        "\n",
        "print(f\"Feature importance for seed 7 and experiment {experiment} has been successfully saved.\")"
      ]
    },
    {
      "cell_type": "markdown",
      "metadata": {
        "id": "0pVfvqX8DINP"
      },
      "source": [
        "### residual，predict，label，T_OUT and RH_OUT"
      ]
    },
    {
      "cell_type": "code",
      "execution_count": null,
      "metadata": {
        "colab": {
          "base_uri": "https://localhost:8080/"
        },
        "outputId": "7df9f423-beeb-40de-b46d-1730369a5d39",
        "id": "WiVDDnlWDINP"
      },
      "outputs": [
        {
          "output_type": "stream",
          "name": "stdout",
          "text": [
            "Processed fold 1.\n",
            "Processed fold 2.\n",
            "Processed fold 3.\n",
            "Processed fold 4.\n",
            "Processed fold 5.\n",
            "All folds processed and merged data saved successfully to random_forest_7_heating_residual.csv.\n"
          ]
        }
      ],
      "source": [
        "import pandas as pd\n",
        "from sklearn.ensemble import RandomForestRegressor\n",
        "\n",
        "# Fixed seed value\n",
        "\n",
        "experiment = 2  # Experiment number\n",
        "merged_data = []  # Placeholder for storing final merged data\n",
        "\n",
        "# Loop through each fold\n",
        "for fold in range(1, 6):\n",
        "    # Load training data\n",
        "    train_data = pd.read_csv(f'fold{fold}_heating_filtered_train_7_data.csv')\n",
        "    X_train = train_data.drop(columns=['WH_RTU_Total'])\n",
        "    y_train = train_data['WH_RTU_Total']\n",
        "\n",
        "    # Load the best model parameters for the current fold\n",
        "    best_params_df = pd.read_csv('random_forest_7_heating_hyperparameter_results_detailed.csv')\n",
        "    best_params = best_params_df.loc[(best_params_df['Fold'] == fold) & (best_params_df['Dataset'] == 'heating'), 'Best Params'].iloc[0]\n",
        "    best_params_dict = eval(best_params)\n",
        "\n",
        "    # Train Random Forest model with best parameters\n",
        "    best_rf = RandomForestRegressor(random_state=100, **best_params_dict)\n",
        "    best_rf.fit(X_train, y_train)\n",
        "\n",
        "    # Load test data\n",
        "    test_data = pd.read_csv(f'fold{fold}_heating_filtered_test_7_data.csv')\n",
        "    test_data['Label'] = 'heating'  # Dynamically add label based on dataset type\n",
        "\n",
        "    # Split features and target\n",
        "    X_test = test_data.drop(columns=['WH_RTU_Total', 'Label'])\n",
        "    y_test = test_data['WH_RTU_Total']\n",
        "\n",
        "    # Predict and calculate residuals\n",
        "    y_pred = best_rf.predict(X_test)\n",
        "    test_data['Predicted'] = y_pred\n",
        "    test_data['Residual'] = test_data['WH_RTU_Total'] - test_data['Predicted']\n",
        "\n",
        "    # Select and rename required columns\n",
        "    if 'T_out' in test_data.columns and 'RH_out' in test_data.columns:\n",
        "        selected_data = test_data[['WH_RTU_Total', 'Predicted', 'Residual', 'T_out', 'RH_out', 'Label']].rename(columns={\n",
        "            'WH_RTU_Total': 'Actual'\n",
        "        })\n",
        "    else:\n",
        "        missing_columns = [col for col in ['T_out', 'RH_out'] if col not in test_data.columns]\n",
        "        raise ValueError(f\"{', '.join(missing_columns)} is/are missing in test data for fold {fold}\")\n",
        "\n",
        "    # Add fold, seed, and model columns\n",
        "    selected_data['Fold'] = fold\n",
        "    selected_data['Seed'] = 7\n",
        "    selected_data['Model'] = 'Random Forest'\n",
        "    selected_data['Experiment'] = experiment\n",
        "\n",
        "    # Append to final merged data\n",
        "    merged_data.append(selected_data)\n",
        "    print(f\"Processed fold {fold}.\")\n",
        "\n",
        "# Combine all folds into a single DataFrame\n",
        "merged_final_data = pd.concat(merged_data, ignore_index=True)\n",
        "\n",
        "# Save the merged data\n",
        "output_file = 'random_forest_7_heating_residual.csv'\n",
        "merged_final_data.to_csv(output_file, index=False)\n",
        "\n",
        "print(f\"All folds processed and merged data saved successfully to {output_file}.\")\n"
      ]
    },
    {
      "cell_type": "markdown",
      "metadata": {
        "id": "cOcVzSHRDINR"
      },
      "source": [
        "## XGBOOST"
      ]
    },
    {
      "cell_type": "markdown",
      "metadata": {
        "id": "ULBJXELeDINR"
      },
      "source": [
        "### hyper parameter tuning for heating XGBoost"
      ]
    },
    {
      "cell_type": "code",
      "execution_count": null,
      "metadata": {
        "colab": {
          "base_uri": "https://localhost:8080/"
        },
        "outputId": "35578527-0308-4303-9bf9-27114647104c",
        "id": "Om7L9LdsDINS"
      },
      "outputs": [
        {
          "output_type": "stream",
          "name": "stdout",
          "text": [
            "Requirement already satisfied: pandas in /usr/local/lib/python3.10/dist-packages (2.2.2)\n",
            "Requirement already satisfied: numpy in /usr/local/lib/python3.10/dist-packages (1.26.4)\n",
            "Requirement already satisfied: scikit-learn in /usr/local/lib/python3.10/dist-packages (1.0.2)\n",
            "Requirement already satisfied: xgboost in /usr/local/lib/python3.10/dist-packages (2.1.3)\n",
            "Requirement already satisfied: python-dateutil>=2.8.2 in /usr/local/lib/python3.10/dist-packages (from pandas) (2.8.2)\n",
            "Requirement already satisfied: pytz>=2020.1 in /usr/local/lib/python3.10/dist-packages (from pandas) (2024.2)\n",
            "Requirement already satisfied: tzdata>=2022.7 in /usr/local/lib/python3.10/dist-packages (from pandas) (2024.2)\n",
            "Requirement already satisfied: scipy>=1.1.0 in /usr/local/lib/python3.10/dist-packages (from scikit-learn) (1.13.1)\n",
            "Requirement already satisfied: joblib>=0.11 in /usr/local/lib/python3.10/dist-packages (from scikit-learn) (1.4.2)\n",
            "Requirement already satisfied: threadpoolctl>=2.0.0 in /usr/local/lib/python3.10/dist-packages (from scikit-learn) (3.5.0)\n",
            "Requirement already satisfied: nvidia-nccl-cu12 in /usr/local/lib/python3.10/dist-packages (from xgboost) (2.23.4)\n",
            "Requirement already satisfied: six>=1.5 in /usr/local/lib/python3.10/dist-packages (from python-dateutil>=2.8.2->pandas) (1.17.0)\n",
            "Requirement already satisfied: scikit-learn==1.0.2 in /usr/local/lib/python3.10/dist-packages (1.0.2)\n",
            "Requirement already satisfied: numpy>=1.14.6 in /usr/local/lib/python3.10/dist-packages (from scikit-learn==1.0.2) (1.26.4)\n",
            "Requirement already satisfied: scipy>=1.1.0 in /usr/local/lib/python3.10/dist-packages (from scikit-learn==1.0.2) (1.13.1)\n",
            "Requirement already satisfied: joblib>=0.11 in /usr/local/lib/python3.10/dist-packages (from scikit-learn==1.0.2) (1.4.2)\n",
            "Requirement already satisfied: threadpoolctl>=2.0.0 in /usr/local/lib/python3.10/dist-packages (from scikit-learn==1.0.2) (3.5.0)\n",
            "Fold 1, Model XGBoost, Dataset heating, MAE: 2.7471, R²: 0.6126, Best Params: {'learning_rate': 0.1, 'max_depth': 6, 'n_estimators': 150, 'subsample': 0.8}\n",
            "Fold 2, Model XGBoost, Dataset heating, MAE: 2.8602, R²: 0.6015, Best Params: {'learning_rate': 0.1, 'max_depth': 6, 'n_estimators': 150, 'subsample': 1.0}\n",
            "Fold 3, Model XGBoost, Dataset heating, MAE: 2.8538, R²: 0.5510, Best Params: {'learning_rate': 0.1, 'max_depth': 6, 'n_estimators': 150, 'subsample': 0.8}\n",
            "Fold 4, Model XGBoost, Dataset heating, MAE: 2.7640, R²: 0.6454, Best Params: {'learning_rate': 0.1, 'max_depth': 6, 'n_estimators': 100, 'subsample': 0.8}\n",
            "Fold 5, Model XGBoost, Dataset heating, MAE: 2.9334, R²: 0.5651, Best Params: {'learning_rate': 0.2, 'max_depth': 3, 'n_estimators': 150, 'subsample': 1.0}\n",
            "\n",
            "Summary Results for XGBoost:\n",
            "     Model  Dataset      MAE        R²\n",
            "0  XGBoost  heating  2.83169  0.595127\n"
          ]
        }
      ],
      "source": [
        "!pip install pandas numpy scikit-learn xgboost\n",
        "!pip install scikit-learn==1.0.2\n",
        "from sklearn.model_selection import GridSearchCV\n",
        "from xgboost import XGBRegressor\n",
        "import pandas as pd\n",
        "from sklearn.metrics import mean_absolute_error, r2_score\n",
        "\n",
        "# Placeholder for storing results\n",
        "results_xgb = []\n",
        "experiment = 2  # Experiment number\n",
        "# Define hyperparameter grid for XGBoost\n",
        "param_grid_xgb = {\n",
        "    'n_estimators': [50, 100, 150],\n",
        "    'max_depth': [3, 6, 9],\n",
        "    'learning_rate': [0.01, 0.1, 0.2],\n",
        "    'subsample': [0.8, 1.0]\n",
        "}\n",
        "\n",
        "for i in range(1, 6):\n",
        "    # Load datasets\n",
        "    train_data = pd.read_csv(f'fold{i}_heating_filtered_train_7_data.csv')\n",
        "    test_data = pd.read_csv(f'fold{i}_heating_filtered_test_7_data.csv')\n",
        "\n",
        "    # Split features and target\n",
        "    X_train = train_data.drop(columns=['WH_RTU_Total'])\n",
        "    y_train = train_data['WH_RTU_Total']\n",
        "\n",
        "    # Initialize XGBoost and perform GridSearchCV\n",
        "    xgb = XGBRegressor(random_state=100)\n",
        "    grid_search_xgb = GridSearchCV(xgb, param_grid_xgb, cv=3, scoring='neg_mean_absolute_error', n_jobs=-1)\n",
        "    grid_search_xgb.fit(X_train, y_train)\n",
        "\n",
        "    # Get the best model and hyperparameters\n",
        "    best_xgb = grid_search_xgb.best_estimator_\n",
        "    best_params = grid_search_xgb.best_params_\n",
        "\n",
        "    # Split test features and target\n",
        "    X_test = test_data.drop(columns=['WH_RTU_Total'])\n",
        "    y_test = test_data['WH_RTU_Total']\n",
        "\n",
        "    # Predict and calculate metrics\n",
        "    y_pred = best_xgb.predict(X_test)\n",
        "    mae = mean_absolute_error(y_test, y_pred)\n",
        "    r2 = r2_score(y_test, y_pred)\n",
        "\n",
        "    # Store results\n",
        "    results_xgb.append({\n",
        "        'Fold': i,\n",
        "        'Seed': 7,\n",
        "        'Model': 'XGBoost',\n",
        "        'Dataset': 'heating',\n",
        "        'MAE': mae,\n",
        "        'R²': r2,\n",
        "        'Best Params': best_params,\n",
        "        'Experiment' : experiment\n",
        "    })\n",
        "\n",
        "\n",
        "    print(f\"Fold {i}, Model XGBoost, Dataset heating, MAE: {mae:.4f}, R²: {r2:.4f}, Best Params: {best_params}\")\n",
        "\n",
        "# Convert results to DataFrame\n",
        "results_xgb_df = pd.DataFrame(results_xgb)\n",
        "\n",
        "# Save detailed results to CSV\n",
        "results_xgb_df.to_csv('xgboost_7_heating_hyperparameter_results_detailed.csv', index=False)\n",
        "\n",
        "# Display overall summary\n",
        "print(\"\\nSummary Results for XGBoost:\")\n",
        "summary_xgb = results_xgb_df.groupby(['Model', 'Dataset']).agg({'MAE': 'mean', 'R²': 'mean'}).reset_index()\n",
        "print(summary_xgb)\n",
        "\n",
        "# Save summary to CSV\n",
        "summary_xgb.to_csv('xgboost_7_heating_summary_results.csv', index=False)\n"
      ]
    },
    {
      "cell_type": "markdown",
      "metadata": {
        "id": "5w2EzdepDINS"
      },
      "source": [
        "### Feature Importance"
      ]
    },
    {
      "cell_type": "code",
      "execution_count": null,
      "metadata": {
        "colab": {
          "base_uri": "https://localhost:8080/"
        },
        "outputId": "995fe00a-c6bc-4a4a-8d34-34d40617919a",
        "id": "lBTi3ADMDINT"
      },
      "outputs": [
        {
          "output_type": "stream",
          "name": "stdout",
          "text": [
            "Feature importance for seed 7 and experiment 2 has been successfully saved.\n"
          ]
        }
      ],
      "source": [
        "import pandas as pd\n",
        "from xgboost import XGBRegressor\n",
        "\n",
        "# Placeholder for feature importance results\n",
        "feature_importance_results = []\n",
        "\n",
        "# Fixed random seed\n",
        "\n",
        "experiment = 2  # Experiment number\n",
        "\n",
        "# Section 1: Calculate Feature Importance\n",
        "for fold in range(1, 6):\n",
        "    # Load training data\n",
        "    train_data = pd.read_csv(f'fold{fold}_heating_filtered_train_7_data.csv')\n",
        "    X_train = train_data.drop(columns=['WH_RTU_Total'])\n",
        "    y_train = train_data['WH_RTU_Total']\n",
        "\n",
        "    # Extract the best parameters from the results file\n",
        "    results_xgb_df = pd.read_csv('xgboost_7_heating_hyperparameter_results_detailed.csv')\n",
        "    best_params = results_xgb_df.loc[\n",
        "        (results_xgb_df['Fold'] == fold) & (results_xgb_df['Dataset'] == 'heating'),\n",
        "        'Best Params'\n",
        "    ].iloc[0]\n",
        "    best_params_dict = eval(best_params)  # Parse string into dictionary\n",
        "\n",
        "    # Initialize and train the model with the best parameters\n",
        "    best_xgb = XGBRegressor(random_state=100, **best_params_dict)\n",
        "    best_xgb.fit(X_train, y_train)\n",
        "\n",
        "    # Calculate feature importance\n",
        "    feature_importances = best_xgb.feature_importances_\n",
        "    feature_names = X_train.columns\n",
        "    importance_df = pd.DataFrame({\n",
        "        'Feature': feature_names,\n",
        "        'Importance': feature_importances,\n",
        "        'Fold': fold,\n",
        "        'Seed': 7,  # Add seed column\n",
        "        'Model': 'XGBoost',\n",
        "        'Experiment': experiment  # Add experiment column\n",
        "    })\n",
        "    feature_importance_results.append(importance_df)\n",
        "\n",
        "# Combine all feature importance results\n",
        "feature_importance_combined = pd.concat(feature_importance_results, ignore_index=True)\n",
        "\n",
        "# Save the feature importance results to a file\n",
        "feature_importance_combined.to_csv(f'xgboost_7_heating_feature_importance_experiment_{experiment}.csv', index=False)\n",
        "\n",
        "print(f\"Feature importance for seed 7 and experiment {experiment} has been successfully saved.\")"
      ]
    },
    {
      "cell_type": "markdown",
      "metadata": {
        "id": "Mtk1rEMvDINT"
      },
      "source": [
        "### Residual analysis"
      ]
    },
    {
      "cell_type": "code",
      "execution_count": null,
      "metadata": {
        "colab": {
          "base_uri": "https://localhost:8080/"
        },
        "outputId": "abe69bc5-cd3f-4021-842e-fa3bb2b2ea13",
        "id": "SWkU7sHkDINT"
      },
      "outputs": [
        {
          "output_type": "stream",
          "name": "stdout",
          "text": [
            "Processed fold 1.\n",
            "Processed fold 2.\n",
            "Processed fold 3.\n",
            "Processed fold 4.\n",
            "Processed fold 5.\n",
            "All folds processed and merged data saved successfully to xgboost_7_heating_residual.csv.\n"
          ]
        }
      ],
      "source": [
        "import pandas as pd\n",
        "from xgboost import XGBRegressor\n",
        "\n",
        "\n",
        "experiment = 2  # Experiment number\n",
        "merged_data = []  # Placeholder for storing final merged data\n",
        "\n",
        "# Loop through each fold\n",
        "for fold in range(1, 6):\n",
        "    # Load training data\n",
        "    train_data = pd.read_csv(f'fold{fold}_heating_filtered_train_7_data.csv')\n",
        "    X_train = train_data.drop(columns=['WH_RTU_Total'])\n",
        "    y_train = train_data['WH_RTU_Total']\n",
        "\n",
        "    # Load the best model parameters for the current fold\n",
        "    best_params_df = pd.read_csv('xgboost_7_heating_hyperparameter_results_detailed.csv')\n",
        "    best_params = best_params_df.loc[(best_params_df['Fold'] == fold) & (best_params_df['Dataset'] == 'heating'), 'Best Params'].iloc[0]\n",
        "    best_params_dict = eval(best_params)\n",
        "\n",
        "    # Train XGBoost model with best parameters\n",
        "    best_xgb = XGBRegressor(random_state=100, **best_params_dict)\n",
        "    best_xgb.fit(X_train, y_train)\n",
        "\n",
        "    # Load test data\n",
        "    test_data = pd.read_csv(f'fold{fold}_heating_filtered_test_7_data.csv')\n",
        "    test_data['Label'] = 'heating'  # Dynamically add label based on dataset type\n",
        "\n",
        "    # Split features and target\n",
        "    X_test = test_data.drop(columns=['WH_RTU_Total', 'Label'])\n",
        "    y_test = test_data['WH_RTU_Total']\n",
        "\n",
        "    # Predict and calculate residuals\n",
        "    y_pred = best_xgb.predict(X_test)\n",
        "    test_data['Predicted'] = y_pred\n",
        "    test_data['Residual'] = test_data['WH_RTU_Total'] - test_data['Predicted']\n",
        "\n",
        "    # Select and rename required columns\n",
        "    if 'T_out' in test_data.columns and 'RH_out' in test_data.columns:\n",
        "        selected_data = test_data[['WH_RTU_Total', 'Predicted', 'Residual', 'T_out', 'RH_out', 'Label']].rename(columns={\n",
        "            'WH_RTU_Total': 'Actual'\n",
        "        })\n",
        "    else:\n",
        "        missing_columns = [col for col in ['T_out', 'RH_out'] if col not in test_data.columns]\n",
        "        raise ValueError(f\"{', '.join(missing_columns)} is/are missing in test data for fold {fold}\")\n",
        "\n",
        "    # Add fold, seed, and model columns\n",
        "    selected_data['Fold'] = fold\n",
        "    selected_data['Seed'] = 7\n",
        "    selected_data['Model'] = 'XGBoost'\n",
        "    selected_data['Experiment'] = experiment\n",
        "\n",
        "    # Append to final merged data\n",
        "    merged_data.append(selected_data)\n",
        "    print(f\"Processed fold {fold}.\")\n",
        "\n",
        "# Combine all folds into a single DataFrame\n",
        "merged_final_data = pd.concat(merged_data, ignore_index=True)\n",
        "\n",
        "# Save the merged data\n",
        "output_file = 'xgboost_7_heating_residual.csv'\n",
        "merged_final_data.to_csv(output_file, index=False)\n",
        "\n",
        "print(f\"All folds processed and merged data saved successfully to {output_file}.\")\n"
      ]
    },
    {
      "cell_type": "markdown",
      "metadata": {
        "id": "oZ81VcOpDINT"
      },
      "source": [
        "## Stacking Regressor"
      ]
    },
    {
      "cell_type": "markdown",
      "metadata": {
        "id": "qKcY0Z2wDINU"
      },
      "source": [
        "### hyper parameter tuning for heating Stacking Regressor"
      ]
    },
    {
      "cell_type": "code",
      "execution_count": null,
      "metadata": {
        "colab": {
          "base_uri": "https://localhost:8080/"
        },
        "outputId": "79f97de9-8884-466c-bc57-61b2246d8153",
        "id": "10TYJ-9dDINU"
      },
      "outputs": [
        {
          "output_type": "stream",
          "name": "stdout",
          "text": [
            "Fold 1, Model Stacking Regressor, Dataset heating, MAE: 2.9237, R²: 0.5916, Best Params: {'final_estimator__fit_intercept': False, 'gb__learning_rate': 0.1, 'gb__max_depth': 6, 'rf__max_depth': 20, 'rf__n_estimators': 100}\n",
            "Fold 2, Model Stacking Regressor, Dataset heating, MAE: 2.8711, R²: 0.6137, Best Params: {'final_estimator__fit_intercept': False, 'gb__learning_rate': 0.1, 'gb__max_depth': 6, 'rf__max_depth': 20, 'rf__n_estimators': 50}\n",
            "Fold 3, Model Stacking Regressor, Dataset heating, MAE: 3.0330, R²: 0.5331, Best Params: {'final_estimator__fit_intercept': False, 'gb__learning_rate': 0.1, 'gb__max_depth': 3, 'rf__max_depth': 20, 'rf__n_estimators': 50}\n",
            "Fold 4, Model Stacking Regressor, Dataset heating, MAE: 2.8964, R²: 0.6283, Best Params: {'final_estimator__fit_intercept': False, 'gb__learning_rate': 0.1, 'gb__max_depth': 6, 'rf__max_depth': 20, 'rf__n_estimators': 50}\n",
            "Fold 5, Model Stacking Regressor, Dataset heating, MAE: 2.9554, R²: 0.5787, Best Params: {'final_estimator__fit_intercept': False, 'gb__learning_rate': 0.1, 'gb__max_depth': 6, 'rf__max_depth': 10, 'rf__n_estimators': 100}\n",
            "\n",
            "Summary Results for Stacking Regressor:\n",
            "                Model  Dataset       MAE        R²\n",
            "0  Stacking Regressor  heating  2.935906  0.589098\n"
          ]
        }
      ],
      "source": [
        "import pandas as pd\n",
        "from sklearn.model_selection import GridSearchCV\n",
        "from sklearn.ensemble import StackingRegressor\n",
        "from sklearn.linear_model import LinearRegression\n",
        "from sklearn.ensemble import RandomForestRegressor, GradientBoostingRegressor\n",
        "from sklearn.metrics import mean_absolute_error, r2_score\n",
        "\n",
        "# Placeholder for storing results\n",
        "results_stacking = []\n",
        "\n",
        "experiment = 2  # Experiment number\n",
        "# Define hyperparameter grid for Stacking Regressor\n",
        "param_grid_stacking = {\n",
        "    'final_estimator__fit_intercept': [True, False],  # Meta-model parameter (LinearRegression)\n",
        "    'rf__n_estimators': [50, 100],                   # Base model: Random Forest\n",
        "    'rf__max_depth': [10, 20],                       # Base model: Random Forest\n",
        "    'gb__learning_rate': [0.01, 0.1],                # Base model: Gradient Boosting\n",
        "    'gb__max_depth': [3, 6]                          # Base model: Gradient Boosting\n",
        "}\n",
        "\n",
        "for i in range(1, 6):\n",
        "    # Load datasets\n",
        "    train_data = pd.read_csv(f'fold{i}_heating_filtered_train_7_data.csv')\n",
        "    test_data = pd.read_csv(f'fold{i}_heating_filtered_test_7_data.csv')\n",
        "\n",
        "    # Split features and target\n",
        "    X_train = train_data.drop(columns=['WH_RTU_Total'])\n",
        "    y_train = train_data['WH_RTU_Total']\n",
        "\n",
        "    # Define base models and Stacking Regressor\n",
        "    base_models = [\n",
        "        ('rf', RandomForestRegressor(random_state=100)),\n",
        "        ('gb', GradientBoostingRegressor(random_state=100))\n",
        "    ]\n",
        "    meta_model = LinearRegression()\n",
        "    stacking = StackingRegressor(estimators=base_models, final_estimator=meta_model)\n",
        "\n",
        "    # Perform GridSearchCV on the Stacking Regressor\n",
        "    grid_search_stacking = GridSearchCV(stacking, param_grid_stacking, cv=3, scoring='neg_mean_absolute_error', n_jobs=-1)\n",
        "    grid_search_stacking.fit(X_train, y_train)\n",
        "\n",
        "    # Get the best model and hyperparameters\n",
        "    best_stacking = grid_search_stacking.best_estimator_\n",
        "    best_params = grid_search_stacking.best_params_\n",
        "\n",
        "    # Split test features and target\n",
        "    X_test = test_data.drop(columns=['WH_RTU_Total'])\n",
        "    y_test = test_data['WH_RTU_Total']\n",
        "\n",
        "    # Predict and calculate metrics\n",
        "    y_pred = best_stacking.predict(X_test)\n",
        "    mae = mean_absolute_error(y_test, y_pred)\n",
        "    r2 = r2_score(y_test, y_pred)\n",
        "\n",
        "    # Store results\n",
        "    results_stacking.append({\n",
        "        'Fold': i,\n",
        "        'Seed': 7,\n",
        "        'Model': 'Stacking Regressor',\n",
        "        'Dataset': 'heating',\n",
        "        'MAE': mae,\n",
        "        'R²': r2,\n",
        "        'Best Params': best_params,\n",
        "        'Experiment': experiment\n",
        "    })\n",
        "\n",
        "    print(f\"Fold {i}, Model Stacking Regressor, Dataset heating, MAE: {mae:.4f}, R²: {r2:.4f}, Best Params: {best_params}\")\n",
        "\n",
        "# Convert results to DataFrame\n",
        "results_stacking_df = pd.DataFrame(results_stacking)\n",
        "\n",
        "# Save detailed results to CSV\n",
        "results_stacking_df.to_csv('stacking_7_heating_hyperparameter_results_detailed.csv', index=False)\n",
        "\n",
        "# Display overall summary\n",
        "print(\"\\nSummary Results for Stacking Regressor:\")\n",
        "summary_stacking = results_stacking_df.groupby(['Model', 'Dataset']).agg({'MAE': 'mean', 'R²': 'mean'}).reset_index()\n",
        "print(summary_stacking)\n",
        "\n",
        "# Save summary to CSV\n",
        "summary_stacking.to_csv('stacking_7_heating_summary_results.csv', index=False)\n"
      ]
    },
    {
      "cell_type": "markdown",
      "metadata": {
        "id": "qgHnpWSrDINU"
      },
      "source": [
        "### Feature Importance"
      ]
    },
    {
      "cell_type": "code",
      "execution_count": null,
      "metadata": {
        "colab": {
          "base_uri": "https://localhost:8080/"
        },
        "outputId": "54411172-741f-4b27-9f30-461241267070",
        "id": "l0U__hbvDINU"
      },
      "outputs": [
        {
          "output_type": "stream",
          "name": "stdout",
          "text": [
            "Feature importance for seed 7 and experiment 2 has been successfully saved.\n"
          ]
        }
      ],
      "source": [
        "import pandas as pd\n",
        "from sklearn.linear_model import LinearRegression\n",
        "from sklearn.ensemble import RandomForestRegressor, GradientBoostingRegressor, StackingRegressor\n",
        "\n",
        "# Placeholder for feature importance results\n",
        "feature_importance_results = []\n",
        "\n",
        "\n",
        "experiment = 2  # Experiment number\n",
        "\n",
        "# Section 1: Calculate Feature Importance\n",
        "for fold in range(1, 6):\n",
        "    # Load training data\n",
        "    train_data = pd.read_csv(f'fold{fold}_heating_filtered_train_7_data.csv')\n",
        "    X_train = train_data.drop(columns=['WH_RTU_Total'])\n",
        "    y_train = train_data['WH_RTU_Total']\n",
        "\n",
        "    # Extract the best parameters from the results file\n",
        "    results_stacking_df = pd.read_csv('stacking_7_heating_hyperparameter_results_detailed.csv')\n",
        "    best_params = results_stacking_df.loc[\n",
        "        (results_stacking_df['Fold'] == fold) & (results_stacking_df['Dataset'] == 'heating'),\n",
        "        'Best Params'\n",
        "    ].iloc[0]\n",
        "    best_params_dict = eval(best_params)  # Parse string into dictionary\n",
        "\n",
        "    # Define base models\n",
        "    base_models = [\n",
        "        ('rf', RandomForestRegressor(random_state=100, **{k.split('__')[1]: v for k, v in best_params_dict.items() if k.startswith('rf__')})),\n",
        "        ('gb', GradientBoostingRegressor(random_state=100, **{k.split('__')[1]: v for k, v in best_params_dict.items() if k.startswith('gb__')}))\n",
        "    ]\n",
        "    meta_model = LinearRegression(**{k.split('__')[1]: v for k, v in best_params_dict.items() if k.startswith('final_estimator__')})\n",
        "\n",
        "    # Define Stacking Regressor and fit the model\n",
        "    stacking = StackingRegressor(estimators=base_models, final_estimator=meta_model)\n",
        "    stacking.fit(X_train, y_train)\n",
        "\n",
        "    # Calculate feature importances from base models\n",
        "    for model_name, model in stacking.named_estimators_.items():\n",
        "        if hasattr(model, 'feature_importances_'):  # Check if the model supports feature importance\n",
        "            feature_importances = model.feature_importances_\n",
        "            feature_names = X_train.columns\n",
        "            importance_df = pd.DataFrame({\n",
        "                'Feature': feature_names,\n",
        "                'Importance': feature_importances,\n",
        "                'Model': model_name,\n",
        "                'Fold': fold,\n",
        "                'Seed': 7,\n",
        "                'Experiment': experiment  # Add experiment column\n",
        "            })\n",
        "            feature_importance_results.append(importance_df)\n",
        "\n",
        "# Combine all feature importance results\n",
        "feature_importance_combined = pd.concat(feature_importance_results, ignore_index=True)\n",
        "\n",
        "# Save the feature importance results to a file\n",
        "feature_importance_combined.to_csv(f'stacking_7_heating_feature_importance_experiment_{experiment}.csv', index=False)\n",
        "\n",
        "print(f\"Feature importance for seed 7 and experiment {experiment} has been successfully saved.\")"
      ]
    },
    {
      "cell_type": "markdown",
      "metadata": {
        "id": "S985yyfqDINU"
      },
      "source": [
        "### Residual Analysis"
      ]
    },
    {
      "cell_type": "code",
      "execution_count": null,
      "metadata": {
        "colab": {
          "base_uri": "https://localhost:8080/"
        },
        "outputId": "b78f1d5f-7f65-479a-8f10-faadea351587",
        "id": "KraZ8ZshDINU"
      },
      "outputs": [
        {
          "output_type": "stream",
          "name": "stdout",
          "text": [
            "Processed fold 1.\n",
            "Processed fold 2.\n",
            "Processed fold 3.\n",
            "Processed fold 4.\n",
            "Processed fold 5.\n",
            "All folds processed and merged data saved successfully to stacking_7_heating_residual.csv.\n"
          ]
        }
      ],
      "source": [
        "import pandas as pd\n",
        "from sklearn.ensemble import StackingRegressor, RandomForestRegressor, GradientBoostingRegressor\n",
        "from sklearn.linear_model import LinearRegression\n",
        "\n",
        "\n",
        "experiment = 2  # Experiment number\n",
        "merged_data = []  # Placeholder for storing final merged data\n",
        "\n",
        "# Load the best model parameters for each fold\n",
        "best_params_df = pd.read_csv('stacking_7_heating_hyperparameter_results_detailed.csv')\n",
        "\n",
        "# Loop through each fold\n",
        "for fold in range(1, 6):\n",
        "    # Load training data\n",
        "    train_data = pd.read_csv(f'fold{fold}_heating_filtered_train_7_data.csv')\n",
        "    X_train = train_data.drop(columns=['WH_RTU_Total'])\n",
        "    y_train = train_data['WH_RTU_Total']\n",
        "\n",
        "    # Get the best parameters for the current fold\n",
        "    best_params = best_params_df.loc[best_params_df['Fold'] == fold, 'Best Params'].iloc[0]\n",
        "    best_params_dict = eval(best_params)\n",
        "\n",
        "    # Define base models and Stacking Regressor with best parameters\n",
        "    base_models = [\n",
        "        ('rf', RandomForestRegressor(random_state=100,\n",
        "                                     n_estimators=best_params_dict['rf__n_estimators'],\n",
        "                                     max_depth=best_params_dict['rf__max_depth'])),\n",
        "        ('gb', GradientBoostingRegressor(random_state=100,\n",
        "                                         learning_rate=best_params_dict['gb__learning_rate'],\n",
        "                                         max_depth=best_params_dict['gb__max_depth']))\n",
        "    ]\n",
        "    meta_model = LinearRegression(fit_intercept=best_params_dict['final_estimator__fit_intercept'])\n",
        "    best_stacking = StackingRegressor(estimators=base_models, final_estimator=meta_model)\n",
        "\n",
        "    # Train the Stacking Regressor\n",
        "    best_stacking.fit(X_train, y_train)\n",
        "\n",
        "    # Load test data\n",
        "    test_data = pd.read_csv(f'fold{fold}_heating_filtered_test_7_data.csv')\n",
        "    test_data['Label'] = 'heating'  # Dynamically add label based on dataset type\n",
        "\n",
        "    # Split features and target\n",
        "    X_test = test_data.drop(columns=['WH_RTU_Total', 'Label'])\n",
        "    y_test = test_data['WH_RTU_Total']\n",
        "\n",
        "    # Predict and calculate residuals\n",
        "    y_pred = best_stacking.predict(X_test)\n",
        "    test_data = test_data.reset_index(drop=True)  # Reset test_data index\n",
        "    y_pred_series = pd.Series(y_pred, index=test_data.index)  # Align y_pred with test_data index\n",
        "    test_data['Predicted'] = y_pred_series\n",
        "    test_data['Residual'] = test_data['WH_RTU_Total'] - test_data['Predicted']\n",
        "\n",
        "    # Select and rename required columns\n",
        "    if 'T_out' in test_data.columns and 'RH_out' in test_data.columns:\n",
        "        selected_data = test_data[['WH_RTU_Total', 'Predicted', 'Residual', 'T_out', 'RH_out', 'Label']].rename(columns={\n",
        "            'WH_RTU_Total': 'Actual'\n",
        "        })\n",
        "    else:\n",
        "        missing_columns = [col for col in ['T_out', 'RH_out'] if col not in test_data.columns]\n",
        "        raise ValueError(f\"{', '.join(missing_columns)} is/are missing in test data for fold {fold}\")\n",
        "\n",
        "    # Add fold, seed, and model columns\n",
        "    selected_data['Fold'] = fold\n",
        "    selected_data['Seed'] = 7\n",
        "    selected_data['Model'] = 'StackingRegressor'\n",
        "    selected_data['Experiment'] = experiment\n",
        "\n",
        "    # Append to final merged data\n",
        "    merged_data.append(selected_data)\n",
        "    print(f\"Processed fold {fold}.\")\n",
        "\n",
        "# Combine all folds into a single DataFrame\n",
        "merged_final_data = pd.concat(merged_data, ignore_index=True)\n",
        "\n",
        "# Save the merged data\n",
        "output_file = 'stacking_7_heating_residual.csv'\n",
        "merged_final_data.to_csv(output_file, index=False)\n",
        "\n",
        "print(f\"All folds processed and merged data saved successfully to {output_file}.\")\n"
      ]
    }
  ],
  "metadata": {
    "accelerator": "GPU",
    "colab": {
      "gpuType": "T4",
      "machine_shape": "hm",
      "provenance": []
    },
    "kernelspec": {
      "display_name": "Python 3",
      "name": "python3"
    },
    "language_info": {
      "name": "python"
    }
  },
  "nbformat": 4,
  "nbformat_minor": 0
}