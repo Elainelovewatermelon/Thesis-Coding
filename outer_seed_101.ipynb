{
  "cells": [
    {
      "cell_type": "markdown",
      "metadata": {
        "id": "i9A-T0mAW2C0"
      },
      "source": [
        "# Combined Experiments"
      ]
    },
    {
      "cell_type": "markdown",
      "metadata": {
        "id": "4zUcRgWRYus1"
      },
      "source": [
        "first do the experiment1 ,the combined data, and then split it into 5 folds, then organize them into five pairs of training and testing data"
      ]
    },
    {
      "cell_type": "code",
      "execution_count": null,
      "metadata": {
        "colab": {
          "base_uri": "https://localhost:8080/"
        },
        "id": "b_47zy4mY3i_",
        "outputId": "8854c610-32f8-41e1-954b-964a5546998c"
      },
      "outputs": [
        {
          "output_type": "stream",
          "name": "stdout",
          "text": [
            "Training and test data for 5 folds with seed 101 have been generated and saved.\n"
          ]
        }
      ],
      "source": [
        "import pandas as pd\n",
        "from sklearn.model_selection import KFold\n",
        "\n",
        "# Load the combined data\n",
        "combined_data_101 = pd.read_csv('combined_data_101.csv')\n",
        "\n",
        "# Initialize KFold with 5 splits\n",
        "kf = KFold(n_splits=5, shuffle=True, random_state=101)\n",
        "\n",
        "# Create storage for training and test data splits\n",
        "folds = []\n",
        "\n",
        "# Split the data into 5 folds\n",
        "for train_index, test_index in kf.split(combined_data_101):\n",
        "    train_data = combined_data_101.iloc[train_index]\n",
        "    test_data = combined_data_101.iloc[test_index]\n",
        "    folds.append((train_data, test_data))\n",
        "\n",
        "# Save each training and test group as separate files\n",
        "for i, (train_data, test_data) in enumerate(folds):\n",
        "    train_data.to_csv(f'combined_train_101_fold{i+1}.csv', index=False)\n",
        "    test_data.to_csv(f'combined_test_101_fold{i+1}.csv', index=False)\n",
        "\n",
        "print(\"Training and test data for 5 folds with seed 101 have been generated and saved.\")\n"
      ]
    },
    {
      "cell_type": "markdown",
      "metadata": {
        "id": "bip-xt9cZv7Y"
      },
      "source": [
        "do the feature selection for each group"
      ]
    },
    {
      "cell_type": "code",
      "execution_count": null,
      "metadata": {
        "colab": {
          "base_uri": "https://localhost:8080/"
        },
        "id": "462MZV4CE0Kf",
        "outputId": "b66787dd-6449-416a-fdab-12537ad5aa81"
      },
      "outputs": [
        {
          "output_type": "stream",
          "name": "stdout",
          "text": [
            "Top 25 features for fold 1 with seed 101 saved.\n",
            "Top 25 features for fold 2 with seed 101 saved.\n",
            "Top 25 features for fold 3 with seed 101 saved.\n",
            "Top 25 features for fold 4 with seed 101 saved.\n",
            "Top 25 features for fold 5 with seed 101 saved.\n"
          ]
        }
      ],
      "source": [
        "import pandas as pd\n",
        "from sklearn.ensemble import RandomForestRegressor\n",
        "\n",
        "# Function to perform feature selection\n",
        "def feature_selection(train_data, target_column, preselected_features, k=25):\n",
        "    # Separate features and target\n",
        "    X = train_data.drop(columns=[target_column, 'TIMESTAMP'], errors='ignore')  # Drop TIMESTAMP\n",
        "    y = train_data[target_column]\n",
        "\n",
        "    # Train a RandomForestRegressor model\n",
        "    rf_model = RandomForestRegressor(n_estimators=100, random_state=100)\n",
        "    rf_model.fit(X, y)\n",
        "\n",
        "    # Get feature names and their importance scores\n",
        "    feature_importances = rf_model.feature_importances_\n",
        "    feature_names = X.columns\n",
        "\n",
        "    # Combine feature names and scores into a DataFrame\n",
        "    selected_features = pd.DataFrame({\n",
        "        'Feature': feature_names,\n",
        "        'Importance': feature_importances\n",
        "    }).sort_values(by='Importance', ascending=False)\n",
        "\n",
        "    # Select the preselected features (label, T_out, RH_out)\n",
        "    preselected_df = selected_features[selected_features['Feature'].isin(preselected_features)]\n",
        "\n",
        "    # Select the remaining top features after excluding preselected ones\n",
        "    remaining_features = selected_features[~selected_features['Feature'].isin(preselected_features)]\n",
        "    top_remaining_features = remaining_features.head(k - len(preselected_features))\n",
        "\n",
        "    # Combine preselected features with the top remaining features\n",
        "    final_features = pd.concat([preselected_df, top_remaining_features])\n",
        "\n",
        "    return final_features\n",
        "\n",
        "# Perform feature selection for each fold\n",
        "target_column = 'WH_RTU_Total'\n",
        "preselected_features = ['label', 'T_out', 'RH_out']\n",
        "\n",
        "for i in range(1, 6):\n",
        "    train_data = pd.read_csv(f'combined_train_101_fold{i}.csv')\n",
        "\n",
        "    # Perform feature selection\n",
        "    top_features = feature_selection(train_data, target_column, preselected_features, k=25)\n",
        "\n",
        "    # Save top features\n",
        "    top_features.to_csv(f'combined_train_101_fold{i}_top25_features.csv', index=False)\n",
        "\n",
        "    print(f\"Top 25 features for fold {i} with seed 101 saved.\")\n"
      ]
    },
    {
      "cell_type": "markdown",
      "metadata": {
        "id": "rSekzqyd9Ocl"
      },
      "source": [
        "then i need to select the related data from both the training and test set in the five groups based on the feature selected in former section(which is the training data)"
      ]
    },
    {
      "cell_type": "code",
      "execution_count": null,
      "metadata": {
        "colab": {
          "base_uri": "https://localhost:8080/"
        },
        "id": "pv74sjYB9dw4",
        "outputId": "22907be3-3202-4c99-ba70-dd0f239ae1f0"
      },
      "outputs": [
        {
          "output_type": "stream",
          "name": "stdout",
          "text": [
            "Filtered train data for fold 1 with seed 101 saved.\n",
            "Filtered test data, heating data, and cooling data for fold 1 with seed 101 saved.\n",
            "Filtered train data for fold 2 with seed 101 saved.\n",
            "Filtered test data, heating data, and cooling data for fold 2 with seed 101 saved.\n",
            "Filtered train data for fold 3 with seed 101 saved.\n",
            "Filtered test data, heating data, and cooling data for fold 3 with seed 101 saved.\n",
            "Filtered train data for fold 4 with seed 101 saved.\n",
            "Filtered test data, heating data, and cooling data for fold 4 with seed 101 saved.\n",
            "Filtered train data for fold 5 with seed 101 saved.\n",
            "Filtered test data, heating data, and cooling data for fold 5 with seed 101 saved.\n"
          ]
        }
      ],
      "source": [
        "# Target variable\n",
        "target_column = 'WH_RTU_Total'\n",
        "\n",
        "for i in range(1, 6):\n",
        "    # Load the original training and test datasets for the current fold\n",
        "    train_data = pd.read_csv(f'combined_train_101_fold{i}.csv')\n",
        "    test_data = pd.read_csv(f'combined_test_101_fold{i}.csv')\n",
        "\n",
        "    # Load the top 25 features selected from the current fold\n",
        "    top_features = pd.read_csv(f'combined_train_101_fold{i}_top25_features.csv')['Feature'].tolist()\n",
        "\n",
        "    # Ensure the target column is included in the selected features\n",
        "    train_columns = top_features + [target_column]  # Train data includes target\n",
        "    test_columns = top_features + [target_column]  # Test data includes target\n",
        "\n",
        "    # Filter the training data\n",
        "    filtered_train_data = train_data[train_columns]\n",
        "    filtered_train_data.to_csv(f'fold_101_{i}_filtered_train_data.csv', index=False)\n",
        "    print(f\"Filtered train data for fold {i} with seed 101 saved.\")\n",
        "\n",
        "    # Filter the test data\n",
        "    filtered_test_data = test_data[test_columns]\n",
        "\n",
        "    # Split the test data into heating and cooling datasets\n",
        "    test_data_heating = filtered_test_data[filtered_test_data['label'] == 1]\n",
        "    test_data_cooling = filtered_test_data[filtered_test_data['label'] == 0]\n",
        "\n",
        "    # Save all datasets\n",
        "    filtered_test_data.to_csv(f'fold_101_{i}_filtered_test_data.csv', index=False)\n",
        "    test_data_heating.to_csv(f'fold_101_{i}_filtered_test_data_heating.csv', index=False)\n",
        "    test_data_cooling.to_csv(f'fold_101_{i}_filtered_test_data_cooling.csv', index=False)\n",
        "    print(f\"Filtered test data, heating data, and cooling data for fold {i} with seed 101 saved.\")\n"
      ]
    },
    {
      "cell_type": "markdown",
      "metadata": {
        "id": "h53709sH-kya"
      },
      "source": [
        "generate the mae and R2 value for the four models:linear regression, random forest ,xgboost and stacking ensemble regressor."
      ]
    },
    {
      "cell_type": "code",
      "execution_count": null,
      "metadata": {
        "colab": {
          "base_uri": "https://localhost:8080/"
        },
        "id": "k2sogHDs_Afe",
        "outputId": "aa5c3fe8-b05f-4f33-b0a8-4360142d8c60"
      },
      "outputs": [
        {
          "output_type": "stream",
          "name": "stdout",
          "text": [
            "Requirement already satisfied: pandas in /usr/local/lib/python3.10/dist-packages (2.2.2)\n",
            "Requirement already satisfied: numpy in /usr/local/lib/python3.10/dist-packages (1.26.4)\n",
            "Requirement already satisfied: scikit-learn in /usr/local/lib/python3.10/dist-packages (1.6.0)\n",
            "Requirement already satisfied: xgboost in /usr/local/lib/python3.10/dist-packages (2.1.3)\n",
            "Requirement already satisfied: python-dateutil>=2.8.2 in /usr/local/lib/python3.10/dist-packages (from pandas) (2.8.2)\n",
            "Requirement already satisfied: pytz>=2020.1 in /usr/local/lib/python3.10/dist-packages (from pandas) (2024.2)\n",
            "Requirement already satisfied: tzdata>=2022.7 in /usr/local/lib/python3.10/dist-packages (from pandas) (2024.2)\n",
            "Requirement already satisfied: scipy>=1.6.0 in /usr/local/lib/python3.10/dist-packages (from scikit-learn) (1.13.1)\n",
            "Requirement already satisfied: joblib>=1.2.0 in /usr/local/lib/python3.10/dist-packages (from scikit-learn) (1.4.2)\n",
            "Requirement already satisfied: threadpoolctl>=3.1.0 in /usr/local/lib/python3.10/dist-packages (from scikit-learn) (3.5.0)\n",
            "Requirement already satisfied: nvidia-nccl-cu12 in /usr/local/lib/python3.10/dist-packages (from xgboost) (2.23.4)\n",
            "Requirement already satisfied: six>=1.5 in /usr/local/lib/python3.10/dist-packages (from python-dateutil>=2.8.2->pandas) (1.17.0)\n",
            "Fold 1, Model Linear Regression, Dataset Combined, MAE: 4.6119, R²: 0.6597\n",
            "Fold 1, Model Linear Regression, Dataset Cooling, MAE: 5.3434, R²: 0.4037\n",
            "Fold 1, Model Linear Regression, Dataset Heating, MAE: 3.8986, R²: 0.3348\n",
            "Fold 1, Model Random Forest, Dataset Combined, MAE: 2.9155, R²: 0.8336\n",
            "Fold 1, Model Random Forest, Dataset Cooling, MAE: 2.4525, R²: 0.7804\n",
            "Fold 1, Model Random Forest, Dataset Heating, MAE: 3.3669, R²: 0.4885\n",
            "Fold 1, Model XGBoost, Dataset Combined, MAE: 2.9654, R²: 0.8270\n",
            "Fold 1, Model XGBoost, Dataset Cooling, MAE: 2.5896, R²: 0.7735\n",
            "Fold 1, Model XGBoost, Dataset Heating, MAE: 3.3317, R²: 0.4637\n",
            "Fold 1, Model Stacking Regressor, Dataset Combined, MAE: 3.2344, R²: 0.8193\n",
            "Fold 1, Model Stacking Regressor, Dataset Cooling, MAE: 2.9277, R²: 0.7568\n",
            "Fold 1, Model Stacking Regressor, Dataset Heating, MAE: 3.5336, R²: 0.4570\n",
            "Fold 2, Model Linear Regression, Dataset Combined, MAE: 4.2707, R²: 0.7072\n",
            "Fold 2, Model Linear Regression, Dataset Cooling, MAE: 4.6256, R²: 0.4359\n",
            "Fold 2, Model Linear Regression, Dataset Heating, MAE: 3.8800, R²: 0.2929\n",
            "Fold 2, Model Random Forest, Dataset Combined, MAE: 2.6315, R²: 0.8532\n",
            "Fold 2, Model Random Forest, Dataset Cooling, MAE: 2.1883, R²: 0.7602\n",
            "Fold 2, Model Random Forest, Dataset Heating, MAE: 3.1193, R²: 0.5404\n",
            "Fold 2, Model XGBoost, Dataset Combined, MAE: 2.6769, R²: 0.8559\n",
            "Fold 2, Model XGBoost, Dataset Cooling, MAE: 2.2164, R²: 0.7891\n",
            "Fold 2, Model XGBoost, Dataset Heating, MAE: 3.1838, R²: 0.4885\n",
            "Fold 2, Model Stacking Regressor, Dataset Combined, MAE: 2.7947, R²: 0.8540\n",
            "Fold 2, Model Stacking Regressor, Dataset Cooling, MAE: 2.3989, R²: 0.7654\n",
            "Fold 2, Model Stacking Regressor, Dataset Heating, MAE: 3.2304, R²: 0.5337\n",
            "Fold 3, Model Linear Regression, Dataset Combined, MAE: 4.4492, R²: 0.6735\n",
            "Fold 3, Model Linear Regression, Dataset Cooling, MAE: 4.8683, R²: 0.3508\n",
            "Fold 3, Model Linear Regression, Dataset Heating, MAE: 4.0061, R²: 0.3052\n",
            "Fold 3, Model Random Forest, Dataset Combined, MAE: 2.7134, R²: 0.8495\n",
            "Fold 3, Model Random Forest, Dataset Cooling, MAE: 2.2038, R²: 0.7680\n",
            "Fold 3, Model Random Forest, Dataset Heating, MAE: 3.2521, R²: 0.5310\n",
            "Fold 3, Model XGBoost, Dataset Combined, MAE: 2.8178, R²: 0.8380\n",
            "Fold 3, Model XGBoost, Dataset Cooling, MAE: 2.4005, R²: 0.7466\n",
            "Fold 3, Model XGBoost, Dataset Heating, MAE: 3.2590, R²: 0.5030\n",
            "Fold 3, Model Stacking Regressor, Dataset Combined, MAE: 2.7952, R²: 0.8498\n",
            "Fold 3, Model Stacking Regressor, Dataset Cooling, MAE: 2.3136, R²: 0.7690\n",
            "Fold 3, Model Stacking Regressor, Dataset Heating, MAE: 3.3043, R²: 0.5308\n",
            "Fold 4, Model Linear Regression, Dataset Combined, MAE: 4.2448, R²: 0.7159\n",
            "Fold 4, Model Linear Regression, Dataset Cooling, MAE: 4.6842, R²: 0.5363\n",
            "Fold 4, Model Linear Regression, Dataset Heating, MAE: 3.8417, R²: 0.2936\n",
            "Fold 4, Model Random Forest, Dataset Combined, MAE: 2.6336, R²: 0.8611\n",
            "Fold 4, Model Random Forest, Dataset Cooling, MAE: 2.1131, R²: 0.8340\n",
            "Fold 4, Model Random Forest, Dataset Heating, MAE: 3.1113, R²: 0.4940\n",
            "Fold 4, Model XGBoost, Dataset Combined, MAE: 2.8099, R²: 0.8492\n",
            "Fold 4, Model XGBoost, Dataset Cooling, MAE: 2.4477, R²: 0.8158\n",
            "Fold 4, Model XGBoost, Dataset Heating, MAE: 3.1423, R²: 0.4612\n",
            "Fold 4, Model Stacking Regressor, Dataset Combined, MAE: 2.7549, R²: 0.8579\n",
            "Fold 4, Model Stacking Regressor, Dataset Cooling, MAE: 2.2579, R²: 0.8295\n",
            "Fold 4, Model Stacking Regressor, Dataset Heating, MAE: 3.2110, R²: 0.4843\n",
            "Fold 5, Model Linear Regression, Dataset Combined, MAE: 4.7579, R²: 0.6659\n",
            "Fold 5, Model Linear Regression, Dataset Cooling, MAE: 5.5015, R²: 0.4242\n",
            "Fold 5, Model Linear Regression, Dataset Heating, MAE: 4.0438, R²: 0.3086\n",
            "Fold 5, Model Random Forest, Dataset Combined, MAE: 2.9547, R²: 0.8267\n",
            "Fold 5, Model Random Forest, Dataset Cooling, MAE: 2.7236, R²: 0.7400\n",
            "Fold 5, Model Random Forest, Dataset Heating, MAE: 3.1765, R²: 0.5363\n",
            "Fold 5, Model XGBoost, Dataset Combined, MAE: 3.0326, R²: 0.8263\n",
            "Fold 5, Model XGBoost, Dataset Cooling, MAE: 2.7442, R²: 0.7647\n",
            "Fold 5, Model XGBoost, Dataset Heating, MAE: 3.3096, R²: 0.4665\n",
            "Fold 5, Model Stacking Regressor, Dataset Combined, MAE: 3.0354, R²: 0.8320\n",
            "Fold 5, Model Stacking Regressor, Dataset Cooling, MAE: 2.8092, R²: 0.7551\n",
            "Fold 5, Model Stacking Regressor, Dataset Heating, MAE: 3.2527, R²: 0.5309\n",
            "\n",
            "Summary Results for All Models:\n",
            "                                  MAE        R²\n",
            "Model              Dataset                     \n",
            "Linear Regression  Combined  4.466900  0.684443\n",
            "                   Cooling   5.004574  0.430179\n",
            "                   Heating   3.934053  0.307012\n",
            "Random Forest      Combined  2.769721  0.844826\n",
            "                   Cooling   2.336280  0.776540\n",
            "                   Heating   3.205211  0.518050\n",
            "Stacking Regressor Combined  2.922939  0.842616\n",
            "                   Cooling   2.541463  0.775158\n",
            "                   Heating   3.306392  0.507345\n",
            "XGBoost            Combined  2.860516  0.839271\n",
            "                   Cooling   2.479687  0.777948\n",
            "                   Heating   3.245277  0.476584\n"
          ]
        }
      ],
      "source": [
        "!pip install pandas numpy scikit-learn xgboost\n",
        "\n",
        "from sklearn.ensemble import GradientBoostingRegressor\n",
        "import pandas as pd\n",
        "import numpy as np\n",
        "from sklearn.linear_model import LinearRegression\n",
        "from sklearn.ensemble import RandomForestRegressor\n",
        "from xgboost import XGBRegressor\n",
        "from sklearn.ensemble import StackingRegressor\n",
        "from sklearn.metrics import mean_absolute_error, r2_score\n",
        "\n",
        "# Placeholder for storing results\n",
        "results = []\n",
        "\n",
        "\n",
        "# Loop through each fold\n",
        "for i in range(1, 6):\n",
        "    # Load filtered training and test datasets for the current fold\n",
        "    train_data = pd.read_csv(f'fold_101_{i}_filtered_train_data.csv')\n",
        "    test_data_combined = pd.read_csv(f'fold_101_{i}_filtered_test_data.csv')\n",
        "    test_data_cooling = pd.read_csv(f'fold_101_{i}_filtered_test_data_cooling.csv')\n",
        "    test_data_heating = pd.read_csv(f'fold_101_{i}_filtered_test_data_heating.csv')\n",
        "\n",
        "    # Separate features and target for training data\n",
        "    target_column = 'WH_RTU_Total'\n",
        "    X_train = train_data.drop(columns=[target_column])\n",
        "    y_train = train_data[target_column]\n",
        "\n",
        "    # Define models with default parameters\n",
        "    models = {\n",
        "        'Linear Regression': LinearRegression(),\n",
        "        'Random Forest': RandomForestRegressor(random_state=100),\n",
        "        'XGBoost': XGBRegressor(random_state=100),\n",
        "        'Stacking Regressor': StackingRegressor(\n",
        "            estimators=[\n",
        "                ('rf', RandomForestRegressor(random_state=100)),  # Random Forest\n",
        "                ('gb', GradientBoostingRegressor(random_state=100))  # Gradient Boosting\n",
        "            ],\n",
        "            final_estimator=LinearRegression()  # Linear Regression as the meta-learner\n",
        "        )\n",
        "    }\n",
        "\n",
        "    # Function to evaluate models on a given dataset\n",
        "    def evaluate_model(model, X_train, y_train, X_test, y_test, dataset_type):\n",
        "        model.fit(X_train, y_train)\n",
        "        y_pred = model.predict(X_test)\n",
        "        mae = mean_absolute_error(y_test, y_pred)\n",
        "        r2 = r2_score(y_test, y_pred)\n",
        "        return mae, r2\n",
        "\n",
        "    # Evaluate models on combined, cooling, and heating datasets\n",
        "    for model_name, model in models.items():\n",
        "        for dataset_type, test_data in [('Combined', test_data_combined),\n",
        "                                        ('Cooling', test_data_cooling),\n",
        "                                        ('Heating', test_data_heating)]:\n",
        "            # Separate features and target for the current test dataset\n",
        "            X_test = test_data.drop(columns=[target_column])\n",
        "            y_test = test_data[target_column]\n",
        "\n",
        "            # Calculate MAE and R²\n",
        "            mae, r2 = evaluate_model(model, X_train, y_train, X_test, y_test, dataset_type)\n",
        "\n",
        "            # Store results\n",
        "            results.append({\n",
        "                'Fold': i,\n",
        "                'Seed': 101,  # Add the seed column\n",
        "                'Model': model_name,\n",
        "                'Dataset': dataset_type,\n",
        "                'MAE': mae,\n",
        "                'R²': r2,\n",
        "                'Experiment': 1  # Add the experiment column\n",
        "            })\n",
        "\n",
        "            print(f\"Fold {i}, Model {model_name}, Dataset {dataset_type}, MAE: {mae:.4f}, R²: {r2:.4f}\")\n",
        "\n",
        "# Convert results to a DataFrame\n",
        "results_df = pd.DataFrame(results)\n",
        "\n",
        "# Save results to CSV\n",
        "results_df.to_csv(f'model_results_101_mae_r2_detailed.csv', index=False)\n",
        "\n",
        "# Display overall summary\n",
        "print(\"\\nSummary Results for All Models:\")\n",
        "summary = results_df.groupby(['Model', 'Dataset']).agg({'MAE': 'mean', 'R²': 'mean'}).sort_values(by=['Model', 'Dataset'])\n",
        "print(summary)\n"
      ]
    },
    {
      "cell_type": "markdown",
      "metadata": {
        "id": "-D57gmj6zG13"
      },
      "source": [
        "## Random Forest"
      ]
    },
    {
      "cell_type": "markdown",
      "metadata": {
        "id": "SjRib9g8gyPY"
      },
      "source": [
        "### Random Forest Hyperparameter Tuning python\n",
        "\n"
      ]
    },
    {
      "cell_type": "code",
      "execution_count": null,
      "metadata": {
        "colab": {
          "base_uri": "https://localhost:8080/"
        },
        "id": "COH3JRgRSDfJ",
        "outputId": "b4970a39-a643-4e75-9db3-3a51d1b78cff"
      },
      "outputs": [
        {
          "output_type": "stream",
          "name": "stdout",
          "text": [
            "Fold 1, Model Random Forest, Dataset Combined, MAE: 2.9474, R²: 0.8270, Best Params: {'max_depth': 10, 'min_samples_split': 5, 'n_estimators': 50}\n",
            "Fold 1, Model Random Forest, Dataset Cooling, MAE: 2.5465, R²: 0.7600, Best Params: {'max_depth': 10, 'min_samples_split': 5, 'n_estimators': 50}\n",
            "Fold 1, Model Random Forest, Dataset Heating, MAE: 3.3382, R²: 0.4987, Best Params: {'max_depth': 10, 'min_samples_split': 5, 'n_estimators': 50}\n",
            "Fold 2, Model Random Forest, Dataset Combined, MAE: 2.6541, R²: 0.8526, Best Params: {'max_depth': 10, 'min_samples_split': 2, 'n_estimators': 100}\n",
            "Fold 2, Model Random Forest, Dataset Cooling, MAE: 2.2213, R²: 0.7544, Best Params: {'max_depth': 10, 'min_samples_split': 2, 'n_estimators': 100}\n",
            "Fold 2, Model Random Forest, Dataset Heating, MAE: 3.1307, R²: 0.5503, Best Params: {'max_depth': 10, 'min_samples_split': 2, 'n_estimators': 100}\n",
            "Fold 3, Model Random Forest, Dataset Combined, MAE: 2.7113, R²: 0.8499, Best Params: {'max_depth': None, 'min_samples_split': 2, 'n_estimators': 150}\n",
            "Fold 3, Model Random Forest, Dataset Cooling, MAE: 2.2025, R²: 0.7686, Best Params: {'max_depth': None, 'min_samples_split': 2, 'n_estimators': 150}\n",
            "Fold 3, Model Random Forest, Dataset Heating, MAE: 3.2492, R²: 0.5324, Best Params: {'max_depth': None, 'min_samples_split': 2, 'n_estimators': 150}\n",
            "Fold 4, Model Random Forest, Dataset Combined, MAE: 2.6377, R²: 0.8616, Best Params: {'max_depth': None, 'min_samples_split': 2, 'n_estimators': 150}\n",
            "Fold 4, Model Random Forest, Dataset Cooling, MAE: 2.1033, R²: 0.8362, Best Params: {'max_depth': None, 'min_samples_split': 2, 'n_estimators': 150}\n",
            "Fold 4, Model Random Forest, Dataset Heating, MAE: 3.1282, R²: 0.4918, Best Params: {'max_depth': None, 'min_samples_split': 2, 'n_estimators': 150}\n",
            "Fold 5, Model Random Forest, Dataset Combined, MAE: 2.9547, R²: 0.8267, Best Params: {'max_depth': None, 'min_samples_split': 2, 'n_estimators': 100}\n",
            "Fold 5, Model Random Forest, Dataset Cooling, MAE: 2.7236, R²: 0.7400, Best Params: {'max_depth': None, 'min_samples_split': 2, 'n_estimators': 100}\n",
            "Fold 5, Model Random Forest, Dataset Heating, MAE: 3.1765, R²: 0.5363, Best Params: {'max_depth': None, 'min_samples_split': 2, 'n_estimators': 100}\n",
            "\n",
            "Summary Results for Random Forest:\n",
            "           Model   Dataset       MAE        R²\n",
            "0  Random Forest  Combined  2.781041  0.843577\n",
            "1  Random Forest   Cooling  2.359445  0.771849\n",
            "2  Random Forest   Heating  3.204550  0.521896\n"
          ]
        }
      ],
      "source": [
        "from sklearn.model_selection import GridSearchCV\n",
        "import pandas as pd\n",
        "from sklearn.ensemble import RandomForestRegressor\n",
        "from sklearn.metrics import mean_absolute_error, r2_score\n",
        "\n",
        "# Placeholder for storing results\n",
        "results_rf = []\n",
        "\n",
        "\n",
        "\n",
        "# Define hyperparameter grid for Random Forest\n",
        "param_grid_rf = {\n",
        "    'n_estimators': [50, 100, 150],\n",
        "    'max_depth': [10, 20, None],\n",
        "    'min_samples_split': [2, 5, 10],\n",
        "}\n",
        "\n",
        "for i in range(1, 6):\n",
        "    # Load datasets\n",
        "    train_data = pd.read_csv(f'fold_101_{i}_filtered_train_data.csv')\n",
        "    test_data_combined = pd.read_csv(f'fold_101_{i}_filtered_test_data.csv')\n",
        "    test_data_cooling = pd.read_csv(f'fold_101_{i}_filtered_test_data_cooling.csv')\n",
        "    test_data_heating = pd.read_csv(f'fold_101_{i}_filtered_test_data_heating.csv')\n",
        "\n",
        "    # Split features and target\n",
        "    X_train = train_data.drop(columns=['WH_RTU_Total'])\n",
        "    y_train = train_data['WH_RTU_Total']\n",
        "\n",
        "    # Initialize Random Forest and perform GridSearchCV\n",
        "    rf = RandomForestRegressor(random_state=100)\n",
        "    grid_search_rf = GridSearchCV(rf, param_grid_rf, cv=3, scoring='neg_mean_absolute_error', n_jobs=-1)\n",
        "    grid_search_rf.fit(X_train, y_train)\n",
        "\n",
        "    # Get the best model and hyperparameters\n",
        "    best_rf = grid_search_rf.best_estimator_\n",
        "    best_params = grid_search_rf.best_params_\n",
        "\n",
        "    # Evaluate on Combined, Cooling, and Heating datasets\n",
        "    for dataset_type, test_data in [('Combined', test_data_combined),\n",
        "                                    ('Cooling', test_data_cooling),\n",
        "                                    ('Heating', test_data_heating)]:\n",
        "        # Split test features and target\n",
        "        X_test = test_data.drop(columns=['WH_RTU_Total'])\n",
        "        y_test = test_data['WH_RTU_Total']\n",
        "\n",
        "        # Predict and calculate metrics\n",
        "        y_pred = best_rf.predict(X_test)\n",
        "        mae = mean_absolute_error(y_test, y_pred)\n",
        "        r2 = r2_score(y_test, y_pred)\n",
        "\n",
        "        # Store results\n",
        "        results_rf.append({\n",
        "            'Fold': i,\n",
        "            'Seed': 101,  # Add the seed column\n",
        "            'Model': 'Random Forest',\n",
        "            'Dataset': dataset_type,\n",
        "            'MAE': mae,\n",
        "            'R²': r2,\n",
        "            'Best Params': best_params,\n",
        "            'Experiment': 1\n",
        "        })\n",
        "\n",
        "        print(f\"Fold {i}, Model Random Forest, Dataset {dataset_type}, MAE: {mae:.4f}, R²: {r2:.4f}, Best Params: {best_params}\")\n",
        "\n",
        "# Convert results to DataFrame\n",
        "results_rf_df = pd.DataFrame(results_rf)\n",
        "\n",
        "# Save detailed results to CSV\n",
        "results_rf_df.to_csv(f'random_forest_101_combined_hyperparameter_results_detailed.csv', index=False)\n",
        "\n",
        "# Display overall summary\n",
        "print(\"\\nSummary Results for Random Forest:\")\n",
        "summary_rf = results_rf_df.groupby(['Model', 'Dataset']).agg({'MAE': 'mean', 'R²': 'mean'}).reset_index()\n",
        "print(summary_rf)\n",
        "\n",
        "# Save summary to CSV 这个section里面有没有inner seed呢？\n",
        "summary_rf.to_csv(f'random_forest_101_combined_hyperparameter_results_summary.csv', index=False)\n"
      ]
    },
    {
      "cell_type": "markdown",
      "metadata": {
        "id": "5qyjZwoTh0BE"
      },
      "source": [
        "### random forest feature importance generation"
      ]
    },
    {
      "cell_type": "code",
      "execution_count": null,
      "metadata": {
        "colab": {
          "base_uri": "https://localhost:8080/"
        },
        "id": "KLUGoQ-5h5X4",
        "outputId": "c93c7e42-47c6-442f-d99b-8aa1419d6bac"
      },
      "outputs": [
        {
          "output_type": "stream",
          "name": "stdout",
          "text": [
            "Feature importance for seed 101 has been successfully saved.\n"
          ]
        }
      ],
      "source": [
        "import pandas as pd\n",
        "from sklearn.ensemble import RandomForestRegressor\n",
        "\n",
        "# Placeholder for feature importance results\n",
        "feature_importance_results = []\n",
        "\n",
        "# Section 1: Calculate Feature Importance\n",
        "for fold in range(1, 6):\n",
        "    # Load training data\n",
        "    train_data = pd.read_csv(f'fold_101_{fold}_filtered_train_data.csv')\n",
        "    X_train = train_data.drop(columns=['WH_RTU_Total'])\n",
        "    y_train = train_data['WH_RTU_Total']\n",
        "\n",
        "    # Load the best model for the current fold\n",
        "    results_rf_df = pd.read_csv(f'random_forest_101_combined_hyperparameter_results_detailed.csv')\n",
        "    best_params = results_rf_df.loc[(results_rf_df['Fold'] == fold) & (results_rf_df['Dataset'] == 'Combined'), 'Best Params'].iloc[0]\n",
        "    best_params_dict = eval(best_params)\n",
        "    best_rf = RandomForestRegressor(random_state=100, **best_params_dict)\n",
        "    best_rf.fit(X_train, y_train)\n",
        "\n",
        "    # Calculate feature importance\n",
        "    feature_importances = best_rf.feature_importances_\n",
        "    feature_names = X_train.columns\n",
        "    importance_df = pd.DataFrame({\n",
        "        'Feature': feature_names,\n",
        "        'Importance': feature_importances,\n",
        "        'Fold': fold,\n",
        "        'Seed': 101,  # Add seed column\n",
        "        'Model': 'Random Forest',\n",
        "        'Experiment': 1 # Add model column\n",
        "    })\n",
        "    feature_importance_results.append(importance_df)\n",
        "\n",
        "# Combine and save feature importance results\n",
        "feature_importance_combined = pd.concat(feature_importance_results, ignore_index=True)\n",
        "feature_importance_combined.to_csv(f'random_forest_101_combined_feature_importance.csv', index=False)\n",
        "\n",
        "print(f\"Feature importance for seed 101 has been successfully saved.\")\n"
      ]
    },
    {
      "cell_type": "markdown",
      "metadata": {
        "id": "XJ6xVkVnusUw"
      },
      "source": [
        "### generate residual ,predict, label, tout and rh out"
      ]
    },
    {
      "cell_type": "code",
      "execution_count": null,
      "metadata": {
        "colab": {
          "base_uri": "https://localhost:8080/"
        },
        "id": "xzWEI7HQWOlq",
        "outputId": "8db9994e-8b3f-44eb-b0d6-a9a01453a4c1"
      },
      "outputs": [
        {
          "output_type": "stream",
          "name": "stdout",
          "text": [
            "Processed fold 1, dataset cooling.\n",
            "Processed fold 1, dataset heating.\n",
            "Processed fold 2, dataset cooling.\n",
            "Processed fold 2, dataset heating.\n",
            "Processed fold 3, dataset cooling.\n",
            "Processed fold 3, dataset heating.\n",
            "Processed fold 4, dataset cooling.\n",
            "Processed fold 4, dataset heating.\n",
            "Processed fold 5, dataset cooling.\n",
            "Processed fold 5, dataset heating.\n",
            "All folds processed and merged data saved successfully.\n"
          ]
        }
      ],
      "source": [
        "import pandas as pd\n",
        "from sklearn.ensemble import RandomForestRegressor\n",
        "\n",
        "# Fixed seed value\n",
        "\n",
        "merged_data = []  # Placeholder for storing final merged data\n",
        "\n",
        "# Loop through each fold\n",
        "for fold in range(1, 6):\n",
        "    # Load training data\n",
        "    train_data = pd.read_csv(f'fold_101_{fold}_filtered_train_data.csv')\n",
        "    X_train = train_data.drop(columns=['WH_RTU_Total'])\n",
        "    y_train = train_data['WH_RTU_Total']\n",
        "\n",
        "    # Load the best model parameters for the current fold\n",
        "    best_params_df = pd.read_csv('random_forest_101_combined_hyperparameter_results_detailed.csv')\n",
        "    best_params = best_params_df.loc[(best_params_df['Fold'] == fold) & (best_params_df['Dataset'] == 'Combined'), 'Best Params'].iloc[0]\n",
        "    best_params_dict = eval(best_params)\n",
        "\n",
        "    # Train Random Forest model\n",
        "    best_rf = RandomForestRegressor(random_state=100, **best_params_dict)\n",
        "    best_rf.fit(X_train, y_train)\n",
        "\n",
        "    # Loop through Cooling and Heating datasets\n",
        "    for dataset_type in ['cooling', 'heating']:\n",
        "        # Load test data\n",
        "        test_data = pd.read_csv(f'fold_101_{fold}_filtered_test_data_{dataset_type}.csv')\n",
        "\n",
        "        # Split features and target\n",
        "        X_test = test_data.drop(columns=['WH_RTU_Total'])\n",
        "        y_test = test_data['WH_RTU_Total']\n",
        "\n",
        "        # Predict and calculate residuals\n",
        "        y_pred = best_rf.predict(X_test)\n",
        "        test_data['Predicted'] = y_pred\n",
        "        test_data['Residual'] = test_data['WH_RTU_Total'] - test_data['Predicted']\n",
        "\n",
        "        # Select and rename required columns\n",
        "        if 'T_out' in test_data.columns and 'RH_out' in test_data.columns:\n",
        "            selected_data = test_data[['WH_RTU_Total', 'Predicted', 'Residual', 'T_out', 'RH_out', 'label']].rename(columns={\n",
        "                'WH_RTU_Total': 'Actual'\n",
        "            })\n",
        "        else:\n",
        "            raise ValueError(f\"'T_out' or 'RH_out' is missing in test data for fold {fold} and dataset {dataset_type}\")\n",
        "\n",
        "        # Add fold, seed, and model columns\n",
        "        selected_data['Fold'] = fold\n",
        "        selected_data['Seed'] = 101\n",
        "        selected_data['Model'] = 'Random Forest'\n",
        "        selected_data['Experiment'] = 1\n",
        "\n",
        "        # Append to final merged data\n",
        "        merged_data.append(selected_data)\n",
        "        print(f\"Processed fold {fold}, dataset {dataset_type}.\")\n",
        "\n",
        "# Combine all folds and datasets into a single DataFrame\n",
        "merged_final_data = pd.concat(merged_data, ignore_index=True)\n",
        "# Save the merged data\n",
        "merged_final_data.to_csv(f'random_forest_101_combined_residual.csv', index=False)\n",
        "\n",
        "print(\"All folds processed and merged data saved successfully.\")\n"
      ]
    },
    {
      "cell_type": "markdown",
      "metadata": {
        "id": "eH1AKQHzzUfc"
      },
      "source": [
        "## XGBoost"
      ]
    },
    {
      "cell_type": "markdown",
      "metadata": {
        "id": "ac1tUI3UjOMF"
      },
      "source": [
        "### XGBoost Hyperparameter Tuning python\n",
        "\n"
      ]
    },
    {
      "cell_type": "code",
      "execution_count": null,
      "metadata": {
        "colab": {
          "base_uri": "https://localhost:8080/"
        },
        "id": "aeWM0_T0jNUF",
        "outputId": "6b6fd3d7-faf2-4041-9b88-8a81bdd4fc6f"
      },
      "outputs": [
        {
          "output_type": "stream",
          "name": "stdout",
          "text": [
            "Requirement already satisfied: pandas in /usr/local/lib/python3.10/dist-packages (2.2.2)\n",
            "Requirement already satisfied: numpy in /usr/local/lib/python3.10/dist-packages (1.26.4)\n",
            "Requirement already satisfied: scikit-learn in /usr/local/lib/python3.10/dist-packages (1.0.2)\n",
            "Requirement already satisfied: xgboost in /usr/local/lib/python3.10/dist-packages (2.1.3)\n",
            "Requirement already satisfied: python-dateutil>=2.8.2 in /usr/local/lib/python3.10/dist-packages (from pandas) (2.8.2)\n",
            "Requirement already satisfied: pytz>=2020.1 in /usr/local/lib/python3.10/dist-packages (from pandas) (2024.2)\n",
            "Requirement already satisfied: tzdata>=2022.7 in /usr/local/lib/python3.10/dist-packages (from pandas) (2024.2)\n",
            "Requirement already satisfied: scipy>=1.1.0 in /usr/local/lib/python3.10/dist-packages (from scikit-learn) (1.13.1)\n",
            "Requirement already satisfied: joblib>=0.11 in /usr/local/lib/python3.10/dist-packages (from scikit-learn) (1.4.2)\n",
            "Requirement already satisfied: threadpoolctl>=2.0.0 in /usr/local/lib/python3.10/dist-packages (from scikit-learn) (3.5.0)\n",
            "Requirement already satisfied: nvidia-nccl-cu12 in /usr/local/lib/python3.10/dist-packages (from xgboost) (2.23.4)\n",
            "Requirement already satisfied: six>=1.5 in /usr/local/lib/python3.10/dist-packages (from python-dateutil>=2.8.2->pandas) (1.17.0)\n",
            "Requirement already satisfied: scikit-learn==1.0.2 in /usr/local/lib/python3.10/dist-packages (1.0.2)\n",
            "Requirement already satisfied: numpy>=1.14.6 in /usr/local/lib/python3.10/dist-packages (from scikit-learn==1.0.2) (1.26.4)\n",
            "Requirement already satisfied: scipy>=1.1.0 in /usr/local/lib/python3.10/dist-packages (from scikit-learn==1.0.2) (1.13.1)\n",
            "Requirement already satisfied: joblib>=0.11 in /usr/local/lib/python3.10/dist-packages (from scikit-learn==1.0.2) (1.4.2)\n",
            "Requirement already satisfied: threadpoolctl>=2.0.0 in /usr/local/lib/python3.10/dist-packages (from scikit-learn==1.0.2) (3.5.0)\n",
            "Fold 1, Model XGBoost, Dataset Combined, MAE: 2.9424, R²: 0.8325, Best Params: {'learning_rate': 0.1, 'max_depth': 6, 'n_estimators': 100, 'subsample': 0.8}\n",
            "Fold 1, Model XGBoost, Dataset Cooling, MAE: 2.5350, R²: 0.7751, Best Params: {'learning_rate': 0.1, 'max_depth': 6, 'n_estimators': 100, 'subsample': 0.8}\n",
            "Fold 1, Model XGBoost, Dataset Heating, MAE: 3.3397, R²: 0.4952, Best Params: {'learning_rate': 0.1, 'max_depth': 6, 'n_estimators': 100, 'subsample': 0.8}\n",
            "Fold 2, Model XGBoost, Dataset Combined, MAE: 2.6148, R²: 0.8642, Best Params: {'learning_rate': 0.1, 'max_depth': 6, 'n_estimators': 150, 'subsample': 0.8}\n",
            "Fold 2, Model XGBoost, Dataset Cooling, MAE: 2.1498, R²: 0.7995, Best Params: {'learning_rate': 0.1, 'max_depth': 6, 'n_estimators': 150, 'subsample': 0.8}\n",
            "Fold 2, Model XGBoost, Dataset Heating, MAE: 3.1266, R²: 0.5228, Best Params: {'learning_rate': 0.1, 'max_depth': 6, 'n_estimators': 150, 'subsample': 0.8}\n",
            "Fold 3, Model XGBoost, Dataset Combined, MAE: 2.7188, R²: 0.8549, Best Params: {'learning_rate': 0.1, 'max_depth': 6, 'n_estimators': 100, 'subsample': 0.8}\n",
            "Fold 3, Model XGBoost, Dataset Cooling, MAE: 2.2538, R²: 0.7730, Best Params: {'learning_rate': 0.1, 'max_depth': 6, 'n_estimators': 100, 'subsample': 0.8}\n",
            "Fold 3, Model XGBoost, Dataset Heating, MAE: 3.2103, R²: 0.5554, Best Params: {'learning_rate': 0.1, 'max_depth': 6, 'n_estimators': 100, 'subsample': 0.8}\n",
            "Fold 4, Model XGBoost, Dataset Combined, MAE: 2.6855, R²: 0.8630, Best Params: {'learning_rate': 0.1, 'max_depth': 6, 'n_estimators': 100, 'subsample': 1.0}\n",
            "Fold 4, Model XGBoost, Dataset Cooling, MAE: 2.1890, R²: 0.8392, Best Params: {'learning_rate': 0.1, 'max_depth': 6, 'n_estimators': 100, 'subsample': 1.0}\n",
            "Fold 4, Model XGBoost, Dataset Heating, MAE: 3.1411, R²: 0.4933, Best Params: {'learning_rate': 0.1, 'max_depth': 6, 'n_estimators': 100, 'subsample': 1.0}\n",
            "Fold 5, Model XGBoost, Dataset Combined, MAE: 2.9641, R²: 0.8336, Best Params: {'learning_rate': 0.1, 'max_depth': 6, 'n_estimators': 100, 'subsample': 0.8}\n",
            "Fold 5, Model XGBoost, Dataset Cooling, MAE: 2.6990, R²: 0.7617, Best Params: {'learning_rate': 0.1, 'max_depth': 6, 'n_estimators': 100, 'subsample': 0.8}\n",
            "Fold 5, Model XGBoost, Dataset Heating, MAE: 3.2187, R²: 0.5233, Best Params: {'learning_rate': 0.1, 'max_depth': 6, 'n_estimators': 100, 'subsample': 0.8}\n",
            "\n",
            "Summary Results for XGBoost:\n",
            "     Model   Dataset       MAE        R²\n",
            "0  XGBoost  Combined  2.785107  0.849647\n",
            "1  XGBoost   Cooling  2.365315  0.789722\n",
            "2  XGBoost   Heating  3.207280  0.517999\n"
          ]
        }
      ],
      "source": [
        "!pip install pandas numpy scikit-learn xgboost\n",
        "!pip install scikit-learn==1.0.2\n",
        "from sklearn.model_selection import GridSearchCV\n",
        "from xgboost import XGBRegressor\n",
        "import pandas as pd\n",
        "from sklearn.metrics import mean_absolute_error, r2_score\n",
        "\n",
        "# Placeholder for storing results\n",
        "results_xgb = []\n",
        "\n",
        "\n",
        "\n",
        "# Define hyperparameter grid for XGBoost\n",
        "param_grid_xgb = {\n",
        "    'n_estimators': [50, 100, 150],\n",
        "    'max_depth': [3, 6, 9],\n",
        "    'learning_rate': [0.01, 0.1, 0.2],\n",
        "    'subsample': [0.8, 1.0]\n",
        "}\n",
        "\n",
        "for i in range(1, 6):\n",
        "    # Load datasets\n",
        "    train_data = pd.read_csv(f'fold_101_{i}_filtered_train_data.csv')\n",
        "    test_data_combined = pd.read_csv(f'fold_101_{i}_filtered_test_data.csv')\n",
        "    test_data_cooling = pd.read_csv(f'fold_101_{i}_filtered_test_data_cooling.csv')\n",
        "    test_data_heating = pd.read_csv(f'fold_101_{i}_filtered_test_data_heating.csv')\n",
        "\n",
        "    # Split features and target\n",
        "    X_train = train_data.drop(columns=['WH_RTU_Total'])\n",
        "    y_train = train_data['WH_RTU_Total']\n",
        "\n",
        "    # Initialize XGBoost and perform GridSearchCV\n",
        "    xgb = XGBRegressor(random_state=100)\n",
        "    grid_search_xgb = GridSearchCV(xgb, param_grid_xgb, cv=3, scoring='neg_mean_absolute_error', n_jobs=-1)\n",
        "    grid_search_xgb.fit(X_train, y_train)\n",
        "\n",
        "    # Get the best model and hyperparameters\n",
        "    best_xgb = grid_search_xgb.best_estimator_\n",
        "    best_params = grid_search_xgb.best_params_\n",
        "\n",
        "    # Evaluate on Combined, Cooling, and Heating datasets\n",
        "    for dataset_type, test_data in [('Combined', test_data_combined),\n",
        "                                    ('Cooling', test_data_cooling),\n",
        "                                    ('Heating', test_data_heating)]:\n",
        "        # Split test features and target\n",
        "        X_test = test_data.drop(columns=['WH_RTU_Total'])\n",
        "        y_test = test_data['WH_RTU_Total']\n",
        "\n",
        "        # Predict and calculate metrics\n",
        "        y_pred = best_xgb.predict(X_test)\n",
        "        mae = mean_absolute_error(y_test, y_pred)\n",
        "        r2 = r2_score(y_test, y_pred)\n",
        "\n",
        "        # Store results\n",
        "        results_xgb.append({\n",
        "            'Fold': i,\n",
        "            'Seed': 101,\n",
        "            'Model': 'XGBoost',\n",
        "            'Dataset': dataset_type,\n",
        "            'MAE': mae,\n",
        "            'R²': r2,\n",
        "            'Best Params': best_params,\n",
        "            'Experiment': 1\n",
        "        })\n",
        "\n",
        "        print(f\"Fold {i}, Model XGBoost, Dataset {dataset_type}, MAE: {mae:.4f}, R²: {r2:.4f}, Best Params: {best_params}\")\n",
        "\n",
        "# Convert results to DataFrame\n",
        "results_xgb_df = pd.DataFrame(results_xgb)\n",
        "\n",
        "# Save detailed results to CSV\n",
        "results_xgb_df.to_csv(f'xgboost_101_combined_hyperparameter_results_detailed.csv', index=False)\n",
        "\n",
        "# Display overall summary\n",
        "print(\"\\nSummary Results for XGBoost:\")\n",
        "summary_xgb = results_xgb_df.groupby(['Model', 'Dataset']).agg({'MAE': 'mean', 'R²': 'mean'}).reset_index()\n",
        "print(summary_xgb)\n",
        "\n",
        "# Save summary to CSV\n",
        "summary_xgb.to_csv(f'xgboost_101_combined_hyperparameter_results_summary.csv', index=False)\n"
      ]
    },
    {
      "cell_type": "markdown",
      "metadata": {
        "id": "jEs4F6Fdw28P"
      },
      "source": [
        "### feature importance for xgboost"
      ]
    },
    {
      "cell_type": "code",
      "execution_count": null,
      "metadata": {
        "colab": {
          "base_uri": "https://localhost:8080/"
        },
        "collapsed": true,
        "id": "jafrscDjw6vM",
        "outputId": "742b2aa1-276b-4e7c-cc68-30680e5dbcd2"
      },
      "outputs": [
        {
          "output_type": "stream",
          "name": "stdout",
          "text": [
            "Feature importance for seed 101 has been successfully saved.\n"
          ]
        }
      ],
      "source": [
        "import pandas as pd\n",
        "from xgboost import XGBRegressor\n",
        "\n",
        "# Placeholder for feature importance results\n",
        "feature_importance_results = []\n",
        "\n",
        "\n",
        "\n",
        "# Section 1: Calculate Feature Importance\n",
        "for fold in range(1, 6):\n",
        "    # Load training data\n",
        "    train_data = pd.read_csv(f'fold_101_{fold}_filtered_train_data.csv')\n",
        "    X_train = train_data.drop(columns=['WH_RTU_Total'])\n",
        "    y_train = train_data['WH_RTU_Total']\n",
        "\n",
        "    # Extract the best parameters from the results file\n",
        "    results_xgb_df = pd.read_csv(f'xgboost_101_combined_hyperparameter_results_detailed.csv')\n",
        "    best_params = results_xgb_df.loc[\n",
        "        (results_xgb_df['Fold'] == fold) & (results_xgb_df['Dataset'] == 'Combined'),\n",
        "        'Best Params'\n",
        "    ].iloc[0]\n",
        "    best_params_dict = eval(best_params)  # Parse string into dictionary\n",
        "\n",
        "    # Initialize and train the model with the best parameters\n",
        "    best_xgb = XGBRegressor(random_state=100, **best_params_dict)\n",
        "    best_xgb.fit(X_train, y_train)\n",
        "\n",
        "    # Calculate feature importance\n",
        "    feature_importances = best_xgb.feature_importances_\n",
        "    feature_names = X_train.columns\n",
        "    importance_df = pd.DataFrame({\n",
        "        'Feature': feature_names,\n",
        "        'Importance': feature_importances,\n",
        "        'Fold': fold,\n",
        "        'Seed': 101,  # Add seed column\n",
        "        'Model': 'XGBoost',\n",
        "        'Experiment': 1  # Add model column\n",
        "    })\n",
        "    feature_importance_results.append(importance_df)\n",
        "\n",
        "# Combine all feature importance results\n",
        "feature_importance_combined = pd.concat(feature_importance_results, ignore_index=True)\n",
        "\n",
        "# Save the feature importance results to a file\n",
        "feature_importance_combined.to_csv(f'xgboost_101_combined_feature_importance.csv', index=False)\n",
        "\n",
        "print(f\"Feature importance for seed 101 has been successfully saved.\")\n"
      ]
    },
    {
      "cell_type": "markdown",
      "metadata": {
        "id": "U4_dQgOGC6LQ"
      },
      "source": [
        "### generate residual，predict，label，tout and rh out"
      ]
    },
    {
      "cell_type": "code",
      "execution_count": null,
      "metadata": {
        "colab": {
          "base_uri": "https://localhost:8080/"
        },
        "id": "qW4I3AgpDCnf",
        "outputId": "07584daa-9b49-4d5d-b80e-14bfc1014f24"
      },
      "outputs": [
        {
          "output_type": "stream",
          "name": "stdout",
          "text": [
            "Processed fold 1, dataset cooling.\n",
            "Processed fold 1, dataset heating.\n",
            "Processed fold 2, dataset cooling.\n",
            "Processed fold 2, dataset heating.\n",
            "Processed fold 3, dataset cooling.\n",
            "Processed fold 3, dataset heating.\n",
            "Processed fold 4, dataset cooling.\n",
            "Processed fold 4, dataset heating.\n",
            "Processed fold 5, dataset cooling.\n",
            "Processed fold 5, dataset heating.\n",
            "All folds processed and merged data saved successfully.\n"
          ]
        }
      ],
      "source": [
        "import pandas as pd\n",
        "from xgboost import XGBRegressor\n",
        "\n",
        "# Fixed seed value\n",
        "\n",
        "merged_data = []  # Placeholder for storing final merged data\n",
        "\n",
        "# Loop through each fold\n",
        "for fold in range(1, 6):\n",
        "    # Load training data\n",
        "    train_data = pd.read_csv(f'fold_101_{fold}_filtered_train_data.csv')\n",
        "    X_train = train_data.drop(columns=['WH_RTU_Total'])\n",
        "    y_train = train_data['WH_RTU_Total']\n",
        "\n",
        "    # Load the best model parameters for the current fold\n",
        "    best_params_df = pd.read_csv('xgboost_101_combined_hyperparameter_results_detailed.csv')\n",
        "    best_params = best_params_df.loc[(best_params_df['Fold'] == fold) & (best_params_df['Dataset'] == 'Combined'), 'Best Params'].iloc[0]\n",
        "    best_params_dict = eval(best_params)\n",
        "\n",
        "    # Train XGBoost model\n",
        "    best_xgb = XGBRegressor(random_state=100, **best_params_dict)\n",
        "    best_xgb.fit(X_train, y_train)\n",
        "\n",
        "    # Loop through Cooling and Heating datasets\n",
        "    for dataset_type in ['cooling', 'heating']:\n",
        "        # Load test data\n",
        "        test_data = pd.read_csv(f'fold_101_{fold}_filtered_test_data_{dataset_type}.csv')\n",
        "\n",
        "        # Split features and target\n",
        "        X_test = test_data.drop(columns=['WH_RTU_Total'])\n",
        "        y_test = test_data['WH_RTU_Total']\n",
        "\n",
        "        # Predict and calculate residuals\n",
        "        y_pred = best_xgb.predict(X_test)\n",
        "        test_data['Predicted'] = y_pred\n",
        "        test_data['Residual'] = test_data['WH_RTU_Total'] - test_data['Predicted']\n",
        "\n",
        "        # Select and rename required columns\n",
        "        if 'T_out' in test_data.columns and 'RH_out' in test_data.columns:\n",
        "            selected_data = test_data[['WH_RTU_Total', 'Predicted', 'Residual', 'T_out', 'RH_out', 'label']].rename(columns={\n",
        "                'WH_RTU_Total': 'Actual'\n",
        "            })\n",
        "        else:\n",
        "            raise ValueError(f\"'T_out' or 'RH_out' is missing in test data for fold {fold} and dataset {dataset_type}\")\n",
        "\n",
        "        # Add fold, seed, and model columns\n",
        "        selected_data['Fold'] = fold\n",
        "        selected_data['Seed'] = 101\n",
        "        selected_data['Model'] = 'XGBoost'\n",
        "        selected_data['Experiment'] = 1\n",
        "\n",
        "        # Append to final merged data\n",
        "        merged_data.append(selected_data)\n",
        "        print(f\"Processed fold {fold}, dataset {dataset_type}.\")\n",
        "\n",
        "# Combine all folds and datasets into a single DataFrame\n",
        "merged_final_data = pd.concat(merged_data, ignore_index=True)\n",
        "# Save the merged data\n",
        "merged_final_data.to_csv(f'xgboost_101_combined_residual.csv', index=False)\n",
        "\n",
        "print(\"All folds processed and merged data saved successfully.\")\n"
      ]
    },
    {
      "cell_type": "markdown",
      "metadata": {
        "id": "Li5yH4TMzcgE"
      },
      "source": [
        "## Stacking Regressor"
      ]
    },
    {
      "cell_type": "markdown",
      "metadata": {
        "id": "RtJ1JeVBqFYZ"
      },
      "source": [
        "### Stacking Regressor Hyperparameter Tuning"
      ]
    },
    {
      "cell_type": "code",
      "execution_count": null,
      "metadata": {
        "colab": {
          "base_uri": "https://localhost:8080/"
        },
        "id": "BOnwFdcAqH_V",
        "outputId": "28b5a62b-6d7b-45d2-8ebb-0940ce16294a"
      },
      "outputs": [
        {
          "output_type": "stream",
          "name": "stdout",
          "text": [
            "Fold 1, Model Stacking Regressor, Dataset Combined, MAE: 3.0105, R²: 0.8221, Best Params: {'final_estimator__fit_intercept': True, 'gb__learning_rate': 0.01, 'gb__max_depth': 3, 'rf__max_depth': 20, 'rf__n_estimators': 50}\n",
            "Fold 1, Model Stacking Regressor, Dataset Cooling, MAE: 2.5508, R²: 0.7645, Best Params: {'final_estimator__fit_intercept': True, 'gb__learning_rate': 0.01, 'gb__max_depth': 3, 'rf__max_depth': 20, 'rf__n_estimators': 50}\n",
            "Fold 1, Model Stacking Regressor, Dataset Heating, MAE: 3.4588, R²: 0.4549, Best Params: {'final_estimator__fit_intercept': True, 'gb__learning_rate': 0.01, 'gb__max_depth': 3, 'rf__max_depth': 20, 'rf__n_estimators': 50}\n",
            "Fold 2, Model Stacking Regressor, Dataset Combined, MAE: 2.5924, R²: 0.8645, Best Params: {'final_estimator__fit_intercept': True, 'gb__learning_rate': 0.1, 'gb__max_depth': 6, 'rf__max_depth': 10, 'rf__n_estimators': 100}\n",
            "Fold 2, Model Stacking Regressor, Dataset Cooling, MAE: 2.1013, R²: 0.7894, Best Params: {'final_estimator__fit_intercept': True, 'gb__learning_rate': 0.1, 'gb__max_depth': 6, 'rf__max_depth': 10, 'rf__n_estimators': 100}\n",
            "Fold 2, Model Stacking Regressor, Dataset Heating, MAE: 3.1330, R²: 0.5493, Best Params: {'final_estimator__fit_intercept': True, 'gb__learning_rate': 0.1, 'gb__max_depth': 6, 'rf__max_depth': 10, 'rf__n_estimators': 100}\n",
            "Fold 3, Model Stacking Regressor, Dataset Combined, MAE: 2.6573, R²: 0.8571, Best Params: {'final_estimator__fit_intercept': False, 'gb__learning_rate': 0.1, 'gb__max_depth': 6, 'rf__max_depth': 20, 'rf__n_estimators': 50}\n",
            "Fold 3, Model Stacking Regressor, Dataset Cooling, MAE: 2.1274, R²: 0.7836, Best Params: {'final_estimator__fit_intercept': False, 'gb__learning_rate': 0.1, 'gb__max_depth': 6, 'rf__max_depth': 20, 'rf__n_estimators': 50}\n",
            "Fold 3, Model Stacking Regressor, Dataset Heating, MAE: 3.2176, R²: 0.5460, Best Params: {'final_estimator__fit_intercept': False, 'gb__learning_rate': 0.1, 'gb__max_depth': 6, 'rf__max_depth': 20, 'rf__n_estimators': 50}\n",
            "Fold 4, Model Stacking Regressor, Dataset Combined, MAE: 2.6575, R²: 0.8614, Best Params: {'final_estimator__fit_intercept': False, 'gb__learning_rate': 0.01, 'gb__max_depth': 6, 'rf__max_depth': 10, 'rf__n_estimators': 100}\n",
            "Fold 4, Model Stacking Regressor, Dataset Cooling, MAE: 2.1115, R²: 0.8340, Best Params: {'final_estimator__fit_intercept': False, 'gb__learning_rate': 0.01, 'gb__max_depth': 6, 'rf__max_depth': 10, 'rf__n_estimators': 100}\n",
            "Fold 4, Model Stacking Regressor, Dataset Heating, MAE: 3.1586, R²: 0.4964, Best Params: {'final_estimator__fit_intercept': False, 'gb__learning_rate': 0.01, 'gb__max_depth': 6, 'rf__max_depth': 10, 'rf__n_estimators': 100}\n",
            "Fold 5, Model Stacking Regressor, Dataset Combined, MAE: 2.9307, R²: 0.8344, Best Params: {'final_estimator__fit_intercept': False, 'gb__learning_rate': 0.1, 'gb__max_depth': 6, 'rf__max_depth': 20, 'rf__n_estimators': 50}\n",
            "Fold 5, Model Stacking Regressor, Dataset Cooling, MAE: 2.6646, R²: 0.7566, Best Params: {'final_estimator__fit_intercept': False, 'gb__learning_rate': 0.1, 'gb__max_depth': 6, 'rf__max_depth': 20, 'rf__n_estimators': 50}\n",
            "Fold 5, Model Stacking Regressor, Dataset Heating, MAE: 3.1862, R²: 0.5427, Best Params: {'final_estimator__fit_intercept': False, 'gb__learning_rate': 0.1, 'gb__max_depth': 6, 'rf__max_depth': 20, 'rf__n_estimators': 50}\n",
            "\n",
            "Summary Results for Stacking Regressor:\n",
            "                Model   Dataset       MAE        R²\n",
            "0  Stacking Regressor  Combined  2.769686  0.847885\n",
            "1  Stacking Regressor   Cooling  2.311099  0.785622\n",
            "2  Stacking Regressor   Heating  3.230840  0.517877\n"
          ]
        }
      ],
      "source": [
        "from sklearn.model_selection import GridSearchCV\n",
        "from sklearn.ensemble import StackingRegressor\n",
        "from sklearn.linear_model import LinearRegression\n",
        "from sklearn.ensemble import RandomForestRegressor, GradientBoostingRegressor\n",
        "from sklearn.metrics import mean_absolute_error, r2_score\n",
        "import pandas as pd\n",
        "\n",
        "# Placeholder for storing results\n",
        "results_stacking = []\n",
        "\n",
        "\n",
        "# Define hyperparameter grid for Stacking Regressor\n",
        "param_grid_stacking = {\n",
        "    'final_estimator__fit_intercept': [True, False],  # Meta-model parameter (LinearRegression)\n",
        "    'rf__n_estimators': [50, 100],                   # Base model: Random Forest\n",
        "    'rf__max_depth': [10, 20],                       # Base model: Random Forest\n",
        "    'gb__learning_rate': [0.01, 0.1],                # Base model: Gradient Boosting\n",
        "    'gb__max_depth': [3, 6]                          # Base model: Gradient Boosting\n",
        "}\n",
        "\n",
        "for i in range(1, 6):\n",
        "    # Load datasets\n",
        "    train_data = pd.read_csv(f'fold_101_{i}_filtered_train_data.csv')\n",
        "    test_data_combined = pd.read_csv(f'fold_101_{i}_filtered_test_data.csv')\n",
        "    test_data_cooling = pd.read_csv(f'fold_101_{i}_filtered_test_data_cooling.csv')\n",
        "    test_data_heating = pd.read_csv(f'fold_101_{i}_filtered_test_data_heating.csv')\n",
        "\n",
        "    # Split features and target\n",
        "    X_train = train_data.drop(columns=['WH_RTU_Total'])\n",
        "    y_train = train_data['WH_RTU_Total']\n",
        "\n",
        "    # Define base models and Stacking Regressor\n",
        "    base_models = [\n",
        "        ('rf', RandomForestRegressor(random_state=100)),\n",
        "        ('gb', GradientBoostingRegressor(random_state=100))\n",
        "    ]\n",
        "    meta_model = LinearRegression()\n",
        "    stacking = StackingRegressor(estimators=base_models, final_estimator=meta_model)\n",
        "\n",
        "    # Perform GridSearchCV on the Stacking Regressor\n",
        "    grid_search_stacking = GridSearchCV(stacking, param_grid_stacking, cv=3, scoring='neg_mean_absolute_error', n_jobs=-1)\n",
        "    grid_search_stacking.fit(X_train, y_train)\n",
        "\n",
        "    # Get the best model and hyperparameters\n",
        "    best_stacking = grid_search_stacking.best_estimator_\n",
        "    best_params = grid_search_stacking.best_params_\n",
        "\n",
        "    # Evaluate on Combined, Cooling, and Heating datasets\n",
        "    for dataset_type, test_data in [('Combined', test_data_combined),\n",
        "                                    ('Cooling', test_data_cooling),\n",
        "                                    ('Heating', test_data_heating)]:\n",
        "        # Split test features and target\n",
        "        X_test = test_data.drop(columns=['WH_RTU_Total'])\n",
        "        y_test = test_data['WH_RTU_Total']\n",
        "\n",
        "        # Predict and calculate metrics\n",
        "        y_pred = best_stacking.predict(X_test)\n",
        "        mae = mean_absolute_error(y_test, y_pred)\n",
        "        r2 = r2_score(y_test, y_pred)\n",
        "\n",
        "        # Store results\n",
        "        results_stacking.append({\n",
        "            'Fold': i,\n",
        "            'Seed': 101,  # Add seed column\n",
        "            'Model': 'Stacking Regressor',\n",
        "            'Dataset': dataset_type,\n",
        "            'MAE': mae,\n",
        "            'R²': r2,\n",
        "            'Best Params': best_params,\n",
        "            'Experiment': 1  # Add model column\n",
        "        })\n",
        "\n",
        "        print(f\"Fold {i}, Model Stacking Regressor, Dataset {dataset_type}, MAE: {mae:.4f}, R²: {r2:.4f}, Best Params: {best_params}\")\n",
        "\n",
        "# Convert results to DataFrame\n",
        "results_stacking_df = pd.DataFrame(results_stacking)\n",
        "\n",
        "# Save detailed results to CSV\n",
        "results_stacking_df.to_csv('stacking_101_combined_hyperparameter_results_detailed.csv', index=False)\n",
        "\n",
        "# Display overall summary\n",
        "print(\"\\nSummary Results for Stacking Regressor:\")\n",
        "summary_stacking = results_stacking_df.groupby(['Model', 'Dataset']).agg({'MAE': 'mean', 'R²': 'mean'}).reset_index()\n",
        "print(summary_stacking)\n",
        "\n",
        "# Save summary to CSV\n",
        "summary_stacking.to_csv('stacking_101_combined_hyperparameter_results_summary.csv', index=False)\n"
      ]
    },
    {
      "cell_type": "markdown",
      "metadata": {
        "id": "q_4JmnPXx5gl"
      },
      "source": [
        "### feature importance for combine stacking regressor"
      ]
    },
    {
      "cell_type": "code",
      "execution_count": null,
      "metadata": {
        "colab": {
          "base_uri": "https://localhost:8080/"
        },
        "id": "ERQYu4Mxx5Gq",
        "outputId": "c42aa717-db6a-49e7-c2f6-feaa8c5ca462"
      },
      "outputs": [
        {
          "output_type": "stream",
          "name": "stdout",
          "text": [
            "Feature importance for seed 101 has been successfully saved.\n"
          ]
        }
      ],
      "source": [
        "import pandas as pd\n",
        "from sklearn.linear_model import LinearRegression\n",
        "from sklearn.ensemble import RandomForestRegressor, GradientBoostingRegressor, StackingRegressor\n",
        "\n",
        "# Placeholder for feature importance results\n",
        "feature_importance_results = []\n",
        "\n",
        "\n",
        "\n",
        "# Section 1: Calculate Feature Importance\n",
        "for fold in range(1, 6):\n",
        "    # Load training data\n",
        "    train_data = pd.read_csv(f'fold_101_{fold}_filtered_train_data.csv')\n",
        "    X_train = train_data.drop(columns=['WH_RTU_Total'])\n",
        "    y_train = train_data['WH_RTU_Total']\n",
        "\n",
        "    # Extract the best parameters from the results file\n",
        "    results_stacking_df = pd.read_csv(f'stacking_101_combined_hyperparameter_results_detailed.csv')\n",
        "    best_params = results_stacking_df.loc[\n",
        "        (results_stacking_df['Fold'] == fold) & (results_stacking_df['Dataset'] == 'Combined'),\n",
        "        'Best Params'\n",
        "    ].iloc[0]\n",
        "    best_params_dict = eval(best_params)  # Parse string into dictionary\n",
        "\n",
        "    # Define base models\n",
        "    base_models = [\n",
        "        ('rf', RandomForestRegressor(random_state=100, **{k.split('__')[1]: v for k, v in best_params_dict.items() if k.startswith('rf__')})),\n",
        "        ('gb', GradientBoostingRegressor(random_state=100, **{k.split('__')[1]: v for k, v in best_params_dict.items() if k.startswith('gb__')}))\n",
        "    ]\n",
        "    meta_model = LinearRegression(**{k.split('__')[1]: v for k, v in best_params_dict.items() if k.startswith('final_estimator__')})\n",
        "\n",
        "    # Define Stacking Regressor and fit the model\n",
        "    stacking = StackingRegressor(estimators=base_models, final_estimator=meta_model)\n",
        "    stacking.fit(X_train, y_train)\n",
        "\n",
        "    # Calculate feature importances from base models\n",
        "    for model_name, model in stacking.named_estimators_.items():\n",
        "        if hasattr(model, 'feature_importances_'):  # Check if the model supports feature importance\n",
        "            feature_importances = model.feature_importances_\n",
        "            feature_names = X_train.columns\n",
        "            importance_df = pd.DataFrame({\n",
        "                'Feature': feature_names,\n",
        "                'Importance': feature_importances,\n",
        "                'Model': model_name,\n",
        "                'Fold': fold,\n",
        "                'Seed': 101,\n",
        "                'Experiment': 1  # Add seed column for reference\n",
        "            })\n",
        "            feature_importance_results.append(importance_df)\n",
        "\n",
        "# Combine all feature importance results\n",
        "feature_importance_combined = pd.concat(feature_importance_results, ignore_index=True)\n",
        "\n",
        "# Save the feature importance results to a file\n",
        "feature_importance_combined.to_csv(f'stacking_101_combined_feature_importance.csv', index=False)\n",
        "\n",
        "print(f\"Feature importance for seed 101 has been successfully saved.\")\n"
      ]
    },
    {
      "cell_type": "markdown",
      "metadata": {
        "id": "MqruwTArcjs0"
      },
      "source": [
        "### generate residual ，predict，label，t_out and RH_OUT"
      ]
    },
    {
      "cell_type": "code",
      "execution_count": null,
      "metadata": {
        "colab": {
          "base_uri": "https://localhost:8080/"
        },
        "id": "LMfd6F22W2HB",
        "outputId": "04ace8da-ad33-46fe-e500-c26c49d214e0"
      },
      "outputs": [
        {
          "output_type": "stream",
          "name": "stdout",
          "text": [
            "Processed fold 1, dataset cooling.\n",
            "Processed fold 1, dataset heating.\n",
            "Processed fold 2, dataset cooling.\n",
            "Processed fold 2, dataset heating.\n",
            "Processed fold 3, dataset cooling.\n",
            "Processed fold 3, dataset heating.\n",
            "Processed fold 4, dataset cooling.\n",
            "Processed fold 4, dataset heating.\n",
            "Processed fold 5, dataset cooling.\n",
            "Processed fold 5, dataset heating.\n",
            "All folds processed and merged data saved successfully.\n"
          ]
        }
      ],
      "source": [
        "import pandas as pd\n",
        "from sklearn.ensemble import StackingRegressor, RandomForestRegressor, GradientBoostingRegressor\n",
        "from sklearn.linear_model import LinearRegression\n",
        "\n",
        "\n",
        "\n",
        "merged_data = []  # Placeholder for storing final merged data\n",
        "\n",
        "# Load the best model parameters for each fold\n",
        "best_params_df = pd.read_csv('stacking_101_combined_hyperparameter_results_detailed.csv')\n",
        "\n",
        "# Loop through each fold\n",
        "for fold in range(1, 6):\n",
        "    # Load training data\n",
        "    train_data = pd.read_csv(f'fold_101_{fold}_filtered_train_data.csv')\n",
        "    X_train = train_data.drop(columns=['WH_RTU_Total'])\n",
        "    y_train = train_data['WH_RTU_Total']\n",
        "\n",
        "    # Get the best parameters for the current fold\n",
        "    best_params = best_params_df.loc[best_params_df['Fold'] == fold, 'Best Params'].iloc[0]\n",
        "    best_params_dict = eval(best_params)\n",
        "\n",
        "    # Define base models and Stacking Regressor with best parameters\n",
        "    base_models = [\n",
        "        ('rf', RandomForestRegressor(random_state=100,\n",
        "                                     n_estimators=best_params_dict['rf__n_estimators'],\n",
        "                                     max_depth=best_params_dict['rf__max_depth'])),\n",
        "        ('gb', GradientBoostingRegressor(random_state=100,\n",
        "                                         learning_rate=best_params_dict['gb__learning_rate'],\n",
        "                                         max_depth=best_params_dict['gb__max_depth']))\n",
        "    ]\n",
        "    meta_model = LinearRegression(fit_intercept=best_params_dict['final_estimator__fit_intercept'])\n",
        "    best_stacking = StackingRegressor(estimators=base_models, final_estimator=meta_model)\n",
        "\n",
        "    # Train the Stacking Regressor\n",
        "    best_stacking.fit(X_train, y_train)\n",
        "\n",
        "    # Loop through Cooling and Heating datasets\n",
        "    for dataset_type in ['cooling', 'heating']:\n",
        "        # Load test data\n",
        "        test_data = pd.read_csv(f'fold_101_{fold}_filtered_test_data_{dataset_type}.csv')\n",
        "\n",
        "        # Split features and target\n",
        "        X_test = test_data.drop(columns=['WH_RTU_Total'])\n",
        "        y_test = test_data['WH_RTU_Total']\n",
        "\n",
        "        # Predict and calculate residuals\n",
        "        y_pred = best_stacking.predict(X_test)\n",
        "        test_data['Predicted'] = y_pred\n",
        "        test_data['Residual'] = test_data['WH_RTU_Total'] - test_data['Predicted']\n",
        "\n",
        "        # Select and rename required columns\n",
        "        if 'T_out' in test_data.columns and 'RH_out' in test_data.columns:\n",
        "            selected_data = test_data[['WH_RTU_Total', 'Predicted', 'Residual', 'T_out', 'RH_out', 'label']].rename(columns={\n",
        "                'WH_RTU_Total': 'Actual'\n",
        "            })\n",
        "        else:\n",
        "            raise ValueError(f\"'T_out' or 'RH_out' is missing in test data for fold {fold} and dataset {dataset_type}\")\n",
        "\n",
        "        # Add fold, seed, and model columns\n",
        "        selected_data['Fold'] = fold\n",
        "        selected_data['Seed'] = 101\n",
        "        selected_data['Model'] = 'StackingRegressor'\n",
        "        selected_data['Experiment'] = 1\n",
        "\n",
        "        # Append to final merged data\n",
        "        merged_data.append(selected_data)\n",
        "        print(f\"Processed fold {fold}, dataset {dataset_type}.\")\n",
        "\n",
        "# Combine all folds and datasets into a single DataFrame\n",
        "merged_final_data = pd.concat(merged_data, ignore_index=True)\n",
        "# Save the merged data\n",
        "merged_final_data.to_csv(f'stacking_101_combined_residual.csv', index=False)\n",
        "\n",
        "print(\"All folds processed and merged data saved successfully.\")\n"
      ]
    },
    {
      "cell_type": "markdown",
      "metadata": {
        "id": "4igMB904NPx9"
      },
      "source": [
        "# Cooling Experiment"
      ]
    },
    {
      "cell_type": "markdown",
      "metadata": {
        "id": "5P2T4w25Mcz6"
      },
      "source": [
        "do the same model performance for cooling data, first divide the cooling data into 5 folds and generate differet training and testing groups"
      ]
    },
    {
      "cell_type": "code",
      "execution_count": null,
      "metadata": {
        "colab": {
          "base_uri": "https://localhost:8080/"
        },
        "id": "l8qgHS9IMnUE",
        "outputId": "c1c624ce-81c7-4d86-aa2e-7c30145f7915"
      },
      "outputs": [
        {
          "output_type": "stream",
          "name": "stdout",
          "text": [
            "Training and test data for 5 folds with seed 101 have been generated and saved.\n"
          ]
        }
      ],
      "source": [
        "import pandas as pd\n",
        "from sklearn.model_selection import KFold\n",
        "\n",
        "# Load the combined data\n",
        "cooling_data_with_interactions_101 = pd.read_csv('cooling_data_with_interactions_101.csv')\n",
        "\n",
        "# Initialize KFold with 5 splits\n",
        "kf = KFold(n_splits=5, shuffle=True, random_state=101)\n",
        "\n",
        "# Create storage for training and test data splits\n",
        "folds = []\n",
        "\n",
        "# Split the data into 5 folds\n",
        "for train_index, test_index in kf.split(cooling_data_with_interactions_101):\n",
        "    train_data = cooling_data_with_interactions_101.iloc[train_index]\n",
        "    test_data = cooling_data_with_interactions_101.iloc[test_index]\n",
        "    folds.append((train_data, test_data))\n",
        "\n",
        "# Save each training and test group as separate files\n",
        "for i, (train_data, test_data) in enumerate(folds):\n",
        "    train_data.to_csv(f'cooling_train_101_fold{i+1}.csv', index=False)\n",
        "    test_data.to_csv(f'cooling_test_101_fold{i+1}.csv', index=False)\n",
        "\n",
        "print(\"Training and test data for 5 folds with seed 101 have been generated and saved.\")\n"
      ]
    },
    {
      "cell_type": "markdown",
      "metadata": {
        "id": "bVASFn-_Na2F"
      },
      "source": [
        "do the feature selection solely based on the training data"
      ]
    },
    {
      "cell_type": "code",
      "execution_count": null,
      "metadata": {
        "colab": {
          "base_uri": "https://localhost:8080/"
        },
        "id": "iHykW-loNgCJ",
        "outputId": "1f153a7b-781d-45e1-ec52-fe94966fb178"
      },
      "outputs": [
        {
          "output_type": "stream",
          "name": "stdout",
          "text": [
            "Top 25 features for cooling fold 1 with seed 101 saved.\n",
            "Top 25 features for cooling fold 2 with seed 101 saved.\n",
            "Top 25 features for cooling fold 3 with seed 101 saved.\n",
            "Top 25 features for cooling fold 4 with seed 101 saved.\n",
            "Top 25 features for cooling fold 5 with seed 101 saved.\n"
          ]
        }
      ],
      "source": [
        "import pandas as pd\n",
        "from sklearn.ensemble import RandomForestRegressor\n",
        "\n",
        "# Function to perform feature selection\n",
        "def feature_selection(train_data, target_column, preselected_features, k=25):\n",
        "    # Separate features and target\n",
        "    X = train_data.drop(columns=[target_column, 'TIMESTAMP'], errors='ignore')  # Drop TIMESTAMP\n",
        "    y = train_data[target_column]\n",
        "\n",
        "    # Train a RandomForestRegressor model\n",
        "    rf_model = RandomForestRegressor(n_estimators=100, random_state=100)\n",
        "    rf_model.fit(X, y)\n",
        "\n",
        "    # Get feature names and their importance scores\n",
        "    feature_importances = rf_model.feature_importances_\n",
        "    feature_names = X.columns\n",
        "\n",
        "    # Combine feature names and scores into a DataFrame\n",
        "    selected_features = pd.DataFrame({\n",
        "        'Feature': feature_names,\n",
        "        'Importance': feature_importances\n",
        "    }).sort_values(by='Importance', ascending=False)\n",
        "\n",
        "    # Select the preselected features (label, T_out, RH_out)\n",
        "    preselected_df = selected_features[selected_features['Feature'].isin(preselected_features)]\n",
        "\n",
        "    # Select the remaining top features after excluding preselected ones\n",
        "    remaining_features = selected_features[~selected_features['Feature'].isin(preselected_features)]\n",
        "    top_remaining_features = remaining_features.head(k - len(preselected_features))\n",
        "\n",
        "    # Combine preselected features with the top remaining features\n",
        "    final_features = pd.concat([preselected_df, top_remaining_features])\n",
        "\n",
        "    return final_features\n",
        "\n",
        "# Perform feature selection for each fold\n",
        "target_column = 'WH_RTU_Total'\n",
        "preselected_features = ['label', 'T_out', 'RH_out']\n",
        "\n",
        "for i in range(1, 6):\n",
        "    train_data = pd.read_csv(f'cooling_train_101_fold{i}.csv')\n",
        "\n",
        "    # Perform feature selection\n",
        "    top_features = feature_selection(train_data, target_column, preselected_features, k=25)\n",
        "\n",
        "    # Save top features\n",
        "    top_features.to_csv(f'cooling_train_101_fold{i}_top25_features.csv', index=False)\n",
        "\n",
        "    print(f\"Top 25 features for cooling fold {i} with seed 101 saved.\")\n"
      ]
    },
    {
      "cell_type": "markdown",
      "metadata": {
        "id": "6YlDMNe2QA1D"
      },
      "source": [
        "prepare the cooling dataset's training and test data"
      ]
    },
    {
      "cell_type": "code",
      "execution_count": null,
      "metadata": {
        "colab": {
          "base_uri": "https://localhost:8080/"
        },
        "id": "k4b3nYkXQGfy",
        "outputId": "bb5394ae-9d89-4de8-bab9-1fb5fcb89aba"
      },
      "outputs": [
        {
          "output_type": "stream",
          "name": "stdout",
          "text": [
            "Filtered cooling train data for fold 1 saved.\n",
            "Filtered cooling test data for fold 1 saved.\n",
            "Filtered cooling train data for fold 2 saved.\n",
            "Filtered cooling test data for fold 2 saved.\n",
            "Filtered cooling train data for fold 3 saved.\n",
            "Filtered cooling test data for fold 3 saved.\n",
            "Filtered cooling train data for fold 4 saved.\n",
            "Filtered cooling test data for fold 4 saved.\n",
            "Filtered cooling train data for fold 5 saved.\n",
            "Filtered cooling test data for fold 5 saved.\n"
          ]
        }
      ],
      "source": [
        "import pandas as pd\n",
        "\n",
        "# Target variable\n",
        "target_column = 'WH_RTU_Total'\n",
        "\n",
        "for i in range(1, 6):\n",
        "    # Load the original training and test datasets for the current fold\n",
        "    train_data = pd.read_csv(f'cooling_train_101_fold{i}.csv')\n",
        "    test_data = pd.read_csv(f'cooling_test_101_fold{i}.csv')\n",
        "\n",
        "    # Load the top 25 features selected from the current fold\n",
        "    top_features = pd.read_csv(f'cooling_train_101_fold{i}_top25_features.csv')['Feature'].tolist()\n",
        "\n",
        "    # Ensure the target column is included in the selected features\n",
        "    filtered_columns = top_features + [target_column]  # Train data does not include 'label'\n",
        "\n",
        "    # Filter the training data\n",
        "    filtered_train_data = train_data[filtered_columns]\n",
        "    filtered_train_data.to_csv(f'fold{i}_cooling_filtered_train_101_data.csv', index=False)\n",
        "    print(f\"Filtered cooling train data for fold {i} saved.\")\n",
        "\n",
        "    # Filter the test data (temporarily including 'label')\n",
        "    filtered_test_data = test_data[filtered_columns]\n",
        "\n",
        "    # Save all datasets\n",
        "    filtered_test_data.to_csv(f'fold{i}_cooling_filtered_test_101_data.csv', index=False)\n",
        "    print(f\"Filtered cooling test data for fold {i} saved.\")\n",
        "\n"
      ]
    },
    {
      "cell_type": "markdown",
      "metadata": {
        "id": "2AhCXvSTRyvS"
      },
      "source": [
        "generate the mae and R2 value for the four models:linear regression, random forest ,xgboost and stacking ensemble regressor."
      ]
    },
    {
      "cell_type": "code",
      "execution_count": null,
      "metadata": {
        "colab": {
          "base_uri": "https://localhost:8080/"
        },
        "id": "wXEa8mLQR7ka",
        "outputId": "4858e5bd-f122-4a3f-e3dd-2b1a03087346"
      },
      "outputs": [
        {
          "output_type": "stream",
          "name": "stdout",
          "text": [
            "Requirement already satisfied: pandas in /usr/local/lib/python3.10/dist-packages (2.2.2)\n",
            "Requirement already satisfied: numpy in /usr/local/lib/python3.10/dist-packages (1.26.4)\n",
            "Requirement already satisfied: scikit-learn in /usr/local/lib/python3.10/dist-packages (1.0.2)\n",
            "Requirement already satisfied: xgboost in /usr/local/lib/python3.10/dist-packages (2.1.3)\n",
            "Requirement already satisfied: python-dateutil>=2.8.2 in /usr/local/lib/python3.10/dist-packages (from pandas) (2.8.2)\n",
            "Requirement already satisfied: pytz>=2020.1 in /usr/local/lib/python3.10/dist-packages (from pandas) (2024.2)\n",
            "Requirement already satisfied: tzdata>=2022.7 in /usr/local/lib/python3.10/dist-packages (from pandas) (2024.2)\n",
            "Requirement already satisfied: scipy>=1.1.0 in /usr/local/lib/python3.10/dist-packages (from scikit-learn) (1.13.1)\n",
            "Requirement already satisfied: joblib>=0.11 in /usr/local/lib/python3.10/dist-packages (from scikit-learn) (1.4.2)\n",
            "Requirement already satisfied: threadpoolctl>=2.0.0 in /usr/local/lib/python3.10/dist-packages (from scikit-learn) (3.5.0)\n",
            "Requirement already satisfied: nvidia-nccl-cu12 in /usr/local/lib/python3.10/dist-packages (from xgboost) (2.23.4)\n",
            "Requirement already satisfied: six>=1.5 in /usr/local/lib/python3.10/dist-packages (from python-dateutil>=2.8.2->pandas) (1.17.0)\n",
            "Requirement already satisfied: scikit-learn==1.0.2 in /usr/local/lib/python3.10/dist-packages (1.0.2)\n",
            "Requirement already satisfied: numpy>=1.14.6 in /usr/local/lib/python3.10/dist-packages (from scikit-learn==1.0.2) (1.26.4)\n",
            "Requirement already satisfied: scipy>=1.1.0 in /usr/local/lib/python3.10/dist-packages (from scikit-learn==1.0.2) (1.13.1)\n",
            "Requirement already satisfied: joblib>=0.11 in /usr/local/lib/python3.10/dist-packages (from scikit-learn==1.0.2) (1.4.2)\n",
            "Requirement already satisfied: threadpoolctl>=2.0.0 in /usr/local/lib/python3.10/dist-packages (from scikit-learn==1.0.2) (3.5.0)\n",
            "Fold 1, Model Linear Regression, MAE: 4.7338, R²: 0.4667\n",
            "Fold 1, Model Random Forest, MAE: 2.1845, R²: 0.8002\n",
            "Fold 1, Model XGBoost, MAE: 2.2542, R²: 0.7942\n",
            "Fold 1, Model Stacking Regressor, MAE: 2.1934, R²: 0.8166\n",
            "Fold 2, Model Linear Regression, MAE: 5.0159, R²: 0.4861\n",
            "Fold 2, Model Random Forest, MAE: 2.4417, R²: 0.7705\n",
            "Fold 2, Model XGBoost, MAE: 2.5195, R²: 0.7597\n",
            "Fold 2, Model Stacking Regressor, MAE: 2.4695, R²: 0.7730\n",
            "Fold 3, Model Linear Regression, MAE: 4.5147, R²: 0.5127\n",
            "Fold 3, Model Random Forest, MAE: 2.0013, R²: 0.8072\n",
            "Fold 3, Model XGBoost, MAE: 2.1948, R²: 0.7852\n",
            "Fold 3, Model Stacking Regressor, MAE: 2.0541, R²: 0.8064\n",
            "Fold 4, Model Linear Regression, MAE: 4.7177, R²: 0.5006\n",
            "Fold 4, Model Random Forest, MAE: 2.3936, R²: 0.7782\n",
            "Fold 4, Model XGBoost, MAE: 2.4526, R²: 0.7621\n",
            "Fold 4, Model Stacking Regressor, MAE: 2.4178, R²: 0.7799\n",
            "Fold 5, Model Linear Regression, MAE: 4.8901, R²: 0.5034\n",
            "Fold 5, Model Random Forest, MAE: 2.5920, R²: 0.7409\n",
            "Fold 5, Model XGBoost, MAE: 2.5632, R²: 0.7569\n",
            "Fold 5, Model Stacking Regressor, MAE: 2.5371, R²: 0.7602\n",
            "\n",
            "Summary Results for All Models (Cooling Data):\n",
            "                         MAE        R²\n",
            "Model                                 \n",
            "Random Forest       2.322603  0.779397\n",
            "Stacking Regressor  2.334393  0.787228\n",
            "XGBoost             2.396864  0.771583\n",
            "Linear Regression   4.774433  0.493868\n"
          ]
        }
      ],
      "source": [
        "!pip install pandas numpy scikit-learn xgboost\n",
        "!pip install scikit-learn==1.0.2\n",
        "from sklearn.model_selection import GridSearchCV\n",
        "from xgboost import XGBRegressor\n",
        "import pandas as pd\n",
        "from sklearn.metrics import mean_absolute_error, r2_score\n",
        "from sklearn.ensemble import GradientBoostingRegressor\n",
        "import pandas as pd\n",
        "import numpy as np\n",
        "from sklearn.linear_model import LinearRegression\n",
        "from sklearn.ensemble import RandomForestRegressor\n",
        "from xgboost import XGBRegressor\n",
        "from sklearn.ensemble import StackingRegressor\n",
        "from sklearn.metrics import mean_absolute_error, r2_score\n",
        "# Placeholder for storing results\n",
        "results = []\n",
        "\n",
        "# Loop through each fold\n",
        "for i in range(1, 6):\n",
        "    # Load filtered training and test datasets for cooling data\n",
        "    train_data = pd.read_csv(f'fold{i}_cooling_filtered_train_101_data.csv')\n",
        "    test_data = pd.read_csv(f'fold{i}_cooling_filtered_test_101_data.csv')\n",
        "\n",
        "    # Separate features and target for training and testing data\n",
        "    target_column = 'WH_RTU_Total'\n",
        "    X_train = train_data.drop(columns=[target_column])\n",
        "    y_train = train_data[target_column]\n",
        "    X_test = test_data.drop(columns=[target_column])\n",
        "    y_test = test_data[target_column]\n",
        "\n",
        "    # Define models with default parameters\n",
        "    models = {\n",
        "        'Linear Regression': LinearRegression(),\n",
        "        'Random Forest': RandomForestRegressor(random_state=100),\n",
        "        'XGBoost': XGBRegressor(random_state=100),\n",
        "        'Stacking Regressor': StackingRegressor(\n",
        "            estimators=[\n",
        "                ('lr', LinearRegression()),\n",
        "                ('rf', RandomForestRegressor(random_state=100)),\n",
        "                ('xgb', XGBRegressor(random_state=100))\n",
        "            ]\n",
        "        )\n",
        "    }\n",
        "\n",
        "    # Train and evaluate each model\n",
        "    for model_name, model in models.items():\n",
        "        # Train model\n",
        "        model.fit(X_train, y_train)\n",
        "\n",
        "        # Predict on test data\n",
        "        y_pred = model.predict(X_test)\n",
        "\n",
        "        # Calculate MAE and R²\n",
        "        mae = mean_absolute_error(y_test, y_pred)\n",
        "        r2 = r2_score(y_test, y_pred)\n",
        "\n",
        "        # Store results\n",
        "        results.append({\n",
        "            'Fold': i,\n",
        "            'Seed': 101,\n",
        "            'Model': model_name,\n",
        "            'Dataset': 'Cooling',\n",
        "            'MAE': mae,\n",
        "            'R²': r2,\n",
        "            'Experiment':2\n",
        "        })\n",
        "\n",
        "        print(f\"Fold {i}, Model {model_name}, MAE: {mae:.4f}, R²: {r2:.4f}\")\n",
        "\n",
        "# Convert results to a DataFrame\n",
        "results_df = pd.DataFrame(results)\n",
        "\n",
        "# Save results to CSV\n",
        "results_df.to_csv('cooling_data_results_mae_r2.csv', index=False)\n",
        "\n",
        "# Display overall summary\n",
        "print(\"\\nSummary Results for All Models (Cooling Data):\")\n",
        "summary = results_df.groupby('Model').agg({'MAE': 'mean', 'R²': 'mean'}).sort_values(by='MAE')\n",
        "print(summary)\n"
      ]
    },
    {
      "cell_type": "markdown",
      "metadata": {
        "id": "EoMivWWAfuFJ"
      },
      "source": [
        "## Random Forest"
      ]
    },
    {
      "cell_type": "markdown",
      "metadata": {
        "id": "hB5bSKiemn92"
      },
      "source": [
        "### hyper parameter tuning for cooling random forest"
      ]
    },
    {
      "cell_type": "code",
      "execution_count": null,
      "metadata": {
        "colab": {
          "base_uri": "https://localhost:8080/"
        },
        "id": "viqEAGG6mu0T",
        "outputId": "c528cf03-e3b2-4f29-86a7-1d5aeb75b55f"
      },
      "outputs": [
        {
          "output_type": "stream",
          "name": "stdout",
          "text": [
            "Fold 1, Model Random Forest, Dataset Cooling, MAE: 2.1989, R²: 0.7980, Best Params: {'max_depth': 10, 'min_samples_split': 2, 'n_estimators': 100}\n",
            "Fold 2, Model Random Forest, Dataset Cooling, MAE: 2.3892, R²: 0.7776, Best Params: {'max_depth': 20, 'min_samples_split': 2, 'n_estimators': 150}\n",
            "Fold 3, Model Random Forest, Dataset Cooling, MAE: 2.0349, R²: 0.8010, Best Params: {'max_depth': 10, 'min_samples_split': 2, 'n_estimators': 150}\n",
            "Fold 4, Model Random Forest, Dataset Cooling, MAE: 2.4044, R²: 0.7769, Best Params: {'max_depth': 10, 'min_samples_split': 2, 'n_estimators': 150}\n",
            "Fold 5, Model Random Forest, Dataset Cooling, MAE: 2.5488, R²: 0.7427, Best Params: {'max_depth': 10, 'min_samples_split': 2, 'n_estimators': 150}\n",
            "\n",
            "Summary Results for Random Forest:\n",
            "           Model  Dataset      MAE        R²\n",
            "0  Random Forest  Cooling  2.31525  0.779244\n"
          ]
        }
      ],
      "source": [
        "import pandas as pd\n",
        "from sklearn.model_selection import GridSearchCV\n",
        "from sklearn.ensemble import RandomForestRegressor\n",
        "from sklearn.metrics import mean_absolute_error, r2_score\n",
        "\n",
        "# Placeholder for storing results\n",
        "results_rf = []\n",
        "\n",
        "# Define hyperparameter grid for Random Forest\n",
        "param_grid_rf = {\n",
        "    'n_estimators': [50, 100, 150],\n",
        "    'max_depth': [10, 20, None],\n",
        "    'min_samples_split': [2, 5, 10],\n",
        "}\n",
        "\n",
        "for i in range(1, 6):\n",
        "    # Load datasets\n",
        "    train_data = pd.read_csv(f'fold{i}_cooling_filtered_train_101_data.csv')\n",
        "    test_data = pd.read_csv(f'fold{i}_cooling_filtered_test_101_data.csv')\n",
        "\n",
        "    # Split features and target\n",
        "    X_train = train_data.drop(columns=['WH_RTU_Total'])\n",
        "    y_train = train_data['WH_RTU_Total']\n",
        "\n",
        "    # Initialize Random Forest and perform GridSearchCV\n",
        "    rf = RandomForestRegressor(random_state=100)\n",
        "    grid_search_rf = GridSearchCV(rf, param_grid_rf, cv=3, scoring='neg_mean_absolute_error', n_jobs=-1)\n",
        "    grid_search_rf.fit(X_train, y_train)\n",
        "\n",
        "    # Get the best model and hyperparameters\n",
        "    best_rf = grid_search_rf.best_estimator_\n",
        "    best_params = grid_search_rf.best_params_\n",
        "\n",
        "    # Split test features and target\n",
        "    X_test = test_data.drop(columns=['WH_RTU_Total'])\n",
        "    y_test = test_data['WH_RTU_Total']\n",
        "\n",
        "    # Predict and calculate metrics\n",
        "    y_pred = best_rf.predict(X_test)\n",
        "    mae = mean_absolute_error(y_test, y_pred)\n",
        "    r2 = r2_score(y_test, y_pred)\n",
        "\n",
        "    # Store results\n",
        "    results_rf.append({\n",
        "        'Fold': i,\n",
        "        'Seed':101,\n",
        "        'Model': 'Random Forest',\n",
        "        'Dataset': 'Cooling',\n",
        "        'MAE': mae,\n",
        "        'R²': r2,\n",
        "        'Best Params': best_params,\n",
        "        'Experiment': 2\n",
        "    })\n",
        "\n",
        "    print(f\"Fold {i}, Model Random Forest, Dataset Cooling, MAE: {mae:.4f}, R²: {r2:.4f}, Best Params: {best_params}\")\n",
        "\n",
        "# Convert results to DataFrame\n",
        "results_rf_df = pd.DataFrame(results_rf)\n",
        "\n",
        "# Save detailed results to CSV\n",
        "results_rf_df.to_csv('random_forest_101_cooling_hyperparameter_results_detailed.csv', index=False)\n",
        "\n",
        "# Display overall summary\n",
        "print(\"\\nSummary Results for Random Forest:\")\n",
        "summary_rf = results_rf_df.groupby(['Model', 'Dataset']).agg({'MAE': 'mean', 'R²': 'mean'}).reset_index()\n",
        "print(summary_rf)\n",
        "\n",
        "# Save summary to CSV\n",
        "summary_rf.to_csv('random_forest_101_cooling_summary_results.csv', index=False)\n"
      ]
    },
    {
      "cell_type": "markdown",
      "metadata": {
        "id": "lBh34A3riemE"
      },
      "source": [
        "### Feature Importance for Random Forest"
      ]
    },
    {
      "cell_type": "code",
      "execution_count": null,
      "metadata": {
        "colab": {
          "base_uri": "https://localhost:8080/"
        },
        "id": "PNnfoqF_jz0B",
        "outputId": "31e86e7a-396a-4e75-f9dc-0dd0107bf04c"
      },
      "outputs": [
        {
          "output_type": "stream",
          "name": "stdout",
          "text": [
            "Feature importance for seed 101 and experiment 2 has been successfully saved.\n"
          ]
        }
      ],
      "source": [
        "import pandas as pd\n",
        "from sklearn.ensemble import RandomForestRegressor\n",
        "\n",
        "# Placeholder for feature importance results\n",
        "feature_importance_results = []\n",
        "\n",
        "# Fixed seed value\n",
        "\n",
        "experiment = 2  # Experiment number\n",
        "\n",
        "# Section 1: Calculate Feature Importance\n",
        "for fold in range(1, 6):\n",
        "    # Load training data\n",
        "    train_data = pd.read_csv(f'fold{fold}_cooling_filtered_train_101_data.csv')\n",
        "    X_train = train_data.drop(columns=['WH_RTU_Total'])\n",
        "    y_train = train_data['WH_RTU_Total']\n",
        "\n",
        "    # Load the best model parameters for the current fold\n",
        "    results_rf_df = pd.read_csv('random_forest_101_cooling_hyperparameter_results_detailed.csv')\n",
        "    best_params = results_rf_df.loc[(results_rf_df['Fold'] == fold) & (results_rf_df['Dataset'] == 'Cooling'), 'Best Params'].iloc[0]\n",
        "    best_params_dict = eval(best_params)\n",
        "\n",
        "    # Train Random Forest model with best parameters\n",
        "    best_rf = RandomForestRegressor(random_state=100, **best_params_dict)\n",
        "    best_rf.fit(X_train, y_train)\n",
        "\n",
        "    # Calculate feature importance\n",
        "    feature_importances = best_rf.feature_importances_\n",
        "    feature_names = X_train.columns\n",
        "    importance_df = pd.DataFrame({\n",
        "        'Feature': feature_names,\n",
        "        'Importance': feature_importances,\n",
        "        'Fold': fold,\n",
        "        'Seed': 101,  # Add seed column\n",
        "        'Model': 'Random Forest',\n",
        "        'Experiment': experiment  # Add experiment column\n",
        "    })\n",
        "    feature_importance_results.append(importance_df)\n",
        "\n",
        "# Combine and save feature importance results\n",
        "feature_importance_combined = pd.concat(feature_importance_results, ignore_index=True)\n",
        "feature_importance_combined.to_csv(f'random_forest_101_cooling_feature_importance_experiment_{experiment}.csv', index=False)\n",
        "\n",
        "print(f\"Feature importance for seed 101 and experiment {experiment} has been successfully saved.\")"
      ]
    },
    {
      "cell_type": "markdown",
      "metadata": {
        "id": "kjlP0Zw9j87Y"
      },
      "source": [
        "### residual，predict，label，T_OUT and RH_OUT"
      ]
    },
    {
      "cell_type": "code",
      "execution_count": null,
      "metadata": {
        "colab": {
          "base_uri": "https://localhost:8080/"
        },
        "id": "a0-tUjg6kDpz",
        "outputId": "b7624f24-33e6-4670-96e5-dcda3ab5fcbe"
      },
      "outputs": [
        {
          "output_type": "stream",
          "name": "stdout",
          "text": [
            "Processed fold 1.\n",
            "Processed fold 2.\n",
            "Processed fold 3.\n",
            "Processed fold 4.\n",
            "Processed fold 5.\n",
            "All folds processed and merged data saved successfully to random_forest_101_cooling_residual.csv.\n"
          ]
        }
      ],
      "source": [
        "import pandas as pd\n",
        "from sklearn.ensemble import RandomForestRegressor\n",
        "\n",
        "\n",
        "experiment = 2  # Experiment number\n",
        "merged_data = []  # Placeholder for storing final merged data\n",
        "\n",
        "# Loop through each fold\n",
        "for fold in range(1, 6):\n",
        "    # Load training data\n",
        "    train_data = pd.read_csv(f'fold{fold}_cooling_filtered_train_101_data.csv')\n",
        "    X_train = train_data.drop(columns=['WH_RTU_Total'])\n",
        "    y_train = train_data['WH_RTU_Total']\n",
        "\n",
        "    # Load the best model parameters for the current fold\n",
        "    best_params_df = pd.read_csv('random_forest_101_cooling_hyperparameter_results_detailed.csv')\n",
        "    best_params = best_params_df.loc[(best_params_df['Fold'] == fold) & (best_params_df['Dataset'] == 'Cooling'), 'Best Params'].iloc[0]\n",
        "    best_params_dict = eval(best_params)\n",
        "\n",
        "    # Train Random Forest model with best parameters\n",
        "    best_rf = RandomForestRegressor(random_state=100, **best_params_dict)\n",
        "    best_rf.fit(X_train, y_train)\n",
        "\n",
        "    # Load test data\n",
        "    test_data = pd.read_csv(f'fold{fold}_cooling_filtered_test_101_data.csv')\n",
        "    test_data['Label'] = 'Cooling'  # Dynamically add label based on dataset type\n",
        "\n",
        "    # Split features and target\n",
        "    X_test = test_data.drop(columns=['WH_RTU_Total', 'Label'])\n",
        "    y_test = test_data['WH_RTU_Total']\n",
        "\n",
        "    # Predict and calculate residuals\n",
        "    y_pred = best_rf.predict(X_test)\n",
        "    test_data['Predicted'] = y_pred\n",
        "    test_data['Residual'] = test_data['WH_RTU_Total'] - test_data['Predicted']\n",
        "\n",
        "    # Select and rename required columns\n",
        "    if 'T_out' in test_data.columns and 'RH_out' in test_data.columns:\n",
        "        selected_data = test_data[['WH_RTU_Total', 'Predicted', 'Residual', 'T_out', 'RH_out', 'Label']].rename(columns={\n",
        "            'WH_RTU_Total': 'Actual'\n",
        "        })\n",
        "    else:\n",
        "        missing_columns = [col for col in ['T_out', 'RH_out'] if col not in test_data.columns]\n",
        "        raise ValueError(f\"{', '.join(missing_columns)} is/are missing in test data for fold {fold}\")\n",
        "\n",
        "    # Add fold, seed, and model columns\n",
        "    selected_data['Fold'] = fold\n",
        "    selected_data['Seed'] = 101\n",
        "    selected_data['Model'] = 'Random Forest'\n",
        "    selected_data['Experiment'] = experiment\n",
        "\n",
        "    # Append to final merged data\n",
        "    merged_data.append(selected_data)\n",
        "    print(f\"Processed fold {fold}.\")\n",
        "\n",
        "# Combine all folds into a single DataFrame\n",
        "merged_final_data = pd.concat(merged_data, ignore_index=True)\n",
        "\n",
        "# Save the merged data\n",
        "output_file = 'random_forest_101_cooling_residual.csv'\n",
        "merged_final_data.to_csv(output_file, index=False)\n",
        "\n",
        "print(f\"All folds processed and merged data saved successfully to {output_file}.\")\n"
      ]
    },
    {
      "cell_type": "markdown",
      "metadata": {
        "id": "LZbHnBaumOUk"
      },
      "source": [
        "## XGBOOST"
      ]
    },
    {
      "cell_type": "markdown",
      "metadata": {
        "id": "EZcAlxKYo8QC"
      },
      "source": [
        "### hyper parameter tuning for cooling XGBoost"
      ]
    },
    {
      "cell_type": "code",
      "execution_count": null,
      "metadata": {
        "id": "IAasa5aupBWa",
        "colab": {
          "base_uri": "https://localhost:8080/"
        },
        "outputId": "f219b913-c0c6-4d67-b490-198a0bc0aa70"
      },
      "outputs": [
        {
          "output_type": "stream",
          "name": "stdout",
          "text": [
            "Requirement already satisfied: pandas in /usr/local/lib/python3.10/dist-packages (2.2.2)\n",
            "Requirement already satisfied: numpy in /usr/local/lib/python3.10/dist-packages (1.26.4)\n",
            "Requirement already satisfied: scikit-learn in /usr/local/lib/python3.10/dist-packages (1.0.2)\n",
            "Requirement already satisfied: xgboost in /usr/local/lib/python3.10/dist-packages (2.1.3)\n",
            "Requirement already satisfied: python-dateutil>=2.8.2 in /usr/local/lib/python3.10/dist-packages (from pandas) (2.8.2)\n",
            "Requirement already satisfied: pytz>=2020.1 in /usr/local/lib/python3.10/dist-packages (from pandas) (2024.2)\n",
            "Requirement already satisfied: tzdata>=2022.7 in /usr/local/lib/python3.10/dist-packages (from pandas) (2024.2)\n",
            "Requirement already satisfied: scipy>=1.1.0 in /usr/local/lib/python3.10/dist-packages (from scikit-learn) (1.13.1)\n",
            "Requirement already satisfied: joblib>=0.11 in /usr/local/lib/python3.10/dist-packages (from scikit-learn) (1.4.2)\n",
            "Requirement already satisfied: threadpoolctl>=2.0.0 in /usr/local/lib/python3.10/dist-packages (from scikit-learn) (3.5.0)\n",
            "Requirement already satisfied: nvidia-nccl-cu12 in /usr/local/lib/python3.10/dist-packages (from xgboost) (2.23.4)\n",
            "Requirement already satisfied: six>=1.5 in /usr/local/lib/python3.10/dist-packages (from python-dateutil>=2.8.2->pandas) (1.17.0)\n",
            "Requirement already satisfied: scikit-learn==1.0.2 in /usr/local/lib/python3.10/dist-packages (1.0.2)\n",
            "Requirement already satisfied: numpy>=1.14.6 in /usr/local/lib/python3.10/dist-packages (from scikit-learn==1.0.2) (1.26.4)\n",
            "Requirement already satisfied: scipy>=1.1.0 in /usr/local/lib/python3.10/dist-packages (from scikit-learn==1.0.2) (1.13.1)\n",
            "Requirement already satisfied: joblib>=0.11 in /usr/local/lib/python3.10/dist-packages (from scikit-learn==1.0.2) (1.4.2)\n",
            "Requirement already satisfied: threadpoolctl>=2.0.0 in /usr/local/lib/python3.10/dist-packages (from scikit-learn==1.0.2) (3.5.0)\n",
            "Fold 1, Model XGBoost, Dataset Cooling, MAE: 2.1435, R²: 0.8130, Best Params: {'learning_rate': 0.1, 'max_depth': 6, 'n_estimators': 50, 'subsample': 0.8}\n",
            "Fold 2, Model XGBoost, Dataset Cooling, MAE: 2.3146, R²: 0.7903, Best Params: {'learning_rate': 0.1, 'max_depth': 6, 'n_estimators': 150, 'subsample': 0.8}\n",
            "Fold 3, Model XGBoost, Dataset Cooling, MAE: 1.8982, R²: 0.8212, Best Params: {'learning_rate': 0.1, 'max_depth': 9, 'n_estimators': 100, 'subsample': 0.8}\n",
            "Fold 4, Model XGBoost, Dataset Cooling, MAE: 2.2075, R²: 0.8068, Best Params: {'learning_rate': 0.1, 'max_depth': 6, 'n_estimators': 150, 'subsample': 0.8}\n",
            "Fold 5, Model XGBoost, Dataset Cooling, MAE: 2.2294, R²: 0.8084, Best Params: {'learning_rate': 0.1, 'max_depth': 6, 'n_estimators': 150, 'subsample': 0.8}\n",
            "\n",
            "Summary Results for XGBoost:\n",
            "     Model  Dataset       MAE       R²\n",
            "0  XGBoost  Cooling  2.158647  0.80794\n"
          ]
        }
      ],
      "source": [
        "!pip install pandas numpy scikit-learn xgboost\n",
        "!pip install scikit-learn==1.0.2\n",
        "from sklearn.model_selection import GridSearchCV\n",
        "from xgboost import XGBRegressor\n",
        "import pandas as pd\n",
        "from sklearn.metrics import mean_absolute_error, r2_score\n",
        "\n",
        "# Placeholder for storing results\n",
        "results_xgb = []\n",
        "experiment = 2  # Experiment number\n",
        "# Define hyperparameter grid for XGBoost\n",
        "param_grid_xgb = {\n",
        "    'n_estimators': [50, 100, 150],\n",
        "    'max_depth': [3, 6, 9],\n",
        "    'learning_rate': [0.01, 0.1, 0.2],\n",
        "    'subsample': [0.8, 1.0]\n",
        "}\n",
        "\n",
        "for i in range(1, 6):\n",
        "    # Load datasets\n",
        "    train_data = pd.read_csv(f'fold{i}_cooling_filtered_train_101_data.csv')\n",
        "    test_data = pd.read_csv(f'fold{i}_cooling_filtered_test_101_data.csv')\n",
        "\n",
        "    # Split features and target\n",
        "    X_train = train_data.drop(columns=['WH_RTU_Total'])\n",
        "    y_train = train_data['WH_RTU_Total']\n",
        "\n",
        "    # Initialize XGBoost and perform GridSearchCV\n",
        "    xgb = XGBRegressor(random_state=100)\n",
        "    grid_search_xgb = GridSearchCV(xgb, param_grid_xgb, cv=3, scoring='neg_mean_absolute_error', n_jobs=-1)\n",
        "    grid_search_xgb.fit(X_train, y_train)\n",
        "\n",
        "    # Get the best model and hyperparameters\n",
        "    best_xgb = grid_search_xgb.best_estimator_\n",
        "    best_params = grid_search_xgb.best_params_\n",
        "\n",
        "    # Split test features and target\n",
        "    X_test = test_data.drop(columns=['WH_RTU_Total'])\n",
        "    y_test = test_data['WH_RTU_Total']\n",
        "\n",
        "    # Predict and calculate metrics\n",
        "    y_pred = best_xgb.predict(X_test)\n",
        "    mae = mean_absolute_error(y_test, y_pred)\n",
        "    r2 = r2_score(y_test, y_pred)\n",
        "\n",
        "    # Store results\n",
        "    results_xgb.append({\n",
        "        'Fold': i,\n",
        "        'Seed': 101,\n",
        "        'Model': 'XGBoost',\n",
        "        'Dataset': 'Cooling',\n",
        "        'MAE': mae,\n",
        "        'R²': r2,\n",
        "        'Best Params': best_params,\n",
        "        'Experiment' : experiment\n",
        "    })\n",
        "\n",
        "\n",
        "    print(f\"Fold {i}, Model XGBoost, Dataset Cooling, MAE: {mae:.4f}, R²: {r2:.4f}, Best Params: {best_params}\")\n",
        "\n",
        "# Convert results to DataFrame\n",
        "results_xgb_df = pd.DataFrame(results_xgb)\n",
        "\n",
        "# Save detailed results to CSV\n",
        "results_xgb_df.to_csv('xgboost_101_cooling_hyperparameter_results_detailed.csv', index=False)\n",
        "\n",
        "# Display overall summary\n",
        "print(\"\\nSummary Results for XGBoost:\")\n",
        "summary_xgb = results_xgb_df.groupby(['Model', 'Dataset']).agg({'MAE': 'mean', 'R²': 'mean'}).reset_index()\n",
        "print(summary_xgb)\n",
        "\n",
        "# Save summary to CSV\n",
        "summary_xgb.to_csv('xgboost_101_cooling_summary_results.csv', index=False)\n"
      ]
    },
    {
      "cell_type": "markdown",
      "metadata": {
        "id": "YtaO99LPmcDD"
      },
      "source": [
        "### Feature Importance"
      ]
    },
    {
      "cell_type": "code",
      "execution_count": null,
      "metadata": {
        "id": "blKCszcwmig1",
        "colab": {
          "base_uri": "https://localhost:8080/"
        },
        "outputId": "856d0ca3-d3ee-41e1-b9a5-30c656febe18"
      },
      "outputs": [
        {
          "output_type": "stream",
          "name": "stdout",
          "text": [
            "Feature importance for seed 101 and experiment 2 has been successfully saved.\n"
          ]
        }
      ],
      "source": [
        "import pandas as pd\n",
        "from xgboost import XGBRegressor\n",
        "\n",
        "# Placeholder for feature importance results\n",
        "feature_importance_results = []\n",
        "\n",
        "\n",
        "experiment = 2  # Experiment number\n",
        "\n",
        "# Section 1: Calculate Feature Importance\n",
        "for fold in range(1, 6):\n",
        "    # Load training data\n",
        "    train_data = pd.read_csv(f'fold{fold}_cooling_filtered_train_101_data.csv')\n",
        "    X_train = train_data.drop(columns=['WH_RTU_Total'])\n",
        "    y_train = train_data['WH_RTU_Total']\n",
        "\n",
        "    # Extract the best parameters from the results file\n",
        "    results_xgb_df = pd.read_csv('xgboost_101_cooling_hyperparameter_results_detailed.csv')\n",
        "    best_params = results_xgb_df.loc[\n",
        "        (results_xgb_df['Fold'] == fold) & (results_xgb_df['Dataset'] == 'Cooling'),\n",
        "        'Best Params'\n",
        "    ].iloc[0]\n",
        "    best_params_dict = eval(best_params)  # Parse string into dictionary\n",
        "\n",
        "    # Initialize and train the model with the best parameters\n",
        "    best_xgb = XGBRegressor(random_state=100, **best_params_dict)\n",
        "    best_xgb.fit(X_train, y_train)\n",
        "\n",
        "    # Calculate feature importance\n",
        "    feature_importances = best_xgb.feature_importances_\n",
        "    feature_names = X_train.columns\n",
        "    importance_df = pd.DataFrame({\n",
        "        'Feature': feature_names,\n",
        "        'Importance': feature_importances,\n",
        "        'Fold': fold,\n",
        "        'Seed': 101,  # Add seed column\n",
        "        'Model': 'XGBoost',\n",
        "        'Experiment': experiment  # Add experiment column\n",
        "    })\n",
        "    feature_importance_results.append(importance_df)\n",
        "\n",
        "# Combine all feature importance results\n",
        "feature_importance_combined = pd.concat(feature_importance_results, ignore_index=True)\n",
        "\n",
        "# Save the feature importance results to a file\n",
        "feature_importance_combined.to_csv(f'xgboost_101_cooling_feature_importance_experiment_{experiment}.csv', index=False)\n",
        "\n",
        "print(f\"Feature importance for seed 101 and experiment {experiment} has been successfully saved.\")"
      ]
    },
    {
      "cell_type": "markdown",
      "metadata": {
        "id": "vuaD1tI_mi9i"
      },
      "source": [
        "### Residual analysis"
      ]
    },
    {
      "cell_type": "code",
      "execution_count": null,
      "metadata": {
        "id": "noocNEDYmoB2",
        "colab": {
          "base_uri": "https://localhost:8080/"
        },
        "outputId": "0da2569b-8505-4063-f00a-546d89ca4e0d"
      },
      "outputs": [
        {
          "output_type": "stream",
          "name": "stdout",
          "text": [
            "Processed fold 1.\n",
            "Processed fold 2.\n",
            "Processed fold 3.\n",
            "Processed fold 4.\n",
            "Processed fold 5.\n",
            "All folds processed and merged data saved successfully to xgboost_101_cooling_residual.csv.\n"
          ]
        }
      ],
      "source": [
        "import pandas as pd\n",
        "from xgboost import XGBRegressor\n",
        "\n",
        "\n",
        "experiment = 2  # Experiment number\n",
        "merged_data = []  # Placeholder for storing final merged data\n",
        "\n",
        "# Loop through each fold\n",
        "for fold in range(1, 6):\n",
        "    # Load training data\n",
        "    train_data = pd.read_csv(f'fold{fold}_cooling_filtered_train_101_data.csv')\n",
        "    X_train = train_data.drop(columns=['WH_RTU_Total'])\n",
        "    y_train = train_data['WH_RTU_Total']\n",
        "\n",
        "    # Load the best model parameters for the current fold\n",
        "    best_params_df = pd.read_csv('xgboost_101_cooling_hyperparameter_results_detailed.csv')\n",
        "    best_params = best_params_df.loc[(best_params_df['Fold'] == fold) & (best_params_df['Dataset'] == 'Cooling'), 'Best Params'].iloc[0]\n",
        "    best_params_dict = eval(best_params)\n",
        "\n",
        "    # Train XGBoost model with best parameters\n",
        "    best_xgb = XGBRegressor(random_state=100, **best_params_dict)\n",
        "    best_xgb.fit(X_train, y_train)\n",
        "\n",
        "    # Load test data\n",
        "    test_data = pd.read_csv(f'fold{fold}_cooling_filtered_test_101_data.csv')\n",
        "    test_data['Label'] = 'Cooling'  # Dynamically add label based on dataset type\n",
        "\n",
        "    # Split features and target\n",
        "    X_test = test_data.drop(columns=['WH_RTU_Total', 'Label'])\n",
        "    y_test = test_data['WH_RTU_Total']\n",
        "\n",
        "    # Predict and calculate residuals\n",
        "    y_pred = best_xgb.predict(X_test)\n",
        "    test_data['Predicted'] = y_pred\n",
        "    test_data['Residual'] = test_data['WH_RTU_Total'] - test_data['Predicted']\n",
        "\n",
        "    # Select and rename required columns\n",
        "    if 'T_out' in test_data.columns and 'RH_out' in test_data.columns:\n",
        "        selected_data = test_data[['WH_RTU_Total', 'Predicted', 'Residual', 'T_out', 'RH_out', 'Label']].rename(columns={\n",
        "            'WH_RTU_Total': 'Actual'\n",
        "        })\n",
        "    else:\n",
        "        missing_columns = [col for col in ['T_out', 'RH_out'] if col not in test_data.columns]\n",
        "        raise ValueError(f\"{', '.join(missing_columns)} is/are missing in test data for fold {fold}\")\n",
        "\n",
        "    # Add fold, seed, and model columns\n",
        "    selected_data['Fold'] = fold\n",
        "    selected_data['Seed'] = 101\n",
        "    selected_data['Model'] = 'XGBoost'\n",
        "    selected_data['Experiment'] = experiment\n",
        "\n",
        "    # Append to final merged data\n",
        "    merged_data.append(selected_data)\n",
        "    print(f\"Processed fold {fold}.\")\n",
        "\n",
        "# Combine all folds into a single DataFrame\n",
        "merged_final_data = pd.concat(merged_data, ignore_index=True)\n",
        "\n",
        "# Save the merged data\n",
        "output_file = 'xgboost_101_cooling_residual.csv'\n",
        "merged_final_data.to_csv(output_file, index=False)\n",
        "\n",
        "print(f\"All folds processed and merged data saved successfully to {output_file}.\")\n"
      ]
    },
    {
      "cell_type": "markdown",
      "metadata": {
        "id": "UsAc0-M4oAwU"
      },
      "source": [
        "## Stacking Regressor"
      ]
    },
    {
      "cell_type": "markdown",
      "metadata": {
        "id": "xaPrtDkupmxG"
      },
      "source": [
        "### hyper parameter tuning for cooling Stacking Regressor"
      ]
    },
    {
      "cell_type": "code",
      "execution_count": null,
      "metadata": {
        "id": "5OFl-su9pnko",
        "colab": {
          "base_uri": "https://localhost:8080/"
        },
        "outputId": "1a26b4d8-77ad-4e83-aaf9-0cdc6d590fe8"
      },
      "outputs": [
        {
          "output_type": "stream",
          "name": "stdout",
          "text": [
            "Fold 1, Model Stacking Regressor, Dataset Cooling, MAE: 2.1551, R²: 0.8094, Best Params: {'final_estimator__fit_intercept': False, 'gb__learning_rate': 0.1, 'gb__max_depth': 6, 'rf__max_depth': 10, 'rf__n_estimators': 100}\n",
            "Fold 2, Model Stacking Regressor, Dataset Cooling, MAE: 2.3754, R²: 0.7720, Best Params: {'final_estimator__fit_intercept': False, 'gb__learning_rate': 0.1, 'gb__max_depth': 6, 'rf__max_depth': 10, 'rf__n_estimators': 50}\n",
            "Fold 3, Model Stacking Regressor, Dataset Cooling, MAE: 1.9859, R²: 0.8104, Best Params: {'final_estimator__fit_intercept': False, 'gb__learning_rate': 0.1, 'gb__max_depth': 6, 'rf__max_depth': 20, 'rf__n_estimators': 50}\n",
            "Fold 4, Model Stacking Regressor, Dataset Cooling, MAE: 2.4058, R²: 0.7736, Best Params: {'final_estimator__fit_intercept': True, 'gb__learning_rate': 0.1, 'gb__max_depth': 6, 'rf__max_depth': 10, 'rf__n_estimators': 100}\n",
            "Fold 5, Model Stacking Regressor, Dataset Cooling, MAE: 2.4795, R²: 0.7522, Best Params: {'final_estimator__fit_intercept': True, 'gb__learning_rate': 0.01, 'gb__max_depth': 3, 'rf__max_depth': 10, 'rf__n_estimators': 100}\n",
            "\n",
            "Summary Results for Stacking Regressor:\n",
            "                Model  Dataset       MAE        R²\n",
            "0  Stacking Regressor  Cooling  2.280343  0.783537\n"
          ]
        }
      ],
      "source": [
        "import pandas as pd\n",
        "from sklearn.model_selection import GridSearchCV\n",
        "from sklearn.ensemble import StackingRegressor\n",
        "from sklearn.linear_model import LinearRegression\n",
        "from sklearn.ensemble import RandomForestRegressor, GradientBoostingRegressor\n",
        "from sklearn.metrics import mean_absolute_error, r2_score\n",
        "\n",
        "# Placeholder for storing results\n",
        "results_stacking = []\n",
        "\n",
        "experiment = 2  # Experiment number\n",
        "# Define hyperparameter grid for Stacking Regressor\n",
        "param_grid_stacking = {\n",
        "    'final_estimator__fit_intercept': [True, False],  # Meta-model parameter (LinearRegression)\n",
        "    'rf__n_estimators': [50, 100],                   # Base model: Random Forest\n",
        "    'rf__max_depth': [10, 20],                       # Base model: Random Forest\n",
        "    'gb__learning_rate': [0.01, 0.1],                # Base model: Gradient Boosting\n",
        "    'gb__max_depth': [3, 6]                          # Base model: Gradient Boosting\n",
        "}\n",
        "\n",
        "for i in range(1, 6):\n",
        "    # Load datasets\n",
        "    train_data = pd.read_csv(f'fold{i}_cooling_filtered_train_101_data.csv')\n",
        "    test_data = pd.read_csv(f'fold{i}_cooling_filtered_test_101_data.csv')\n",
        "\n",
        "    # Split features and target\n",
        "    X_train = train_data.drop(columns=['WH_RTU_Total'])\n",
        "    y_train = train_data['WH_RTU_Total']\n",
        "\n",
        "    # Define base models and Stacking Regressor\n",
        "    base_models = [\n",
        "        ('rf', RandomForestRegressor(random_state=100)),\n",
        "        ('gb', GradientBoostingRegressor(random_state=100))\n",
        "    ]\n",
        "    meta_model = LinearRegression()\n",
        "    stacking = StackingRegressor(estimators=base_models, final_estimator=meta_model)\n",
        "\n",
        "    # Perform GridSearchCV on the Stacking Regressor\n",
        "    grid_search_stacking = GridSearchCV(stacking, param_grid_stacking, cv=3, scoring='neg_mean_absolute_error', n_jobs=-1)\n",
        "    grid_search_stacking.fit(X_train, y_train)\n",
        "\n",
        "    # Get the best model and hyperparameters\n",
        "    best_stacking = grid_search_stacking.best_estimator_\n",
        "    best_params = grid_search_stacking.best_params_\n",
        "\n",
        "    # Split test features and target\n",
        "    X_test = test_data.drop(columns=['WH_RTU_Total'])\n",
        "    y_test = test_data['WH_RTU_Total']\n",
        "\n",
        "    # Predict and calculate metrics\n",
        "    y_pred = best_stacking.predict(X_test)\n",
        "    mae = mean_absolute_error(y_test, y_pred)\n",
        "    r2 = r2_score(y_test, y_pred)\n",
        "\n",
        "    # Store results\n",
        "    results_stacking.append({\n",
        "        'Fold': i,\n",
        "        'Seed': 101,\n",
        "        'Model': 'Stacking Regressor',\n",
        "        'Dataset': 'Cooling',\n",
        "        'MAE': mae,\n",
        "        'R²': r2,\n",
        "        'Best Params': best_params,\n",
        "        'Experiment': experiment\n",
        "    })\n",
        "\n",
        "    print(f\"Fold {i}, Model Stacking Regressor, Dataset Cooling, MAE: {mae:.4f}, R²: {r2:.4f}, Best Params: {best_params}\")\n",
        "\n",
        "# Convert results to DataFrame\n",
        "results_stacking_df = pd.DataFrame(results_stacking)\n",
        "\n",
        "# Save detailed results to CSV\n",
        "results_stacking_df.to_csv('stacking_101_cooling_hyperparameter_results_detailed.csv', index=False)\n",
        "\n",
        "# Display overall summary\n",
        "print(\"\\nSummary Results for Stacking Regressor:\")\n",
        "summary_stacking = results_stacking_df.groupby(['Model', 'Dataset']).agg({'MAE': 'mean', 'R²': 'mean'}).reset_index()\n",
        "print(summary_stacking)\n",
        "\n",
        "# Save summary to CSV\n",
        "summary_stacking.to_csv('stacking_101_cooling_summary_results.csv', index=False)\n"
      ]
    },
    {
      "cell_type": "markdown",
      "metadata": {
        "id": "ka0OE08_oJYW"
      },
      "source": [
        "### Feature Importance"
      ]
    },
    {
      "cell_type": "code",
      "execution_count": null,
      "metadata": {
        "id": "9xbNcEqToMGK",
        "colab": {
          "base_uri": "https://localhost:8080/"
        },
        "outputId": "9971ffe9-8993-4f39-f3c8-f0c80beed395"
      },
      "outputs": [
        {
          "output_type": "stream",
          "name": "stdout",
          "text": [
            "Feature importance for seed 101 and experiment 2 has been successfully saved.\n"
          ]
        }
      ],
      "source": [
        "import pandas as pd\n",
        "from sklearn.linear_model import LinearRegression\n",
        "from sklearn.ensemble import RandomForestRegressor, GradientBoostingRegressor, StackingRegressor\n",
        "\n",
        "# Placeholder for feature importance results\n",
        "feature_importance_results = []\n",
        "\n",
        "\n",
        "experiment = 2  # Experiment number\n",
        "\n",
        "# Section 1: Calculate Feature Importance\n",
        "for fold in range(1, 6):\n",
        "    # Load training data\n",
        "    train_data = pd.read_csv(f'fold{fold}_cooling_filtered_train_101_data.csv')\n",
        "    X_train = train_data.drop(columns=['WH_RTU_Total'])\n",
        "    y_train = train_data['WH_RTU_Total']\n",
        "\n",
        "    # Extract the best parameters from the results file\n",
        "    results_stacking_df = pd.read_csv('stacking_101_cooling_hyperparameter_results_detailed.csv')\n",
        "    best_params = results_stacking_df.loc[\n",
        "        (results_stacking_df['Fold'] == fold) & (results_stacking_df['Dataset'] == 'Cooling'),\n",
        "        'Best Params'\n",
        "    ].iloc[0]\n",
        "    best_params_dict = eval(best_params)  # Parse string into dictionary\n",
        "\n",
        "    # Define base models\n",
        "    base_models = [\n",
        "        ('rf', RandomForestRegressor(random_state=100, **{k.split('__')[1]: v for k, v in best_params_dict.items() if k.startswith('rf__')})),\n",
        "        ('gb', GradientBoostingRegressor(random_state=100, **{k.split('__')[1]: v for k, v in best_params_dict.items() if k.startswith('gb__')}))\n",
        "    ]\n",
        "    meta_model = LinearRegression(**{k.split('__')[1]: v for k, v in best_params_dict.items() if k.startswith('final_estimator__')})\n",
        "\n",
        "    # Define Stacking Regressor and fit the model\n",
        "    stacking = StackingRegressor(estimators=base_models, final_estimator=meta_model)\n",
        "    stacking.fit(X_train, y_train)\n",
        "\n",
        "    # Calculate feature importances from base models\n",
        "    for model_name, model in stacking.named_estimators_.items():\n",
        "        if hasattr(model, 'feature_importances_'):  # Check if the model supports feature importance\n",
        "            feature_importances = model.feature_importances_\n",
        "            feature_names = X_train.columns\n",
        "            importance_df = pd.DataFrame({\n",
        "                'Feature': feature_names,\n",
        "                'Importance': feature_importances,\n",
        "                'Model': model_name,\n",
        "                'Fold': fold,\n",
        "                'Seed': 101,\n",
        "                'Experiment': experiment  # Add experiment column\n",
        "            })\n",
        "            feature_importance_results.append(importance_df)\n",
        "\n",
        "# Combine all feature importance results\n",
        "feature_importance_combined = pd.concat(feature_importance_results, ignore_index=True)\n",
        "\n",
        "# Save the feature importance results to a file\n",
        "feature_importance_combined.to_csv(f'stacking_101_cooling_feature_importance_experiment_{experiment}.csv', index=False)\n",
        "\n",
        "print(f\"Feature importance for seed 101 and experiment {experiment} has been successfully saved.\")"
      ]
    },
    {
      "cell_type": "markdown",
      "metadata": {
        "id": "LdlCtmVooMrS"
      },
      "source": [
        "### Residual Analysis"
      ]
    },
    {
      "cell_type": "code",
      "execution_count": null,
      "metadata": {
        "id": "pIzbglcNoPzd",
        "colab": {
          "base_uri": "https://localhost:8080/"
        },
        "outputId": "4d938785-0f00-402f-95a5-a2fe21081d52"
      },
      "outputs": [
        {
          "output_type": "stream",
          "name": "stdout",
          "text": [
            "Processed fold 1.\n",
            "Processed fold 2.\n",
            "Processed fold 3.\n",
            "Processed fold 4.\n",
            "Processed fold 5.\n",
            "All folds processed and merged data saved successfully to stacking_101_cooling_residual.csv.\n"
          ]
        }
      ],
      "source": [
        "import pandas as pd\n",
        "from sklearn.ensemble import StackingRegressor, RandomForestRegressor, GradientBoostingRegressor\n",
        "from sklearn.linear_model import LinearRegression\n",
        "\n",
        "\n",
        "experiment = 2  # Experiment number\n",
        "merged_data = []  # Placeholder for storing final merged data\n",
        "\n",
        "# Load the best model parameters for each fold\n",
        "best_params_df = pd.read_csv('stacking_101_cooling_hyperparameter_results_detailed.csv')\n",
        "\n",
        "# Loop through each fold\n",
        "for fold in range(1, 6):\n",
        "    # Load training data\n",
        "    train_data = pd.read_csv(f'fold{fold}_cooling_filtered_train_101_data.csv')\n",
        "    X_train = train_data.drop(columns=['WH_RTU_Total'])\n",
        "    y_train = train_data['WH_RTU_Total']\n",
        "\n",
        "    # Get the best parameters for the current fold\n",
        "    best_params = best_params_df.loc[best_params_df['Fold'] == fold, 'Best Params'].iloc[0]\n",
        "    best_params_dict = eval(best_params)\n",
        "\n",
        "    # Define base models and Stacking Regressor with best parameters\n",
        "    base_models = [\n",
        "        ('rf', RandomForestRegressor(random_state=100,\n",
        "                                     n_estimators=best_params_dict['rf__n_estimators'],\n",
        "                                     max_depth=best_params_dict['rf__max_depth'])),\n",
        "        ('gb', GradientBoostingRegressor(random_state=100,\n",
        "                                         learning_rate=best_params_dict['gb__learning_rate'],\n",
        "                                         max_depth=best_params_dict['gb__max_depth']))\n",
        "    ]\n",
        "    meta_model = LinearRegression(fit_intercept=best_params_dict['final_estimator__fit_intercept'])\n",
        "    best_stacking = StackingRegressor(estimators=base_models, final_estimator=meta_model)\n",
        "\n",
        "    # Train the Stacking Regressor\n",
        "    best_stacking.fit(X_train, y_train)\n",
        "\n",
        "    # Load test data\n",
        "    test_data = pd.read_csv(f'fold{fold}_cooling_filtered_test_101_data.csv')\n",
        "    test_data['Label'] = 'Cooling'  # Dynamically add label based on dataset type\n",
        "\n",
        "    # Split features and target\n",
        "    X_test = test_data.drop(columns=['WH_RTU_Total', 'Label'])\n",
        "    y_test = test_data['WH_RTU_Total']\n",
        "\n",
        "    # Predict and calculate residuals\n",
        "    y_pred = best_stacking.predict(X_test)\n",
        "    test_data = test_data.reset_index(drop=True)  # Reset test_data index\n",
        "    y_pred_series = pd.Series(y_pred, index=test_data.index)  # Align y_pred with test_data index\n",
        "    test_data['Predicted'] = y_pred_series\n",
        "    test_data['Residual'] = test_data['WH_RTU_Total'] - test_data['Predicted']\n",
        "\n",
        "    # Select and rename required columns\n",
        "    if 'T_out' in test_data.columns and 'RH_out' in test_data.columns:\n",
        "        selected_data = test_data[['WH_RTU_Total', 'Predicted', 'Residual', 'T_out', 'RH_out', 'Label']].rename(columns={\n",
        "            'WH_RTU_Total': 'Actual'\n",
        "        })\n",
        "    else:\n",
        "        missing_columns = [col for col in ['T_out', 'RH_out'] if col not in test_data.columns]\n",
        "        raise ValueError(f\"{', '.join(missing_columns)} is/are missing in test data for fold {fold}\")\n",
        "\n",
        "    # Add fold, seed, and model columns\n",
        "    selected_data['Fold'] = fold\n",
        "    selected_data['Seed'] = 101\n",
        "    selected_data['Model'] = 'StackingRegressor'\n",
        "    selected_data['Experiment'] = experiment\n",
        "\n",
        "    # Append to final merged data\n",
        "    merged_data.append(selected_data)\n",
        "    print(f\"Processed fold {fold}.\")\n",
        "\n",
        "# Combine all folds into a single DataFrame\n",
        "merged_final_data = pd.concat(merged_data, ignore_index=True)\n",
        "\n",
        "# Save the merged data\n",
        "output_file = 'stacking_101_cooling_residual.csv'\n",
        "merged_final_data.to_csv(output_file, index=False)\n",
        "\n",
        "print(f\"All folds processed and merged data saved successfully to {output_file}.\")\n"
      ]
    },
    {
      "cell_type": "markdown",
      "metadata": {
        "id": "H4lVX_r2DINK"
      },
      "source": [
        "# heating Experiment"
      ]
    },
    {
      "cell_type": "markdown",
      "metadata": {
        "id": "-7bggNUkDINL"
      },
      "source": [
        "do the same model performance for heating data, first divide the heating data into 5 folds and generate differet training and testing groups"
      ]
    },
    {
      "cell_type": "code",
      "execution_count": null,
      "metadata": {
        "colab": {
          "base_uri": "https://localhost:8080/"
        },
        "outputId": "e2f2d0d6-ffd1-40a2-ab07-98706eb604c1",
        "id": "gJm_mW16DINL"
      },
      "outputs": [
        {
          "output_type": "stream",
          "name": "stdout",
          "text": [
            "Training and test data for 5 folds with seed 101 have been generated and saved.\n"
          ]
        }
      ],
      "source": [
        "import pandas as pd\n",
        "from sklearn.model_selection import KFold\n",
        "\n",
        "# Load the combined data\n",
        "heating_data_with_interactions_101 = pd.read_csv('heating_data_with_interactions_101.csv')\n",
        "\n",
        "# Initialize KFold with 5 splits\n",
        "kf = KFold(n_splits=5, shuffle=True, random_state=101)\n",
        "\n",
        "# Create storage for training and test data splits\n",
        "folds = []\n",
        "\n",
        "# Split the data into 5 folds\n",
        "for train_index, test_index in kf.split(heating_data_with_interactions_101):\n",
        "    train_data = heating_data_with_interactions_101.iloc[train_index]\n",
        "    test_data = heating_data_with_interactions_101.iloc[test_index]\n",
        "    folds.append((train_data, test_data))\n",
        "\n",
        "# Save each training and test group as separate files\n",
        "for i, (train_data, test_data) in enumerate(folds):\n",
        "    train_data.to_csv(f'heating_train_101_fold{i+1}.csv', index=False)\n",
        "    test_data.to_csv(f'heating_test_101_fold{i+1}.csv', index=False)\n",
        "\n",
        "print(\"Training and test data for 5 folds with seed 101 have been generated and saved.\")\n"
      ]
    },
    {
      "cell_type": "markdown",
      "metadata": {
        "id": "fyzy892oDINM"
      },
      "source": [
        "do the feature selection solely based on the training data"
      ]
    },
    {
      "cell_type": "code",
      "execution_count": null,
      "metadata": {
        "colab": {
          "base_uri": "https://localhost:8080/"
        },
        "outputId": "06d16e4b-06b0-4194-db92-35d784b25d3e",
        "id": "KSVwRzwkDINM"
      },
      "outputs": [
        {
          "output_type": "stream",
          "name": "stdout",
          "text": [
            "Top 25 features for heating fold 1 with seed 101 saved.\n",
            "Top 25 features for heating fold 2 with seed 101 saved.\n",
            "Top 25 features for heating fold 3 with seed 101 saved.\n",
            "Top 25 features for heating fold 4 with seed 101 saved.\n",
            "Top 25 features for heating fold 5 with seed 101 saved.\n"
          ]
        }
      ],
      "source": [
        "import pandas as pd\n",
        "from sklearn.ensemble import RandomForestRegressor\n",
        "\n",
        "# Function to perform feature selection\n",
        "def feature_selection(train_data, target_column, preselected_features, k=25):\n",
        "    # Separate features and target\n",
        "    X = train_data.drop(columns=[target_column, 'TIMESTAMP'], errors='ignore')  # Drop TIMESTAMP\n",
        "    y = train_data[target_column]\n",
        "\n",
        "    # Train a RandomForestRegressor model\n",
        "    rf_model = RandomForestRegressor(n_estimators=100, random_state=100)\n",
        "    rf_model.fit(X, y)\n",
        "\n",
        "    # Get feature names and their importance scores\n",
        "    feature_importances = rf_model.feature_importances_\n",
        "    feature_names = X.columns\n",
        "\n",
        "    # Combine feature names and scores into a DataFrame\n",
        "    selected_features = pd.DataFrame({\n",
        "        'Feature': feature_names,\n",
        "        'Importance': feature_importances\n",
        "    }).sort_values(by='Importance', ascending=False)\n",
        "\n",
        "    # Select the preselected features (label, T_out, RH_out)\n",
        "    preselected_df = selected_features[selected_features['Feature'].isin(preselected_features)]\n",
        "\n",
        "    # Select the remaining top features after excluding preselected ones\n",
        "    remaining_features = selected_features[~selected_features['Feature'].isin(preselected_features)]\n",
        "    top_remaining_features = remaining_features.head(k - len(preselected_features))\n",
        "\n",
        "    # Combine preselected features with the top remaining features\n",
        "    final_features = pd.concat([preselected_df, top_remaining_features])\n",
        "\n",
        "    return final_features\n",
        "\n",
        "# Perform feature selection for each fold\n",
        "target_column = 'WH_RTU_Total'\n",
        "preselected_features = ['label', 'T_out', 'RH_out']\n",
        "\n",
        "for i in range(1, 6):\n",
        "    train_data = pd.read_csv(f'heating_train_101_fold{i}.csv')\n",
        "\n",
        "    # Perform feature selection\n",
        "    top_features = feature_selection(train_data, target_column, preselected_features, k=25)\n",
        "\n",
        "    # Save top features\n",
        "    top_features.to_csv(f'heating_train_101_fold{i}_top25_features.csv', index=False)\n",
        "\n",
        "    print(f\"Top 25 features for heating fold {i} with seed 101 saved.\")\n"
      ]
    },
    {
      "cell_type": "markdown",
      "metadata": {
        "id": "yAZBPdLUDINM"
      },
      "source": [
        "prepare the heating dataset's training and test data"
      ]
    },
    {
      "cell_type": "code",
      "execution_count": null,
      "metadata": {
        "colab": {
          "base_uri": "https://localhost:8080/"
        },
        "outputId": "d8512ac0-ab84-47bc-8967-d9efb9f68e25",
        "id": "QZkURa4dDINN"
      },
      "outputs": [
        {
          "output_type": "stream",
          "name": "stdout",
          "text": [
            "Filtered heating train data for fold 1 saved.\n",
            "Filtered heating test data for fold 1 saved.\n",
            "Filtered heating train data for fold 2 saved.\n",
            "Filtered heating test data for fold 2 saved.\n",
            "Filtered heating train data for fold 3 saved.\n",
            "Filtered heating test data for fold 3 saved.\n",
            "Filtered heating train data for fold 4 saved.\n",
            "Filtered heating test data for fold 4 saved.\n",
            "Filtered heating train data for fold 5 saved.\n",
            "Filtered heating test data for fold 5 saved.\n"
          ]
        }
      ],
      "source": [
        "import pandas as pd\n",
        "\n",
        "# Target variable\n",
        "target_column = 'WH_RTU_Total'\n",
        "\n",
        "for i in range(1, 6):\n",
        "    # Load the original training and test datasets for the current fold\n",
        "    train_data = pd.read_csv(f'heating_train_101_fold{i}.csv')\n",
        "    test_data = pd.read_csv(f'heating_test_101_fold{i}.csv')\n",
        "\n",
        "    # Load the top 25 features selected from the current fold\n",
        "    top_features = pd.read_csv(f'heating_train_101_fold{i}_top25_features.csv')['Feature'].tolist()\n",
        "\n",
        "    # Ensure the target column is included in the selected features\n",
        "    filtered_columns = top_features + [target_column]  # Train data does not include 'label'\n",
        "\n",
        "    # Filter the training data\n",
        "    filtered_train_data = train_data[filtered_columns]\n",
        "    filtered_train_data.to_csv(f'fold{i}_heating_filtered_train_101_data.csv', index=False)\n",
        "    print(f\"Filtered heating train data for fold {i} saved.\")\n",
        "\n",
        "    # Filter the test data (temporarily including 'label')\n",
        "    filtered_test_data = test_data[filtered_columns]\n",
        "\n",
        "    # Save all datasets\n",
        "    filtered_test_data.to_csv(f'fold{i}_heating_filtered_test_101_data.csv', index=False)\n",
        "    print(f\"Filtered heating test data for fold {i} saved.\")\n",
        "\n"
      ]
    },
    {
      "cell_type": "markdown",
      "metadata": {
        "id": "IySI1Vf-DINN"
      },
      "source": [
        "generate the mae and R2 value for the four models:linear regression, random forest ,xgboost and stacking ensemble regressor."
      ]
    },
    {
      "cell_type": "code",
      "execution_count": null,
      "metadata": {
        "colab": {
          "base_uri": "https://localhost:8080/"
        },
        "outputId": "03b0de45-24dc-430c-f684-8f0d71162599",
        "id": "8PSp7cFIDINN"
      },
      "outputs": [
        {
          "output_type": "stream",
          "name": "stdout",
          "text": [
            "Requirement already satisfied: pandas in /usr/local/lib/python3.10/dist-packages (2.2.2)\n",
            "Requirement already satisfied: numpy in /usr/local/lib/python3.10/dist-packages (1.26.4)\n",
            "Requirement already satisfied: scikit-learn in /usr/local/lib/python3.10/dist-packages (1.0.2)\n",
            "Requirement already satisfied: xgboost in /usr/local/lib/python3.10/dist-packages (2.1.3)\n",
            "Requirement already satisfied: python-dateutil>=2.8.2 in /usr/local/lib/python3.10/dist-packages (from pandas) (2.8.2)\n",
            "Requirement already satisfied: pytz>=2020.1 in /usr/local/lib/python3.10/dist-packages (from pandas) (2024.2)\n",
            "Requirement already satisfied: tzdata>=2022.7 in /usr/local/lib/python3.10/dist-packages (from pandas) (2024.2)\n",
            "Requirement already satisfied: scipy>=1.1.0 in /usr/local/lib/python3.10/dist-packages (from scikit-learn) (1.13.1)\n",
            "Requirement already satisfied: joblib>=0.11 in /usr/local/lib/python3.10/dist-packages (from scikit-learn) (1.4.2)\n",
            "Requirement already satisfied: threadpoolctl>=2.0.0 in /usr/local/lib/python3.10/dist-packages (from scikit-learn) (3.5.0)\n",
            "Requirement already satisfied: nvidia-nccl-cu12 in /usr/local/lib/python3.10/dist-packages (from xgboost) (2.23.4)\n",
            "Requirement already satisfied: six>=1.5 in /usr/local/lib/python3.10/dist-packages (from python-dateutil>=2.8.2->pandas) (1.17.0)\n",
            "Requirement already satisfied: scikit-learn==1.0.2 in /usr/local/lib/python3.10/dist-packages (1.0.2)\n",
            "Requirement already satisfied: numpy>=1.14.6 in /usr/local/lib/python3.10/dist-packages (from scikit-learn==1.0.2) (1.26.4)\n",
            "Requirement already satisfied: scipy>=1.1.0 in /usr/local/lib/python3.10/dist-packages (from scikit-learn==1.0.2) (1.13.1)\n",
            "Requirement already satisfied: joblib>=0.11 in /usr/local/lib/python3.10/dist-packages (from scikit-learn==1.0.2) (1.4.2)\n",
            "Requirement already satisfied: threadpoolctl>=2.0.0 in /usr/local/lib/python3.10/dist-packages (from scikit-learn==1.0.2) (3.5.0)\n",
            "Fold 1, Model Linear Regression, MAE: 3.6665, R²: 0.4217\n",
            "Fold 1, Model Random Forest, MAE: 3.0065, R²: 0.5741\n",
            "Fold 1, Model XGBoost, MAE: 3.0790, R²: 0.5468\n",
            "Fold 1, Model Stacking Regressor, MAE: 3.1589, R²: 0.5624\n",
            "Fold 2, Model Linear Regression, MAE: 3.6216, R²: 0.4070\n",
            "Fold 2, Model Random Forest, MAE: 2.9826, R²: 0.6086\n",
            "Fold 2, Model XGBoost, MAE: 2.8137, R²: 0.6050\n",
            "Fold 2, Model Stacking Regressor, MAE: 3.0655, R²: 0.5937\n",
            "Fold 3, Model Linear Regression, MAE: 3.7456, R²: 0.3611\n",
            "Fold 3, Model Random Forest, MAE: 2.8787, R²: 0.6068\n",
            "Fold 3, Model XGBoost, MAE: 2.8145, R²: 0.6021\n",
            "Fold 3, Model Stacking Regressor, MAE: 3.1908, R²: 0.5436\n",
            "Fold 4, Model Linear Regression, MAE: 3.4478, R²: 0.4139\n",
            "Fold 4, Model Random Forest, MAE: 3.0177, R²: 0.5521\n",
            "Fold 4, Model XGBoost, MAE: 2.8834, R²: 0.5468\n",
            "Fold 4, Model Stacking Regressor, MAE: 3.0335, R²: 0.5612\n",
            "Fold 5, Model Linear Regression, MAE: 3.6275, R²: 0.3449\n",
            "Fold 5, Model Random Forest, MAE: 3.0578, R²: 0.5267\n",
            "Fold 5, Model XGBoost, MAE: 2.9807, R²: 0.5225\n",
            "Fold 5, Model Stacking Regressor, MAE: 3.1565, R²: 0.5159\n",
            "\n",
            "Summary Results for All Models (heating Data):\n",
            "                         MAE        R²\n",
            "Model                                 \n",
            "XGBoost             2.914244  0.564631\n",
            "Random Forest       2.988648  0.573660\n",
            "Stacking Regressor  3.121039  0.555375\n",
            "Linear Regression   3.621811  0.389710\n"
          ]
        }
      ],
      "source": [
        "!pip install pandas numpy scikit-learn xgboost\n",
        "!pip install scikit-learn==1.0.2\n",
        "from sklearn.model_selection import GridSearchCV\n",
        "from xgboost import XGBRegressor\n",
        "import pandas as pd\n",
        "from sklearn.metrics import mean_absolute_error, r2_score\n",
        "from sklearn.ensemble import GradientBoostingRegressor\n",
        "import pandas as pd\n",
        "import numpy as np\n",
        "from sklearn.linear_model import LinearRegression\n",
        "from sklearn.ensemble import RandomForestRegressor\n",
        "from xgboost import XGBRegressor\n",
        "from sklearn.ensemble import StackingRegressor\n",
        "from sklearn.metrics import mean_absolute_error, r2_score\n",
        "# Placeholder for storing results\n",
        "results = []\n",
        "\n",
        "# Loop through each fold\n",
        "for i in range(1, 6):\n",
        "    # Load filtered training and test datasets for heating data\n",
        "    train_data = pd.read_csv(f'fold{i}_heating_filtered_train_101_data.csv')\n",
        "    test_data = pd.read_csv(f'fold{i}_heating_filtered_test_101_data.csv')\n",
        "\n",
        "    # Separate features and target for training and testing data\n",
        "    target_column = 'WH_RTU_Total'\n",
        "    X_train = train_data.drop(columns=[target_column])\n",
        "    y_train = train_data[target_column]\n",
        "    X_test = test_data.drop(columns=[target_column])\n",
        "    y_test = test_data[target_column]\n",
        "\n",
        "    # Define models with default parameters\n",
        "    models = {\n",
        "        'Linear Regression': LinearRegression(),\n",
        "        'Random Forest': RandomForestRegressor(random_state=100),\n",
        "        'XGBoost': XGBRegressor(random_state=100),\n",
        "        'Stacking Regressor': StackingRegressor(\n",
        "            estimators=[\n",
        "                ('lr', LinearRegression()),\n",
        "                ('rf', RandomForestRegressor(random_state=100)),\n",
        "                ('xgb', XGBRegressor(random_state=100))\n",
        "            ]\n",
        "        )\n",
        "    }\n",
        "\n",
        "    # Train and evaluate each model\n",
        "    for model_name, model in models.items():\n",
        "        # Train model\n",
        "        model.fit(X_train, y_train)\n",
        "\n",
        "        # Predict on test data\n",
        "        y_pred = model.predict(X_test)\n",
        "\n",
        "        # Calculate MAE and R²\n",
        "        mae = mean_absolute_error(y_test, y_pred)\n",
        "        r2 = r2_score(y_test, y_pred)\n",
        "\n",
        "        # Store results\n",
        "        results.append({\n",
        "            'Fold': i,\n",
        "            'Seed': 101,\n",
        "            'Model': model_name,\n",
        "            'Dataset': 'heating',\n",
        "            'MAE': mae,\n",
        "            'R²': r2,\n",
        "            'Experiment':3\n",
        "        })\n",
        "\n",
        "        print(f\"Fold {i}, Model {model_name}, MAE: {mae:.4f}, R²: {r2:.4f}\")\n",
        "\n",
        "# Convert results to a DataFrame\n",
        "results_df = pd.DataFrame(results)\n",
        "\n",
        "# Save results to CSV\n",
        "results_df.to_csv('heating_data_results_mae_r2.csv', index=False)\n",
        "\n",
        "# Display overall summary\n",
        "print(\"\\nSummary Results for All Models (heating Data):\")\n",
        "summary = results_df.groupby('Model').agg({'MAE': 'mean', 'R²': 'mean'}).sort_values(by='MAE')\n",
        "print(summary)\n"
      ]
    },
    {
      "cell_type": "markdown",
      "metadata": {
        "id": "qy6WhflKDINO"
      },
      "source": [
        "## Random Forest"
      ]
    },
    {
      "cell_type": "markdown",
      "metadata": {
        "id": "1XPjaG54DINO"
      },
      "source": [
        "### hyper parameter tuning for heating random forest"
      ]
    },
    {
      "cell_type": "code",
      "execution_count": null,
      "metadata": {
        "colab": {
          "base_uri": "https://localhost:8080/"
        },
        "outputId": "bb7c846f-c2d5-491c-fc19-951aad1ea522",
        "id": "GFCxCmRdDINO"
      },
      "outputs": [
        {
          "output_type": "stream",
          "name": "stdout",
          "text": [
            "Fold 1, Model Random Forest, Dataset heating, MAE: 3.0081, R²: 0.5682, Best Params: {'max_depth': None, 'min_samples_split': 5, 'n_estimators': 50}\n",
            "Fold 2, Model Random Forest, Dataset heating, MAE: 2.9827, R²: 0.6066, Best Params: {'max_depth': None, 'min_samples_split': 2, 'n_estimators': 50}\n",
            "Fold 3, Model Random Forest, Dataset heating, MAE: 2.8878, R²: 0.6050, Best Params: {'max_depth': 20, 'min_samples_split': 2, 'n_estimators': 100}\n",
            "Fold 4, Model Random Forest, Dataset heating, MAE: 3.0228, R²: 0.5529, Best Params: {'max_depth': 20, 'min_samples_split': 2, 'n_estimators': 150}\n",
            "Fold 5, Model Random Forest, Dataset heating, MAE: 3.0569, R²: 0.5300, Best Params: {'max_depth': None, 'min_samples_split': 2, 'n_estimators': 150}\n",
            "\n",
            "Summary Results for Random Forest:\n",
            "           Model  Dataset       MAE        R²\n",
            "0  Random Forest  heating  2.991653  0.572527\n"
          ]
        }
      ],
      "source": [
        "import pandas as pd\n",
        "from sklearn.model_selection import GridSearchCV\n",
        "from sklearn.ensemble import RandomForestRegressor\n",
        "from sklearn.metrics import mean_absolute_error, r2_score\n",
        "\n",
        "# Placeholder for storing results\n",
        "results_rf = []\n",
        "\n",
        "# Define hyperparameter grid for Random Forest\n",
        "param_grid_rf = {\n",
        "    'n_estimators': [50, 100, 150],\n",
        "    'max_depth': [10, 20, None],\n",
        "    'min_samples_split': [2, 5, 10],\n",
        "}\n",
        "\n",
        "for i in range(1, 6):\n",
        "    # Load datasets\n",
        "    train_data = pd.read_csv(f'fold{i}_heating_filtered_train_101_data.csv')\n",
        "    test_data = pd.read_csv(f'fold{i}_heating_filtered_test_101_data.csv')\n",
        "\n",
        "    # Split features and target\n",
        "    X_train = train_data.drop(columns=['WH_RTU_Total'])\n",
        "    y_train = train_data['WH_RTU_Total']\n",
        "\n",
        "    # Initialize Random Forest and perform GridSearchCV\n",
        "    rf = RandomForestRegressor(random_state=100)\n",
        "    grid_search_rf = GridSearchCV(rf, param_grid_rf, cv=3, scoring='neg_mean_absolute_error', n_jobs=-1)\n",
        "    grid_search_rf.fit(X_train, y_train)\n",
        "\n",
        "    # Get the best model and hyperparameters\n",
        "    best_rf = grid_search_rf.best_estimator_\n",
        "    best_params = grid_search_rf.best_params_\n",
        "\n",
        "    # Split test features and target\n",
        "    X_test = test_data.drop(columns=['WH_RTU_Total'])\n",
        "    y_test = test_data['WH_RTU_Total']\n",
        "\n",
        "    # Predict and calculate metrics\n",
        "    y_pred = best_rf.predict(X_test)\n",
        "    mae = mean_absolute_error(y_test, y_pred)\n",
        "    r2 = r2_score(y_test, y_pred)\n",
        "\n",
        "    # Store results\n",
        "    results_rf.append({\n",
        "        'Fold': i,\n",
        "        'Seed':101,\n",
        "        'Model': 'Random Forest',\n",
        "        'Dataset': 'heating',\n",
        "        'MAE': mae,\n",
        "        'R²': r2,\n",
        "        'Best Params': best_params,\n",
        "        'Experiment': 3\n",
        "    })\n",
        "\n",
        "    print(f\"Fold {i}, Model Random Forest, Dataset heating, MAE: {mae:.4f}, R²: {r2:.4f}, Best Params: {best_params}\")\n",
        "\n",
        "# Convert results to DataFrame\n",
        "results_rf_df = pd.DataFrame(results_rf)\n",
        "\n",
        "# Save detailed results to CSV\n",
        "results_rf_df.to_csv('random_forest_101_heating_hyperparameter_results_detailed.csv', index=False)\n",
        "\n",
        "# Display overall summary\n",
        "print(\"\\nSummary Results for Random Forest:\")\n",
        "summary_rf = results_rf_df.groupby(['Model', 'Dataset']).agg({'MAE': 'mean', 'R²': 'mean'}).reset_index()\n",
        "print(summary_rf)\n",
        "\n",
        "# Save summary to CSV\n",
        "summary_rf.to_csv('random_forest_101_heating_summary_results.csv', index=False)\n"
      ]
    },
    {
      "cell_type": "markdown",
      "metadata": {
        "id": "WTliZY-SDINO"
      },
      "source": [
        "### Feature Importance for Random Forest"
      ]
    },
    {
      "cell_type": "code",
      "execution_count": null,
      "metadata": {
        "colab": {
          "base_uri": "https://localhost:8080/"
        },
        "outputId": "6cc66443-d1e5-4567-d159-59422bea10a4",
        "id": "ERasBc1IDINP"
      },
      "outputs": [
        {
          "output_type": "stream",
          "name": "stdout",
          "text": [
            "Feature importance for seed 101 and experiment 3 has been successfully saved.\n"
          ]
        }
      ],
      "source": [
        "import pandas as pd\n",
        "from sklearn.ensemble import RandomForestRegressor\n",
        "\n",
        "# Placeholder for feature importance results\n",
        "feature_importance_results = []\n",
        "\n",
        "# Fixed seed value\n",
        "\n",
        "experiment = 3  # Experiment number\n",
        "\n",
        "# Section 1: Calculate Feature Importance\n",
        "for fold in range(1, 6):\n",
        "    # Load training data\n",
        "    train_data = pd.read_csv(f'fold{fold}_heating_filtered_train_101_data.csv')\n",
        "    X_train = train_data.drop(columns=['WH_RTU_Total'])\n",
        "    y_train = train_data['WH_RTU_Total']\n",
        "\n",
        "    # Load the best model parameters for the current fold\n",
        "    results_rf_df = pd.read_csv('random_forest_101_heating_hyperparameter_results_detailed.csv')\n",
        "    best_params = results_rf_df.loc[(results_rf_df['Fold'] == fold) & (results_rf_df['Dataset'] == 'heating'), 'Best Params'].iloc[0]\n",
        "    best_params_dict = eval(best_params)\n",
        "\n",
        "    # Train Random Forest model with best parameters\n",
        "    best_rf = RandomForestRegressor(random_state=100, **best_params_dict)\n",
        "    best_rf.fit(X_train, y_train)\n",
        "\n",
        "    # Calculate feature importance\n",
        "    feature_importances = best_rf.feature_importances_\n",
        "    feature_names = X_train.columns\n",
        "    importance_df = pd.DataFrame({\n",
        "        'Feature': feature_names,\n",
        "        'Importance': feature_importances,\n",
        "        'Fold': fold,\n",
        "        'Seed': 101,  # Add seed column\n",
        "        'Model': 'Random Forest',\n",
        "        'Experiment': experiment  # Add experiment column\n",
        "    })\n",
        "    feature_importance_results.append(importance_df)\n",
        "\n",
        "# Combine and save feature importance results\n",
        "feature_importance_combined = pd.concat(feature_importance_results, ignore_index=True)\n",
        "feature_importance_combined.to_csv(f'random_forest_101_heating_feature_importance_experiment_{experiment}.csv', index=False)\n",
        "\n",
        "print(f\"Feature importance for seed 101 and experiment {experiment} has been successfully saved.\")"
      ]
    },
    {
      "cell_type": "markdown",
      "metadata": {
        "id": "0pVfvqX8DINP"
      },
      "source": [
        "### residual，predict，label，T_OUT and RH_OUT"
      ]
    },
    {
      "cell_type": "code",
      "execution_count": null,
      "metadata": {
        "colab": {
          "base_uri": "https://localhost:8080/"
        },
        "outputId": "b81b9808-30a4-4fe4-8eca-513e2403d19c",
        "id": "WiVDDnlWDINP"
      },
      "outputs": [
        {
          "output_type": "stream",
          "name": "stdout",
          "text": [
            "Processed fold 1.\n",
            "Processed fold 2.\n",
            "Processed fold 3.\n",
            "Processed fold 4.\n",
            "Processed fold 5.\n",
            "All folds processed and merged data saved successfully to random_forest_101_heating_residual.csv.\n"
          ]
        }
      ],
      "source": [
        "import pandas as pd\n",
        "from sklearn.ensemble import RandomForestRegressor\n",
        "\n",
        "# Fixed seed value\n",
        "\n",
        "experiment = 3  # Experiment number\n",
        "merged_data = []  # Placeholder for storing final merged data\n",
        "\n",
        "# Loop through each fold\n",
        "for fold in range(1, 6):\n",
        "    # Load training data\n",
        "    train_data = pd.read_csv(f'fold{fold}_heating_filtered_train_101_data.csv')\n",
        "    X_train = train_data.drop(columns=['WH_RTU_Total'])\n",
        "    y_train = train_data['WH_RTU_Total']\n",
        "\n",
        "    # Load the best model parameters for the current fold\n",
        "    best_params_df = pd.read_csv('random_forest_101_heating_hyperparameter_results_detailed.csv')\n",
        "    best_params = best_params_df.loc[(best_params_df['Fold'] == fold) & (best_params_df['Dataset'] == 'heating'), 'Best Params'].iloc[0]\n",
        "    best_params_dict = eval(best_params)\n",
        "\n",
        "    # Train Random Forest model with best parameters\n",
        "    best_rf = RandomForestRegressor(random_state=100, **best_params_dict)\n",
        "    best_rf.fit(X_train, y_train)\n",
        "\n",
        "    # Load test data\n",
        "    test_data = pd.read_csv(f'fold{fold}_heating_filtered_test_101_data.csv')\n",
        "    test_data['Label'] = 'heating'  # Dynamically add label based on dataset type\n",
        "\n",
        "    # Split features and target\n",
        "    X_test = test_data.drop(columns=['WH_RTU_Total', 'Label'])\n",
        "    y_test = test_data['WH_RTU_Total']\n",
        "\n",
        "    # Predict and calculate residuals\n",
        "    y_pred = best_rf.predict(X_test)\n",
        "    test_data['Predicted'] = y_pred\n",
        "    test_data['Residual'] = test_data['WH_RTU_Total'] - test_data['Predicted']\n",
        "\n",
        "    # Select and rename required columns\n",
        "    if 'T_out' in test_data.columns and 'RH_out' in test_data.columns:\n",
        "        selected_data = test_data[['WH_RTU_Total', 'Predicted', 'Residual', 'T_out', 'RH_out', 'Label']].rename(columns={\n",
        "            'WH_RTU_Total': 'Actual'\n",
        "        })\n",
        "    else:\n",
        "        missing_columns = [col for col in ['T_out', 'RH_out'] if col not in test_data.columns]\n",
        "        raise ValueError(f\"{', '.join(missing_columns)} is/are missing in test data for fold {fold}\")\n",
        "\n",
        "    # Add fold, seed, and model columns\n",
        "    selected_data['Fold'] = fold\n",
        "    selected_data['Seed'] = 101\n",
        "    selected_data['Model'] = 'Random Forest'\n",
        "    selected_data['Experiment'] = experiment\n",
        "\n",
        "    # Append to final merged data\n",
        "    merged_data.append(selected_data)\n",
        "    print(f\"Processed fold {fold}.\")\n",
        "\n",
        "# Combine all folds into a single DataFrame\n",
        "merged_final_data = pd.concat(merged_data, ignore_index=True)\n",
        "\n",
        "# Save the merged data\n",
        "output_file = 'random_forest_101_heating_residual.csv'\n",
        "merged_final_data.to_csv(output_file, index=False)\n",
        "\n",
        "print(f\"All folds processed and merged data saved successfully to {output_file}.\")\n"
      ]
    },
    {
      "cell_type": "markdown",
      "metadata": {
        "id": "cOcVzSHRDINR"
      },
      "source": [
        "## XGBOOST"
      ]
    },
    {
      "cell_type": "markdown",
      "metadata": {
        "id": "ULBJXELeDINR"
      },
      "source": [
        "### hyper parameter tuning for heating XGBoost"
      ]
    },
    {
      "cell_type": "code",
      "execution_count": null,
      "metadata": {
        "colab": {
          "base_uri": "https://localhost:8080/"
        },
        "outputId": "93b0544f-84b4-4032-8cbd-eecab3274deb",
        "id": "Om7L9LdsDINS"
      },
      "outputs": [
        {
          "output_type": "stream",
          "name": "stdout",
          "text": [
            "Requirement already satisfied: pandas in /usr/local/lib/python3.10/dist-packages (2.2.2)\n",
            "Requirement already satisfied: numpy in /usr/local/lib/python3.10/dist-packages (1.26.4)\n",
            "Requirement already satisfied: scikit-learn in /usr/local/lib/python3.10/dist-packages (1.0.2)\n",
            "Requirement already satisfied: xgboost in /usr/local/lib/python3.10/dist-packages (2.1.3)\n",
            "Requirement already satisfied: python-dateutil>=2.8.2 in /usr/local/lib/python3.10/dist-packages (from pandas) (2.8.2)\n",
            "Requirement already satisfied: pytz>=2020.1 in /usr/local/lib/python3.10/dist-packages (from pandas) (2024.2)\n",
            "Requirement already satisfied: tzdata>=2022.7 in /usr/local/lib/python3.10/dist-packages (from pandas) (2024.2)\n",
            "Requirement already satisfied: scipy>=1.1.0 in /usr/local/lib/python3.10/dist-packages (from scikit-learn) (1.13.1)\n",
            "Requirement already satisfied: joblib>=0.11 in /usr/local/lib/python3.10/dist-packages (from scikit-learn) (1.4.2)\n",
            "Requirement already satisfied: threadpoolctl>=2.0.0 in /usr/local/lib/python3.10/dist-packages (from scikit-learn) (3.5.0)\n",
            "Requirement already satisfied: nvidia-nccl-cu12 in /usr/local/lib/python3.10/dist-packages (from xgboost) (2.23.4)\n",
            "Requirement already satisfied: six>=1.5 in /usr/local/lib/python3.10/dist-packages (from python-dateutil>=2.8.2->pandas) (1.17.0)\n",
            "Requirement already satisfied: scikit-learn==1.0.2 in /usr/local/lib/python3.10/dist-packages (1.0.2)\n",
            "Requirement already satisfied: numpy>=1.14.6 in /usr/local/lib/python3.10/dist-packages (from scikit-learn==1.0.2) (1.26.4)\n",
            "Requirement already satisfied: scipy>=1.1.0 in /usr/local/lib/python3.10/dist-packages (from scikit-learn==1.0.2) (1.13.1)\n",
            "Requirement already satisfied: joblib>=0.11 in /usr/local/lib/python3.10/dist-packages (from scikit-learn==1.0.2) (1.4.2)\n",
            "Requirement already satisfied: threadpoolctl>=2.0.0 in /usr/local/lib/python3.10/dist-packages (from scikit-learn==1.0.2) (3.5.0)\n",
            "Fold 1, Model XGBoost, Dataset heating, MAE: 3.0666, R²: 0.5429, Best Params: {'learning_rate': 0.2, 'max_depth': 6, 'n_estimators': 100, 'subsample': 1.0}\n",
            "Fold 2, Model XGBoost, Dataset heating, MAE: 2.6300, R²: 0.6682, Best Params: {'learning_rate': 0.1, 'max_depth': 6, 'n_estimators': 150, 'subsample': 0.8}\n",
            "Fold 3, Model XGBoost, Dataset heating, MAE: 2.7404, R²: 0.6406, Best Params: {'learning_rate': 0.1, 'max_depth': 6, 'n_estimators': 150, 'subsample': 0.8}\n",
            "Fold 4, Model XGBoost, Dataset heating, MAE: 2.9391, R²: 0.5534, Best Params: {'learning_rate': 0.1, 'max_depth': 6, 'n_estimators': 150, 'subsample': 0.8}\n",
            "Fold 5, Model XGBoost, Dataset heating, MAE: 2.9047, R²: 0.5591, Best Params: {'learning_rate': 0.2, 'max_depth': 3, 'n_estimators': 150, 'subsample': 1.0}\n",
            "\n",
            "Summary Results for XGBoost:\n",
            "     Model  Dataset       MAE        R²\n",
            "0  XGBoost  heating  2.856142  0.592835\n"
          ]
        }
      ],
      "source": [
        "!pip install pandas numpy scikit-learn xgboost\n",
        "!pip install scikit-learn==1.0.2\n",
        "from sklearn.model_selection import GridSearchCV\n",
        "from xgboost import XGBRegressor\n",
        "import pandas as pd\n",
        "from sklearn.metrics import mean_absolute_error, r2_score\n",
        "\n",
        "# Placeholder for storing results\n",
        "results_xgb = []\n",
        "experiment = 3  # Experiment number\n",
        "# Define hyperparameter grid for XGBoost\n",
        "param_grid_xgb = {\n",
        "    'n_estimators': [50, 100, 150],\n",
        "    'max_depth': [3, 6, 9],\n",
        "    'learning_rate': [0.01, 0.1, 0.2],\n",
        "    'subsample': [0.8, 1.0]\n",
        "}\n",
        "\n",
        "for i in range(1, 6):\n",
        "    # Load datasets\n",
        "    train_data = pd.read_csv(f'fold{i}_heating_filtered_train_101_data.csv')\n",
        "    test_data = pd.read_csv(f'fold{i}_heating_filtered_test_101_data.csv')\n",
        "\n",
        "    # Split features and target\n",
        "    X_train = train_data.drop(columns=['WH_RTU_Total'])\n",
        "    y_train = train_data['WH_RTU_Total']\n",
        "\n",
        "    # Initialize XGBoost and perform GridSearchCV\n",
        "    xgb = XGBRegressor(random_state=100)\n",
        "    grid_search_xgb = GridSearchCV(xgb, param_grid_xgb, cv=3, scoring='neg_mean_absolute_error', n_jobs=-1)\n",
        "    grid_search_xgb.fit(X_train, y_train)\n",
        "\n",
        "    # Get the best model and hyperparameters\n",
        "    best_xgb = grid_search_xgb.best_estimator_\n",
        "    best_params = grid_search_xgb.best_params_\n",
        "\n",
        "    # Split test features and target\n",
        "    X_test = test_data.drop(columns=['WH_RTU_Total'])\n",
        "    y_test = test_data['WH_RTU_Total']\n",
        "\n",
        "    # Predict and calculate metrics\n",
        "    y_pred = best_xgb.predict(X_test)\n",
        "    mae = mean_absolute_error(y_test, y_pred)\n",
        "    r2 = r2_score(y_test, y_pred)\n",
        "\n",
        "    # Store results\n",
        "    results_xgb.append({\n",
        "        'Fold': i,\n",
        "        'Seed': 101,\n",
        "        'Model': 'XGBoost',\n",
        "        'Dataset': 'heating',\n",
        "        'MAE': mae,\n",
        "        'R²': r2,\n",
        "        'Best Params': best_params,\n",
        "        'Experiment' : experiment\n",
        "    })\n",
        "\n",
        "\n",
        "    print(f\"Fold {i}, Model XGBoost, Dataset heating, MAE: {mae:.4f}, R²: {r2:.4f}, Best Params: {best_params}\")\n",
        "\n",
        "# Convert results to DataFrame\n",
        "results_xgb_df = pd.DataFrame(results_xgb)\n",
        "\n",
        "# Save detailed results to CSV\n",
        "results_xgb_df.to_csv('xgboost_101_heating_hyperparameter_results_detailed.csv', index=False)\n",
        "\n",
        "# Display overall summary\n",
        "print(\"\\nSummary Results for XGBoost:\")\n",
        "summary_xgb = results_xgb_df.groupby(['Model', 'Dataset']).agg({'MAE': 'mean', 'R²': 'mean'}).reset_index()\n",
        "print(summary_xgb)\n",
        "\n",
        "# Save summary to CSV\n",
        "summary_xgb.to_csv('xgboost_101_heating_summary_results.csv', index=False)\n"
      ]
    },
    {
      "cell_type": "markdown",
      "metadata": {
        "id": "5w2EzdepDINS"
      },
      "source": [
        "### Feature Importance"
      ]
    },
    {
      "cell_type": "code",
      "execution_count": null,
      "metadata": {
        "colab": {
          "base_uri": "https://localhost:8080/"
        },
        "outputId": "c08b537c-3019-4e7d-db73-5a78b33b22b2",
        "id": "lBTi3ADMDINT"
      },
      "outputs": [
        {
          "output_type": "stream",
          "name": "stdout",
          "text": [
            "Feature importance for seed 101 and experiment 2 has been successfully saved.\n"
          ]
        }
      ],
      "source": [
        "import pandas as pd\n",
        "from xgboost import XGBRegressor\n",
        "\n",
        "# Placeholder for feature importance results\n",
        "feature_importance_results = []\n",
        "\n",
        "# Fixed random seed\n",
        "\n",
        "experiment = 2  # Experiment number\n",
        "\n",
        "# Section 1: Calculate Feature Importance\n",
        "for fold in range(1, 6):\n",
        "    # Load training data\n",
        "    train_data = pd.read_csv(f'fold{fold}_heating_filtered_train_101_data.csv')\n",
        "    X_train = train_data.drop(columns=['WH_RTU_Total'])\n",
        "    y_train = train_data['WH_RTU_Total']\n",
        "\n",
        "    # Extract the best parameters from the results file\n",
        "    results_xgb_df = pd.read_csv('xgboost_101_heating_hyperparameter_results_detailed.csv')\n",
        "    best_params = results_xgb_df.loc[\n",
        "        (results_xgb_df['Fold'] == fold) & (results_xgb_df['Dataset'] == 'heating'),\n",
        "        'Best Params'\n",
        "    ].iloc[0]\n",
        "    best_params_dict = eval(best_params)  # Parse string into dictionary\n",
        "\n",
        "    # Initialize and train the model with the best parameters\n",
        "    best_xgb = XGBRegressor(random_state=100, **best_params_dict)\n",
        "    best_xgb.fit(X_train, y_train)\n",
        "\n",
        "    # Calculate feature importance\n",
        "    feature_importances = best_xgb.feature_importances_\n",
        "    feature_names = X_train.columns\n",
        "    importance_df = pd.DataFrame({\n",
        "        'Feature': feature_names,\n",
        "        'Importance': feature_importances,\n",
        "        'Fold': fold,\n",
        "        'Seed': 101,  # Add seed column\n",
        "        'Model': 'XGBoost',\n",
        "        'Experiment': experiment  # Add experiment column\n",
        "    })\n",
        "    feature_importance_results.append(importance_df)\n",
        "\n",
        "# Combine all feature importance results\n",
        "feature_importance_combined = pd.concat(feature_importance_results, ignore_index=True)\n",
        "\n",
        "# Save the feature importance results to a file\n",
        "feature_importance_combined.to_csv(f'xgboost_101_heating_feature_importance_experiment_{experiment}.csv', index=False)\n",
        "\n",
        "print(f\"Feature importance for seed 101 and experiment {experiment} has been successfully saved.\")"
      ]
    },
    {
      "cell_type": "markdown",
      "metadata": {
        "id": "Mtk1rEMvDINT"
      },
      "source": [
        "### Residual analysis"
      ]
    },
    {
      "cell_type": "code",
      "execution_count": null,
      "metadata": {
        "colab": {
          "base_uri": "https://localhost:8080/"
        },
        "outputId": "74a9523b-d961-4066-da13-db3b7610a629",
        "id": "SWkU7sHkDINT"
      },
      "outputs": [
        {
          "output_type": "stream",
          "name": "stdout",
          "text": [
            "Processed fold 1.\n",
            "Processed fold 2.\n",
            "Processed fold 3.\n",
            "Processed fold 4.\n",
            "Processed fold 5.\n",
            "All folds processed and merged data saved successfully to xgboost_101_heating_residual.csv.\n"
          ]
        }
      ],
      "source": [
        "import pandas as pd\n",
        "from xgboost import XGBRegressor\n",
        "\n",
        "\n",
        "experiment = 2  # Experiment number\n",
        "merged_data = []  # Placeholder for storing final merged data\n",
        "\n",
        "# Loop through each fold\n",
        "for fold in range(1, 6):\n",
        "    # Load training data\n",
        "    train_data = pd.read_csv(f'fold{fold}_heating_filtered_train_101_data.csv')\n",
        "    X_train = train_data.drop(columns=['WH_RTU_Total'])\n",
        "    y_train = train_data['WH_RTU_Total']\n",
        "\n",
        "    # Load the best model parameters for the current fold\n",
        "    best_params_df = pd.read_csv('xgboost_101_heating_hyperparameter_results_detailed.csv')\n",
        "    best_params = best_params_df.loc[(best_params_df['Fold'] == fold) & (best_params_df['Dataset'] == 'heating'), 'Best Params'].iloc[0]\n",
        "    best_params_dict = eval(best_params)\n",
        "\n",
        "    # Train XGBoost model with best parameters\n",
        "    best_xgb = XGBRegressor(random_state=100, **best_params_dict)\n",
        "    best_xgb.fit(X_train, y_train)\n",
        "\n",
        "    # Load test data\n",
        "    test_data = pd.read_csv(f'fold{fold}_heating_filtered_test_101_data.csv')\n",
        "    test_data['Label'] = 'heating'  # Dynamically add label based on dataset type\n",
        "\n",
        "    # Split features and target\n",
        "    X_test = test_data.drop(columns=['WH_RTU_Total', 'Label'])\n",
        "    y_test = test_data['WH_RTU_Total']\n",
        "\n",
        "    # Predict and calculate residuals\n",
        "    y_pred = best_xgb.predict(X_test)\n",
        "    test_data['Predicted'] = y_pred\n",
        "    test_data['Residual'] = test_data['WH_RTU_Total'] - test_data['Predicted']\n",
        "\n",
        "    # Select and rename required columns\n",
        "    if 'T_out' in test_data.columns and 'RH_out' in test_data.columns:\n",
        "        selected_data = test_data[['WH_RTU_Total', 'Predicted', 'Residual', 'T_out', 'RH_out', 'Label']].rename(columns={\n",
        "            'WH_RTU_Total': 'Actual'\n",
        "        })\n",
        "    else:\n",
        "        missing_columns = [col for col in ['T_out', 'RH_out'] if col not in test_data.columns]\n",
        "        raise ValueError(f\"{', '.join(missing_columns)} is/are missing in test data for fold {fold}\")\n",
        "\n",
        "    # Add fold, seed, and model columns\n",
        "    selected_data['Fold'] = fold\n",
        "    selected_data['Seed'] = 101\n",
        "    selected_data['Model'] = 'XGBoost'\n",
        "    selected_data['Experiment'] = experiment\n",
        "\n",
        "    # Append to final merged data\n",
        "    merged_data.append(selected_data)\n",
        "    print(f\"Processed fold {fold}.\")\n",
        "\n",
        "# Combine all folds into a single DataFrame\n",
        "merged_final_data = pd.concat(merged_data, ignore_index=True)\n",
        "\n",
        "# Save the merged data\n",
        "output_file = 'xgboost_101_heating_residual.csv'\n",
        "merged_final_data.to_csv(output_file, index=False)\n",
        "\n",
        "print(f\"All folds processed and merged data saved successfully to {output_file}.\")\n"
      ]
    },
    {
      "cell_type": "markdown",
      "metadata": {
        "id": "oZ81VcOpDINT"
      },
      "source": [
        "## Stacking Regressor"
      ]
    },
    {
      "cell_type": "markdown",
      "metadata": {
        "id": "qKcY0Z2wDINU"
      },
      "source": [
        "### hyper parameter tuning for heating Stacking Regressor"
      ]
    },
    {
      "cell_type": "code",
      "execution_count": null,
      "metadata": {
        "colab": {
          "base_uri": "https://localhost:8080/"
        },
        "outputId": "2148424c-eac3-4e78-9deb-e136245becc1",
        "id": "10TYJ-9dDINU"
      },
      "outputs": [
        {
          "output_type": "stream",
          "name": "stdout",
          "text": [
            "Fold 1, Model Stacking Regressor, Dataset heating, MAE: 2.9656, R²: 0.5819, Best Params: {'final_estimator__fit_intercept': False, 'gb__learning_rate': 0.1, 'gb__max_depth': 6, 'rf__max_depth': 20, 'rf__n_estimators': 50}\n",
            "Fold 2, Model Stacking Regressor, Dataset heating, MAE: 2.9113, R²: 0.6220, Best Params: {'final_estimator__fit_intercept': False, 'gb__learning_rate': 0.1, 'gb__max_depth': 6, 'rf__max_depth': 20, 'rf__n_estimators': 50}\n",
            "Fold 3, Model Stacking Regressor, Dataset heating, MAE: 2.8794, R²: 0.6076, Best Params: {'final_estimator__fit_intercept': False, 'gb__learning_rate': 0.1, 'gb__max_depth': 6, 'rf__max_depth': 20, 'rf__n_estimators': 100}\n",
            "Fold 4, Model Stacking Regressor, Dataset heating, MAE: 3.0164, R²: 0.5515, Best Params: {'final_estimator__fit_intercept': False, 'gb__learning_rate': 0.1, 'gb__max_depth': 6, 'rf__max_depth': 20, 'rf__n_estimators': 100}\n",
            "Fold 5, Model Stacking Regressor, Dataset heating, MAE: 3.0009, R²: 0.5478, Best Params: {'final_estimator__fit_intercept': False, 'gb__learning_rate': 0.1, 'gb__max_depth': 6, 'rf__max_depth': 20, 'rf__n_estimators': 100}\n",
            "\n",
            "Summary Results for Stacking Regressor:\n",
            "                Model  Dataset       MAE        R²\n",
            "0  Stacking Regressor  heating  2.954721  0.582154\n"
          ]
        }
      ],
      "source": [
        "import pandas as pd\n",
        "from sklearn.model_selection import GridSearchCV\n",
        "from sklearn.ensemble import StackingRegressor\n",
        "from sklearn.linear_model import LinearRegression\n",
        "from sklearn.ensemble import RandomForestRegressor, GradientBoostingRegressor\n",
        "from sklearn.metrics import mean_absolute_error, r2_score\n",
        "\n",
        "# Placeholder for storing results\n",
        "results_stacking = []\n",
        "\n",
        "experiment = 2  # Experiment number\n",
        "# Define hyperparameter grid for Stacking Regressor\n",
        "param_grid_stacking = {\n",
        "    'final_estimator__fit_intercept': [True, False],  # Meta-model parameter (LinearRegression)\n",
        "    'rf__n_estimators': [50, 100],                   # Base model: Random Forest\n",
        "    'rf__max_depth': [10, 20],                       # Base model: Random Forest\n",
        "    'gb__learning_rate': [0.01, 0.1],                # Base model: Gradient Boosting\n",
        "    'gb__max_depth': [3, 6]                          # Base model: Gradient Boosting\n",
        "}\n",
        "\n",
        "for i in range(1, 6):\n",
        "    # Load datasets\n",
        "    train_data = pd.read_csv(f'fold{i}_heating_filtered_train_101_data.csv')\n",
        "    test_data = pd.read_csv(f'fold{i}_heating_filtered_test_101_data.csv')\n",
        "\n",
        "    # Split features and target\n",
        "    X_train = train_data.drop(columns=['WH_RTU_Total'])\n",
        "    y_train = train_data['WH_RTU_Total']\n",
        "\n",
        "    # Define base models and Stacking Regressor\n",
        "    base_models = [\n",
        "        ('rf', RandomForestRegressor(random_state=100)),\n",
        "        ('gb', GradientBoostingRegressor(random_state=100))\n",
        "    ]\n",
        "    meta_model = LinearRegression()\n",
        "    stacking = StackingRegressor(estimators=base_models, final_estimator=meta_model)\n",
        "\n",
        "    # Perform GridSearchCV on the Stacking Regressor\n",
        "    grid_search_stacking = GridSearchCV(stacking, param_grid_stacking, cv=3, scoring='neg_mean_absolute_error', n_jobs=-1)\n",
        "    grid_search_stacking.fit(X_train, y_train)\n",
        "\n",
        "    # Get the best model and hyperparameters\n",
        "    best_stacking = grid_search_stacking.best_estimator_\n",
        "    best_params = grid_search_stacking.best_params_\n",
        "\n",
        "    # Split test features and target\n",
        "    X_test = test_data.drop(columns=['WH_RTU_Total'])\n",
        "    y_test = test_data['WH_RTU_Total']\n",
        "\n",
        "    # Predict and calculate metrics\n",
        "    y_pred = best_stacking.predict(X_test)\n",
        "    mae = mean_absolute_error(y_test, y_pred)\n",
        "    r2 = r2_score(y_test, y_pred)\n",
        "\n",
        "    # Store results\n",
        "    results_stacking.append({\n",
        "        'Fold': i,\n",
        "        'Seed': 101,\n",
        "        'Model': 'Stacking Regressor',\n",
        "        'Dataset': 'heating',\n",
        "        'MAE': mae,\n",
        "        'R²': r2,\n",
        "        'Best Params': best_params,\n",
        "        'Experiment': experiment\n",
        "    })\n",
        "\n",
        "    print(f\"Fold {i}, Model Stacking Regressor, Dataset heating, MAE: {mae:.4f}, R²: {r2:.4f}, Best Params: {best_params}\")\n",
        "\n",
        "# Convert results to DataFrame\n",
        "results_stacking_df = pd.DataFrame(results_stacking)\n",
        "\n",
        "# Save detailed results to CSV\n",
        "results_stacking_df.to_csv('stacking_101_heating_hyperparameter_results_detailed.csv', index=False)\n",
        "\n",
        "# Display overall summary\n",
        "print(\"\\nSummary Results for Stacking Regressor:\")\n",
        "summary_stacking = results_stacking_df.groupby(['Model', 'Dataset']).agg({'MAE': 'mean', 'R²': 'mean'}).reset_index()\n",
        "print(summary_stacking)\n",
        "\n",
        "# Save summary to CSV\n",
        "summary_stacking.to_csv('stacking_101_heating_summary_results.csv', index=False)\n"
      ]
    },
    {
      "cell_type": "markdown",
      "metadata": {
        "id": "qgHnpWSrDINU"
      },
      "source": [
        "### Feature Importance"
      ]
    },
    {
      "cell_type": "code",
      "execution_count": null,
      "metadata": {
        "colab": {
          "base_uri": "https://localhost:8080/"
        },
        "outputId": "b550e0a0-2d80-4cd7-cb0d-edf2e4eca11d",
        "id": "l0U__hbvDINU"
      },
      "outputs": [
        {
          "output_type": "stream",
          "name": "stdout",
          "text": [
            "Feature importance for seed 101 and experiment 2 has been successfully saved.\n"
          ]
        }
      ],
      "source": [
        "import pandas as pd\n",
        "from sklearn.linear_model import LinearRegression\n",
        "from sklearn.ensemble import RandomForestRegressor, GradientBoostingRegressor, StackingRegressor\n",
        "\n",
        "# Placeholder for feature importance results\n",
        "feature_importance_results = []\n",
        "\n",
        "\n",
        "experiment = 2  # Experiment number\n",
        "\n",
        "# Section 1: Calculate Feature Importance\n",
        "for fold in range(1, 6):\n",
        "    # Load training data\n",
        "    train_data = pd.read_csv(f'fold{fold}_heating_filtered_train_101_data.csv')\n",
        "    X_train = train_data.drop(columns=['WH_RTU_Total'])\n",
        "    y_train = train_data['WH_RTU_Total']\n",
        "\n",
        "    # Extract the best parameters from the results file\n",
        "    results_stacking_df = pd.read_csv('stacking_101_heating_hyperparameter_results_detailed.csv')\n",
        "    best_params = results_stacking_df.loc[\n",
        "        (results_stacking_df['Fold'] == fold) & (results_stacking_df['Dataset'] == 'heating'),\n",
        "        'Best Params'\n",
        "    ].iloc[0]\n",
        "    best_params_dict = eval(best_params)  # Parse string into dictionary\n",
        "\n",
        "    # Define base models\n",
        "    base_models = [\n",
        "        ('rf', RandomForestRegressor(random_state=100, **{k.split('__')[1]: v for k, v in best_params_dict.items() if k.startswith('rf__')})),\n",
        "        ('gb', GradientBoostingRegressor(random_state=100, **{k.split('__')[1]: v for k, v in best_params_dict.items() if k.startswith('gb__')}))\n",
        "    ]\n",
        "    meta_model = LinearRegression(**{k.split('__')[1]: v for k, v in best_params_dict.items() if k.startswith('final_estimator__')})\n",
        "\n",
        "    # Define Stacking Regressor and fit the model\n",
        "    stacking = StackingRegressor(estimators=base_models, final_estimator=meta_model)\n",
        "    stacking.fit(X_train, y_train)\n",
        "\n",
        "    # Calculate feature importances from base models\n",
        "    for model_name, model in stacking.named_estimators_.items():\n",
        "        if hasattr(model, 'feature_importances_'):  # Check if the model supports feature importance\n",
        "            feature_importances = model.feature_importances_\n",
        "            feature_names = X_train.columns\n",
        "            importance_df = pd.DataFrame({\n",
        "                'Feature': feature_names,\n",
        "                'Importance': feature_importances,\n",
        "                'Model': model_name,\n",
        "                'Fold': fold,\n",
        "                'Seed': 101,\n",
        "                'Experiment': experiment  # Add experiment column\n",
        "            })\n",
        "            feature_importance_results.append(importance_df)\n",
        "\n",
        "# Combine all feature importance results\n",
        "feature_importance_combined = pd.concat(feature_importance_results, ignore_index=True)\n",
        "\n",
        "# Save the feature importance results to a file\n",
        "feature_importance_combined.to_csv(f'stacking_101_heating_feature_importance_experiment_{experiment}.csv', index=False)\n",
        "\n",
        "print(f\"Feature importance for seed 101 and experiment {experiment} has been successfully saved.\")"
      ]
    },
    {
      "cell_type": "markdown",
      "metadata": {
        "id": "S985yyfqDINU"
      },
      "source": [
        "### Residual Analysis"
      ]
    },
    {
      "cell_type": "code",
      "execution_count": null,
      "metadata": {
        "colab": {
          "base_uri": "https://localhost:8080/"
        },
        "outputId": "d4aa591e-116a-4237-ad50-b11bf835c6cf",
        "id": "KraZ8ZshDINU"
      },
      "outputs": [
        {
          "output_type": "stream",
          "name": "stdout",
          "text": [
            "Processed fold 1.\n",
            "Processed fold 2.\n",
            "Processed fold 3.\n",
            "Processed fold 4.\n",
            "Processed fold 5.\n",
            "All folds processed and merged data saved successfully to stacking_101_heating_residual.csv.\n"
          ]
        }
      ],
      "source": [
        "import pandas as pd\n",
        "from sklearn.ensemble import StackingRegressor, RandomForestRegressor, GradientBoostingRegressor\n",
        "from sklearn.linear_model import LinearRegression\n",
        "\n",
        "\n",
        "experiment = 2  # Experiment number\n",
        "merged_data = []  # Placeholder for storing final merged data\n",
        "\n",
        "# Load the best model parameters for each fold\n",
        "best_params_df = pd.read_csv('stacking_101_heating_hyperparameter_results_detailed.csv')\n",
        "\n",
        "# Loop through each fold\n",
        "for fold in range(1, 6):\n",
        "    # Load training data\n",
        "    train_data = pd.read_csv(f'fold{fold}_heating_filtered_train_101_data.csv')\n",
        "    X_train = train_data.drop(columns=['WH_RTU_Total'])\n",
        "    y_train = train_data['WH_RTU_Total']\n",
        "\n",
        "    # Get the best parameters for the current fold\n",
        "    best_params = best_params_df.loc[best_params_df['Fold'] == fold, 'Best Params'].iloc[0]\n",
        "    best_params_dict = eval(best_params)\n",
        "\n",
        "    # Define base models and Stacking Regressor with best parameters\n",
        "    base_models = [\n",
        "        ('rf', RandomForestRegressor(random_state=100,\n",
        "                                     n_estimators=best_params_dict['rf__n_estimators'],\n",
        "                                     max_depth=best_params_dict['rf__max_depth'])),\n",
        "        ('gb', GradientBoostingRegressor(random_state=100,\n",
        "                                         learning_rate=best_params_dict['gb__learning_rate'],\n",
        "                                         max_depth=best_params_dict['gb__max_depth']))\n",
        "    ]\n",
        "    meta_model = LinearRegression(fit_intercept=best_params_dict['final_estimator__fit_intercept'])\n",
        "    best_stacking = StackingRegressor(estimators=base_models, final_estimator=meta_model)\n",
        "\n",
        "    # Train the Stacking Regressor\n",
        "    best_stacking.fit(X_train, y_train)\n",
        "\n",
        "    # Load test data\n",
        "    test_data = pd.read_csv(f'fold{fold}_heating_filtered_test_101_data.csv')\n",
        "    test_data['Label'] = 'heating'  # Dynamically add label based on dataset type\n",
        "\n",
        "    # Split features and target\n",
        "    X_test = test_data.drop(columns=['WH_RTU_Total', 'Label'])\n",
        "    y_test = test_data['WH_RTU_Total']\n",
        "\n",
        "    # Predict and calculate residuals\n",
        "    y_pred = best_stacking.predict(X_test)\n",
        "    test_data = test_data.reset_index(drop=True)  # Reset test_data index\n",
        "    y_pred_series = pd.Series(y_pred, index=test_data.index)  # Align y_pred with test_data index\n",
        "    test_data['Predicted'] = y_pred_series\n",
        "    test_data['Residual'] = test_data['WH_RTU_Total'] - test_data['Predicted']\n",
        "\n",
        "    # Select and rename required columns\n",
        "    if 'T_out' in test_data.columns and 'RH_out' in test_data.columns:\n",
        "        selected_data = test_data[['WH_RTU_Total', 'Predicted', 'Residual', 'T_out', 'RH_out', 'Label']].rename(columns={\n",
        "            'WH_RTU_Total': 'Actual'\n",
        "        })\n",
        "    else:\n",
        "        missing_columns = [col for col in ['T_out', 'RH_out'] if col not in test_data.columns]\n",
        "        raise ValueError(f\"{', '.join(missing_columns)} is/are missing in test data for fold {fold}\")\n",
        "\n",
        "    # Add fold, seed, and model columns\n",
        "    selected_data['Fold'] = fold\n",
        "    selected_data['Seed'] = 101\n",
        "    selected_data['Model'] = 'StackingRegressor'\n",
        "    selected_data['Experiment'] = experiment\n",
        "\n",
        "    # Append to final merged data\n",
        "    merged_data.append(selected_data)\n",
        "    print(f\"Processed fold {fold}.\")\n",
        "\n",
        "# Combine all folds into a single DataFrame\n",
        "merged_final_data = pd.concat(merged_data, ignore_index=True)\n",
        "\n",
        "# Save the merged data\n",
        "output_file = 'stacking_101_heating_residual.csv'\n",
        "merged_final_data.to_csv(output_file, index=False)\n",
        "\n",
        "print(f\"All folds processed and merged data saved successfully to {output_file}.\")\n"
      ]
    }
  ],
  "metadata": {
    "accelerator": "GPU",
    "colab": {
      "gpuType": "T4",
      "machine_shape": "hm",
      "provenance": [],
      "toc_visible": true
    },
    "kernelspec": {
      "display_name": "Python 3",
      "name": "python3"
    },
    "language_info": {
      "name": "python"
    }
  },
  "nbformat": 4,
  "nbformat_minor": 0
}