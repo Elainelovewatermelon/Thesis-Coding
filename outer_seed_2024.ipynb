{
  "cells": [
    {
      "cell_type": "markdown",
      "metadata": {
        "id": "i9A-T0mAW2C0"
      },
      "source": [
        "# Combined Experiments"
      ]
    },
    {
      "cell_type": "markdown",
      "metadata": {
        "id": "4zUcRgWRYus1"
      },
      "source": [
        "first do the experiment1 ,the combined data, and then split it into 5 folds, then organize them into five pairs of training and testing data"
      ]
    },
    {
      "cell_type": "code",
      "execution_count": null,
      "metadata": {
        "colab": {
          "base_uri": "https://localhost:8080/"
        },
        "id": "b_47zy4mY3i_",
        "outputId": "fa298869-c1cb-4ce8-9f7b-4a8bf77897b0"
      },
      "outputs": [
        {
          "output_type": "stream",
          "name": "stdout",
          "text": [
            "Training and test data for 5 folds with seed 2024 have been generated and saved.\n"
          ]
        }
      ],
      "source": [
        "import pandas as pd\n",
        "from sklearn.model_selection import KFold\n",
        "\n",
        "# Load the combined data\n",
        "combined_data_2024 = pd.read_csv('combined_data_2024.csv')\n",
        "\n",
        "# Initialize KFold with 5 splits\n",
        "kf = KFold(n_splits=5, shuffle=True, random_state=2024)\n",
        "\n",
        "# Create storage for training and test data splits\n",
        "folds = []\n",
        "\n",
        "# Split the data into 5 folds\n",
        "for train_index, test_index in kf.split(combined_data_2024):\n",
        "    train_data = combined_data_2024.iloc[train_index]\n",
        "    test_data = combined_data_2024.iloc[test_index]\n",
        "    folds.append((train_data, test_data))\n",
        "\n",
        "# Save each training and test group as separate files\n",
        "for i, (train_data, test_data) in enumerate(folds):\n",
        "    train_data.to_csv(f'combined_train_2024_fold{i+1}.csv', index=False)\n",
        "    test_data.to_csv(f'combined_test_2024_fold{i+1}.csv', index=False)\n",
        "\n",
        "print(\"Training and test data for 5 folds with seed 2024 have been generated and saved.\")\n"
      ]
    },
    {
      "cell_type": "markdown",
      "metadata": {
        "id": "bip-xt9cZv7Y"
      },
      "source": [
        "do the feature selection for each group"
      ]
    },
    {
      "cell_type": "code",
      "execution_count": null,
      "metadata": {
        "colab": {
          "base_uri": "https://localhost:8080/"
        },
        "id": "462MZV4CE0Kf",
        "outputId": "10424ab8-856e-4414-e0ed-161639ab2b67"
      },
      "outputs": [
        {
          "name": "stdout",
          "output_type": "stream",
          "text": [
            "Top 25 features for fold 1 with seed 44 saved.\n",
            "Top 25 features for fold 2 with seed 44 saved.\n",
            "Top 25 features for fold 3 with seed 44 saved.\n",
            "Top 25 features for fold 4 with seed 44 saved.\n",
            "Top 25 features for fold 5 with seed 44 saved.\n"
          ]
        }
      ],
      "source": [
        "import pandas as pd\n",
        "from sklearn.ensemble import RandomForestRegressor\n",
        "\n",
        "# Function to perform feature selection\n",
        "def feature_selection(train_data, target_column, preselected_features, k=25):\n",
        "    # Separate features and target\n",
        "    X = train_data.drop(columns=[target_column, 'TIMESTAMP'], errors='ignore')  # Drop TIMESTAMP\n",
        "    y = train_data[target_column]\n",
        "\n",
        "    # Train a RandomForestRegressor model\n",
        "    rf_model = RandomForestRegressor(n_estimators=100, random_state=100)\n",
        "    rf_model.fit(X, y)\n",
        "\n",
        "    # Get feature names and their importance scores\n",
        "    feature_importances = rf_model.feature_importances_\n",
        "    feature_names = X.columns\n",
        "\n",
        "    # Combine feature names and scores into a DataFrame\n",
        "    selected_features = pd.DataFrame({\n",
        "        'Feature': feature_names,\n",
        "        'Importance': feature_importances\n",
        "    }).sort_values(by='Importance', ascending=False)\n",
        "\n",
        "    # Select the preselected features (label, T_out, RH_out)\n",
        "    preselected_df = selected_features[selected_features['Feature'].isin(preselected_features)]\n",
        "\n",
        "    # Select the remaining top features after excluding preselected ones\n",
        "    remaining_features = selected_features[~selected_features['Feature'].isin(preselected_features)]\n",
        "    top_remaining_features = remaining_features.head(k - len(preselected_features))\n",
        "\n",
        "    # Combine preselected features with the top remaining features\n",
        "    final_features = pd.concat([preselected_df, top_remaining_features])\n",
        "\n",
        "    return final_features\n",
        "\n",
        "# Perform feature selection for each fold\n",
        "target_column = 'WH_RTU_Total'\n",
        "preselected_features = ['label', 'T_out', 'RH_out']\n",
        "\n",
        "for i in range(1, 6):\n",
        "    train_data = pd.read_csv(f'combined_train_2024_fold{i}.csv')\n",
        "\n",
        "    # Perform feature selection\n",
        "    top_features = feature_selection(train_data, target_column, preselected_features, k=25)\n",
        "\n",
        "    # Save top features\n",
        "    top_features.to_csv(f'combined_train_2024_fold{i}_top25_features.csv', index=False)\n",
        "\n",
        "    print(f\"Top 25 features for fold {i} with seed 2024 saved.\")\n"
      ]
    },
    {
      "cell_type": "markdown",
      "metadata": {
        "id": "rSekzqyd9Ocl"
      },
      "source": [
        "then i need to select the related data from both the training and test set in the five groups based on the feature selected in former section(which is the training data)"
      ]
    },
    {
      "cell_type": "code",
      "execution_count": null,
      "metadata": {
        "colab": {
          "base_uri": "https://localhost:8080/"
        },
        "id": "pv74sjYB9dw4",
        "outputId": "76a42bd8-2c86-4a7c-9686-cf2284a99eaf"
      },
      "outputs": [
        {
          "output_type": "stream",
          "name": "stdout",
          "text": [
            "Filtered train data for fold 1 with seed 2024 saved.\n",
            "Filtered test data, heating data, and cooling data for fold 1 with seed 2024 saved.\n",
            "Filtered train data for fold 2 with seed 2024 saved.\n",
            "Filtered test data, heating data, and cooling data for fold 2 with seed 2024 saved.\n",
            "Filtered train data for fold 3 with seed 2024 saved.\n",
            "Filtered test data, heating data, and cooling data for fold 3 with seed 2024 saved.\n",
            "Filtered train data for fold 4 with seed 2024 saved.\n",
            "Filtered test data, heating data, and cooling data for fold 4 with seed 2024 saved.\n",
            "Filtered train data for fold 5 with seed 2024 saved.\n",
            "Filtered test data, heating data, and cooling data for fold 5 with seed 2024 saved.\n"
          ]
        }
      ],
      "source": [
        "# Target variable\n",
        "target_column = 'WH_RTU_Total'\n",
        "\n",
        "for i in range(1, 6):\n",
        "    # Load the original training and test datasets for the current fold\n",
        "    train_data = pd.read_csv(f'combined_train_2024_fold{i}.csv')\n",
        "    test_data = pd.read_csv(f'combined_test_2024_fold{i}.csv')\n",
        "\n",
        "    # Load the top 25 features selected from the current fold\n",
        "    top_features = pd.read_csv(f'combined_train_2024_fold{i}_top25_features.csv')['Feature'].tolist()\n",
        "\n",
        "    # Ensure the target column is included in the selected features\n",
        "    train_columns = top_features + [target_column]  # Train data includes target\n",
        "    test_columns = top_features + [target_column]  # Test data includes target\n",
        "\n",
        "    # Filter the training data\n",
        "    filtered_train_data = train_data[train_columns]\n",
        "    filtered_train_data.to_csv(f'fold_2024_{i}_filtered_train_data.csv', index=False)\n",
        "    print(f\"Filtered train data for fold {i} with seed 2024 saved.\")\n",
        "\n",
        "    # Filter the test data\n",
        "    filtered_test_data = test_data[test_columns]\n",
        "\n",
        "    # Split the test data into heating and cooling datasets\n",
        "    test_data_heating = filtered_test_data[filtered_test_data['label'] == 1]\n",
        "    test_data_cooling = filtered_test_data[filtered_test_data['label'] == 0]\n",
        "\n",
        "    # Save all datasets\n",
        "    filtered_test_data.to_csv(f'fold_2024_{i}_filtered_test_data.csv', index=False)\n",
        "    test_data_heating.to_csv(f'fold_2024_{i}_filtered_test_data_heating.csv', index=False)\n",
        "    test_data_cooling.to_csv(f'fold_2024_{i}_filtered_test_data_cooling.csv', index=False)\n",
        "    print(f\"Filtered test data, heating data, and cooling data for fold {i} with seed 2024 saved.\")\n"
      ]
    },
    {
      "cell_type": "markdown",
      "metadata": {
        "id": "h53709sH-kya"
      },
      "source": [
        "generate the mae and R2 value for the four models:linear regression, random forest ,xgboost and stacking ensemble regressor."
      ]
    },
    {
      "cell_type": "code",
      "execution_count": null,
      "metadata": {
        "colab": {
          "base_uri": "https://localhost:8080/"
        },
        "id": "k2sogHDs_Afe",
        "outputId": "5125791b-e570-405c-c398-39ae68862a78"
      },
      "outputs": [
        {
          "output_type": "stream",
          "name": "stdout",
          "text": [
            "Requirement already satisfied: pandas in /usr/local/lib/python3.10/dist-packages (2.2.2)\n",
            "Requirement already satisfied: numpy in /usr/local/lib/python3.10/dist-packages (1.26.4)\n",
            "Requirement already satisfied: scikit-learn in /usr/local/lib/python3.10/dist-packages (1.6.0)\n",
            "Requirement already satisfied: xgboost in /usr/local/lib/python3.10/dist-packages (2.1.3)\n",
            "Requirement already satisfied: python-dateutil>=2.8.2 in /usr/local/lib/python3.10/dist-packages (from pandas) (2.8.2)\n",
            "Requirement already satisfied: pytz>=2020.1 in /usr/local/lib/python3.10/dist-packages (from pandas) (2024.2)\n",
            "Requirement already satisfied: tzdata>=2022.7 in /usr/local/lib/python3.10/dist-packages (from pandas) (2024.2)\n",
            "Requirement already satisfied: scipy>=1.6.0 in /usr/local/lib/python3.10/dist-packages (from scikit-learn) (1.13.1)\n",
            "Requirement already satisfied: joblib>=1.2.0 in /usr/local/lib/python3.10/dist-packages (from scikit-learn) (1.4.2)\n",
            "Requirement already satisfied: threadpoolctl>=3.1.0 in /usr/local/lib/python3.10/dist-packages (from scikit-learn) (3.5.0)\n",
            "Requirement already satisfied: nvidia-nccl-cu12 in /usr/local/lib/python3.10/dist-packages (from xgboost) (2.23.4)\n",
            "Requirement already satisfied: six>=1.5 in /usr/local/lib/python3.10/dist-packages (from python-dateutil>=2.8.2->pandas) (1.17.0)\n",
            "Fold 1, Model Linear Regression, Dataset Combined, MAE: 4.4104, R²: 0.6901\n",
            "Fold 1, Model Linear Regression, Dataset Cooling, MAE: 4.8851, R²: 0.4392\n",
            "Fold 1, Model Linear Regression, Dataset Heating, MAE: 3.9591, R²: 0.2674\n",
            "Fold 1, Model Random Forest, Dataset Combined, MAE: 2.6508, R²: 0.8534\n",
            "Fold 1, Model Random Forest, Dataset Cooling, MAE: 2.1840, R²: 0.7885\n",
            "Fold 1, Model Random Forest, Dataset Heating, MAE: 3.0947, R²: 0.5355\n",
            "Fold 1, Model XGBoost, Dataset Combined, MAE: 2.7121, R²: 0.8492\n",
            "Fold 1, Model XGBoost, Dataset Cooling, MAE: 2.2229, R²: 0.7898\n",
            "Fold 1, Model XGBoost, Dataset Heating, MAE: 3.1773, R²: 0.5061\n",
            "Fold 1, Model Stacking Regressor, Dataset Combined, MAE: 2.8441, R²: 0.8506\n",
            "Fold 1, Model Stacking Regressor, Dataset Cooling, MAE: 2.4321, R²: 0.7811\n",
            "Fold 1, Model Stacking Regressor, Dataset Heating, MAE: 3.2358, R²: 0.5337\n",
            "Fold 2, Model Linear Regression, Dataset Combined, MAE: 4.7560, R²: 0.6580\n",
            "Fold 2, Model Linear Regression, Dataset Cooling, MAE: 5.3215, R²: 0.4336\n",
            "Fold 2, Model Linear Regression, Dataset Heating, MAE: 4.1429, R²: 0.2033\n",
            "Fold 2, Model Random Forest, Dataset Combined, MAE: 3.0044, R²: 0.8135\n",
            "Fold 2, Model Random Forest, Dataset Cooling, MAE: 2.7293, R²: 0.7191\n",
            "Fold 2, Model Random Forest, Dataset Heating, MAE: 3.3028, R²: 0.4775\n",
            "Fold 2, Model XGBoost, Dataset Combined, MAE: 3.0212, R²: 0.8124\n",
            "Fold 2, Model XGBoost, Dataset Cooling, MAE: 2.7493, R²: 0.7303\n",
            "Fold 2, Model XGBoost, Dataset Heating, MAE: 3.3159, R²: 0.4337\n",
            "Fold 2, Model Stacking Regressor, Dataset Combined, MAE: 3.0376, R²: 0.8211\n",
            "Fold 2, Model Stacking Regressor, Dataset Cooling, MAE: 2.7340, R²: 0.7379\n",
            "Fold 2, Model Stacking Regressor, Dataset Heating, MAE: 3.3667, R²: 0.4756\n",
            "Fold 3, Model Linear Regression, Dataset Combined, MAE: 4.5796, R²: 0.6788\n",
            "Fold 3, Model Linear Regression, Dataset Cooling, MAE: 5.1892, R²: 0.3969\n",
            "Fold 3, Model Linear Regression, Dataset Heating, MAE: 3.9669, R²: 0.3861\n",
            "Fold 3, Model Random Forest, Dataset Combined, MAE: 2.8477, R²: 0.8467\n",
            "Fold 3, Model Random Forest, Dataset Cooling, MAE: 2.5189, R²: 0.7643\n",
            "Fold 3, Model Random Forest, Dataset Heating, MAE: 3.1782, R²: 0.5860\n",
            "Fold 3, Model XGBoost, Dataset Combined, MAE: 2.9425, R²: 0.8361\n",
            "Fold 3, Model XGBoost, Dataset Cooling, MAE: 2.6480, R²: 0.7539\n",
            "Fold 3, Model XGBoost, Dataset Heating, MAE: 3.2385, R²: 0.5440\n",
            "Fold 3, Model Stacking Regressor, Dataset Combined, MAE: 3.0221, R²: 0.8427\n",
            "Fold 3, Model Stacking Regressor, Dataset Cooling, MAE: 2.8056, R²: 0.7565\n",
            "Fold 3, Model Stacking Regressor, Dataset Heating, MAE: 3.2396, R²: 0.5793\n",
            "Fold 4, Model Linear Regression, Dataset Combined, MAE: 4.1479, R²: 0.7321\n",
            "Fold 4, Model Linear Regression, Dataset Cooling, MAE: 4.5594, R²: 0.5394\n",
            "Fold 4, Model Linear Regression, Dataset Heating, MAE: 3.7302, R²: 0.3999\n",
            "Fold 4, Model Random Forest, Dataset Combined, MAE: 2.6528, R²: 0.8612\n",
            "Fold 4, Model Random Forest, Dataset Cooling, MAE: 2.1111, R²: 0.8179\n",
            "Fold 4, Model Random Forest, Dataset Heating, MAE: 3.2028, R²: 0.5365\n",
            "Fold 4, Model XGBoost, Dataset Combined, MAE: 2.7145, R²: 0.8572\n",
            "Fold 4, Model XGBoost, Dataset Cooling, MAE: 2.2139, R²: 0.8238\n",
            "Fold 4, Model XGBoost, Dataset Heating, MAE: 3.2227, R²: 0.4926\n",
            "Fold 4, Model Stacking Regressor, Dataset Combined, MAE: 2.8248, R²: 0.8594\n",
            "Fold 4, Model Stacking Regressor, Dataset Cooling, MAE: 2.3131, R²: 0.8215\n",
            "Fold 4, Model Stacking Regressor, Dataset Heating, MAE: 3.3443, R²: 0.5141\n",
            "Fold 5, Model Linear Regression, Dataset Combined, MAE: 4.5012, R²: 0.6809\n",
            "Fold 5, Model Linear Regression, Dataset Cooling, MAE: 5.0146, R²: 0.4062\n",
            "Fold 5, Model Linear Regression, Dataset Heating, MAE: 4.0131, R²: 0.2364\n",
            "Fold 5, Model Random Forest, Dataset Combined, MAE: 2.7268, R²: 0.8435\n",
            "Fold 5, Model Random Forest, Dataset Cooling, MAE: 2.2461, R²: 0.7699\n",
            "Fold 5, Model Random Forest, Dataset Heating, MAE: 3.1838, R²: 0.4849\n",
            "Fold 5, Model XGBoost, Dataset Combined, MAE: 2.7489, R²: 0.8390\n",
            "Fold 5, Model XGBoost, Dataset Cooling, MAE: 2.3048, R²: 0.7567\n",
            "Fold 5, Model XGBoost, Dataset Heating, MAE: 3.1712, R²: 0.4851\n",
            "Fold 5, Model Stacking Regressor, Dataset Combined, MAE: 2.8910, R²: 0.8446\n",
            "Fold 5, Model Stacking Regressor, Dataset Cooling, MAE: 2.4818, R²: 0.7738\n",
            "Fold 5, Model Stacking Regressor, Dataset Heating, MAE: 3.2800, R²: 0.4834\n",
            "\n",
            "Summary Results for All Models:\n",
            "                                  MAE        R²\n",
            "Model              Dataset                     \n",
            "Linear Regression  Combined  4.479043  0.687980\n",
            "                   Cooling   4.993979  0.443051\n",
            "                   Heating   3.962444  0.298605\n",
            "Random Forest      Combined  2.776517  0.843669\n",
            "                   Cooling   2.357858  0.771938\n",
            "                   Heating   3.192462  0.524075\n",
            "Stacking Regressor Combined  2.923891  0.843690\n",
            "                   Cooling   2.553322  0.774177\n",
            "                   Heating   3.293264  0.517205\n",
            "XGBoost            Combined  2.827844  0.838783\n",
            "                   Cooling   2.427791  0.770898\n",
            "                   Heating   3.225108  0.492310\n"
          ]
        }
      ],
      "source": [
        "!pip install pandas numpy scikit-learn xgboost\n",
        "\n",
        "from sklearn.ensemble import GradientBoostingRegressor\n",
        "import pandas as pd\n",
        "import numpy as np\n",
        "from sklearn.linear_model import LinearRegression\n",
        "from sklearn.ensemble import RandomForestRegressor\n",
        "from xgboost import XGBRegressor\n",
        "from sklearn.ensemble import StackingRegressor\n",
        "from sklearn.metrics import mean_absolute_error, r2_score\n",
        "\n",
        "# Placeholder for storing results\n",
        "results = []\n",
        "\n",
        "\n",
        "# Loop through each fold\n",
        "for i in range(1, 6):\n",
        "    # Load filtered training and test datasets for the current fold\n",
        "    train_data = pd.read_csv(f'fold_2024_{i}_filtered_train_data.csv')\n",
        "    test_data_combined = pd.read_csv(f'fold_2024_{i}_filtered_test_data.csv')\n",
        "    test_data_cooling = pd.read_csv(f'fold_2024_{i}_filtered_test_data_cooling.csv')\n",
        "    test_data_heating = pd.read_csv(f'fold_2024_{i}_filtered_test_data_heating.csv')\n",
        "\n",
        "    # Separate features and target for training data\n",
        "    target_column = 'WH_RTU_Total'\n",
        "    X_train = train_data.drop(columns=[target_column])\n",
        "    y_train = train_data[target_column]\n",
        "\n",
        "    # Define models with default parameters\n",
        "    models = {\n",
        "        'Linear Regression': LinearRegression(),\n",
        "        'Random Forest': RandomForestRegressor(random_state=100),\n",
        "        'XGBoost': XGBRegressor(random_state=100),\n",
        "        'Stacking Regressor': StackingRegressor(\n",
        "            estimators=[\n",
        "                ('rf', RandomForestRegressor(random_state=100)),  # Random Forest\n",
        "                ('gb', GradientBoostingRegressor(random_state=100))  # Gradient Boosting\n",
        "            ],\n",
        "            final_estimator=LinearRegression()  # Linear Regression as the meta-learner\n",
        "        )\n",
        "    }\n",
        "\n",
        "    # Function to evaluate models on a given dataset\n",
        "    def evaluate_model(model, X_train, y_train, X_test, y_test, dataset_type):\n",
        "        model.fit(X_train, y_train)\n",
        "        y_pred = model.predict(X_test)\n",
        "        mae = mean_absolute_error(y_test, y_pred)\n",
        "        r2 = r2_score(y_test, y_pred)\n",
        "        return mae, r2\n",
        "\n",
        "    # Evaluate models on combined, cooling, and heating datasets\n",
        "    for model_name, model in models.items():\n",
        "        for dataset_type, test_data in [('Combined', test_data_combined),\n",
        "                                        ('Cooling', test_data_cooling),\n",
        "                                        ('Heating', test_data_heating)]:\n",
        "            # Separate features and target for the current test dataset\n",
        "            X_test = test_data.drop(columns=[target_column])\n",
        "            y_test = test_data[target_column]\n",
        "\n",
        "            # Calculate MAE and R²\n",
        "            mae, r2 = evaluate_model(model, X_train, y_train, X_test, y_test, dataset_type)\n",
        "\n",
        "            # Store results\n",
        "            results.append({\n",
        "                'Fold': i,\n",
        "                'Seed': 2024,  # Add the seed column\n",
        "                'Model': model_name,\n",
        "                'Dataset': dataset_type,\n",
        "                'MAE': mae,\n",
        "                'R²': r2,\n",
        "                'Experiment': 1  # Add the experiment column\n",
        "            })\n",
        "\n",
        "            print(f\"Fold {i}, Model {model_name}, Dataset {dataset_type}, MAE: {mae:.4f}, R²: {r2:.4f}\")\n",
        "\n",
        "# Convert results to a DataFrame\n",
        "results_df = pd.DataFrame(results)\n",
        "\n",
        "# Save results to CSV\n",
        "results_df.to_csv(f'model_results_2024_mae_r2_detailed.csv', index=False)\n",
        "\n",
        "# Display overall summary\n",
        "print(\"\\nSummary Results for All Models:\")\n",
        "summary = results_df.groupby(['Model', 'Dataset']).agg({'MAE': 'mean', 'R²': 'mean'}).sort_values(by=['Model', 'Dataset'])\n",
        "print(summary)\n"
      ]
    },
    {
      "cell_type": "markdown",
      "metadata": {
        "id": "-D57gmj6zG13"
      },
      "source": [
        "## Random Forest"
      ]
    },
    {
      "cell_type": "markdown",
      "metadata": {
        "id": "SjRib9g8gyPY"
      },
      "source": [
        "### Random Forest Hyperparameter Tuning python\n",
        "\n"
      ]
    },
    {
      "cell_type": "code",
      "execution_count": null,
      "metadata": {
        "colab": {
          "background_save": true,
          "base_uri": "https://localhost:8080/"
        },
        "id": "COH3JRgRSDfJ",
        "outputId": "82a0aafb-550f-4727-83e3-731c3030224e"
      },
      "outputs": [
        {
          "name": "stdout",
          "output_type": "stream",
          "text": [
            "Fold 1, Model Random Forest, Dataset Combined, MAE: 2.8171, R²: 0.8371, Best Params: {'max_depth': 20, 'min_samples_split': 2, 'n_estimators': 150}\n",
            "Fold 1, Model Random Forest, Dataset Cooling, MAE: 2.5251, R²: 0.7525, Best Params: {'max_depth': 20, 'min_samples_split': 2, 'n_estimators': 150}\n",
            "Fold 1, Model Random Forest, Dataset Heating, MAE: 3.1385, R²: 0.5111, Best Params: {'max_depth': 20, 'min_samples_split': 2, 'n_estimators': 150}\n",
            "Fold 2, Model Random Forest, Dataset Combined, MAE: 2.8385, R²: 0.8380, Best Params: {'max_depth': 10, 'min_samples_split': 2, 'n_estimators': 50}\n",
            "Fold 2, Model Random Forest, Dataset Cooling, MAE: 2.4956, R²: 0.7214, Best Params: {'max_depth': 10, 'min_samples_split': 2, 'n_estimators': 50}\n",
            "Fold 2, Model Random Forest, Dataset Heating, MAE: 3.1849, R²: 0.5400, Best Params: {'max_depth': 10, 'min_samples_split': 2, 'n_estimators': 50}\n",
            "Fold 3, Model Random Forest, Dataset Combined, MAE: 2.7391, R²: 0.8477, Best Params: {'max_depth': 10, 'min_samples_split': 2, 'n_estimators': 150}\n",
            "Fold 3, Model Random Forest, Dataset Cooling, MAE: 2.2549, R²: 0.8035, Best Params: {'max_depth': 10, 'min_samples_split': 2, 'n_estimators': 150}\n",
            "Fold 3, Model Random Forest, Dataset Heating, MAE: 3.2112, R²: 0.5488, Best Params: {'max_depth': 10, 'min_samples_split': 2, 'n_estimators': 150}\n",
            "Fold 4, Model Random Forest, Dataset Combined, MAE: 2.7098, R²: 0.8544, Best Params: {'max_depth': None, 'min_samples_split': 2, 'n_estimators': 150}\n",
            "Fold 4, Model Random Forest, Dataset Cooling, MAE: 2.1847, R²: 0.8001, Best Params: {'max_depth': None, 'min_samples_split': 2, 'n_estimators': 150}\n",
            "Fold 4, Model Random Forest, Dataset Heating, MAE: 3.2270, R²: 0.5343, Best Params: {'max_depth': None, 'min_samples_split': 2, 'n_estimators': 150}\n",
            "Fold 5, Model Random Forest, Dataset Combined, MAE: 2.7919, R²: 0.8471, Best Params: {'max_depth': 20, 'min_samples_split': 2, 'n_estimators': 150}\n",
            "Fold 5, Model Random Forest, Dataset Cooling, MAE: 2.2166, R²: 0.7969, Best Params: {'max_depth': 20, 'min_samples_split': 2, 'n_estimators': 150}\n",
            "Fold 5, Model Random Forest, Dataset Heating, MAE: 3.3307, R²: 0.4802, Best Params: {'max_depth': 20, 'min_samples_split': 2, 'n_estimators': 150}\n",
            "\n",
            "Summary Results for Random Forest:\n",
            "           Model   Dataset       MAE        R²\n",
            "0  Random Forest  Combined  2.779279  0.844870\n",
            "1  Random Forest   Cooling  2.335367  0.774872\n",
            "2  Random Forest   Heating  3.218465  0.522856\n"
          ]
        }
      ],
      "source": [
        "from sklearn.model_selection import GridSearchCV\n",
        "import pandas as pd\n",
        "from sklearn.ensemble import RandomForestRegressor\n",
        "from sklearn.metrics import mean_absolute_error, r2_score\n",
        "\n",
        "# Placeholder for storing results\n",
        "results_rf = []\n",
        "\n",
        "\n",
        "\n",
        "# Define hyperparameter grid for Random Forest\n",
        "param_grid_rf = {\n",
        "    'n_estimators': [50, 100, 150],\n",
        "    'max_depth': [10, 20, None],\n",
        "    'min_samples_split': [2, 5, 10],\n",
        "}\n",
        "\n",
        "for i in range(1, 6):\n",
        "    # Load datasets\n",
        "    train_data = pd.read_csv(f'fold_2024_{i}_filtered_train_data.csv')\n",
        "    test_data_combined = pd.read_csv(f'fold_2024_{i}_filtered_test_data.csv')\n",
        "    test_data_cooling = pd.read_csv(f'fold_2024_{i}_filtered_test_data_cooling.csv')\n",
        "    test_data_heating = pd.read_csv(f'fold_2024_{i}_filtered_test_data_heating.csv')\n",
        "\n",
        "    # Split features and target\n",
        "    X_train = train_data.drop(columns=['WH_RTU_Total'])\n",
        "    y_train = train_data['WH_RTU_Total']\n",
        "\n",
        "    # Initialize Random Forest and perform GridSearchCV\n",
        "    rf = RandomForestRegressor(random_state=100)\n",
        "    grid_search_rf = GridSearchCV(rf, param_grid_rf, cv=3, scoring='neg_mean_absolute_error', n_jobs=-1)\n",
        "    grid_search_rf.fit(X_train, y_train)\n",
        "\n",
        "    # Get the best model and hyperparameters\n",
        "    best_rf = grid_search_rf.best_estimator_\n",
        "    best_params = grid_search_rf.best_params_\n",
        "\n",
        "    # Evaluate on Combined, Cooling, and Heating datasets\n",
        "    for dataset_type, test_data in [('Combined', test_data_combined),\n",
        "                                    ('Cooling', test_data_cooling),\n",
        "                                    ('Heating', test_data_heating)]:\n",
        "        # Split test features and target\n",
        "        X_test = test_data.drop(columns=['WH_RTU_Total'])\n",
        "        y_test = test_data['WH_RTU_Total']\n",
        "\n",
        "        # Predict and calculate metrics\n",
        "        y_pred = best_rf.predict(X_test)\n",
        "        mae = mean_absolute_error(y_test, y_pred)\n",
        "        r2 = r2_score(y_test, y_pred)\n",
        "\n",
        "        # Store results\n",
        "        results_rf.append({\n",
        "            'Fold': i,\n",
        "            'Seed': 2024,  # Add the seed column\n",
        "            'Model': 'Random Forest',\n",
        "            'Dataset': dataset_type,\n",
        "            'MAE': mae,\n",
        "            'R²': r2,\n",
        "            'Best Params': best_params,\n",
        "            'Experiment': 1\n",
        "        })\n",
        "\n",
        "        print(f\"Fold {i}, Model Random Forest, Dataset {dataset_type}, MAE: {mae:.4f}, R²: {r2:.4f}, Best Params: {best_params}\")\n",
        "\n",
        "# Convert results to DataFrame\n",
        "results_rf_df = pd.DataFrame(results_rf)\n",
        "\n",
        "# Save detailed results to CSV\n",
        "results_rf_df.to_csv(f'random_forest_2024_combined_hyperparameter_results_detailed.csv', index=False)\n",
        "\n",
        "# Display overall summary\n",
        "print(\"\\nSummary Results for Random Forest:\")\n",
        "summary_rf = results_rf_df.groupby(['Model', 'Dataset']).agg({'MAE': 'mean', 'R²': 'mean'}).reset_index()\n",
        "print(summary_rf)\n",
        "\n",
        "# Save summary to CSV 这个section里面有没有inner seed呢？\n",
        "summary_rf.to_csv(f'random_forest_2024_combined_hyperparameter_results_summary.csv', index=False)\n"
      ]
    },
    {
      "cell_type": "markdown",
      "metadata": {
        "id": "5qyjZwoTh0BE"
      },
      "source": [
        "### random forest feature importance generation"
      ]
    },
    {
      "cell_type": "code",
      "execution_count": null,
      "metadata": {
        "colab": {
          "base_uri": "https://localhost:8080/",
          "height": 373
        },
        "id": "KLUGoQ-5h5X4",
        "outputId": "bb7c7c61-c680-4fe2-8140-3ca4bcb5476e"
      },
      "outputs": [
        {
          "output_type": "error",
          "ename": "FileNotFoundError",
          "evalue": "[Errno 2] No such file or directory: 'Combine_Feature_Importance_Summary.csv'",
          "traceback": [
            "\u001b[0;31m---------------------------------------------------------------------------\u001b[0m",
            "\u001b[0;31mFileNotFoundError\u001b[0m                         Traceback (most recent call last)",
            "\u001b[0;32m<ipython-input-1-952d3556958a>\u001b[0m in \u001b[0;36m<cell line: 5>\u001b[0;34m()\u001b[0m\n\u001b[1;32m      3\u001b[0m \u001b[0;34m\u001b[0m\u001b[0m\n\u001b[1;32m      4\u001b[0m \u001b[0;31m# Load the feature importance data\u001b[0m\u001b[0;34m\u001b[0m\u001b[0;34m\u001b[0m\u001b[0m\n\u001b[0;32m----> 5\u001b[0;31m \u001b[0mcombine_feature_importance\u001b[0m \u001b[0;34m=\u001b[0m \u001b[0mpd\u001b[0m\u001b[0;34m.\u001b[0m\u001b[0mread_csv\u001b[0m\u001b[0;34m(\u001b[0m\u001b[0;34m'Combine_Feature_Importance_Summary.csv'\u001b[0m\u001b[0;34m)\u001b[0m\u001b[0;34m\u001b[0m\u001b[0;34m\u001b[0m\u001b[0m\n\u001b[0m\u001b[1;32m      6\u001b[0m \u001b[0mstacking_feature_importance\u001b[0m \u001b[0;34m=\u001b[0m \u001b[0mpd\u001b[0m\u001b[0;34m.\u001b[0m\u001b[0mread_csv\u001b[0m\u001b[0;34m(\u001b[0m\u001b[0;34m'Combine_Stacking_Feature_Importance_Summary.csv'\u001b[0m\u001b[0;34m)\u001b[0m\u001b[0;34m\u001b[0m\u001b[0;34m\u001b[0m\u001b[0m\n\u001b[1;32m      7\u001b[0m \u001b[0mxgboost_feature_importance\u001b[0m \u001b[0;34m=\u001b[0m \u001b[0mpd\u001b[0m\u001b[0;34m.\u001b[0m\u001b[0mread_csv\u001b[0m\u001b[0;34m(\u001b[0m\u001b[0;34m'Combine_XGBoost_Feature_Importance_Summary.csv'\u001b[0m\u001b[0;34m)\u001b[0m\u001b[0;34m\u001b[0m\u001b[0;34m\u001b[0m\u001b[0m\n",
            "\u001b[0;32m/usr/local/lib/python3.10/dist-packages/pandas/io/parsers/readers.py\u001b[0m in \u001b[0;36mread_csv\u001b[0;34m(filepath_or_buffer, sep, delimiter, header, names, index_col, usecols, dtype, engine, converters, true_values, false_values, skipinitialspace, skiprows, skipfooter, nrows, na_values, keep_default_na, na_filter, verbose, skip_blank_lines, parse_dates, infer_datetime_format, keep_date_col, date_parser, date_format, dayfirst, cache_dates, iterator, chunksize, compression, thousands, decimal, lineterminator, quotechar, quoting, doublequote, escapechar, comment, encoding, encoding_errors, dialect, on_bad_lines, delim_whitespace, low_memory, memory_map, float_precision, storage_options, dtype_backend)\u001b[0m\n\u001b[1;32m   1024\u001b[0m     \u001b[0mkwds\u001b[0m\u001b[0;34m.\u001b[0m\u001b[0mupdate\u001b[0m\u001b[0;34m(\u001b[0m\u001b[0mkwds_defaults\u001b[0m\u001b[0;34m)\u001b[0m\u001b[0;34m\u001b[0m\u001b[0;34m\u001b[0m\u001b[0m\n\u001b[1;32m   1025\u001b[0m \u001b[0;34m\u001b[0m\u001b[0m\n\u001b[0;32m-> 1026\u001b[0;31m     \u001b[0;32mreturn\u001b[0m \u001b[0m_read\u001b[0m\u001b[0;34m(\u001b[0m\u001b[0mfilepath_or_buffer\u001b[0m\u001b[0;34m,\u001b[0m \u001b[0mkwds\u001b[0m\u001b[0;34m)\u001b[0m\u001b[0;34m\u001b[0m\u001b[0;34m\u001b[0m\u001b[0m\n\u001b[0m\u001b[1;32m   1027\u001b[0m \u001b[0;34m\u001b[0m\u001b[0m\n\u001b[1;32m   1028\u001b[0m \u001b[0;34m\u001b[0m\u001b[0m\n",
            "\u001b[0;32m/usr/local/lib/python3.10/dist-packages/pandas/io/parsers/readers.py\u001b[0m in \u001b[0;36m_read\u001b[0;34m(filepath_or_buffer, kwds)\u001b[0m\n\u001b[1;32m    618\u001b[0m \u001b[0;34m\u001b[0m\u001b[0m\n\u001b[1;32m    619\u001b[0m     \u001b[0;31m# Create the parser.\u001b[0m\u001b[0;34m\u001b[0m\u001b[0;34m\u001b[0m\u001b[0m\n\u001b[0;32m--> 620\u001b[0;31m     \u001b[0mparser\u001b[0m \u001b[0;34m=\u001b[0m \u001b[0mTextFileReader\u001b[0m\u001b[0;34m(\u001b[0m\u001b[0mfilepath_or_buffer\u001b[0m\u001b[0;34m,\u001b[0m \u001b[0;34m**\u001b[0m\u001b[0mkwds\u001b[0m\u001b[0;34m)\u001b[0m\u001b[0;34m\u001b[0m\u001b[0;34m\u001b[0m\u001b[0m\n\u001b[0m\u001b[1;32m    621\u001b[0m \u001b[0;34m\u001b[0m\u001b[0m\n\u001b[1;32m    622\u001b[0m     \u001b[0;32mif\u001b[0m \u001b[0mchunksize\u001b[0m \u001b[0;32mor\u001b[0m \u001b[0miterator\u001b[0m\u001b[0;34m:\u001b[0m\u001b[0;34m\u001b[0m\u001b[0;34m\u001b[0m\u001b[0m\n",
            "\u001b[0;32m/usr/local/lib/python3.10/dist-packages/pandas/io/parsers/readers.py\u001b[0m in \u001b[0;36m__init__\u001b[0;34m(self, f, engine, **kwds)\u001b[0m\n\u001b[1;32m   1618\u001b[0m \u001b[0;34m\u001b[0m\u001b[0m\n\u001b[1;32m   1619\u001b[0m         \u001b[0mself\u001b[0m\u001b[0;34m.\u001b[0m\u001b[0mhandles\u001b[0m\u001b[0;34m:\u001b[0m \u001b[0mIOHandles\u001b[0m \u001b[0;34m|\u001b[0m \u001b[0;32mNone\u001b[0m \u001b[0;34m=\u001b[0m \u001b[0;32mNone\u001b[0m\u001b[0;34m\u001b[0m\u001b[0;34m\u001b[0m\u001b[0m\n\u001b[0;32m-> 1620\u001b[0;31m         \u001b[0mself\u001b[0m\u001b[0;34m.\u001b[0m\u001b[0m_engine\u001b[0m \u001b[0;34m=\u001b[0m \u001b[0mself\u001b[0m\u001b[0;34m.\u001b[0m\u001b[0m_make_engine\u001b[0m\u001b[0;34m(\u001b[0m\u001b[0mf\u001b[0m\u001b[0;34m,\u001b[0m \u001b[0mself\u001b[0m\u001b[0;34m.\u001b[0m\u001b[0mengine\u001b[0m\u001b[0;34m)\u001b[0m\u001b[0;34m\u001b[0m\u001b[0;34m\u001b[0m\u001b[0m\n\u001b[0m\u001b[1;32m   1621\u001b[0m \u001b[0;34m\u001b[0m\u001b[0m\n\u001b[1;32m   1622\u001b[0m     \u001b[0;32mdef\u001b[0m \u001b[0mclose\u001b[0m\u001b[0;34m(\u001b[0m\u001b[0mself\u001b[0m\u001b[0;34m)\u001b[0m \u001b[0;34m->\u001b[0m \u001b[0;32mNone\u001b[0m\u001b[0;34m:\u001b[0m\u001b[0;34m\u001b[0m\u001b[0;34m\u001b[0m\u001b[0m\n",
            "\u001b[0;32m/usr/local/lib/python3.10/dist-packages/pandas/io/parsers/readers.py\u001b[0m in \u001b[0;36m_make_engine\u001b[0;34m(self, f, engine)\u001b[0m\n\u001b[1;32m   1878\u001b[0m                 \u001b[0;32mif\u001b[0m \u001b[0;34m\"b\"\u001b[0m \u001b[0;32mnot\u001b[0m \u001b[0;32min\u001b[0m \u001b[0mmode\u001b[0m\u001b[0;34m:\u001b[0m\u001b[0;34m\u001b[0m\u001b[0;34m\u001b[0m\u001b[0m\n\u001b[1;32m   1879\u001b[0m                     \u001b[0mmode\u001b[0m \u001b[0;34m+=\u001b[0m \u001b[0;34m\"b\"\u001b[0m\u001b[0;34m\u001b[0m\u001b[0;34m\u001b[0m\u001b[0m\n\u001b[0;32m-> 1880\u001b[0;31m             self.handles = get_handle(\n\u001b[0m\u001b[1;32m   1881\u001b[0m                 \u001b[0mf\u001b[0m\u001b[0;34m,\u001b[0m\u001b[0;34m\u001b[0m\u001b[0;34m\u001b[0m\u001b[0m\n\u001b[1;32m   1882\u001b[0m                 \u001b[0mmode\u001b[0m\u001b[0;34m,\u001b[0m\u001b[0;34m\u001b[0m\u001b[0;34m\u001b[0m\u001b[0m\n",
            "\u001b[0;32m/usr/local/lib/python3.10/dist-packages/pandas/io/common.py\u001b[0m in \u001b[0;36mget_handle\u001b[0;34m(path_or_buf, mode, encoding, compression, memory_map, is_text, errors, storage_options)\u001b[0m\n\u001b[1;32m    871\u001b[0m         \u001b[0;32mif\u001b[0m \u001b[0mioargs\u001b[0m\u001b[0;34m.\u001b[0m\u001b[0mencoding\u001b[0m \u001b[0;32mand\u001b[0m \u001b[0;34m\"b\"\u001b[0m \u001b[0;32mnot\u001b[0m \u001b[0;32min\u001b[0m \u001b[0mioargs\u001b[0m\u001b[0;34m.\u001b[0m\u001b[0mmode\u001b[0m\u001b[0;34m:\u001b[0m\u001b[0;34m\u001b[0m\u001b[0;34m\u001b[0m\u001b[0m\n\u001b[1;32m    872\u001b[0m             \u001b[0;31m# Encoding\u001b[0m\u001b[0;34m\u001b[0m\u001b[0;34m\u001b[0m\u001b[0m\n\u001b[0;32m--> 873\u001b[0;31m             handle = open(\n\u001b[0m\u001b[1;32m    874\u001b[0m                 \u001b[0mhandle\u001b[0m\u001b[0;34m,\u001b[0m\u001b[0;34m\u001b[0m\u001b[0;34m\u001b[0m\u001b[0m\n\u001b[1;32m    875\u001b[0m                 \u001b[0mioargs\u001b[0m\u001b[0;34m.\u001b[0m\u001b[0mmode\u001b[0m\u001b[0;34m,\u001b[0m\u001b[0;34m\u001b[0m\u001b[0;34m\u001b[0m\u001b[0m\n",
            "\u001b[0;31mFileNotFoundError\u001b[0m: [Errno 2] No such file or directory: 'Combine_Feature_Importance_Summary.csv'"
          ]
        }
      ],
      "source": [
        "import pandas as pd\n",
        "from sklearn.ensemble import RandomForestRegressor\n",
        "\n",
        "# Placeholder for feature importance results\n",
        "feature_importance_results = []\n",
        "\n",
        "# Section 1: Calculate Feature Importance\n",
        "for fold in range(1, 6):\n",
        "    # Load training data\n",
        "    train_data = pd.read_csv(f'fold_2024_{fold}_filtered_train_data.csv')\n",
        "    X_train = train_data.drop(columns=['WH_RTU_Total'])\n",
        "    y_train = train_data['WH_RTU_Total']\n",
        "\n",
        "    # Load the best model for the current fold\n",
        "    results_rf_df = pd.read_csv(f'random_forest_2024_combined_hyperparameter_results_detailed.csv')\n",
        "    best_params = results_rf_df.loc[(results_rf_df['Fold'] == fold) & (results_rf_df['Dataset'] == 'Combined'), 'Best Params'].iloc[0]\n",
        "    best_params_dict = eval(best_params)\n",
        "    best_rf = RandomForestRegressor(random_state=100, **best_params_dict)\n",
        "    best_rf.fit(X_train, y_train)\n",
        "\n",
        "    # Calculate feature importance\n",
        "    feature_importances = best_rf.feature_importances_\n",
        "    feature_names = X_train.columns\n",
        "    importance_df = pd.DataFrame({\n",
        "        'Feature': feature_names,\n",
        "        'Importance': feature_importances,\n",
        "        'Fold': fold,\n",
        "        'Seed': 2024,  # Add seed column\n",
        "        'Model': 'Random Forest',\n",
        "        'Experiment': 1 # Add model column\n",
        "    })\n",
        "    feature_importance_results.append(importance_df)\n",
        "\n",
        "# Combine and save feature importance results\n",
        "feature_importance_combined = pd.concat(feature_importance_results, ignore_index=True)\n",
        "feature_importance_combined.to_csv(f'random_forest_2024_combined_feature_importance.csv', index=False)\n",
        "\n",
        "print(f\"Feature importance for seed 2024 has been successfully saved.\")\n"
      ]
    },
    {
      "cell_type": "markdown",
      "metadata": {
        "id": "XJ6xVkVnusUw"
      },
      "source": [
        "### generate residual ,predict, label, tout and rh out"
      ]
    },
    {
      "cell_type": "code",
      "execution_count": null,
      "metadata": {
        "colab": {
          "base_uri": "https://localhost:8080/"
        },
        "id": "xzWEI7HQWOlq",
        "outputId": "06971477-f11e-426a-b440-77a371c9ce8a"
      },
      "outputs": [
        {
          "name": "stdout",
          "output_type": "stream",
          "text": [
            "Processed fold 1, dataset cooling.\n",
            "Processed fold 1, dataset heating.\n",
            "Processed fold 2, dataset cooling.\n",
            "Processed fold 2, dataset heating.\n",
            "Processed fold 3, dataset cooling.\n",
            "Processed fold 3, dataset heating.\n",
            "Processed fold 4, dataset cooling.\n",
            "Processed fold 4, dataset heating.\n",
            "Processed fold 5, dataset cooling.\n",
            "Processed fold 5, dataset heating.\n",
            "All folds processed and merged data saved successfully.\n"
          ]
        }
      ],
      "source": [
        "import pandas as pd\n",
        "from sklearn.ensemble import RandomForestRegressor\n",
        "\n",
        "# Fixed seed value\n",
        "\n",
        "merged_data = []  # Placeholder for storing final merged data\n",
        "\n",
        "# Loop through each fold\n",
        "for fold in range(1, 6):\n",
        "    # Load training data\n",
        "    train_data = pd.read_csv(f'fold_2024_{fold}_filtered_train_data.csv')\n",
        "    X_train = train_data.drop(columns=['WH_RTU_Total'])\n",
        "    y_train = train_data['WH_RTU_Total']\n",
        "\n",
        "    # Load the best model parameters for the current fold\n",
        "    best_params_df = pd.read_csv('random_forest_2024_combined_hyperparameter_results_detailed.csv')\n",
        "    best_params = best_params_df.loc[(best_params_df['Fold'] == fold) & (best_params_df['Dataset'] == 'Combined'), 'Best Params'].iloc[0]\n",
        "    best_params_dict = eval(best_params)\n",
        "\n",
        "    # Train Random Forest model\n",
        "    best_rf = RandomForestRegressor(random_state=100, **best_params_dict)\n",
        "    best_rf.fit(X_train, y_train)\n",
        "\n",
        "    # Loop through Cooling and Heating datasets\n",
        "    for dataset_type in ['cooling', 'heating']:\n",
        "        # Load test data\n",
        "        test_data = pd.read_csv(f'fold_2024_{fold}_filtered_test_data_{dataset_type}.csv')\n",
        "\n",
        "        # Split features and target\n",
        "        X_test = test_data.drop(columns=['WH_RTU_Total'])\n",
        "        y_test = test_data['WH_RTU_Total']\n",
        "\n",
        "        # Predict and calculate residuals\n",
        "        y_pred = best_rf.predict(X_test)\n",
        "        test_data['Predicted'] = y_pred\n",
        "        test_data['Residual'] = test_data['WH_RTU_Total'] - test_data['Predicted']\n",
        "\n",
        "        # Select and rename required columns\n",
        "        if 'T_out' in test_data.columns and 'RH_out' in test_data.columns:\n",
        "            selected_data = test_data[['WH_RTU_Total', 'Predicted', 'Residual', 'T_out', 'RH_out', 'label']].rename(columns={\n",
        "                'WH_RTU_Total': 'Actual'\n",
        "            })\n",
        "        else:\n",
        "            raise ValueError(f\"'T_out' or 'RH_out' is missing in test data for fold {fold} and dataset {dataset_type}\")\n",
        "\n",
        "        # Add fold, seed, and model columns\n",
        "        selected_data['Fold'] = fold\n",
        "        selected_data['Seed'] = 2024\n",
        "        selected_data['Model'] = 'Random Forest'\n",
        "        selected_data['Experiment'] = 1\n",
        "\n",
        "        # Append to final merged data\n",
        "        merged_data.append(selected_data)\n",
        "        print(f\"Processed fold {fold}, dataset {dataset_type}.\")\n",
        "\n",
        "# Combine all folds and datasets into a single DataFrame\n",
        "merged_final_data = pd.concat(merged_data, ignore_index=True)\n",
        "# Save the merged data\n",
        "merged_final_data.to_csv(f'random_forest_2024_combined_residual.csv', index=False)\n",
        "\n",
        "print(\"All folds processed and merged data saved successfully.\")\n"
      ]
    },
    {
      "cell_type": "markdown",
      "metadata": {
        "id": "eH1AKQHzzUfc"
      },
      "source": [
        "## XGBoost"
      ]
    },
    {
      "cell_type": "markdown",
      "metadata": {
        "id": "ac1tUI3UjOMF"
      },
      "source": [
        "### XGBoost Hyperparameter Tuning python\n",
        "\n"
      ]
    },
    {
      "cell_type": "code",
      "execution_count": null,
      "metadata": {
        "colab": {
          "base_uri": "https://localhost:8080/"
        },
        "id": "aeWM0_T0jNUF",
        "outputId": "e3d32ae9-a4a6-4400-978a-17687751a153"
      },
      "outputs": [
        {
          "output_type": "stream",
          "name": "stdout",
          "text": [
            "Requirement already satisfied: pandas in /usr/local/lib/python3.10/dist-packages (2.2.2)\n",
            "Requirement already satisfied: numpy in /usr/local/lib/python3.10/dist-packages (1.26.4)\n",
            "Requirement already satisfied: scikit-learn in /usr/local/lib/python3.10/dist-packages (1.0.2)\n",
            "Requirement already satisfied: xgboost in /usr/local/lib/python3.10/dist-packages (2.1.3)\n",
            "Requirement already satisfied: python-dateutil>=2.8.2 in /usr/local/lib/python3.10/dist-packages (from pandas) (2.8.2)\n",
            "Requirement already satisfied: pytz>=2020.1 in /usr/local/lib/python3.10/dist-packages (from pandas) (2024.2)\n",
            "Requirement already satisfied: tzdata>=2022.7 in /usr/local/lib/python3.10/dist-packages (from pandas) (2024.2)\n",
            "Requirement already satisfied: scipy>=1.1.0 in /usr/local/lib/python3.10/dist-packages (from scikit-learn) (1.13.1)\n",
            "Requirement already satisfied: joblib>=0.11 in /usr/local/lib/python3.10/dist-packages (from scikit-learn) (1.4.2)\n",
            "Requirement already satisfied: threadpoolctl>=2.0.0 in /usr/local/lib/python3.10/dist-packages (from scikit-learn) (3.5.0)\n",
            "Requirement already satisfied: nvidia-nccl-cu12 in /usr/local/lib/python3.10/dist-packages (from xgboost) (2.23.4)\n",
            "Requirement already satisfied: six>=1.5 in /usr/local/lib/python3.10/dist-packages (from python-dateutil>=2.8.2->pandas) (1.17.0)\n",
            "Requirement already satisfied: scikit-learn==1.0.2 in /usr/local/lib/python3.10/dist-packages (1.0.2)\n",
            "Requirement already satisfied: numpy>=1.14.6 in /usr/local/lib/python3.10/dist-packages (from scikit-learn==1.0.2) (1.26.4)\n",
            "Requirement already satisfied: scipy>=1.1.0 in /usr/local/lib/python3.10/dist-packages (from scikit-learn==1.0.2) (1.13.1)\n",
            "Requirement already satisfied: joblib>=0.11 in /usr/local/lib/python3.10/dist-packages (from scikit-learn==1.0.2) (1.4.2)\n",
            "Requirement already satisfied: threadpoolctl>=2.0.0 in /usr/local/lib/python3.10/dist-packages (from scikit-learn==1.0.2) (3.5.0)\n",
            "Fold 1, Model XGBoost, Dataset Combined, MAE: 2.8112, R²: 0.8414, Best Params: {'learning_rate': 0.1, 'max_depth': 6, 'n_estimators': 100, 'subsample': 0.8}\n",
            "Fold 1, Model XGBoost, Dataset Cooling, MAE: 2.4370, R²: 0.7708, Best Params: {'learning_rate': 0.1, 'max_depth': 6, 'n_estimators': 100, 'subsample': 0.8}\n",
            "Fold 1, Model XGBoost, Dataset Heating, MAE: 3.2230, R²: 0.4889, Best Params: {'learning_rate': 0.1, 'max_depth': 6, 'n_estimators': 100, 'subsample': 0.8}\n",
            "Fold 2, Model XGBoost, Dataset Combined, MAE: 3.1139, R²: 0.8392, Best Params: {'learning_rate': 0.1, 'max_depth': 3, 'n_estimators': 150, 'subsample': 0.8}\n",
            "Fold 2, Model XGBoost, Dataset Cooling, MAE: 2.8816, R²: 0.7372, Best Params: {'learning_rate': 0.1, 'max_depth': 3, 'n_estimators': 150, 'subsample': 0.8}\n",
            "Fold 2, Model XGBoost, Dataset Heating, MAE: 3.3486, R²: 0.5100, Best Params: {'learning_rate': 0.1, 'max_depth': 3, 'n_estimators': 150, 'subsample': 0.8}\n",
            "Fold 3, Model XGBoost, Dataset Combined, MAE: 2.7542, R²: 0.8510, Best Params: {'learning_rate': 0.1, 'max_depth': 6, 'n_estimators': 150, 'subsample': 0.8}\n",
            "Fold 3, Model XGBoost, Dataset Cooling, MAE: 2.2652, R²: 0.8170, Best Params: {'learning_rate': 0.1, 'max_depth': 6, 'n_estimators': 150, 'subsample': 0.8}\n",
            "Fold 3, Model XGBoost, Dataset Heating, MAE: 3.2309, R²: 0.5341, Best Params: {'learning_rate': 0.1, 'max_depth': 6, 'n_estimators': 150, 'subsample': 0.8}\n",
            "Fold 4, Model XGBoost, Dataset Combined, MAE: 2.7112, R²: 0.8588, Best Params: {'learning_rate': 0.1, 'max_depth': 6, 'n_estimators': 150, 'subsample': 0.8}\n",
            "Fold 4, Model XGBoost, Dataset Cooling, MAE: 2.2205, R²: 0.8085, Best Params: {'learning_rate': 0.1, 'max_depth': 6, 'n_estimators': 150, 'subsample': 0.8}\n",
            "Fold 4, Model XGBoost, Dataset Heating, MAE: 3.1945, R²: 0.5426, Best Params: {'learning_rate': 0.1, 'max_depth': 6, 'n_estimators': 150, 'subsample': 0.8}\n",
            "Fold 5, Model XGBoost, Dataset Combined, MAE: 2.8233, R²: 0.8453, Best Params: {'learning_rate': 0.1, 'max_depth': 6, 'n_estimators': 150, 'subsample': 1.0}\n",
            "Fold 5, Model XGBoost, Dataset Cooling, MAE: 2.2505, R²: 0.8015, Best Params: {'learning_rate': 0.1, 'max_depth': 6, 'n_estimators': 150, 'subsample': 1.0}\n",
            "Fold 5, Model XGBoost, Dataset Heating, MAE: 3.3598, R²: 0.4582, Best Params: {'learning_rate': 0.1, 'max_depth': 6, 'n_estimators': 150, 'subsample': 1.0}\n",
            "\n",
            "Summary Results for XGBoost:\n",
            "     Model   Dataset       MAE        R²\n",
            "0  XGBoost  Combined  2.842767  0.847144\n",
            "1  XGBoost   Cooling  2.410982  0.786994\n",
            "2  XGBoost   Heating  3.271368  0.506764\n"
          ]
        }
      ],
      "source": [
        "!pip install pandas numpy scikit-learn xgboost\n",
        "!pip install scikit-learn==1.0.2\n",
        "from sklearn.model_selection import GridSearchCV\n",
        "from xgboost import XGBRegressor\n",
        "import pandas as pd\n",
        "from sklearn.metrics import mean_absolute_error, r2_score\n",
        "\n",
        "# Placeholder for storing results\n",
        "results_xgb = []\n",
        "\n",
        "\n",
        "\n",
        "# Define hyperparameter grid for XGBoost\n",
        "param_grid_xgb = {\n",
        "    'n_estimators': [50, 100, 150],\n",
        "    'max_depth': [3, 6, 9],\n",
        "    'learning_rate': [0.01, 0.1, 0.2],\n",
        "    'subsample': [0.8, 1.0]\n",
        "}\n",
        "\n",
        "for i in range(1, 6):\n",
        "    # Load datasets\n",
        "    train_data = pd.read_csv(f'fold_2024_{i}_filtered_train_data.csv')\n",
        "    test_data_combined = pd.read_csv(f'fold_2024_{i}_filtered_test_data.csv')\n",
        "    test_data_cooling = pd.read_csv(f'fold_2024_{i}_filtered_test_data_cooling.csv')\n",
        "    test_data_heating = pd.read_csv(f'fold_2024_{i}_filtered_test_data_heating.csv')\n",
        "\n",
        "    # Split features and target\n",
        "    X_train = train_data.drop(columns=['WH_RTU_Total'])\n",
        "    y_train = train_data['WH_RTU_Total']\n",
        "\n",
        "    # Initialize XGBoost and perform GridSearchCV\n",
        "    xgb = XGBRegressor(random_state=100)\n",
        "    grid_search_xgb = GridSearchCV(xgb, param_grid_xgb, cv=3, scoring='neg_mean_absolute_error', n_jobs=-1)\n",
        "    grid_search_xgb.fit(X_train, y_train)\n",
        "\n",
        "    # Get the best model and hyperparameters\n",
        "    best_xgb = grid_search_xgb.best_estimator_\n",
        "    best_params = grid_search_xgb.best_params_\n",
        "\n",
        "    # Evaluate on Combined, Cooling, and Heating datasets\n",
        "    for dataset_type, test_data in [('Combined', test_data_combined),\n",
        "                                    ('Cooling', test_data_cooling),\n",
        "                                    ('Heating', test_data_heating)]:\n",
        "        # Split test features and target\n",
        "        X_test = test_data.drop(columns=['WH_RTU_Total'])\n",
        "        y_test = test_data['WH_RTU_Total']\n",
        "\n",
        "        # Predict and calculate metrics\n",
        "        y_pred = best_xgb.predict(X_test)\n",
        "        mae = mean_absolute_error(y_test, y_pred)\n",
        "        r2 = r2_score(y_test, y_pred)\n",
        "\n",
        "        # Store results\n",
        "        results_xgb.append({\n",
        "            'Fold': i,\n",
        "            'Seed': 2024,\n",
        "            'Model': 'XGBoost',\n",
        "            'Dataset': dataset_type,\n",
        "            'MAE': mae,\n",
        "            'R²': r2,\n",
        "            'Best Params': best_params,\n",
        "            'Experiment': 1\n",
        "        })\n",
        "\n",
        "        print(f\"Fold {i}, Model XGBoost, Dataset {dataset_type}, MAE: {mae:.4f}, R²: {r2:.4f}, Best Params: {best_params}\")\n",
        "\n",
        "# Convert results to DataFrame\n",
        "results_xgb_df = pd.DataFrame(results_xgb)\n",
        "\n",
        "# Save detailed results to CSV\n",
        "results_xgb_df.to_csv(f'xgboost_2024_combined_hyperparameter_results_detailed.csv', index=False)\n",
        "\n",
        "# Display overall summary\n",
        "print(\"\\nSummary Results for XGBoost:\")\n",
        "summary_xgb = results_xgb_df.groupby(['Model', 'Dataset']).agg({'MAE': 'mean', 'R²': 'mean'}).reset_index()\n",
        "print(summary_xgb)\n",
        "\n",
        "# Save summary to CSV\n",
        "summary_xgb.to_csv(f'xgboost_2024_combined_hyperparameter_results_summary.csv', index=False)\n"
      ]
    },
    {
      "cell_type": "markdown",
      "metadata": {
        "id": "jEs4F6Fdw28P"
      },
      "source": [
        "### feature importance for xgboost"
      ]
    },
    {
      "cell_type": "code",
      "execution_count": null,
      "metadata": {
        "colab": {
          "base_uri": "https://localhost:8080/"
        },
        "collapsed": true,
        "id": "jafrscDjw6vM",
        "outputId": "1c967126-6d08-439a-aebd-ef747870a8a0"
      },
      "outputs": [
        {
          "output_type": "stream",
          "name": "stdout",
          "text": [
            "Feature importance for seed 42 has been successfully saved.\n"
          ]
        }
      ],
      "source": [
        "import pandas as pd\n",
        "from xgboost import XGBRegressor\n",
        "\n",
        "# Placeholder for feature importance results\n",
        "feature_importance_results = []\n",
        "\n",
        "\n",
        "\n",
        "# Section 1: Calculate Feature Importance\n",
        "for fold in range(1, 6):\n",
        "    # Load training data\n",
        "    train_data = pd.read_csv(f'fold_2024_{fold}_filtered_train_data.csv')\n",
        "    X_train = train_data.drop(columns=['WH_RTU_Total'])\n",
        "    y_train = train_data['WH_RTU_Total']\n",
        "\n",
        "    # Extract the best parameters from the results file\n",
        "    results_xgb_df = pd.read_csv(f'xgboost_2024_combined_hyperparameter_results_detailed.csv')\n",
        "    best_params = results_xgb_df.loc[\n",
        "        (results_xgb_df['Fold'] == fold) & (results_xgb_df['Dataset'] == 'Combined'),\n",
        "        'Best Params'\n",
        "    ].iloc[0]\n",
        "    best_params_dict = eval(best_params)  # Parse string into dictionary\n",
        "\n",
        "    # Initialize and train the model with the best parameters\n",
        "    best_xgb = XGBRegressor(random_state=100, **best_params_dict)\n",
        "    best_xgb.fit(X_train, y_train)\n",
        "\n",
        "    # Calculate feature importance\n",
        "    feature_importances = best_xgb.feature_importances_\n",
        "    feature_names = X_train.columns\n",
        "    importance_df = pd.DataFrame({\n",
        "        'Feature': feature_names,\n",
        "        'Importance': feature_importances,\n",
        "        'Fold': fold,\n",
        "        'Seed': 2024,  # Add seed column\n",
        "        'Model': 'XGBoost',\n",
        "        'Experiment': 1  # Add model column\n",
        "    })\n",
        "    feature_importance_results.append(importance_df)\n",
        "\n",
        "# Combine all feature importance results\n",
        "feature_importance_combined = pd.concat(feature_importance_results, ignore_index=True)\n",
        "\n",
        "# Save the feature importance results to a file\n",
        "feature_importance_combined.to_csv(f'xgboost_2024_combined_feature_importance.csv', index=False)\n",
        "\n",
        "print(f\"Feature importance for seed 2024 has been successfully saved.\")\n"
      ]
    },
    {
      "cell_type": "markdown",
      "metadata": {
        "id": "U4_dQgOGC6LQ"
      },
      "source": [
        "### generate residual，predict，label，tout and rh out"
      ]
    },
    {
      "cell_type": "code",
      "execution_count": null,
      "metadata": {
        "colab": {
          "base_uri": "https://localhost:8080/"
        },
        "id": "qW4I3AgpDCnf",
        "outputId": "76bb4726-8b99-4060-9f8c-f9313ea6b218"
      },
      "outputs": [
        {
          "output_type": "stream",
          "name": "stdout",
          "text": [
            "Processed fold 1, dataset cooling.\n",
            "Processed fold 1, dataset heating.\n",
            "Processed fold 2, dataset cooling.\n",
            "Processed fold 2, dataset heating.\n",
            "Processed fold 3, dataset cooling.\n",
            "Processed fold 3, dataset heating.\n",
            "Processed fold 4, dataset cooling.\n",
            "Processed fold 4, dataset heating.\n",
            "Processed fold 5, dataset cooling.\n",
            "Processed fold 5, dataset heating.\n",
            "All folds processed and merged data saved successfully.\n"
          ]
        }
      ],
      "source": [
        "import pandas as pd\n",
        "from xgboost import XGBRegressor\n",
        "\n",
        "# Fixed seed value\n",
        "\n",
        "merged_data = []  # Placeholder for storing final merged data\n",
        "\n",
        "# Loop through each fold\n",
        "for fold in range(1, 6):\n",
        "    # Load training data\n",
        "    train_data = pd.read_csv(f'fold_2024_{fold}_filtered_train_data.csv')\n",
        "    X_train = train_data.drop(columns=['WH_RTU_Total'])\n",
        "    y_train = train_data['WH_RTU_Total']\n",
        "\n",
        "    # Load the best model parameters for the current fold\n",
        "    best_params_df = pd.read_csv('xgboost_2024_combined_hyperparameter_results_detailed.csv')\n",
        "    best_params = best_params_df.loc[(best_params_df['Fold'] == fold) & (best_params_df['Dataset'] == 'Combined'), 'Best Params'].iloc[0]\n",
        "    best_params_dict = eval(best_params)\n",
        "\n",
        "    # Train XGBoost model\n",
        "    best_xgb = XGBRegressor(random_state=100, **best_params_dict)\n",
        "    best_xgb.fit(X_train, y_train)\n",
        "\n",
        "    # Loop through Cooling and Heating datasets\n",
        "    for dataset_type in ['cooling', 'heating']:\n",
        "        # Load test data\n",
        "        test_data = pd.read_csv(f'fold_2024_{fold}_filtered_test_data_{dataset_type}.csv')\n",
        "\n",
        "        # Split features and target\n",
        "        X_test = test_data.drop(columns=['WH_RTU_Total'])\n",
        "        y_test = test_data['WH_RTU_Total']\n",
        "\n",
        "        # Predict and calculate residuals\n",
        "        y_pred = best_xgb.predict(X_test)\n",
        "        test_data['Predicted'] = y_pred\n",
        "        test_data['Residual'] = test_data['WH_RTU_Total'] - test_data['Predicted']\n",
        "\n",
        "        # Select and rename required columns\n",
        "        if 'T_out' in test_data.columns and 'RH_out' in test_data.columns:\n",
        "            selected_data = test_data[['WH_RTU_Total', 'Predicted', 'Residual', 'T_out', 'RH_out', 'label']].rename(columns={\n",
        "                'WH_RTU_Total': 'Actual'\n",
        "            })\n",
        "        else:\n",
        "            raise ValueError(f\"'T_out' or 'RH_out' is missing in test data for fold {fold} and dataset {dataset_type}\")\n",
        "\n",
        "        # Add fold, seed, and model columns\n",
        "        selected_data['Fold'] = fold\n",
        "        selected_data['Seed'] = 2024\n",
        "        selected_data['Model'] = 'XGBoost'\n",
        "        selected_data['Experiment'] = 1\n",
        "\n",
        "        # Append to final merged data\n",
        "        merged_data.append(selected_data)\n",
        "        print(f\"Processed fold {fold}, dataset {dataset_type}.\")\n",
        "\n",
        "# Combine all folds and datasets into a single DataFrame\n",
        "merged_final_data = pd.concat(merged_data, ignore_index=True)\n",
        "# Save the merged data\n",
        "merged_final_data.to_csv(f'xgboost_2024_combined_residual.csv', index=False)\n",
        "\n",
        "print(\"All folds processed and merged data saved successfully.\")\n"
      ]
    },
    {
      "cell_type": "markdown",
      "metadata": {
        "id": "Li5yH4TMzcgE"
      },
      "source": [
        "## Stacking Regressor"
      ]
    },
    {
      "cell_type": "markdown",
      "metadata": {
        "id": "RtJ1JeVBqFYZ"
      },
      "source": [
        "### Stacking Regressor Hyperparameter Tuning"
      ]
    },
    {
      "cell_type": "code",
      "execution_count": null,
      "metadata": {
        "colab": {
          "base_uri": "https://localhost:8080/"
        },
        "id": "BOnwFdcAqH_V",
        "outputId": "d439c5f8-0355-49cf-e50f-7fe94371e0d8"
      },
      "outputs": [
        {
          "output_type": "stream",
          "name": "stderr",
          "text": [
            "/usr/local/lib/python3.10/dist-packages/joblib/externals/loky/process_executor.py:752: UserWarning: A worker stopped while some jobs were given to the executor. This can be caused by a too short worker timeout or by a memory leak.\n",
            "  warnings.warn(\n"
          ]
        },
        {
          "output_type": "stream",
          "name": "stdout",
          "text": [
            "Fold 1, Model Stacking Regressor, Dataset Combined, MAE: 3.1322, R²: 0.8318, Best Params: {'final_estimator__fit_intercept': False, 'gb__learning_rate': 0.1, 'gb__max_depth': 3, 'rf__max_depth': 10, 'rf__n_estimators': 50}\n",
            "Fold 1, Model Stacking Regressor, Dataset Cooling, MAE: 2.9098, R²: 0.7520, Best Params: {'final_estimator__fit_intercept': False, 'gb__learning_rate': 0.1, 'gb__max_depth': 3, 'rf__max_depth': 10, 'rf__n_estimators': 50}\n",
            "Fold 1, Model Stacking Regressor, Dataset Heating, MAE: 3.3771, R²: 0.4724, Best Params: {'final_estimator__fit_intercept': False, 'gb__learning_rate': 0.1, 'gb__max_depth': 3, 'rf__max_depth': 10, 'rf__n_estimators': 50}\n",
            "Fold 2, Model Stacking Regressor, Dataset Combined, MAE: 2.8176, R²: 0.8462, Best Params: {'final_estimator__fit_intercept': False, 'gb__learning_rate': 0.1, 'gb__max_depth': 6, 'rf__max_depth': 20, 'rf__n_estimators': 50}\n",
            "Fold 2, Model Stacking Regressor, Dataset Cooling, MAE: 2.4591, R²: 0.7469, Best Params: {'final_estimator__fit_intercept': False, 'gb__learning_rate': 0.1, 'gb__max_depth': 6, 'rf__max_depth': 20, 'rf__n_estimators': 50}\n",
            "Fold 2, Model Stacking Regressor, Dataset Heating, MAE: 3.1797, R²: 0.5353, Best Params: {'final_estimator__fit_intercept': False, 'gb__learning_rate': 0.1, 'gb__max_depth': 6, 'rf__max_depth': 20, 'rf__n_estimators': 50}\n",
            "Fold 3, Model Stacking Regressor, Dataset Combined, MAE: 2.7116, R²: 0.8534, Best Params: {'final_estimator__fit_intercept': False, 'gb__learning_rate': 0.1, 'gb__max_depth': 6, 'rf__max_depth': 10, 'rf__n_estimators': 100}\n",
            "Fold 3, Model Stacking Regressor, Dataset Cooling, MAE: 2.1755, R²: 0.8185, Best Params: {'final_estimator__fit_intercept': False, 'gb__learning_rate': 0.1, 'gb__max_depth': 6, 'rf__max_depth': 10, 'rf__n_estimators': 100}\n",
            "Fold 3, Model Stacking Regressor, Dataset Heating, MAE: 3.2342, R²: 0.5459, Best Params: {'final_estimator__fit_intercept': False, 'gb__learning_rate': 0.1, 'gb__max_depth': 6, 'rf__max_depth': 10, 'rf__n_estimators': 100}\n",
            "Fold 4, Model Stacking Regressor, Dataset Combined, MAE: 2.7378, R²: 0.8516, Best Params: {'final_estimator__fit_intercept': False, 'gb__learning_rate': 0.01, 'gb__max_depth': 6, 'rf__max_depth': 10, 'rf__n_estimators': 100}\n",
            "Fold 4, Model Stacking Regressor, Dataset Cooling, MAE: 2.2384, R²: 0.7909, Best Params: {'final_estimator__fit_intercept': False, 'gb__learning_rate': 0.01, 'gb__max_depth': 6, 'rf__max_depth': 10, 'rf__n_estimators': 100}\n",
            "Fold 4, Model Stacking Regressor, Dataset Heating, MAE: 3.2297, R²: 0.5373, Best Params: {'final_estimator__fit_intercept': False, 'gb__learning_rate': 0.01, 'gb__max_depth': 6, 'rf__max_depth': 10, 'rf__n_estimators': 100}\n",
            "Fold 5, Model Stacking Regressor, Dataset Combined, MAE: 2.7852, R²: 0.8504, Best Params: {'final_estimator__fit_intercept': False, 'gb__learning_rate': 0.1, 'gb__max_depth': 6, 'rf__max_depth': 20, 'rf__n_estimators': 100}\n",
            "Fold 5, Model Stacking Regressor, Dataset Cooling, MAE: 2.1986, R²: 0.8044, Best Params: {'final_estimator__fit_intercept': False, 'gb__learning_rate': 0.1, 'gb__max_depth': 6, 'rf__max_depth': 20, 'rf__n_estimators': 100}\n",
            "Fold 5, Model Stacking Regressor, Dataset Heating, MAE: 3.3345, R²: 0.4840, Best Params: {'final_estimator__fit_intercept': False, 'gb__learning_rate': 0.1, 'gb__max_depth': 6, 'rf__max_depth': 20, 'rf__n_estimators': 100}\n",
            "\n",
            "Summary Results for Stacking Regressor:\n",
            "                Model   Dataset       MAE        R²\n",
            "0  Stacking Regressor  Combined  2.836880  0.846679\n",
            "1  Stacking Regressor   Cooling  2.396288  0.782549\n",
            "2  Stacking Regressor   Heating  3.271052  0.514985\n"
          ]
        }
      ],
      "source": [
        "from sklearn.model_selection import GridSearchCV\n",
        "from sklearn.ensemble import StackingRegressor\n",
        "from sklearn.linear_model import LinearRegression\n",
        "from sklearn.ensemble import RandomForestRegressor, GradientBoostingRegressor\n",
        "from sklearn.metrics import mean_absolute_error, r2_score\n",
        "import pandas as pd\n",
        "\n",
        "# Placeholder for storing results\n",
        "results_stacking = []\n",
        "\n",
        "\n",
        "# Define hyperparameter grid for Stacking Regressor\n",
        "param_grid_stacking = {\n",
        "    'final_estimator__fit_intercept': [True, False],  # Meta-model parameter (LinearRegression)\n",
        "    'rf__n_estimators': [50, 100],                   # Base model: Random Forest\n",
        "    'rf__max_depth': [10, 20],                       # Base model: Random Forest\n",
        "    'gb__learning_rate': [0.01, 0.1],                # Base model: Gradient Boosting\n",
        "    'gb__max_depth': [3, 6]                          # Base model: Gradient Boosting\n",
        "}\n",
        "\n",
        "for i in range(1, 6):\n",
        "    # Load datasets\n",
        "    train_data = pd.read_csv(f'fold_2024_{i}_filtered_train_data.csv')\n",
        "    test_data_combined = pd.read_csv(f'fold_2024_{i}_filtered_test_data.csv')\n",
        "    test_data_cooling = pd.read_csv(f'fold_2024_{i}_filtered_test_data_cooling.csv')\n",
        "    test_data_heating = pd.read_csv(f'fold_2024_{i}_filtered_test_data_heating.csv')\n",
        "\n",
        "    # Split features and target\n",
        "    X_train = train_data.drop(columns=['WH_RTU_Total'])\n",
        "    y_train = train_data['WH_RTU_Total']\n",
        "\n",
        "    # Define base models and Stacking Regressor\n",
        "    base_models = [\n",
        "        ('rf', RandomForestRegressor(random_state=100)),\n",
        "        ('gb', GradientBoostingRegressor(random_state=100))\n",
        "    ]\n",
        "    meta_model = LinearRegression()\n",
        "    stacking = StackingRegressor(estimators=base_models, final_estimator=meta_model)\n",
        "\n",
        "    # Perform GridSearchCV on the Stacking Regressor\n",
        "    grid_search_stacking = GridSearchCV(stacking, param_grid_stacking, cv=3, scoring='neg_mean_absolute_error', n_jobs=-1)\n",
        "    grid_search_stacking.fit(X_train, y_train)\n",
        "\n",
        "    # Get the best model and hyperparameters\n",
        "    best_stacking = grid_search_stacking.best_estimator_\n",
        "    best_params = grid_search_stacking.best_params_\n",
        "\n",
        "    # Evaluate on Combined, Cooling, and Heating datasets\n",
        "    for dataset_type, test_data in [('Combined', test_data_combined),\n",
        "                                    ('Cooling', test_data_cooling),\n",
        "                                    ('Heating', test_data_heating)]:\n",
        "        # Split test features and target\n",
        "        X_test = test_data.drop(columns=['WH_RTU_Total'])\n",
        "        y_test = test_data['WH_RTU_Total']\n",
        "\n",
        "        # Predict and calculate metrics\n",
        "        y_pred = best_stacking.predict(X_test)\n",
        "        mae = mean_absolute_error(y_test, y_pred)\n",
        "        r2 = r2_score(y_test, y_pred)\n",
        "\n",
        "        # Store results\n",
        "        results_stacking.append({\n",
        "            'Fold': i,\n",
        "            'Seed': 2024,  # Add seed column\n",
        "            'Model': 'Stacking Regressor',\n",
        "            'Dataset': dataset_type,\n",
        "            'MAE': mae,\n",
        "            'R²': r2,\n",
        "            'Best Params': best_params,\n",
        "            'Experiment': 1  # Add model column\n",
        "        })\n",
        "\n",
        "        print(f\"Fold {i}, Model Stacking Regressor, Dataset {dataset_type}, MAE: {mae:.4f}, R²: {r2:.4f}, Best Params: {best_params}\")\n",
        "\n",
        "# Convert results to DataFrame\n",
        "results_stacking_df = pd.DataFrame(results_stacking)\n",
        "\n",
        "# Save detailed results to CSV\n",
        "results_stacking_df.to_csv('stacking_2024_combined_hyperparameter_results_detailed.csv', index=False)\n",
        "\n",
        "# Display overall summary\n",
        "print(\"\\nSummary Results for Stacking Regressor:\")\n",
        "summary_stacking = results_stacking_df.groupby(['Model', 'Dataset']).agg({'MAE': 'mean', 'R²': 'mean'}).reset_index()\n",
        "print(summary_stacking)\n",
        "\n",
        "# Save summary to CSV\n",
        "summary_stacking.to_csv('stacking_2024_combined_hyperparameter_results_summary.csv', index=False)\n"
      ]
    },
    {
      "cell_type": "markdown",
      "metadata": {
        "id": "q_4JmnPXx5gl"
      },
      "source": [
        "### feature importance for combine stacking regressor"
      ]
    },
    {
      "cell_type": "code",
      "execution_count": null,
      "metadata": {
        "colab": {
          "base_uri": "https://localhost:8080/"
        },
        "id": "ERQYu4Mxx5Gq",
        "outputId": "35d3b380-31ce-4c7e-8fab-70bdf3f2da20"
      },
      "outputs": [
        {
          "output_type": "stream",
          "name": "stdout",
          "text": [
            "Feature importance for seed 42 has been successfully saved.\n"
          ]
        }
      ],
      "source": [
        "import pandas as pd\n",
        "from sklearn.linear_model import LinearRegression\n",
        "from sklearn.ensemble import RandomForestRegressor, GradientBoostingRegressor, StackingRegressor\n",
        "\n",
        "# Placeholder for feature importance results\n",
        "feature_importance_results = []\n",
        "\n",
        "\n",
        "\n",
        "# Section 1: Calculate Feature Importance\n",
        "for fold in range(1, 6):\n",
        "    # Load training data\n",
        "    train_data = pd.read_csv(f'fold_2024_{fold}_filtered_train_data.csv')\n",
        "    X_train = train_data.drop(columns=['WH_RTU_Total'])\n",
        "    y_train = train_data['WH_RTU_Total']\n",
        "\n",
        "    # Extract the best parameters from the results file\n",
        "    results_stacking_df = pd.read_csv(f'stacking_2024_combined_hyperparameter_results_detailed.csv')\n",
        "    best_params = results_stacking_df.loc[\n",
        "        (results_stacking_df['Fold'] == fold) & (results_stacking_df['Dataset'] == 'Combined'),\n",
        "        'Best Params'\n",
        "    ].iloc[0]\n",
        "    best_params_dict = eval(best_params)  # Parse string into dictionary\n",
        "\n",
        "    # Define base models\n",
        "    base_models = [\n",
        "        ('rf', RandomForestRegressor(random_state=100, **{k.split('__')[1]: v for k, v in best_params_dict.items() if k.startswith('rf__')})),\n",
        "        ('gb', GradientBoostingRegressor(random_state=100, **{k.split('__')[1]: v for k, v in best_params_dict.items() if k.startswith('gb__')}))\n",
        "    ]\n",
        "    meta_model = LinearRegression(**{k.split('__')[1]: v for k, v in best_params_dict.items() if k.startswith('final_estimator__')})\n",
        "\n",
        "    # Define Stacking Regressor and fit the model\n",
        "    stacking = StackingRegressor(estimators=base_models, final_estimator=meta_model)\n",
        "    stacking.fit(X_train, y_train)\n",
        "\n",
        "    # Calculate feature importances from base models\n",
        "    for model_name, model in stacking.named_estimators_.items():\n",
        "        if hasattr(model, 'feature_importances_'):  # Check if the model supports feature importance\n",
        "            feature_importances = model.feature_importances_\n",
        "            feature_names = X_train.columns\n",
        "            importance_df = pd.DataFrame({\n",
        "                'Feature': feature_names,\n",
        "                'Importance': feature_importances,\n",
        "                'Model': model_name,\n",
        "                'Fold': fold,\n",
        "                'Seed': 2024,\n",
        "                'Experiment': 1  # Add seed column for reference\n",
        "            })\n",
        "            feature_importance_results.append(importance_df)\n",
        "\n",
        "# Combine all feature importance results\n",
        "feature_importance_combined = pd.concat(feature_importance_results, ignore_index=True)\n",
        "\n",
        "# Save the feature importance results to a file\n",
        "feature_importance_combined.to_csv(f'stacking_2024_combined_feature_importance.csv', index=False)\n",
        "\n",
        "print(f\"Feature importance for seed 2024 has been successfully saved.\")\n"
      ]
    },
    {
      "cell_type": "markdown",
      "metadata": {
        "id": "MqruwTArcjs0"
      },
      "source": [
        "### generate residual ，predict，label，t_out and RH_OUT"
      ]
    },
    {
      "cell_type": "code",
      "execution_count": null,
      "metadata": {
        "colab": {
          "base_uri": "https://localhost:8080/"
        },
        "id": "LMfd6F22W2HB",
        "outputId": "e086dded-e2d1-4150-d4cc-98caddc74c6b"
      },
      "outputs": [
        {
          "output_type": "stream",
          "name": "stdout",
          "text": [
            "Processed fold 1, dataset cooling.\n",
            "Processed fold 1, dataset heating.\n",
            "Processed fold 2, dataset cooling.\n",
            "Processed fold 2, dataset heating.\n",
            "Processed fold 3, dataset cooling.\n",
            "Processed fold 3, dataset heating.\n",
            "Processed fold 4, dataset cooling.\n",
            "Processed fold 4, dataset heating.\n",
            "Processed fold 5, dataset cooling.\n",
            "Processed fold 5, dataset heating.\n",
            "All folds processed and merged data saved successfully.\n"
          ]
        }
      ],
      "source": [
        "import pandas as pd\n",
        "from sklearn.ensemble import StackingRegressor, RandomForestRegressor, GradientBoostingRegressor\n",
        "from sklearn.linear_model import LinearRegression\n",
        "\n",
        "\n",
        "\n",
        "merged_data = []  # Placeholder for storing final merged data\n",
        "\n",
        "# Load the best model parameters for each fold\n",
        "best_params_df = pd.read_csv('stacking_2024_combined_hyperparameter_results_detailed.csv')\n",
        "\n",
        "# Loop through each fold\n",
        "for fold in range(1, 6):\n",
        "    # Load training data\n",
        "    train_data = pd.read_csv(f'fold_2024_{fold}_filtered_train_data.csv')\n",
        "    X_train = train_data.drop(columns=['WH_RTU_Total'])\n",
        "    y_train = train_data['WH_RTU_Total']\n",
        "\n",
        "    # Get the best parameters for the current fold\n",
        "    best_params = best_params_df.loc[best_params_df['Fold'] == fold, 'Best Params'].iloc[0]\n",
        "    best_params_dict = eval(best_params)\n",
        "\n",
        "    # Define base models and Stacking Regressor with best parameters\n",
        "    base_models = [\n",
        "        ('rf', RandomForestRegressor(random_state=100,\n",
        "                                     n_estimators=best_params_dict['rf__n_estimators'],\n",
        "                                     max_depth=best_params_dict['rf__max_depth'])),\n",
        "        ('gb', GradientBoostingRegressor(random_state=100,\n",
        "                                         learning_rate=best_params_dict['gb__learning_rate'],\n",
        "                                         max_depth=best_params_dict['gb__max_depth']))\n",
        "    ]\n",
        "    meta_model = LinearRegression(fit_intercept=best_params_dict['final_estimator__fit_intercept'])\n",
        "    best_stacking = StackingRegressor(estimators=base_models, final_estimator=meta_model)\n",
        "\n",
        "    # Train the Stacking Regressor\n",
        "    best_stacking.fit(X_train, y_train)\n",
        "\n",
        "    # Loop through Cooling and Heating datasets\n",
        "    for dataset_type in ['cooling', 'heating']:\n",
        "        # Load test data\n",
        "        test_data = pd.read_csv(f'fold_2024_{fold}_filtered_test_data_{dataset_type}.csv')\n",
        "\n",
        "        # Split features and target\n",
        "        X_test = test_data.drop(columns=['WH_RTU_Total'])\n",
        "        y_test = test_data['WH_RTU_Total']\n",
        "\n",
        "        # Predict and calculate residuals\n",
        "        y_pred = best_stacking.predict(X_test)\n",
        "        test_data['Predicted'] = y_pred\n",
        "        test_data['Residual'] = test_data['WH_RTU_Total'] - test_data['Predicted']\n",
        "\n",
        "        # Select and rename required columns\n",
        "        if 'T_out' in test_data.columns and 'RH_out' in test_data.columns:\n",
        "            selected_data = test_data[['WH_RTU_Total', 'Predicted', 'Residual', 'T_out', 'RH_out', 'label']].rename(columns={\n",
        "                'WH_RTU_Total': 'Actual'\n",
        "            })\n",
        "        else:\n",
        "            raise ValueError(f\"'T_out' or 'RH_out' is missing in test data for fold {fold} and dataset {dataset_type}\")\n",
        "\n",
        "        # Add fold, seed, and model columns\n",
        "        selected_data['Fold'] = fold\n",
        "        selected_data['Seed'] = 2024\n",
        "        selected_data['Model'] = 'StackingRegressor'\n",
        "        selected_data['Experiment'] = 1\n",
        "\n",
        "        # Append to final merged data\n",
        "        merged_data.append(selected_data)\n",
        "        print(f\"Processed fold {fold}, dataset {dataset_type}.\")\n",
        "\n",
        "# Combine all folds and datasets into a single DataFrame\n",
        "merged_final_data = pd.concat(merged_data, ignore_index=True)\n",
        "# Save the merged data\n",
        "merged_final_data.to_csv(f'stacking_2024_combined_residual.csv', index=False)\n",
        "\n",
        "print(\"All folds processed and merged data saved successfully.\")\n"
      ]
    },
    {
      "cell_type": "markdown",
      "metadata": {
        "id": "4igMB904NPx9"
      },
      "source": [
        "# Cooling Experiment"
      ]
    },
    {
      "cell_type": "markdown",
      "metadata": {
        "id": "5P2T4w25Mcz6"
      },
      "source": [
        "do the same model performance for cooling data, first divide the cooling data into 5 folds and generate differet training and testing groups"
      ]
    },
    {
      "cell_type": "code",
      "execution_count": null,
      "metadata": {
        "colab": {
          "base_uri": "https://localhost:8080/"
        },
        "id": "l8qgHS9IMnUE",
        "outputId": "70f2be92-371a-4d3f-8c6e-1275620eb2b2"
      },
      "outputs": [
        {
          "output_type": "stream",
          "name": "stdout",
          "text": [
            "Training and test data for 5 folds with seed 42 have been generated and saved.\n"
          ]
        }
      ],
      "source": [
        "import pandas as pd\n",
        "from sklearn.model_selection import KFold\n",
        "\n",
        "# Load the combined data\n",
        "cooling_data_with_interactions_2024 = pd.read_csv('cooling_data_with_interactions_2024.csv')\n",
        "\n",
        "# Initialize KFold with 5 splits\n",
        "kf = KFold(n_splits=5, shuffle=True, random_state=2024)\n",
        "\n",
        "# Create storage for training and test data splits\n",
        "folds = []\n",
        "\n",
        "# Split the data into 5 folds\n",
        "for train_index, test_index in kf.split(cooling_data_with_interactions_2024):\n",
        "    train_data = cooling_data_with_interactions_2024.iloc[train_index]\n",
        "    test_data = cooling_data_with_interactions_2024.iloc[test_index]\n",
        "    folds.append((train_data, test_data))\n",
        "\n",
        "# Save each training and test group as separate files\n",
        "for i, (train_data, test_data) in enumerate(folds):\n",
        "    train_data.to_csv(f'cooling_train_2024_fold{i+1}.csv', index=False)\n",
        "    test_data.to_csv(f'cooling_test_2024_fold{i+1}.csv', index=False)\n",
        "\n",
        "print(\"Training and test data for 5 folds with seed 2024 have been generated and saved.\")\n"
      ]
    },
    {
      "cell_type": "markdown",
      "metadata": {
        "id": "bVASFn-_Na2F"
      },
      "source": [
        "do the feature selection solely based on the training data"
      ]
    },
    {
      "cell_type": "code",
      "execution_count": null,
      "metadata": {
        "colab": {
          "base_uri": "https://localhost:8080/"
        },
        "id": "iHykW-loNgCJ",
        "outputId": "afd75467-3b63-4a48-b639-023122c6524e"
      },
      "outputs": [
        {
          "output_type": "stream",
          "name": "stdout",
          "text": [
            "Top 25 features for cooling fold 1 with seed 42 saved.\n",
            "Top 25 features for cooling fold 2 with seed 42 saved.\n",
            "Top 25 features for cooling fold 3 with seed 42 saved.\n",
            "Top 25 features for cooling fold 4 with seed 42 saved.\n",
            "Top 25 features for cooling fold 5 with seed 42 saved.\n"
          ]
        }
      ],
      "source": [
        "import pandas as pd\n",
        "from sklearn.ensemble import RandomForestRegressor\n",
        "\n",
        "# Function to perform feature selection\n",
        "def feature_selection(train_data, target_column, preselected_features, k=25):\n",
        "    # Separate features and target\n",
        "    X = train_data.drop(columns=[target_column, 'TIMESTAMP'], errors='ignore')  # Drop TIMESTAMP\n",
        "    y = train_data[target_column]\n",
        "\n",
        "    # Train a RandomForestRegressor model\n",
        "    rf_model = RandomForestRegressor(n_estimators=100, random_state=100)\n",
        "    rf_model.fit(X, y)\n",
        "\n",
        "    # Get feature names and their importance scores\n",
        "    feature_importances = rf_model.feature_importances_\n",
        "    feature_names = X.columns\n",
        "\n",
        "    # Combine feature names and scores into a DataFrame\n",
        "    selected_features = pd.DataFrame({\n",
        "        'Feature': feature_names,\n",
        "        'Importance': feature_importances\n",
        "    }).sort_values(by='Importance', ascending=False)\n",
        "\n",
        "    # Select the preselected features (label, T_out, RH_out)\n",
        "    preselected_df = selected_features[selected_features['Feature'].isin(preselected_features)]\n",
        "\n",
        "    # Select the remaining top features after excluding preselected ones\n",
        "    remaining_features = selected_features[~selected_features['Feature'].isin(preselected_features)]\n",
        "    top_remaining_features = remaining_features.head(k - len(preselected_features))\n",
        "\n",
        "    # Combine preselected features with the top remaining features\n",
        "    final_features = pd.concat([preselected_df, top_remaining_features])\n",
        "\n",
        "    return final_features\n",
        "\n",
        "# Perform feature selection for each fold\n",
        "target_column = 'WH_RTU_Total'\n",
        "preselected_features = ['label', 'T_out', 'RH_out']\n",
        "\n",
        "for i in range(1, 6):\n",
        "    train_data = pd.read_csv(f'cooling_train_2024_fold{i}.csv')\n",
        "\n",
        "    # Perform feature selection\n",
        "    top_features = feature_selection(train_data, target_column, preselected_features, k=25)\n",
        "\n",
        "    # Save top features\n",
        "    top_features.to_csv(f'cooling_train_2024_fold{i}_top25_features.csv', index=False)\n",
        "\n",
        "    print(f\"Top 25 features for cooling fold {i} with seed 2024 saved.\")\n"
      ]
    },
    {
      "cell_type": "markdown",
      "metadata": {
        "id": "6YlDMNe2QA1D"
      },
      "source": [
        "prepare the cooling dataset's training and test data"
      ]
    },
    {
      "cell_type": "code",
      "execution_count": null,
      "metadata": {
        "colab": {
          "base_uri": "https://localhost:8080/"
        },
        "id": "k4b3nYkXQGfy",
        "outputId": "1e27922e-1ac0-4e0d-d455-9d84c4a3c2b5"
      },
      "outputs": [
        {
          "output_type": "stream",
          "name": "stdout",
          "text": [
            "Filtered cooling train data for fold 1 saved.\n",
            "Filtered cooling test data for fold 1 saved.\n",
            "Filtered cooling train data for fold 2 saved.\n",
            "Filtered cooling test data for fold 2 saved.\n",
            "Filtered cooling train data for fold 3 saved.\n",
            "Filtered cooling test data for fold 3 saved.\n",
            "Filtered cooling train data for fold 4 saved.\n",
            "Filtered cooling test data for fold 4 saved.\n",
            "Filtered cooling train data for fold 5 saved.\n",
            "Filtered cooling test data for fold 5 saved.\n"
          ]
        }
      ],
      "source": [
        "import pandas as pd\n",
        "\n",
        "# Target variable\n",
        "target_column = 'WH_RTU_Total'\n",
        "\n",
        "for i in range(1, 6):\n",
        "    # Load the original training and test datasets for the current fold\n",
        "    train_data = pd.read_csv(f'cooling_train_2024_fold{i}.csv')\n",
        "    test_data = pd.read_csv(f'cooling_test_2024_fold{i}.csv')\n",
        "\n",
        "    # Load the top 25 features selected from the current fold\n",
        "    top_features = pd.read_csv(f'cooling_train_2024_fold{i}_top25_features.csv')['Feature'].tolist()\n",
        "\n",
        "    # Ensure the target column is included in the selected features\n",
        "    filtered_columns = top_features + [target_column]  # Train data does not include 'label'\n",
        "\n",
        "    # Filter the training data\n",
        "    filtered_train_data = train_data[filtered_columns]\n",
        "    filtered_train_data.to_csv(f'fold{i}_cooling_filtered_train_2024_data.csv', index=False)\n",
        "    print(f\"Filtered cooling train data for fold {i} saved.\")\n",
        "\n",
        "    # Filter the test data (temporarily including 'label')\n",
        "    filtered_test_data = test_data[filtered_columns]\n",
        "\n",
        "    # Save all datasets\n",
        "    filtered_test_data.to_csv(f'fold{i}_cooling_filtered_test_2024_data.csv', index=False)\n",
        "    print(f\"Filtered cooling test data for fold {i} saved.\")\n",
        "\n"
      ]
    },
    {
      "cell_type": "markdown",
      "metadata": {
        "id": "2AhCXvSTRyvS"
      },
      "source": [
        "generate the mae and R2 value for the four models:linear regression, random forest ,xgboost and stacking ensemble regressor."
      ]
    },
    {
      "cell_type": "code",
      "execution_count": null,
      "metadata": {
        "colab": {
          "base_uri": "https://localhost:8080/"
        },
        "id": "wXEa8mLQR7ka",
        "outputId": "7dd62d2b-ce4f-4ba1-853c-2536b2e75638"
      },
      "outputs": [
        {
          "output_type": "stream",
          "name": "stdout",
          "text": [
            "Requirement already satisfied: pandas in /usr/local/lib/python3.10/dist-packages (2.2.2)\n",
            "Requirement already satisfied: numpy in /usr/local/lib/python3.10/dist-packages (1.26.4)\n",
            "Requirement already satisfied: scikit-learn in /usr/local/lib/python3.10/dist-packages (1.0.2)\n",
            "Requirement already satisfied: xgboost in /usr/local/lib/python3.10/dist-packages (2.1.3)\n",
            "Requirement already satisfied: python-dateutil>=2.8.2 in /usr/local/lib/python3.10/dist-packages (from pandas) (2.8.2)\n",
            "Requirement already satisfied: pytz>=2020.1 in /usr/local/lib/python3.10/dist-packages (from pandas) (2024.2)\n",
            "Requirement already satisfied: tzdata>=2022.7 in /usr/local/lib/python3.10/dist-packages (from pandas) (2024.2)\n",
            "Requirement already satisfied: scipy>=1.1.0 in /usr/local/lib/python3.10/dist-packages (from scikit-learn) (1.13.1)\n",
            "Requirement already satisfied: joblib>=0.11 in /usr/local/lib/python3.10/dist-packages (from scikit-learn) (1.4.2)\n",
            "Requirement already satisfied: threadpoolctl>=2.0.0 in /usr/local/lib/python3.10/dist-packages (from scikit-learn) (3.5.0)\n",
            "Requirement already satisfied: nvidia-nccl-cu12 in /usr/local/lib/python3.10/dist-packages (from xgboost) (2.23.4)\n",
            "Requirement already satisfied: six>=1.5 in /usr/local/lib/python3.10/dist-packages (from python-dateutil>=2.8.2->pandas) (1.17.0)\n",
            "Requirement already satisfied: scikit-learn==1.0.2 in /usr/local/lib/python3.10/dist-packages (1.0.2)\n",
            "Requirement already satisfied: numpy>=1.14.6 in /usr/local/lib/python3.10/dist-packages (from scikit-learn==1.0.2) (1.26.4)\n",
            "Requirement already satisfied: scipy>=1.1.0 in /usr/local/lib/python3.10/dist-packages (from scikit-learn==1.0.2) (1.13.1)\n",
            "Requirement already satisfied: joblib>=0.11 in /usr/local/lib/python3.10/dist-packages (from scikit-learn==1.0.2) (1.4.2)\n",
            "Requirement already satisfied: threadpoolctl>=2.0.0 in /usr/local/lib/python3.10/dist-packages (from scikit-learn==1.0.2) (3.5.0)\n",
            "Fold 1, Model Linear Regression, MAE: 5.1285, R²: 0.4158\n",
            "Fold 1, Model Random Forest, MAE: 2.8695, R²: 0.6677\n",
            "Fold 1, Model XGBoost, MAE: 2.7304, R²: 0.7010\n",
            "Fold 1, Model Stacking Regressor, MAE: 2.7941, R²: 0.7029\n",
            "Fold 2, Model Linear Regression, MAE: 4.6839, R²: 0.4979\n",
            "Fold 2, Model Random Forest, MAE: 2.2330, R²: 0.7723\n",
            "Fold 2, Model XGBoost, MAE: 2.3624, R²: 0.7604\n",
            "Fold 2, Model Stacking Regressor, MAE: 2.2203, R²: 0.7794\n",
            "Fold 3, Model Linear Regression, MAE: 4.7205, R²: 0.5362\n",
            "Fold 3, Model Random Forest, MAE: 2.1603, R²: 0.8138\n",
            "Fold 3, Model XGBoost, MAE: 2.1716, R²: 0.8179\n",
            "Fold 3, Model Stacking Regressor, MAE: 2.1324, R²: 0.8268\n",
            "Fold 4, Model Linear Regression, MAE: 4.7932, R²: 0.4408\n",
            "Fold 4, Model Random Forest, MAE: 2.2995, R²: 0.7602\n",
            "Fold 4, Model XGBoost, MAE: 2.3938, R²: 0.7565\n",
            "Fold 4, Model Stacking Regressor, MAE: 2.2701, R²: 0.7700\n",
            "Fold 5, Model Linear Regression, MAE: 4.7752, R²: 0.4710\n",
            "Fold 5, Model Random Forest, MAE: 2.1781, R²: 0.8128\n",
            "Fold 5, Model XGBoost, MAE: 2.2891, R²: 0.8029\n",
            "Fold 5, Model Stacking Regressor, MAE: 2.1684, R²: 0.8190\n",
            "\n",
            "Summary Results for All Models (Cooling Data):\n",
            "                         MAE        R²\n",
            "Model                                 \n",
            "Stacking Regressor  2.317051  0.779630\n",
            "Random Forest       2.348090  0.765360\n",
            "XGBoost             2.389459  0.767742\n",
            "Linear Regression   4.820272  0.472355\n"
          ]
        }
      ],
      "source": [
        "!pip install pandas numpy scikit-learn xgboost\n",
        "!pip install scikit-learn==1.0.2\n",
        "from sklearn.model_selection import GridSearchCV\n",
        "from xgboost import XGBRegressor\n",
        "import pandas as pd\n",
        "from sklearn.metrics import mean_absolute_error, r2_score\n",
        "from sklearn.ensemble import GradientBoostingRegressor\n",
        "import pandas as pd\n",
        "import numpy as np\n",
        "from sklearn.linear_model import LinearRegression\n",
        "from sklearn.ensemble import RandomForestRegressor\n",
        "from xgboost import XGBRegressor\n",
        "from sklearn.ensemble import StackingRegressor\n",
        "from sklearn.metrics import mean_absolute_error, r2_score\n",
        "# Placeholder for storing results\n",
        "results = []\n",
        "\n",
        "# Loop through each fold\n",
        "for i in range(1, 6):\n",
        "    # Load filtered training and test datasets for cooling data\n",
        "    train_data = pd.read_csv(f'fold{i}_cooling_filtered_train_2024_data.csv')\n",
        "    test_data = pd.read_csv(f'fold{i}_cooling_filtered_test_2024_data.csv')\n",
        "\n",
        "    # Separate features and target for training and testing data\n",
        "    target_column = 'WH_RTU_Total'\n",
        "    X_train = train_data.drop(columns=[target_column])\n",
        "    y_train = train_data[target_column]\n",
        "    X_test = test_data.drop(columns=[target_column])\n",
        "    y_test = test_data[target_column]\n",
        "\n",
        "    # Define models with default parameters\n",
        "    models = {\n",
        "        'Linear Regression': LinearRegression(),\n",
        "        'Random Forest': RandomForestRegressor(random_state=100),\n",
        "        'XGBoost': XGBRegressor(random_state=100),\n",
        "        'Stacking Regressor': StackingRegressor(\n",
        "            estimators=[\n",
        "                ('lr', LinearRegression()),\n",
        "                ('rf', RandomForestRegressor(random_state=100)),\n",
        "                ('xgb', XGBRegressor(random_state=100))\n",
        "            ]\n",
        "        )\n",
        "    }\n",
        "\n",
        "    # Train and evaluate each model\n",
        "    for model_name, model in models.items():\n",
        "        # Train model\n",
        "        model.fit(X_train, y_train)\n",
        "\n",
        "        # Predict on test data\n",
        "        y_pred = model.predict(X_test)\n",
        "\n",
        "        # Calculate MAE and R²\n",
        "        mae = mean_absolute_error(y_test, y_pred)\n",
        "        r2 = r2_score(y_test, y_pred)\n",
        "\n",
        "        # Store results\n",
        "        results.append({\n",
        "            'Fold': i,\n",
        "            'Seed': 2024,\n",
        "            'Model': model_name,\n",
        "            'Dataset': 'Cooling',\n",
        "            'MAE': mae,\n",
        "            'R²': r2,\n",
        "            'Experiment':2\n",
        "        })\n",
        "\n",
        "        print(f\"Fold {i}, Model {model_name}, MAE: {mae:.4f}, R²: {r2:.4f}\")\n",
        "\n",
        "# Convert results to a DataFrame\n",
        "results_df = pd.DataFrame(results)\n",
        "\n",
        "# Save results to CSV\n",
        "results_df.to_csv('cooling_data_results_mae_r2.csv', index=False)\n",
        "\n",
        "# Display overall summary\n",
        "print(\"\\nSummary Results for All Models (Cooling Data):\")\n",
        "summary = results_df.groupby('Model').agg({'MAE': 'mean', 'R²': 'mean'}).sort_values(by='MAE')\n",
        "print(summary)\n"
      ]
    },
    {
      "cell_type": "markdown",
      "metadata": {
        "id": "EoMivWWAfuFJ"
      },
      "source": [
        "## Random Forest"
      ]
    },
    {
      "cell_type": "markdown",
      "metadata": {
        "id": "hB5bSKiemn92"
      },
      "source": [
        "### hyper parameter tuning for cooling random forest"
      ]
    },
    {
      "cell_type": "code",
      "execution_count": null,
      "metadata": {
        "colab": {
          "base_uri": "https://localhost:8080/"
        },
        "id": "viqEAGG6mu0T",
        "outputId": "53e1df05-be63-4bb3-8cfd-4f1b96c02391"
      },
      "outputs": [
        {
          "output_type": "stream",
          "name": "stdout",
          "text": [
            "Fold 1, Model Random Forest, Dataset Cooling, MAE: 2.8370, R²: 0.6721, Best Params: {'max_depth': 20, 'min_samples_split': 2, 'n_estimators': 150}\n",
            "Fold 2, Model Random Forest, Dataset Cooling, MAE: 2.2280, R²: 0.7719, Best Params: {'max_depth': None, 'min_samples_split': 5, 'n_estimators': 150}\n",
            "Fold 3, Model Random Forest, Dataset Cooling, MAE: 2.1651, R²: 0.8123, Best Params: {'max_depth': 10, 'min_samples_split': 2, 'n_estimators': 150}\n",
            "Fold 4, Model Random Forest, Dataset Cooling, MAE: 2.3034, R²: 0.7583, Best Params: {'max_depth': 10, 'min_samples_split': 2, 'n_estimators': 150}\n",
            "Fold 5, Model Random Forest, Dataset Cooling, MAE: 2.1723, R²: 0.8089, Best Params: {'max_depth': 10, 'min_samples_split': 2, 'n_estimators': 150}\n",
            "\n",
            "Summary Results for Random Forest:\n",
            "           Model  Dataset      MAE        R²\n",
            "0  Random Forest  Cooling  2.34115  0.764705\n"
          ]
        }
      ],
      "source": [
        "import pandas as pd\n",
        "from sklearn.model_selection import GridSearchCV\n",
        "from sklearn.ensemble import RandomForestRegressor\n",
        "from sklearn.metrics import mean_absolute_error, r2_score\n",
        "\n",
        "# Placeholder for storing results\n",
        "results_rf = []\n",
        "\n",
        "# Define hyperparameter grid for Random Forest\n",
        "param_grid_rf = {\n",
        "    'n_estimators': [50, 100, 150],\n",
        "    'max_depth': [10, 20, None],\n",
        "    'min_samples_split': [2, 5, 10],\n",
        "}\n",
        "\n",
        "for i in range(1, 6):\n",
        "    # Load datasets\n",
        "    train_data = pd.read_csv(f'fold{i}_cooling_filtered_train_2024_data.csv')\n",
        "    test_data = pd.read_csv(f'fold{i}_cooling_filtered_test_2024_data.csv')\n",
        "\n",
        "    # Split features and target\n",
        "    X_train = train_data.drop(columns=['WH_RTU_Total'])\n",
        "    y_train = train_data['WH_RTU_Total']\n",
        "\n",
        "    # Initialize Random Forest and perform GridSearchCV\n",
        "    rf = RandomForestRegressor(random_state=100)\n",
        "    grid_search_rf = GridSearchCV(rf, param_grid_rf, cv=3, scoring='neg_mean_absolute_error', n_jobs=-1)\n",
        "    grid_search_rf.fit(X_train, y_train)\n",
        "\n",
        "    # Get the best model and hyperparameters\n",
        "    best_rf = grid_search_rf.best_estimator_\n",
        "    best_params = grid_search_rf.best_params_\n",
        "\n",
        "    # Split test features and target\n",
        "    X_test = test_data.drop(columns=['WH_RTU_Total'])\n",
        "    y_test = test_data['WH_RTU_Total']\n",
        "\n",
        "    # Predict and calculate metrics\n",
        "    y_pred = best_rf.predict(X_test)\n",
        "    mae = mean_absolute_error(y_test, y_pred)\n",
        "    r2 = r2_score(y_test, y_pred)\n",
        "\n",
        "    # Store results\n",
        "    results_rf.append({\n",
        "        'Fold': i,\n",
        "        'Seed':2024,\n",
        "        'Model': 'Random Forest',\n",
        "        'Dataset': 'Cooling',\n",
        "        'MAE': mae,\n",
        "        'R²': r2,\n",
        "        'Best Params': best_params,\n",
        "        'Experiment': 2\n",
        "    })\n",
        "\n",
        "    print(f\"Fold {i}, Model Random Forest, Dataset Cooling, MAE: {mae:.4f}, R²: {r2:.4f}, Best Params: {best_params}\")\n",
        "\n",
        "# Convert results to DataFrame\n",
        "results_rf_df = pd.DataFrame(results_rf)\n",
        "\n",
        "# Save detailed results to CSV\n",
        "results_rf_df.to_csv('random_forest_2024_cooling_hyperparameter_results_detailed.csv', index=False)\n",
        "\n",
        "# Display overall summary\n",
        "print(\"\\nSummary Results for Random Forest:\")\n",
        "summary_rf = results_rf_df.groupby(['Model', 'Dataset']).agg({'MAE': 'mean', 'R²': 'mean'}).reset_index()\n",
        "print(summary_rf)\n",
        "\n",
        "# Save summary to CSV\n",
        "summary_rf.to_csv('random_forest_2024_cooling_summary_results.csv', index=False)\n"
      ]
    },
    {
      "cell_type": "markdown",
      "metadata": {
        "id": "lBh34A3riemE"
      },
      "source": [
        "### Feature Importance for Random Forest"
      ]
    },
    {
      "cell_type": "code",
      "execution_count": null,
      "metadata": {
        "colab": {
          "base_uri": "https://localhost:8080/"
        },
        "id": "PNnfoqF_jz0B",
        "outputId": "13c07570-0876-45f9-db45-b0b16a872a5f"
      },
      "outputs": [
        {
          "output_type": "stream",
          "name": "stdout",
          "text": [
            "Feature importance for seed 42 and experiment 2 has been successfully saved.\n"
          ]
        }
      ],
      "source": [
        "import pandas as pd\n",
        "from sklearn.ensemble import RandomForestRegressor\n",
        "\n",
        "# Placeholder for feature importance results\n",
        "feature_importance_results = []\n",
        "\n",
        "# Fixed seed value\n",
        "\n",
        "experiment = 2  # Experiment number\n",
        "\n",
        "# Section 1: Calculate Feature Importance\n",
        "for fold in range(1, 6):\n",
        "    # Load training data\n",
        "    train_data = pd.read_csv(f'fold{fold}_cooling_filtered_train_2024_data.csv')\n",
        "    X_train = train_data.drop(columns=['WH_RTU_Total'])\n",
        "    y_train = train_data['WH_RTU_Total']\n",
        "\n",
        "    # Load the best model parameters for the current fold\n",
        "    results_rf_df = pd.read_csv('random_forest_2024_cooling_hyperparameter_results_detailed.csv')\n",
        "    best_params = results_rf_df.loc[(results_rf_df['Fold'] == fold) & (results_rf_df['Dataset'] == 'Cooling'), 'Best Params'].iloc[0]\n",
        "    best_params_dict = eval(best_params)\n",
        "\n",
        "    # Train Random Forest model with best parameters\n",
        "    best_rf = RandomForestRegressor(random_state=100, **best_params_dict)\n",
        "    best_rf.fit(X_train, y_train)\n",
        "\n",
        "    # Calculate feature importance\n",
        "    feature_importances = best_rf.feature_importances_\n",
        "    feature_names = X_train.columns\n",
        "    importance_df = pd.DataFrame({\n",
        "        'Feature': feature_names,\n",
        "        'Importance': feature_importances,\n",
        "        'Fold': fold,\n",
        "        'Seed': 2024,  # Add seed column\n",
        "        'Model': 'Random Forest',\n",
        "        'Experiment': experiment  # Add experiment column\n",
        "    })\n",
        "    feature_importance_results.append(importance_df)\n",
        "\n",
        "# Combine and save feature importance results\n",
        "feature_importance_combined = pd.concat(feature_importance_results, ignore_index=True)\n",
        "feature_importance_combined.to_csv(f'random_forest_2024_cooling_feature_importance_experiment_{experiment}.csv', index=False)\n",
        "\n",
        "print(f\"Feature importance for seed 2024 and experiment {experiment} has been successfully saved.\")"
      ]
    },
    {
      "cell_type": "markdown",
      "metadata": {
        "id": "kjlP0Zw9j87Y"
      },
      "source": [
        "### residual，predict，label，T_OUT and RH_OUT"
      ]
    },
    {
      "cell_type": "code",
      "execution_count": null,
      "metadata": {
        "colab": {
          "base_uri": "https://localhost:8080/"
        },
        "id": "a0-tUjg6kDpz",
        "outputId": "61638b78-bc6b-463b-87e5-987d63314ecf"
      },
      "outputs": [
        {
          "output_type": "stream",
          "name": "stdout",
          "text": [
            "Processed fold 1.\n",
            "Processed fold 2.\n",
            "Processed fold 3.\n",
            "Processed fold 4.\n",
            "Processed fold 5.\n",
            "All folds processed and merged data saved successfully to random_forest_42_cooling_residual.csv.\n"
          ]
        }
      ],
      "source": [
        "import pandas as pd\n",
        "from sklearn.ensemble import RandomForestRegressor\n",
        "\n",
        "\n",
        "experiment = 2  # Experiment number\n",
        "merged_data = []  # Placeholder for storing final merged data\n",
        "\n",
        "# Loop through each fold\n",
        "for fold in range(1, 6):\n",
        "    # Load training data\n",
        "    train_data = pd.read_csv(f'fold{fold}_cooling_filtered_train_2024_data.csv')\n",
        "    X_train = train_data.drop(columns=['WH_RTU_Total'])\n",
        "    y_train = train_data['WH_RTU_Total']\n",
        "\n",
        "    # Load the best model parameters for the current fold\n",
        "    best_params_df = pd.read_csv('random_forest_2024_cooling_hyperparameter_results_detailed.csv')\n",
        "    best_params = best_params_df.loc[(best_params_df['Fold'] == fold) & (best_params_df['Dataset'] == 'Cooling'), 'Best Params'].iloc[0]\n",
        "    best_params_dict = eval(best_params)\n",
        "\n",
        "    # Train Random Forest model with best parameters\n",
        "    best_rf = RandomForestRegressor(random_state=100, **best_params_dict)\n",
        "    best_rf.fit(X_train, y_train)\n",
        "\n",
        "    # Load test data\n",
        "    test_data = pd.read_csv(f'fold{fold}_cooling_filtered_test_2024_data.csv')\n",
        "    test_data['Label'] = 'Cooling'  # Dynamically add label based on dataset type\n",
        "\n",
        "    # Split features and target\n",
        "    X_test = test_data.drop(columns=['WH_RTU_Total', 'Label'])\n",
        "    y_test = test_data['WH_RTU_Total']\n",
        "\n",
        "    # Predict and calculate residuals\n",
        "    y_pred = best_rf.predict(X_test)\n",
        "    test_data['Predicted'] = y_pred\n",
        "    test_data['Residual'] = test_data['WH_RTU_Total'] - test_data['Predicted']\n",
        "\n",
        "    # Select and rename required columns\n",
        "    if 'T_out' in test_data.columns and 'RH_out' in test_data.columns:\n",
        "        selected_data = test_data[['WH_RTU_Total', 'Predicted', 'Residual', 'T_out', 'RH_out', 'Label']].rename(columns={\n",
        "            'WH_RTU_Total': 'Actual'\n",
        "        })\n",
        "    else:\n",
        "        missing_columns = [col for col in ['T_out', 'RH_out'] if col not in test_data.columns]\n",
        "        raise ValueError(f\"{', '.join(missing_columns)} is/are missing in test data for fold {fold}\")\n",
        "\n",
        "    # Add fold, seed, and model columns\n",
        "    selected_data['Fold'] = fold\n",
        "    selected_data['Seed'] = 2024\n",
        "    selected_data['Model'] = 'Random Forest'\n",
        "    selected_data['Experiment'] = experiment\n",
        "\n",
        "    # Append to final merged data\n",
        "    merged_data.append(selected_data)\n",
        "    print(f\"Processed fold {fold}.\")\n",
        "\n",
        "# Combine all folds into a single DataFrame\n",
        "merged_final_data = pd.concat(merged_data, ignore_index=True)\n",
        "\n",
        "# Save the merged data\n",
        "output_file = 'random_forest_2024_cooling_residual.csv'\n",
        "merged_final_data.to_csv(output_file, index=False)\n",
        "\n",
        "print(f\"All folds processed and merged data saved successfully to {output_file}.\")\n"
      ]
    },
    {
      "cell_type": "markdown",
      "metadata": {
        "id": "LZbHnBaumOUk"
      },
      "source": [
        "## XGBOOST"
      ]
    },
    {
      "cell_type": "markdown",
      "metadata": {
        "id": "EZcAlxKYo8QC"
      },
      "source": [
        "### hyper parameter tuning for cooling XGBoost"
      ]
    },
    {
      "cell_type": "code",
      "execution_count": null,
      "metadata": {
        "id": "IAasa5aupBWa",
        "colab": {
          "base_uri": "https://localhost:8080/"
        },
        "outputId": "bb9014e0-1084-4cce-b4b0-b92396553b12"
      },
      "outputs": [
        {
          "output_type": "stream",
          "name": "stdout",
          "text": [
            "Requirement already satisfied: pandas in /usr/local/lib/python3.10/dist-packages (2.2.2)\n",
            "Requirement already satisfied: numpy in /usr/local/lib/python3.10/dist-packages (1.26.4)\n",
            "Requirement already satisfied: scikit-learn in /usr/local/lib/python3.10/dist-packages (1.0.2)\n",
            "Requirement already satisfied: xgboost in /usr/local/lib/python3.10/dist-packages (2.1.3)\n",
            "Requirement already satisfied: python-dateutil>=2.8.2 in /usr/local/lib/python3.10/dist-packages (from pandas) (2.8.2)\n",
            "Requirement already satisfied: pytz>=2020.1 in /usr/local/lib/python3.10/dist-packages (from pandas) (2024.2)\n",
            "Requirement already satisfied: tzdata>=2022.7 in /usr/local/lib/python3.10/dist-packages (from pandas) (2024.2)\n",
            "Requirement already satisfied: scipy>=1.1.0 in /usr/local/lib/python3.10/dist-packages (from scikit-learn) (1.13.1)\n",
            "Requirement already satisfied: joblib>=0.11 in /usr/local/lib/python3.10/dist-packages (from scikit-learn) (1.4.2)\n",
            "Requirement already satisfied: threadpoolctl>=2.0.0 in /usr/local/lib/python3.10/dist-packages (from scikit-learn) (3.5.0)\n",
            "Requirement already satisfied: nvidia-nccl-cu12 in /usr/local/lib/python3.10/dist-packages (from xgboost) (2.23.4)\n",
            "Requirement already satisfied: six>=1.5 in /usr/local/lib/python3.10/dist-packages (from python-dateutil>=2.8.2->pandas) (1.17.0)\n",
            "Requirement already satisfied: scikit-learn==1.0.2 in /usr/local/lib/python3.10/dist-packages (1.0.2)\n",
            "Requirement already satisfied: numpy>=1.14.6 in /usr/local/lib/python3.10/dist-packages (from scikit-learn==1.0.2) (1.26.4)\n",
            "Requirement already satisfied: scipy>=1.1.0 in /usr/local/lib/python3.10/dist-packages (from scikit-learn==1.0.2) (1.13.1)\n",
            "Requirement already satisfied: joblib>=0.11 in /usr/local/lib/python3.10/dist-packages (from scikit-learn==1.0.2) (1.4.2)\n",
            "Requirement already satisfied: threadpoolctl>=2.0.0 in /usr/local/lib/python3.10/dist-packages (from scikit-learn==1.0.2) (3.5.0)\n",
            "Fold 1, Model XGBoost, Dataset Cooling, MAE: 2.6462, R²: 0.6911, Best Params: {'learning_rate': 0.1, 'max_depth': 9, 'n_estimators': 150, 'subsample': 0.8}\n",
            "Fold 2, Model XGBoost, Dataset Cooling, MAE: 2.1649, R²: 0.7814, Best Params: {'learning_rate': 0.1, 'max_depth': 6, 'n_estimators': 150, 'subsample': 0.8}\n",
            "Fold 3, Model XGBoost, Dataset Cooling, MAE: 1.9818, R²: 0.8410, Best Params: {'learning_rate': 0.1, 'max_depth': 9, 'n_estimators': 150, 'subsample': 0.8}\n",
            "Fold 4, Model XGBoost, Dataset Cooling, MAE: 2.2875, R²: 0.7630, Best Params: {'learning_rate': 0.1, 'max_depth': 9, 'n_estimators': 150, 'subsample': 0.8}\n",
            "Fold 5, Model XGBoost, Dataset Cooling, MAE: 2.1282, R²: 0.8167, Best Params: {'learning_rate': 0.1, 'max_depth': 6, 'n_estimators': 150, 'subsample': 0.8}\n",
            "\n",
            "Summary Results for XGBoost:\n",
            "     Model  Dataset       MAE        R²\n",
            "0  XGBoost  Cooling  2.241726  0.778636\n"
          ]
        }
      ],
      "source": [
        "!pip install pandas numpy scikit-learn xgboost\n",
        "!pip install scikit-learn==1.0.2\n",
        "from sklearn.model_selection import GridSearchCV\n",
        "from xgboost import XGBRegressor\n",
        "import pandas as pd\n",
        "from sklearn.metrics import mean_absolute_error, r2_score\n",
        "\n",
        "# Placeholder for storing results\n",
        "results_xgb = []\n",
        "experiment = 2  # Experiment number\n",
        "# Define hyperparameter grid for XGBoost\n",
        "param_grid_xgb = {\n",
        "    'n_estimators': [50, 100, 150],\n",
        "    'max_depth': [3, 6, 9],\n",
        "    'learning_rate': [0.01, 0.1, 0.2],\n",
        "    'subsample': [0.8, 1.0]\n",
        "}\n",
        "\n",
        "for i in range(1, 6):\n",
        "    # Load datasets\n",
        "    train_data = pd.read_csv(f'fold{i}_cooling_filtered_train_2024_data.csv')\n",
        "    test_data = pd.read_csv(f'fold{i}_cooling_filtered_test_2024_data.csv')\n",
        "\n",
        "    # Split features and target\n",
        "    X_train = train_data.drop(columns=['WH_RTU_Total'])\n",
        "    y_train = train_data['WH_RTU_Total']\n",
        "\n",
        "    # Initialize XGBoost and perform GridSearchCV\n",
        "    xgb = XGBRegressor(random_state=100)\n",
        "    grid_search_xgb = GridSearchCV(xgb, param_grid_xgb, cv=3, scoring='neg_mean_absolute_error', n_jobs=-1)\n",
        "    grid_search_xgb.fit(X_train, y_train)\n",
        "\n",
        "    # Get the best model and hyperparameters\n",
        "    best_xgb = grid_search_xgb.best_estimator_\n",
        "    best_params = grid_search_xgb.best_params_\n",
        "\n",
        "    # Split test features and target\n",
        "    X_test = test_data.drop(columns=['WH_RTU_Total'])\n",
        "    y_test = test_data['WH_RTU_Total']\n",
        "\n",
        "    # Predict and calculate metrics\n",
        "    y_pred = best_xgb.predict(X_test)\n",
        "    mae = mean_absolute_error(y_test, y_pred)\n",
        "    r2 = r2_score(y_test, y_pred)\n",
        "\n",
        "    # Store results\n",
        "    results_xgb.append({\n",
        "        'Fold': i,\n",
        "        'Seed': 2024,\n",
        "        'Model': 'XGBoost',\n",
        "        'Dataset': 'Cooling',\n",
        "        'MAE': mae,\n",
        "        'R²': r2,\n",
        "        'Best Params': best_params,\n",
        "        'Experiment' : experiment\n",
        "    })\n",
        "\n",
        "\n",
        "    print(f\"Fold {i}, Model XGBoost, Dataset Cooling, MAE: {mae:.4f}, R²: {r2:.4f}, Best Params: {best_params}\")\n",
        "\n",
        "# Convert results to DataFrame\n",
        "results_xgb_df = pd.DataFrame(results_xgb)\n",
        "\n",
        "# Save detailed results to CSV\n",
        "results_xgb_df.to_csv('xgboost_2024_cooling_hyperparameter_results_detailed.csv', index=False)\n",
        "\n",
        "# Display overall summary\n",
        "print(\"\\nSummary Results for XGBoost:\")\n",
        "summary_xgb = results_xgb_df.groupby(['Model', 'Dataset']).agg({'MAE': 'mean', 'R²': 'mean'}).reset_index()\n",
        "print(summary_xgb)\n",
        "\n",
        "# Save summary to CSV\n",
        "summary_xgb.to_csv('xgboost_2024_cooling_summary_results.csv', index=False)\n"
      ]
    },
    {
      "cell_type": "markdown",
      "metadata": {
        "id": "YtaO99LPmcDD"
      },
      "source": [
        "### Feature Importance"
      ]
    },
    {
      "cell_type": "code",
      "execution_count": null,
      "metadata": {
        "id": "blKCszcwmig1",
        "colab": {
          "base_uri": "https://localhost:8080/"
        },
        "outputId": "ba11fea2-6c7b-4df6-87bd-8c86e16a412c"
      },
      "outputs": [
        {
          "output_type": "stream",
          "name": "stdout",
          "text": [
            "Feature importance for seed 42 and experiment 2 has been successfully saved.\n"
          ]
        }
      ],
      "source": [
        "import pandas as pd\n",
        "from xgboost import XGBRegressor\n",
        "\n",
        "# Placeholder for feature importance results\n",
        "feature_importance_results = []\n",
        "\n",
        "\n",
        "experiment = 2  # Experiment number\n",
        "\n",
        "# Section 1: Calculate Feature Importance\n",
        "for fold in range(1, 6):\n",
        "    # Load training data\n",
        "    train_data = pd.read_csv(f'fold{fold}_cooling_filtered_train_2024_data.csv')\n",
        "    X_train = train_data.drop(columns=['WH_RTU_Total'])\n",
        "    y_train = train_data['WH_RTU_Total']\n",
        "\n",
        "    # Extract the best parameters from the results file\n",
        "    results_xgb_df = pd.read_csv('xgboost_2024_cooling_hyperparameter_results_detailed.csv')\n",
        "    best_params = results_xgb_df.loc[\n",
        "        (results_xgb_df['Fold'] == fold) & (results_xgb_df['Dataset'] == 'Cooling'),\n",
        "        'Best Params'\n",
        "    ].iloc[0]\n",
        "    best_params_dict = eval(best_params)  # Parse string into dictionary\n",
        "\n",
        "    # Initialize and train the model with the best parameters\n",
        "    best_xgb = XGBRegressor(random_state=100, **best_params_dict)\n",
        "    best_xgb.fit(X_train, y_train)\n",
        "\n",
        "    # Calculate feature importance\n",
        "    feature_importances = best_xgb.feature_importances_\n",
        "    feature_names = X_train.columns\n",
        "    importance_df = pd.DataFrame({\n",
        "        'Feature': feature_names,\n",
        "        'Importance': feature_importances,\n",
        "        'Fold': fold,\n",
        "        'Seed': 2024,  # Add seed column\n",
        "        'Model': 'XGBoost',\n",
        "        'Experiment': experiment  # Add experiment column\n",
        "    })\n",
        "    feature_importance_results.append(importance_df)\n",
        "\n",
        "# Combine all feature importance results\n",
        "feature_importance_combined = pd.concat(feature_importance_results, ignore_index=True)\n",
        "\n",
        "# Save the feature importance results to a file\n",
        "feature_importance_combined.to_csv(f'xgboost_2024_cooling_feature_importance_experiment_{experiment}.csv', index=False)\n",
        "\n",
        "print(f\"Feature importance for seed 2024 and experiment {experiment} has been successfully saved.\")"
      ]
    },
    {
      "cell_type": "markdown",
      "metadata": {
        "id": "vuaD1tI_mi9i"
      },
      "source": [
        "### Residual analysis"
      ]
    },
    {
      "cell_type": "code",
      "execution_count": null,
      "metadata": {
        "id": "noocNEDYmoB2",
        "colab": {
          "base_uri": "https://localhost:8080/"
        },
        "outputId": "22886812-d5e6-4122-afa5-04d8b478af20"
      },
      "outputs": [
        {
          "output_type": "stream",
          "name": "stdout",
          "text": [
            "Processed fold 1.\n",
            "Processed fold 2.\n",
            "Processed fold 3.\n",
            "Processed fold 4.\n",
            "Processed fold 5.\n",
            "All folds processed and merged data saved successfully to xgboost_42_cooling_residual.csv.\n"
          ]
        }
      ],
      "source": [
        "import pandas as pd\n",
        "from xgboost import XGBRegressor\n",
        "\n",
        "\n",
        "experiment = 2  # Experiment number\n",
        "merged_data = []  # Placeholder for storing final merged data\n",
        "\n",
        "# Loop through each fold\n",
        "for fold in range(1, 6):\n",
        "    # Load training data\n",
        "    train_data = pd.read_csv(f'fold{fold}_cooling_filtered_train_2024_data.csv')\n",
        "    X_train = train_data.drop(columns=['WH_RTU_Total'])\n",
        "    y_train = train_data['WH_RTU_Total']\n",
        "\n",
        "    # Load the best model parameters for the current fold\n",
        "    best_params_df = pd.read_csv('xgboost_2024_cooling_hyperparameter_results_detailed.csv')\n",
        "    best_params = best_params_df.loc[(best_params_df['Fold'] == fold) & (best_params_df['Dataset'] == 'Cooling'), 'Best Params'].iloc[0]\n",
        "    best_params_dict = eval(best_params)\n",
        "\n",
        "    # Train XGBoost model with best parameters\n",
        "    best_xgb = XGBRegressor(random_state=100, **best_params_dict)\n",
        "    best_xgb.fit(X_train, y_train)\n",
        "\n",
        "    # Load test data\n",
        "    test_data = pd.read_csv(f'fold{fold}_cooling_filtered_test_2024_data.csv')\n",
        "    test_data['Label'] = 'Cooling'  # Dynamically add label based on dataset type\n",
        "\n",
        "    # Split features and target\n",
        "    X_test = test_data.drop(columns=['WH_RTU_Total', 'Label'])\n",
        "    y_test = test_data['WH_RTU_Total']\n",
        "\n",
        "    # Predict and calculate residuals\n",
        "    y_pred = best_xgb.predict(X_test)\n",
        "    test_data['Predicted'] = y_pred\n",
        "    test_data['Residual'] = test_data['WH_RTU_Total'] - test_data['Predicted']\n",
        "\n",
        "    # Select and rename required columns\n",
        "    if 'T_out' in test_data.columns and 'RH_out' in test_data.columns:\n",
        "        selected_data = test_data[['WH_RTU_Total', 'Predicted', 'Residual', 'T_out', 'RH_out', 'Label']].rename(columns={\n",
        "            'WH_RTU_Total': 'Actual'\n",
        "        })\n",
        "    else:\n",
        "        missing_columns = [col for col in ['T_out', 'RH_out'] if col not in test_data.columns]\n",
        "        raise ValueError(f\"{', '.join(missing_columns)} is/are missing in test data for fold {fold}\")\n",
        "\n",
        "    # Add fold, seed, and model columns\n",
        "    selected_data['Fold'] = fold\n",
        "    selected_data['Seed'] = 2024\n",
        "    selected_data['Model'] = 'XGBoost'\n",
        "    selected_data['Experiment'] = experiment\n",
        "\n",
        "    # Append to final merged data\n",
        "    merged_data.append(selected_data)\n",
        "    print(f\"Processed fold {fold}.\")\n",
        "\n",
        "# Combine all folds into a single DataFrame\n",
        "merged_final_data = pd.concat(merged_data, ignore_index=True)\n",
        "\n",
        "# Save the merged data\n",
        "output_file = 'xgboost_2024_cooling_residual.csv'\n",
        "merged_final_data.to_csv(output_file, index=False)\n",
        "\n",
        "print(f\"All folds processed and merged data saved successfully to {output_file}.\")\n"
      ]
    },
    {
      "cell_type": "markdown",
      "metadata": {
        "id": "UsAc0-M4oAwU"
      },
      "source": [
        "## Stacking Regressor"
      ]
    },
    {
      "cell_type": "markdown",
      "metadata": {
        "id": "xaPrtDkupmxG"
      },
      "source": [
        "### hyper parameter tuning for cooling Stacking Regressor"
      ]
    },
    {
      "cell_type": "code",
      "execution_count": null,
      "metadata": {
        "id": "5OFl-su9pnko",
        "colab": {
          "base_uri": "https://localhost:8080/"
        },
        "outputId": "a58c59d4-e21f-4b99-ca87-471b086aa06c"
      },
      "outputs": [
        {
          "output_type": "stream",
          "name": "stdout",
          "text": [
            "Fold 1, Model Stacking Regressor, Dataset Cooling, MAE: 2.7825, R²: 0.6955, Best Params: {'final_estimator__fit_intercept': True, 'gb__learning_rate': 0.1, 'gb__max_depth': 6, 'rf__max_depth': 20, 'rf__n_estimators': 100}\n",
            "Fold 2, Model Stacking Regressor, Dataset Cooling, MAE: 2.2096, R²: 0.7816, Best Params: {'final_estimator__fit_intercept': True, 'gb__learning_rate': 0.1, 'gb__max_depth': 6, 'rf__max_depth': 10, 'rf__n_estimators': 100}\n",
            "Fold 3, Model Stacking Regressor, Dataset Cooling, MAE: 2.1008, R²: 0.8251, Best Params: {'final_estimator__fit_intercept': True, 'gb__learning_rate': 0.1, 'gb__max_depth': 6, 'rf__max_depth': 10, 'rf__n_estimators': 100}\n",
            "Fold 4, Model Stacking Regressor, Dataset Cooling, MAE: 2.2537, R²: 0.7683, Best Params: {'final_estimator__fit_intercept': False, 'gb__learning_rate': 0.1, 'gb__max_depth': 6, 'rf__max_depth': 10, 'rf__n_estimators': 100}\n",
            "Fold 5, Model Stacking Regressor, Dataset Cooling, MAE: 2.1195, R²: 0.8146, Best Params: {'final_estimator__fit_intercept': True, 'gb__learning_rate': 0.01, 'gb__max_depth': 3, 'rf__max_depth': 10, 'rf__n_estimators': 100}\n",
            "\n",
            "Summary Results for Stacking Regressor:\n",
            "                Model  Dataset       MAE        R²\n",
            "0  Stacking Regressor  Cooling  2.293209  0.777016\n"
          ]
        }
      ],
      "source": [
        "import pandas as pd\n",
        "from sklearn.model_selection import GridSearchCV\n",
        "from sklearn.ensemble import StackingRegressor\n",
        "from sklearn.linear_model import LinearRegression\n",
        "from sklearn.ensemble import RandomForestRegressor, GradientBoostingRegressor\n",
        "from sklearn.metrics import mean_absolute_error, r2_score\n",
        "\n",
        "# Placeholder for storing results\n",
        "results_stacking = []\n",
        "\n",
        "experiment = 2  # Experiment number\n",
        "# Define hyperparameter grid for Stacking Regressor\n",
        "param_grid_stacking = {\n",
        "    'final_estimator__fit_intercept': [True, False],  # Meta-model parameter (LinearRegression)\n",
        "    'rf__n_estimators': [50, 100],                   # Base model: Random Forest\n",
        "    'rf__max_depth': [10, 20],                       # Base model: Random Forest\n",
        "    'gb__learning_rate': [0.01, 0.1],                # Base model: Gradient Boosting\n",
        "    'gb__max_depth': [3, 6]                          # Base model: Gradient Boosting\n",
        "}\n",
        "\n",
        "for i in range(1, 6):\n",
        "    # Load datasets\n",
        "    train_data = pd.read_csv(f'fold{i}_cooling_filtered_train_2024_data.csv')\n",
        "    test_data = pd.read_csv(f'fold{i}_cooling_filtered_test_2024_data.csv')\n",
        "\n",
        "    # Split features and target\n",
        "    X_train = train_data.drop(columns=['WH_RTU_Total'])\n",
        "    y_train = train_data['WH_RTU_Total']\n",
        "\n",
        "    # Define base models and Stacking Regressor\n",
        "    base_models = [\n",
        "        ('rf', RandomForestRegressor(random_state=100)),\n",
        "        ('gb', GradientBoostingRegressor(random_state=100))\n",
        "    ]\n",
        "    meta_model = LinearRegression()\n",
        "    stacking = StackingRegressor(estimators=base_models, final_estimator=meta_model)\n",
        "\n",
        "    # Perform GridSearchCV on the Stacking Regressor\n",
        "    grid_search_stacking = GridSearchCV(stacking, param_grid_stacking, cv=3, scoring='neg_mean_absolute_error', n_jobs=-1)\n",
        "    grid_search_stacking.fit(X_train, y_train)\n",
        "\n",
        "    # Get the best model and hyperparameters\n",
        "    best_stacking = grid_search_stacking.best_estimator_\n",
        "    best_params = grid_search_stacking.best_params_\n",
        "\n",
        "    # Split test features and target\n",
        "    X_test = test_data.drop(columns=['WH_RTU_Total'])\n",
        "    y_test = test_data['WH_RTU_Total']\n",
        "\n",
        "    # Predict and calculate metrics\n",
        "    y_pred = best_stacking.predict(X_test)\n",
        "    mae = mean_absolute_error(y_test, y_pred)\n",
        "    r2 = r2_score(y_test, y_pred)\n",
        "\n",
        "    # Store results\n",
        "    results_stacking.append({\n",
        "        'Fold': i,\n",
        "        'Seed': 2024,\n",
        "        'Model': 'Stacking Regressor',\n",
        "        'Dataset': 'Cooling',\n",
        "        'MAE': mae,\n",
        "        'R²': r2,\n",
        "        'Best Params': best_params,\n",
        "        'Experiment': experiment\n",
        "    })\n",
        "\n",
        "    print(f\"Fold {i}, Model Stacking Regressor, Dataset Cooling, MAE: {mae:.4f}, R²: {r2:.4f}, Best Params: {best_params}\")\n",
        "\n",
        "# Convert results to DataFrame\n",
        "results_stacking_df = pd.DataFrame(results_stacking)\n",
        "\n",
        "# Save detailed results to CSV\n",
        "results_stacking_df.to_csv('stacking_2024_cooling_hyperparameter_results_detailed.csv', index=False)\n",
        "\n",
        "# Display overall summary\n",
        "print(\"\\nSummary Results for Stacking Regressor:\")\n",
        "summary_stacking = results_stacking_df.groupby(['Model', 'Dataset']).agg({'MAE': 'mean', 'R²': 'mean'}).reset_index()\n",
        "print(summary_stacking)\n",
        "\n",
        "# Save summary to CSV\n",
        "summary_stacking.to_csv('stacking_2024_cooling_summary_results.csv', index=False)\n"
      ]
    },
    {
      "cell_type": "markdown",
      "metadata": {
        "id": "ka0OE08_oJYW"
      },
      "source": [
        "### Feature Importance"
      ]
    },
    {
      "cell_type": "code",
      "execution_count": null,
      "metadata": {
        "id": "9xbNcEqToMGK",
        "colab": {
          "base_uri": "https://localhost:8080/"
        },
        "outputId": "c8008a81-1c13-45bd-bb4c-0e8a8fb6f76d"
      },
      "outputs": [
        {
          "output_type": "stream",
          "name": "stdout",
          "text": [
            "Feature importance for seed 42 and experiment 2 has been successfully saved.\n"
          ]
        }
      ],
      "source": [
        "import pandas as pd\n",
        "from sklearn.linear_model import LinearRegression\n",
        "from sklearn.ensemble import RandomForestRegressor, GradientBoostingRegressor, StackingRegressor\n",
        "\n",
        "# Placeholder for feature importance results\n",
        "feature_importance_results = []\n",
        "\n",
        "\n",
        "experiment = 2  # Experiment number\n",
        "\n",
        "# Section 1: Calculate Feature Importance\n",
        "for fold in range(1, 6):\n",
        "    # Load training data\n",
        "    train_data = pd.read_csv(f'fold{fold}_cooling_filtered_train_2024_data.csv')\n",
        "    X_train = train_data.drop(columns=['WH_RTU_Total'])\n",
        "    y_train = train_data['WH_RTU_Total']\n",
        "\n",
        "    # Extract the best parameters from the results file\n",
        "    results_stacking_df = pd.read_csv('stacking_2024_cooling_hyperparameter_results_detailed.csv')\n",
        "    best_params = results_stacking_df.loc[\n",
        "        (results_stacking_df['Fold'] == fold) & (results_stacking_df['Dataset'] == 'Cooling'),\n",
        "        'Best Params'\n",
        "    ].iloc[0]\n",
        "    best_params_dict = eval(best_params)  # Parse string into dictionary\n",
        "\n",
        "    # Define base models\n",
        "    base_models = [\n",
        "        ('rf', RandomForestRegressor(random_state=100, **{k.split('__')[1]: v for k, v in best_params_dict.items() if k.startswith('rf__')})),\n",
        "        ('gb', GradientBoostingRegressor(random_state=100, **{k.split('__')[1]: v for k, v in best_params_dict.items() if k.startswith('gb__')}))\n",
        "    ]\n",
        "    meta_model = LinearRegression(**{k.split('__')[1]: v for k, v in best_params_dict.items() if k.startswith('final_estimator__')})\n",
        "\n",
        "    # Define Stacking Regressor and fit the model\n",
        "    stacking = StackingRegressor(estimators=base_models, final_estimator=meta_model)\n",
        "    stacking.fit(X_train, y_train)\n",
        "\n",
        "    # Calculate feature importances from base models\n",
        "    for model_name, model in stacking.named_estimators_.items():\n",
        "        if hasattr(model, 'feature_importances_'):  # Check if the model supports feature importance\n",
        "            feature_importances = model.feature_importances_\n",
        "            feature_names = X_train.columns\n",
        "            importance_df = pd.DataFrame({\n",
        "                'Feature': feature_names,\n",
        "                'Importance': feature_importances,\n",
        "                'Model': model_name,\n",
        "                'Fold': fold,\n",
        "                'Seed': 2024,\n",
        "                'Experiment': experiment  # Add experiment column\n",
        "            })\n",
        "            feature_importance_results.append(importance_df)\n",
        "\n",
        "# Combine all feature importance results\n",
        "feature_importance_combined = pd.concat(feature_importance_results, ignore_index=True)\n",
        "\n",
        "# Save the feature importance results to a file\n",
        "feature_importance_combined.to_csv(f'stacking_2024_cooling_feature_importance_experiment_{experiment}.csv', index=False)\n",
        "\n",
        "print(f\"Feature importance for seed 2024 and experiment {experiment} has been successfully saved.\")"
      ]
    },
    {
      "cell_type": "markdown",
      "metadata": {
        "id": "LdlCtmVooMrS"
      },
      "source": [
        "### Residual Analysis"
      ]
    },
    {
      "cell_type": "code",
      "execution_count": null,
      "metadata": {
        "id": "pIzbglcNoPzd",
        "colab": {
          "base_uri": "https://localhost:8080/"
        },
        "outputId": "aab3cc85-41d0-4eef-bf62-0b8b9454bf53"
      },
      "outputs": [
        {
          "output_type": "stream",
          "name": "stdout",
          "text": [
            "Processed fold 1.\n",
            "Processed fold 2.\n",
            "Processed fold 3.\n",
            "Processed fold 4.\n",
            "Processed fold 5.\n",
            "All folds processed and merged data saved successfully to stacking_42_cooling_residual.csv.\n"
          ]
        }
      ],
      "source": [
        "import pandas as pd\n",
        "from sklearn.ensemble import StackingRegressor, RandomForestRegressor, GradientBoostingRegressor\n",
        "from sklearn.linear_model import LinearRegression\n",
        "\n",
        "\n",
        "experiment = 2  # Experiment number\n",
        "merged_data = []  # Placeholder for storing final merged data\n",
        "\n",
        "# Load the best model parameters for each fold\n",
        "best_params_df = pd.read_csv('stacking_2024_cooling_hyperparameter_results_detailed.csv')\n",
        "\n",
        "# Loop through each fold\n",
        "for fold in range(1, 6):\n",
        "    # Load training data\n",
        "    train_data = pd.read_csv(f'fold{fold}_cooling_filtered_train_2024_data.csv')\n",
        "    X_train = train_data.drop(columns=['WH_RTU_Total'])\n",
        "    y_train = train_data['WH_RTU_Total']\n",
        "\n",
        "    # Get the best parameters for the current fold\n",
        "    best_params = best_params_df.loc[best_params_df['Fold'] == fold, 'Best Params'].iloc[0]\n",
        "    best_params_dict = eval(best_params)\n",
        "\n",
        "    # Define base models and Stacking Regressor with best parameters\n",
        "    base_models = [\n",
        "        ('rf', RandomForestRegressor(random_state=100,\n",
        "                                     n_estimators=best_params_dict['rf__n_estimators'],\n",
        "                                     max_depth=best_params_dict['rf__max_depth'])),\n",
        "        ('gb', GradientBoostingRegressor(random_state=100,\n",
        "                                         learning_rate=best_params_dict['gb__learning_rate'],\n",
        "                                         max_depth=best_params_dict['gb__max_depth']))\n",
        "    ]\n",
        "    meta_model = LinearRegression(fit_intercept=best_params_dict['final_estimator__fit_intercept'])\n",
        "    best_stacking = StackingRegressor(estimators=base_models, final_estimator=meta_model)\n",
        "\n",
        "    # Train the Stacking Regressor\n",
        "    best_stacking.fit(X_train, y_train)\n",
        "\n",
        "    # Load test data\n",
        "    test_data = pd.read_csv(f'fold{fold}_cooling_filtered_test_2024_data.csv')\n",
        "    test_data['Label'] = 'Cooling'  # Dynamically add label based on dataset type\n",
        "\n",
        "    # Split features and target\n",
        "    X_test = test_data.drop(columns=['WH_RTU_Total', 'Label'])\n",
        "    y_test = test_data['WH_RTU_Total']\n",
        "\n",
        "    # Predict and calculate residuals\n",
        "    y_pred = best_stacking.predict(X_test)\n",
        "    test_data = test_data.reset_index(drop=True)  # Reset test_data index\n",
        "    y_pred_series = pd.Series(y_pred, index=test_data.index)  # Align y_pred with test_data index\n",
        "    test_data['Predicted'] = y_pred_series\n",
        "    test_data['Residual'] = test_data['WH_RTU_Total'] - test_data['Predicted']\n",
        "\n",
        "    # Select and rename required columns\n",
        "    if 'T_out' in test_data.columns and 'RH_out' in test_data.columns:\n",
        "        selected_data = test_data[['WH_RTU_Total', 'Predicted', 'Residual', 'T_out', 'RH_out', 'Label']].rename(columns={\n",
        "            'WH_RTU_Total': 'Actual'\n",
        "        })\n",
        "    else:\n",
        "        missing_columns = [col for col in ['T_out', 'RH_out'] if col not in test_data.columns]\n",
        "        raise ValueError(f\"{', '.join(missing_columns)} is/are missing in test data for fold {fold}\")\n",
        "\n",
        "    # Add fold, seed, and model columns\n",
        "    selected_data['Fold'] = fold\n",
        "    selected_data['Seed'] = 2024\n",
        "    selected_data['Model'] = 'StackingRegressor'\n",
        "    selected_data['Experiment'] = experiment\n",
        "\n",
        "    # Append to final merged data\n",
        "    merged_data.append(selected_data)\n",
        "    print(f\"Processed fold {fold}.\")\n",
        "\n",
        "# Combine all folds into a single DataFrame\n",
        "merged_final_data = pd.concat(merged_data, ignore_index=True)\n",
        "\n",
        "# Save the merged data\n",
        "output_file = 'stacking_2024_cooling_residual.csv'\n",
        "merged_final_data.to_csv(output_file, index=False)\n",
        "\n",
        "print(f\"All folds processed and merged data saved successfully to {output_file}.\")\n"
      ]
    },
    {
      "cell_type": "markdown",
      "metadata": {
        "id": "H4lVX_r2DINK"
      },
      "source": [
        "# heating Experiment"
      ]
    },
    {
      "cell_type": "markdown",
      "metadata": {
        "id": "-7bggNUkDINL"
      },
      "source": [
        "do the same model performance for heating data, first divide the heating data into 5 folds and generate differet training and testing groups"
      ]
    },
    {
      "cell_type": "code",
      "execution_count": null,
      "metadata": {
        "colab": {
          "base_uri": "https://localhost:8080/"
        },
        "outputId": "151cf2e0-4bf4-4a4e-f002-3b8fa124bec3",
        "id": "gJm_mW16DINL"
      },
      "outputs": [
        {
          "output_type": "stream",
          "name": "stdout",
          "text": [
            "Training and test data for 5 folds with seed 2024 have been generated and saved.\n"
          ]
        }
      ],
      "source": [
        "import pandas as pd\n",
        "from sklearn.model_selection import KFold\n",
        "\n",
        "# Load the combined data\n",
        "heating_data_with_interactions_2024 = pd.read_csv('heating_data_with_interactions_2024.csv')\n",
        "\n",
        "# Initialize KFold with 5 splits\n",
        "kf = KFold(n_splits=5, shuffle=True, random_state=2024)\n",
        "\n",
        "# Create storage for training and test data splits\n",
        "folds = []\n",
        "\n",
        "# Split the data into 5 folds\n",
        "for train_index, test_index in kf.split(heating_data_with_interactions_2024):\n",
        "    train_data = heating_data_with_interactions_2024.iloc[train_index]\n",
        "    test_data = heating_data_with_interactions_2024.iloc[test_index]\n",
        "    folds.append((train_data, test_data))\n",
        "\n",
        "# Save each training and test group as separate files\n",
        "for i, (train_data, test_data) in enumerate(folds):\n",
        "    train_data.to_csv(f'heating_train_2024_fold{i+1}.csv', index=False)\n",
        "    test_data.to_csv(f'heating_test_2024_fold{i+1}.csv', index=False)\n",
        "\n",
        "print(\"Training and test data for 5 folds with seed 2024 have been generated and saved.\")\n"
      ]
    },
    {
      "cell_type": "markdown",
      "metadata": {
        "id": "fyzy892oDINM"
      },
      "source": [
        "do the feature selection solely based on the training data"
      ]
    },
    {
      "cell_type": "code",
      "execution_count": null,
      "metadata": {
        "colab": {
          "base_uri": "https://localhost:8080/"
        },
        "outputId": "afd75467-3b63-4a48-b639-023122c6524e",
        "id": "KSVwRzwkDINM"
      },
      "outputs": [
        {
          "output_type": "stream",
          "name": "stdout",
          "text": [
            "Top 25 features for cooling fold 1 with seed 42 saved.\n",
            "Top 25 features for cooling fold 2 with seed 42 saved.\n",
            "Top 25 features for cooling fold 3 with seed 42 saved.\n",
            "Top 25 features for cooling fold 4 with seed 42 saved.\n",
            "Top 25 features for cooling fold 5 with seed 42 saved.\n"
          ]
        }
      ],
      "source": [
        "import pandas as pd\n",
        "from sklearn.ensemble import RandomForestRegressor\n",
        "\n",
        "# Function to perform feature selection\n",
        "def feature_selection(train_data, target_column, preselected_features, k=25):\n",
        "    # Separate features and target\n",
        "    X = train_data.drop(columns=[target_column, 'TIMESTAMP'], errors='ignore')  # Drop TIMESTAMP\n",
        "    y = train_data[target_column]\n",
        "\n",
        "    # Train a RandomForestRegressor model\n",
        "    rf_model = RandomForestRegressor(n_estimators=100, random_state=100)\n",
        "    rf_model.fit(X, y)\n",
        "\n",
        "    # Get feature names and their importance scores\n",
        "    feature_importances = rf_model.feature_importances_\n",
        "    feature_names = X.columns\n",
        "\n",
        "    # Combine feature names and scores into a DataFrame\n",
        "    selected_features = pd.DataFrame({\n",
        "        'Feature': feature_names,\n",
        "        'Importance': feature_importances\n",
        "    }).sort_values(by='Importance', ascending=False)\n",
        "\n",
        "    # Select the preselected features (label, T_out, RH_out)\n",
        "    preselected_df = selected_features[selected_features['Feature'].isin(preselected_features)]\n",
        "\n",
        "    # Select the remaining top features after excluding preselected ones\n",
        "    remaining_features = selected_features[~selected_features['Feature'].isin(preselected_features)]\n",
        "    top_remaining_features = remaining_features.head(k - len(preselected_features))\n",
        "\n",
        "    # Combine preselected features with the top remaining features\n",
        "    final_features = pd.concat([preselected_df, top_remaining_features])\n",
        "\n",
        "    return final_features\n",
        "\n",
        "# Perform feature selection for each fold\n",
        "target_column = 'WH_RTU_Total'\n",
        "preselected_features = ['label', 'T_out', 'RH_out']\n",
        "\n",
        "for i in range(1, 6):\n",
        "    train_data = pd.read_csv(f'heating_train_2024_fold{i}.csv')\n",
        "\n",
        "    # Perform feature selection\n",
        "    top_features = feature_selection(train_data, target_column, preselected_features, k=25)\n",
        "\n",
        "    # Save top features\n",
        "    top_features.to_csv(f'heating_train_2024_fold{i}_top25_features.csv', index=False)\n",
        "\n",
        "    print(f\"Top 25 features for heating fold {i} with seed 2024 saved.\")\n"
      ]
    },
    {
      "cell_type": "markdown",
      "metadata": {
        "id": "yAZBPdLUDINM"
      },
      "source": [
        "prepare the heating dataset's training and test data"
      ]
    },
    {
      "cell_type": "code",
      "execution_count": null,
      "metadata": {
        "colab": {
          "base_uri": "https://localhost:8080/"
        },
        "outputId": "f474bd85-aa7e-4004-8d9b-7d3b2c6f6dfa",
        "id": "QZkURa4dDINN"
      },
      "outputs": [
        {
          "output_type": "stream",
          "name": "stdout",
          "text": [
            "Filtered heating train data for fold 1 saved.\n",
            "Filtered heating test data for fold 1 saved.\n",
            "Filtered heating train data for fold 2 saved.\n",
            "Filtered heating test data for fold 2 saved.\n",
            "Filtered heating train data for fold 3 saved.\n",
            "Filtered heating test data for fold 3 saved.\n",
            "Filtered heating train data for fold 4 saved.\n",
            "Filtered heating test data for fold 4 saved.\n",
            "Filtered heating train data for fold 5 saved.\n",
            "Filtered heating test data for fold 5 saved.\n"
          ]
        }
      ],
      "source": [
        "import pandas as pd\n",
        "\n",
        "# Target variable\n",
        "target_column = 'WH_RTU_Total'\n",
        "\n",
        "for i in range(1, 6):\n",
        "    # Load the original training and test datasets for the current fold\n",
        "    train_data = pd.read_csv(f'heating_train_2024_fold{i}.csv')\n",
        "    test_data = pd.read_csv(f'heating_test_2024_fold{i}.csv')\n",
        "\n",
        "    # Load the top 25 features selected from the current fold\n",
        "    top_features = pd.read_csv(f'heating_train_2024_fold{i}_top25_features.csv')['Feature'].tolist()\n",
        "\n",
        "    # Ensure the target column is included in the selected features\n",
        "    filtered_columns = top_features + [target_column]  # Train data does not include 'label'\n",
        "\n",
        "    # Filter the training data\n",
        "    filtered_train_data = train_data[filtered_columns]\n",
        "    filtered_train_data.to_csv(f'fold{i}_heating_filtered_train_2024_data.csv', index=False)\n",
        "    print(f\"Filtered heating train data for fold {i} saved.\")\n",
        "\n",
        "    # Filter the test data (temporarily including 'label')\n",
        "    filtered_test_data = test_data[filtered_columns]\n",
        "\n",
        "    # Save all datasets\n",
        "    filtered_test_data.to_csv(f'fold{i}_heating_filtered_test_2024_data.csv', index=False)\n",
        "    print(f\"Filtered heating test data for fold {i} saved.\")\n",
        "\n"
      ]
    },
    {
      "cell_type": "markdown",
      "metadata": {
        "id": "IySI1Vf-DINN"
      },
      "source": [
        "generate the mae and R2 value for the four models:linear regression, random forest ,xgboost and stacking ensemble regressor."
      ]
    },
    {
      "cell_type": "code",
      "execution_count": null,
      "metadata": {
        "colab": {
          "base_uri": "https://localhost:8080/"
        },
        "outputId": "7dd62d2b-ce4f-4ba1-853c-2536b2e75638",
        "id": "8PSp7cFIDINN"
      },
      "outputs": [
        {
          "output_type": "stream",
          "name": "stdout",
          "text": [
            "Requirement already satisfied: pandas in /usr/local/lib/python3.10/dist-packages (2.2.2)\n",
            "Requirement already satisfied: numpy in /usr/local/lib/python3.10/dist-packages (1.26.4)\n",
            "Requirement already satisfied: scikit-learn in /usr/local/lib/python3.10/dist-packages (1.0.2)\n",
            "Requirement already satisfied: xgboost in /usr/local/lib/python3.10/dist-packages (2.1.3)\n",
            "Requirement already satisfied: python-dateutil>=2.8.2 in /usr/local/lib/python3.10/dist-packages (from pandas) (2.8.2)\n",
            "Requirement already satisfied: pytz>=2020.1 in /usr/local/lib/python3.10/dist-packages (from pandas) (2024.2)\n",
            "Requirement already satisfied: tzdata>=2022.7 in /usr/local/lib/python3.10/dist-packages (from pandas) (2024.2)\n",
            "Requirement already satisfied: scipy>=1.1.0 in /usr/local/lib/python3.10/dist-packages (from scikit-learn) (1.13.1)\n",
            "Requirement already satisfied: joblib>=0.11 in /usr/local/lib/python3.10/dist-packages (from scikit-learn) (1.4.2)\n",
            "Requirement already satisfied: threadpoolctl>=2.0.0 in /usr/local/lib/python3.10/dist-packages (from scikit-learn) (3.5.0)\n",
            "Requirement already satisfied: nvidia-nccl-cu12 in /usr/local/lib/python3.10/dist-packages (from xgboost) (2.23.4)\n",
            "Requirement already satisfied: six>=1.5 in /usr/local/lib/python3.10/dist-packages (from python-dateutil>=2.8.2->pandas) (1.17.0)\n",
            "Requirement already satisfied: scikit-learn==1.0.2 in /usr/local/lib/python3.10/dist-packages (1.0.2)\n",
            "Requirement already satisfied: numpy>=1.14.6 in /usr/local/lib/python3.10/dist-packages (from scikit-learn==1.0.2) (1.26.4)\n",
            "Requirement already satisfied: scipy>=1.1.0 in /usr/local/lib/python3.10/dist-packages (from scikit-learn==1.0.2) (1.13.1)\n",
            "Requirement already satisfied: joblib>=0.11 in /usr/local/lib/python3.10/dist-packages (from scikit-learn==1.0.2) (1.4.2)\n",
            "Requirement already satisfied: threadpoolctl>=2.0.0 in /usr/local/lib/python3.10/dist-packages (from scikit-learn==1.0.2) (3.5.0)\n",
            "Fold 1, Model Linear Regression, MAE: 5.1285, R²: 0.4158\n",
            "Fold 1, Model Random Forest, MAE: 2.8695, R²: 0.6677\n",
            "Fold 1, Model XGBoost, MAE: 2.7304, R²: 0.7010\n",
            "Fold 1, Model Stacking Regressor, MAE: 2.7941, R²: 0.7029\n",
            "Fold 2, Model Linear Regression, MAE: 4.6839, R²: 0.4979\n",
            "Fold 2, Model Random Forest, MAE: 2.2330, R²: 0.7723\n",
            "Fold 2, Model XGBoost, MAE: 2.3624, R²: 0.7604\n",
            "Fold 2, Model Stacking Regressor, MAE: 2.2203, R²: 0.7794\n",
            "Fold 3, Model Linear Regression, MAE: 4.7205, R²: 0.5362\n",
            "Fold 3, Model Random Forest, MAE: 2.1603, R²: 0.8138\n",
            "Fold 3, Model XGBoost, MAE: 2.1716, R²: 0.8179\n",
            "Fold 3, Model Stacking Regressor, MAE: 2.1324, R²: 0.8268\n",
            "Fold 4, Model Linear Regression, MAE: 4.7932, R²: 0.4408\n",
            "Fold 4, Model Random Forest, MAE: 2.2995, R²: 0.7602\n",
            "Fold 4, Model XGBoost, MAE: 2.3938, R²: 0.7565\n",
            "Fold 4, Model Stacking Regressor, MAE: 2.2701, R²: 0.7700\n",
            "Fold 5, Model Linear Regression, MAE: 4.7752, R²: 0.4710\n",
            "Fold 5, Model Random Forest, MAE: 2.1781, R²: 0.8128\n",
            "Fold 5, Model XGBoost, MAE: 2.2891, R²: 0.8029\n",
            "Fold 5, Model Stacking Regressor, MAE: 2.1684, R²: 0.8190\n",
            "\n",
            "Summary Results for All Models (Cooling Data):\n",
            "                         MAE        R²\n",
            "Model                                 \n",
            "Stacking Regressor  2.317051  0.779630\n",
            "Random Forest       2.348090  0.765360\n",
            "XGBoost             2.389459  0.767742\n",
            "Linear Regression   4.820272  0.472355\n"
          ]
        }
      ],
      "source": [
        "!pip install pandas numpy scikit-learn xgboost\n",
        "!pip install scikit-learn==1.0.2\n",
        "from sklearn.model_selection import GridSearchCV\n",
        "from xgboost import XGBRegressor\n",
        "import pandas as pd\n",
        "from sklearn.metrics import mean_absolute_error, r2_score\n",
        "from sklearn.ensemble import GradientBoostingRegressor\n",
        "import pandas as pd\n",
        "import numpy as np\n",
        "from sklearn.linear_model import LinearRegression\n",
        "from sklearn.ensemble import RandomForestRegressor\n",
        "from xgboost import XGBRegressor\n",
        "from sklearn.ensemble import StackingRegressor\n",
        "from sklearn.metrics import mean_absolute_error, r2_score\n",
        "# Placeholder for storing results\n",
        "results = []\n",
        "\n",
        "# Loop through each fold\n",
        "for i in range(1, 6):\n",
        "    # Load filtered training and test datasets for heating data\n",
        "    train_data = pd.read_csv(f'fold{i}_heating_filtered_train_2024_data.csv')\n",
        "    test_data = pd.read_csv(f'fold{i}_heating_filtered_test_2024_data.csv')\n",
        "\n",
        "    # Separate features and target for training and testing data\n",
        "    target_column = 'WH_RTU_Total'\n",
        "    X_train = train_data.drop(columns=[target_column])\n",
        "    y_train = train_data[target_column]\n",
        "    X_test = test_data.drop(columns=[target_column])\n",
        "    y_test = test_data[target_column]\n",
        "\n",
        "    # Define models with default parameters\n",
        "    models = {\n",
        "        'Linear Regression': LinearRegression(),\n",
        "        'Random Forest': RandomForestRegressor(random_state=100),\n",
        "        'XGBoost': XGBRegressor(random_state=100),\n",
        "        'Stacking Regressor': StackingRegressor(\n",
        "            estimators=[\n",
        "                ('lr', LinearRegression()),\n",
        "                ('rf', RandomForestRegressor(random_state=100)),\n",
        "                ('xgb', XGBRegressor(random_state=100))\n",
        "            ]\n",
        "        )\n",
        "    }\n",
        "\n",
        "    # Train and evaluate each model\n",
        "    for model_name, model in models.items():\n",
        "        # Train model\n",
        "        model.fit(X_train, y_train)\n",
        "\n",
        "        # Predict on test data\n",
        "        y_pred = model.predict(X_test)\n",
        "\n",
        "        # Calculate MAE and R²\n",
        "        mae = mean_absolute_error(y_test, y_pred)\n",
        "        r2 = r2_score(y_test, y_pred)\n",
        "\n",
        "        # Store results\n",
        "        results.append({\n",
        "            'Fold': i,\n",
        "            'Seed': 2024,\n",
        "            'Model': model_name,\n",
        "            'Dataset': 'heating',\n",
        "            'MAE': mae,\n",
        "            'R²': r2,\n",
        "            'Experiment':2\n",
        "        })\n",
        "\n",
        "        print(f\"Fold {i}, Model {model_name}, MAE: {mae:.4f}, R²: {r2:.4f}\")\n",
        "\n",
        "# Convert results to a DataFrame\n",
        "results_df = pd.DataFrame(results)\n",
        "\n",
        "# Save results to CSV\n",
        "results_df.to_csv('heating_data_results_mae_r2.csv', index=False)\n",
        "\n",
        "# Display overall summary\n",
        "print(\"\\nSummary Results for All Models (heating Data):\")\n",
        "summary = results_df.groupby('Model').agg({'MAE': 'mean', 'R²': 'mean'}).sort_values(by='MAE')\n",
        "print(summary)\n"
      ]
    },
    {
      "cell_type": "markdown",
      "metadata": {
        "id": "qy6WhflKDINO"
      },
      "source": [
        "## Random Forest"
      ]
    },
    {
      "cell_type": "markdown",
      "metadata": {
        "id": "1XPjaG54DINO"
      },
      "source": [
        "### hyper parameter tuning for heating random forest"
      ]
    },
    {
      "cell_type": "code",
      "execution_count": null,
      "metadata": {
        "colab": {
          "base_uri": "https://localhost:8080/"
        },
        "outputId": "53e1df05-be63-4bb3-8cfd-4f1b96c02391",
        "id": "GFCxCmRdDINO"
      },
      "outputs": [
        {
          "output_type": "stream",
          "name": "stdout",
          "text": [
            "Fold 1, Model Random Forest, Dataset Cooling, MAE: 2.8370, R²: 0.6721, Best Params: {'max_depth': 20, 'min_samples_split': 2, 'n_estimators': 150}\n",
            "Fold 2, Model Random Forest, Dataset Cooling, MAE: 2.2280, R²: 0.7719, Best Params: {'max_depth': None, 'min_samples_split': 5, 'n_estimators': 150}\n",
            "Fold 3, Model Random Forest, Dataset Cooling, MAE: 2.1651, R²: 0.8123, Best Params: {'max_depth': 10, 'min_samples_split': 2, 'n_estimators': 150}\n",
            "Fold 4, Model Random Forest, Dataset Cooling, MAE: 2.3034, R²: 0.7583, Best Params: {'max_depth': 10, 'min_samples_split': 2, 'n_estimators': 150}\n",
            "Fold 5, Model Random Forest, Dataset Cooling, MAE: 2.1723, R²: 0.8089, Best Params: {'max_depth': 10, 'min_samples_split': 2, 'n_estimators': 150}\n",
            "\n",
            "Summary Results for Random Forest:\n",
            "           Model  Dataset      MAE        R²\n",
            "0  Random Forest  Cooling  2.34115  0.764705\n"
          ]
        }
      ],
      "source": [
        "import pandas as pd\n",
        "from sklearn.model_selection import GridSearchCV\n",
        "from sklearn.ensemble import RandomForestRegressor\n",
        "from sklearn.metrics import mean_absolute_error, r2_score\n",
        "\n",
        "# Placeholder for storing results\n",
        "results_rf = []\n",
        "\n",
        "# Define hyperparameter grid for Random Forest\n",
        "param_grid_rf = {\n",
        "    'n_estimators': [50, 100, 150],\n",
        "    'max_depth': [10, 20, None],\n",
        "    'min_samples_split': [2, 5, 10],\n",
        "}\n",
        "\n",
        "for i in range(1, 6):\n",
        "    # Load datasets\n",
        "    train_data = pd.read_csv(f'fold{i}_heating_filtered_train_2024_data.csv')\n",
        "    test_data = pd.read_csv(f'fold{i}_heating_filtered_test_2024_data.csv')\n",
        "\n",
        "    # Split features and target\n",
        "    X_train = train_data.drop(columns=['WH_RTU_Total'])\n",
        "    y_train = train_data['WH_RTU_Total']\n",
        "\n",
        "    # Initialize Random Forest and perform GridSearchCV\n",
        "    rf = RandomForestRegressor(random_state=100)\n",
        "    grid_search_rf = GridSearchCV(rf, param_grid_rf, cv=3, scoring='neg_mean_absolute_error', n_jobs=-1)\n",
        "    grid_search_rf.fit(X_train, y_train)\n",
        "\n",
        "    # Get the best model and hyperparameters\n",
        "    best_rf = grid_search_rf.best_estimator_\n",
        "    best_params = grid_search_rf.best_params_\n",
        "\n",
        "    # Split test features and target\n",
        "    X_test = test_data.drop(columns=['WH_RTU_Total'])\n",
        "    y_test = test_data['WH_RTU_Total']\n",
        "\n",
        "    # Predict and calculate metrics\n",
        "    y_pred = best_rf.predict(X_test)\n",
        "    mae = mean_absolute_error(y_test, y_pred)\n",
        "    r2 = r2_score(y_test, y_pred)\n",
        "\n",
        "    # Store results\n",
        "    results_rf.append({\n",
        "        'Fold': i,\n",
        "        'Seed':2024,\n",
        "        'Model': 'Random Forest',\n",
        "        'Dataset': 'heating',\n",
        "        'MAE': mae,\n",
        "        'R²': r2,\n",
        "        'Best Params': best_params,\n",
        "        'Experiment': 2\n",
        "    })\n",
        "\n",
        "    print(f\"Fold {i}, Model Random Forest, Dataset heating, MAE: {mae:.4f}, R²: {r2:.4f}, Best Params: {best_params}\")\n",
        "\n",
        "# Convert results to DataFrame\n",
        "results_rf_df = pd.DataFrame(results_rf)\n",
        "\n",
        "# Save detailed results to CSV\n",
        "results_rf_df.to_csv('random_forest_2024_heating_hyperparameter_results_detailed.csv', index=False)\n",
        "\n",
        "# Display overall summary\n",
        "print(\"\\nSummary Results for Random Forest:\")\n",
        "summary_rf = results_rf_df.groupby(['Model', 'Dataset']).agg({'MAE': 'mean', 'R²': 'mean'}).reset_index()\n",
        "print(summary_rf)\n",
        "\n",
        "# Save summary to CSV\n",
        "summary_rf.to_csv('random_forest_2024_heating_summary_results.csv', index=False)\n"
      ]
    },
    {
      "cell_type": "markdown",
      "metadata": {
        "id": "WTliZY-SDINO"
      },
      "source": [
        "### Feature Importance for Random Forest"
      ]
    },
    {
      "cell_type": "code",
      "execution_count": null,
      "metadata": {
        "colab": {
          "base_uri": "https://localhost:8080/"
        },
        "outputId": "13c07570-0876-45f9-db45-b0b16a872a5f",
        "id": "ERasBc1IDINP"
      },
      "outputs": [
        {
          "output_type": "stream",
          "name": "stdout",
          "text": [
            "Feature importance for seed 42 and experiment 2 has been successfully saved.\n"
          ]
        }
      ],
      "source": [
        "import pandas as pd\n",
        "from sklearn.ensemble import RandomForestRegressor\n",
        "\n",
        "# Placeholder for feature importance results\n",
        "feature_importance_results = []\n",
        "\n",
        "# Fixed seed value\n",
        "\n",
        "experiment = 2  # Experiment number\n",
        "\n",
        "# Section 1: Calculate Feature Importance\n",
        "for fold in range(1, 6):\n",
        "    # Load training data\n",
        "    train_data = pd.read_csv(f'fold{fold}_heating_filtered_train_2024_data.csv')\n",
        "    X_train = train_data.drop(columns=['WH_RTU_Total'])\n",
        "    y_train = train_data['WH_RTU_Total']\n",
        "\n",
        "    # Load the best model parameters for the current fold\n",
        "    results_rf_df = pd.read_csv('random_forest_2024_heating_hyperparameter_results_detailed.csv')\n",
        "    best_params = results_rf_df.loc[(results_rf_df['Fold'] == fold) & (results_rf_df['Dataset'] == 'heating'), 'Best Params'].iloc[0]\n",
        "    best_params_dict = eval(best_params)\n",
        "\n",
        "    # Train Random Forest model with best parameters\n",
        "    best_rf = RandomForestRegressor(random_state=100, **best_params_dict)\n",
        "    best_rf.fit(X_train, y_train)\n",
        "\n",
        "    # Calculate feature importance\n",
        "    feature_importances = best_rf.feature_importances_\n",
        "    feature_names = X_train.columns\n",
        "    importance_df = pd.DataFrame({\n",
        "        'Feature': feature_names,\n",
        "        'Importance': feature_importances,\n",
        "        'Fold': fold,\n",
        "        'Seed': 2024,  # Add seed column\n",
        "        'Model': 'Random Forest',\n",
        "        'Experiment': experiment  # Add experiment column\n",
        "    })\n",
        "    feature_importance_results.append(importance_df)\n",
        "\n",
        "# Combine and save feature importance results\n",
        "feature_importance_combined = pd.concat(feature_importance_results, ignore_index=True)\n",
        "feature_importance_combined.to_csv(f'random_forest_2024_heating_feature_importance_experiment_{experiment}.csv', index=False)\n",
        "\n",
        "print(f\"Feature importance for seed 2024 and experiment {experiment} has been successfully saved.\")"
      ]
    },
    {
      "cell_type": "markdown",
      "metadata": {
        "id": "0pVfvqX8DINP"
      },
      "source": [
        "### residual，predict，label，T_OUT and RH_OUT"
      ]
    },
    {
      "cell_type": "code",
      "execution_count": null,
      "metadata": {
        "colab": {
          "base_uri": "https://localhost:8080/"
        },
        "outputId": "61638b78-bc6b-463b-87e5-987d63314ecf",
        "id": "WiVDDnlWDINP"
      },
      "outputs": [
        {
          "output_type": "stream",
          "name": "stdout",
          "text": [
            "Processed fold 1.\n",
            "Processed fold 2.\n",
            "Processed fold 3.\n",
            "Processed fold 4.\n",
            "Processed fold 5.\n",
            "All folds processed and merged data saved successfully to random_forest_42_cooling_residual.csv.\n"
          ]
        }
      ],
      "source": [
        "import pandas as pd\n",
        "from sklearn.ensemble import RandomForestRegressor\n",
        "\n",
        "# Fixed seed value\n",
        "\n",
        "experiment = 2  # Experiment number\n",
        "merged_data = []  # Placeholder for storing final merged data\n",
        "\n",
        "# Loop through each fold\n",
        "for fold in range(1, 6):\n",
        "    # Load training data\n",
        "    train_data = pd.read_csv(f'fold{fold}_heating_filtered_train_2024_data.csv')\n",
        "    X_train = train_data.drop(columns=['WH_RTU_Total'])\n",
        "    y_train = train_data['WH_RTU_Total']\n",
        "\n",
        "    # Load the best model parameters for the current fold\n",
        "    best_params_df = pd.read_csv('random_forest_2024_heating_hyperparameter_results_detailed.csv')\n",
        "    best_params = best_params_df.loc[(best_params_df['Fold'] == fold) & (best_params_df['Dataset'] == 'heating'), 'Best Params'].iloc[0]\n",
        "    best_params_dict = eval(best_params)\n",
        "\n",
        "    # Train Random Forest model with best parameters\n",
        "    best_rf = RandomForestRegressor(random_state=100, **best_params_dict)\n",
        "    best_rf.fit(X_train, y_train)\n",
        "\n",
        "    # Load test data\n",
        "    test_data = pd.read_csv(f'fold{fold}_heating_filtered_test_2024_data.csv')\n",
        "    test_data['Label'] = 'heating'  # Dynamically add label based on dataset type\n",
        "\n",
        "    # Split features and target\n",
        "    X_test = test_data.drop(columns=['WH_RTU_Total', 'Label'])\n",
        "    y_test = test_data['WH_RTU_Total']\n",
        "\n",
        "    # Predict and calculate residuals\n",
        "    y_pred = best_rf.predict(X_test)\n",
        "    test_data['Predicted'] = y_pred\n",
        "    test_data['Residual'] = test_data['WH_RTU_Total'] - test_data['Predicted']\n",
        "\n",
        "    # Select and rename required columns\n",
        "    if 'T_out' in test_data.columns and 'RH_out' in test_data.columns:\n",
        "        selected_data = test_data[['WH_RTU_Total', 'Predicted', 'Residual', 'T_out', 'RH_out', 'Label']].rename(columns={\n",
        "            'WH_RTU_Total': 'Actual'\n",
        "        })\n",
        "    else:\n",
        "        missing_columns = [col for col in ['T_out', 'RH_out'] if col not in test_data.columns]\n",
        "        raise ValueError(f\"{', '.join(missing_columns)} is/are missing in test data for fold {fold}\")\n",
        "\n",
        "    # Add fold, seed, and model columns\n",
        "    selected_data['Fold'] = fold\n",
        "    selected_data['Seed'] = 2024\n",
        "    selected_data['Model'] = 'Random Forest'\n",
        "    selected_data['Experiment'] = experiment\n",
        "\n",
        "    # Append to final merged data\n",
        "    merged_data.append(selected_data)\n",
        "    print(f\"Processed fold {fold}.\")\n",
        "\n",
        "# Combine all folds into a single DataFrame\n",
        "merged_final_data = pd.concat(merged_data, ignore_index=True)\n",
        "\n",
        "# Save the merged data\n",
        "output_file = 'random_forest_2024_heating_residual.csv'\n",
        "merged_final_data.to_csv(output_file, index=False)\n",
        "\n",
        "print(f\"All folds processed and merged data saved successfully to {output_file}.\")\n"
      ]
    },
    {
      "cell_type": "markdown",
      "metadata": {
        "id": "cOcVzSHRDINR"
      },
      "source": [
        "## XGBOOST"
      ]
    },
    {
      "cell_type": "markdown",
      "metadata": {
        "id": "ULBJXELeDINR"
      },
      "source": [
        "### hyper parameter tuning for heating XGBoost"
      ]
    },
    {
      "cell_type": "code",
      "execution_count": null,
      "metadata": {
        "colab": {
          "base_uri": "https://localhost:8080/"
        },
        "outputId": "bb9014e0-1084-4cce-b4b0-b92396553b12",
        "id": "Om7L9LdsDINS"
      },
      "outputs": [
        {
          "output_type": "stream",
          "name": "stdout",
          "text": [
            "Requirement already satisfied: pandas in /usr/local/lib/python3.10/dist-packages (2.2.2)\n",
            "Requirement already satisfied: numpy in /usr/local/lib/python3.10/dist-packages (1.26.4)\n",
            "Requirement already satisfied: scikit-learn in /usr/local/lib/python3.10/dist-packages (1.0.2)\n",
            "Requirement already satisfied: xgboost in /usr/local/lib/python3.10/dist-packages (2.1.3)\n",
            "Requirement already satisfied: python-dateutil>=2.8.2 in /usr/local/lib/python3.10/dist-packages (from pandas) (2.8.2)\n",
            "Requirement already satisfied: pytz>=2020.1 in /usr/local/lib/python3.10/dist-packages (from pandas) (2024.2)\n",
            "Requirement already satisfied: tzdata>=2022.7 in /usr/local/lib/python3.10/dist-packages (from pandas) (2024.2)\n",
            "Requirement already satisfied: scipy>=1.1.0 in /usr/local/lib/python3.10/dist-packages (from scikit-learn) (1.13.1)\n",
            "Requirement already satisfied: joblib>=0.11 in /usr/local/lib/python3.10/dist-packages (from scikit-learn) (1.4.2)\n",
            "Requirement already satisfied: threadpoolctl>=2.0.0 in /usr/local/lib/python3.10/dist-packages (from scikit-learn) (3.5.0)\n",
            "Requirement already satisfied: nvidia-nccl-cu12 in /usr/local/lib/python3.10/dist-packages (from xgboost) (2.23.4)\n",
            "Requirement already satisfied: six>=1.5 in /usr/local/lib/python3.10/dist-packages (from python-dateutil>=2.8.2->pandas) (1.17.0)\n",
            "Requirement already satisfied: scikit-learn==1.0.2 in /usr/local/lib/python3.10/dist-packages (1.0.2)\n",
            "Requirement already satisfied: numpy>=1.14.6 in /usr/local/lib/python3.10/dist-packages (from scikit-learn==1.0.2) (1.26.4)\n",
            "Requirement already satisfied: scipy>=1.1.0 in /usr/local/lib/python3.10/dist-packages (from scikit-learn==1.0.2) (1.13.1)\n",
            "Requirement already satisfied: joblib>=0.11 in /usr/local/lib/python3.10/dist-packages (from scikit-learn==1.0.2) (1.4.2)\n",
            "Requirement already satisfied: threadpoolctl>=2.0.0 in /usr/local/lib/python3.10/dist-packages (from scikit-learn==1.0.2) (3.5.0)\n",
            "Fold 1, Model XGBoost, Dataset Cooling, MAE: 2.6462, R²: 0.6911, Best Params: {'learning_rate': 0.1, 'max_depth': 9, 'n_estimators': 150, 'subsample': 0.8}\n",
            "Fold 2, Model XGBoost, Dataset Cooling, MAE: 2.1649, R²: 0.7814, Best Params: {'learning_rate': 0.1, 'max_depth': 6, 'n_estimators': 150, 'subsample': 0.8}\n",
            "Fold 3, Model XGBoost, Dataset Cooling, MAE: 1.9818, R²: 0.8410, Best Params: {'learning_rate': 0.1, 'max_depth': 9, 'n_estimators': 150, 'subsample': 0.8}\n",
            "Fold 4, Model XGBoost, Dataset Cooling, MAE: 2.2875, R²: 0.7630, Best Params: {'learning_rate': 0.1, 'max_depth': 9, 'n_estimators': 150, 'subsample': 0.8}\n",
            "Fold 5, Model XGBoost, Dataset Cooling, MAE: 2.1282, R²: 0.8167, Best Params: {'learning_rate': 0.1, 'max_depth': 6, 'n_estimators': 150, 'subsample': 0.8}\n",
            "\n",
            "Summary Results for XGBoost:\n",
            "     Model  Dataset       MAE        R²\n",
            "0  XGBoost  Cooling  2.241726  0.778636\n"
          ]
        }
      ],
      "source": [
        "!pip install pandas numpy scikit-learn xgboost\n",
        "!pip install scikit-learn==1.0.2\n",
        "from sklearn.model_selection import GridSearchCV\n",
        "from xgboost import XGBRegressor\n",
        "import pandas as pd\n",
        "from sklearn.metrics import mean_absolute_error, r2_score\n",
        "\n",
        "# Placeholder for storing results\n",
        "results_xgb = []\n",
        "experiment = 2  # Experiment number\n",
        "# Define hyperparameter grid for XGBoost\n",
        "param_grid_xgb = {\n",
        "    'n_estimators': [50, 100, 150],\n",
        "    'max_depth': [3, 6, 9],\n",
        "    'learning_rate': [0.01, 0.1, 0.2],\n",
        "    'subsample': [0.8, 1.0]\n",
        "}\n",
        "\n",
        "for i in range(1, 6):\n",
        "    # Load datasets\n",
        "    train_data = pd.read_csv(f'fold{i}_heating_filtered_train_2024_data.csv')\n",
        "    test_data = pd.read_csv(f'fold{i}_heating_filtered_test_2024_data.csv')\n",
        "\n",
        "    # Split features and target\n",
        "    X_train = train_data.drop(columns=['WH_RTU_Total'])\n",
        "    y_train = train_data['WH_RTU_Total']\n",
        "\n",
        "    # Initialize XGBoost and perform GridSearchCV\n",
        "    xgb = XGBRegressor(random_state=100)\n",
        "    grid_search_xgb = GridSearchCV(xgb, param_grid_xgb, cv=3, scoring='neg_mean_absolute_error', n_jobs=-1)\n",
        "    grid_search_xgb.fit(X_train, y_train)\n",
        "\n",
        "    # Get the best model and hyperparameters\n",
        "    best_xgb = grid_search_xgb.best_estimator_\n",
        "    best_params = grid_search_xgb.best_params_\n",
        "\n",
        "    # Split test features and target\n",
        "    X_test = test_data.drop(columns=['WH_RTU_Total'])\n",
        "    y_test = test_data['WH_RTU_Total']\n",
        "\n",
        "    # Predict and calculate metrics\n",
        "    y_pred = best_xgb.predict(X_test)\n",
        "    mae = mean_absolute_error(y_test, y_pred)\n",
        "    r2 = r2_score(y_test, y_pred)\n",
        "\n",
        "    # Store results\n",
        "    results_xgb.append({\n",
        "        'Fold': i,\n",
        "        'Seed': 2024,\n",
        "        'Model': 'XGBoost',\n",
        "        'Dataset': 'heating',\n",
        "        'MAE': mae,\n",
        "        'R²': r2,\n",
        "        'Best Params': best_params,\n",
        "        'Experiment' : experiment\n",
        "    })\n",
        "\n",
        "\n",
        "    print(f\"Fold {i}, Model XGBoost, Dataset heating, MAE: {mae:.4f}, R²: {r2:.4f}, Best Params: {best_params}\")\n",
        "\n",
        "# Convert results to DataFrame\n",
        "results_xgb_df = pd.DataFrame(results_xgb)\n",
        "\n",
        "# Save detailed results to CSV\n",
        "results_xgb_df.to_csv('xgboost_2024_heating_hyperparameter_results_detailed.csv', index=False)\n",
        "\n",
        "# Display overall summary\n",
        "print(\"\\nSummary Results for XGBoost:\")\n",
        "summary_xgb = results_xgb_df.groupby(['Model', 'Dataset']).agg({'MAE': 'mean', 'R²': 'mean'}).reset_index()\n",
        "print(summary_xgb)\n",
        "\n",
        "# Save summary to CSV\n",
        "summary_xgb.to_csv('xgboost_2024_heating_summary_results.csv', index=False)\n"
      ]
    },
    {
      "cell_type": "markdown",
      "metadata": {
        "id": "5w2EzdepDINS"
      },
      "source": [
        "### Feature Importance"
      ]
    },
    {
      "cell_type": "code",
      "execution_count": null,
      "metadata": {
        "colab": {
          "base_uri": "https://localhost:8080/"
        },
        "outputId": "ba11fea2-6c7b-4df6-87bd-8c86e16a412c",
        "id": "lBTi3ADMDINT"
      },
      "outputs": [
        {
          "output_type": "stream",
          "name": "stdout",
          "text": [
            "Feature importance for seed 42 and experiment 2 has been successfully saved.\n"
          ]
        }
      ],
      "source": [
        "import pandas as pd\n",
        "from xgboost import XGBRegressor\n",
        "\n",
        "# Placeholder for feature importance results\n",
        "feature_importance_results = []\n",
        "\n",
        "# Fixed random seed\n",
        "\n",
        "experiment = 2  # Experiment number\n",
        "\n",
        "# Section 1: Calculate Feature Importance\n",
        "for fold in range(1, 6):\n",
        "    # Load training data\n",
        "    train_data = pd.read_csv(f'fold{fold}_heating_filtered_train_2024_data.csv')\n",
        "    X_train = train_data.drop(columns=['WH_RTU_Total'])\n",
        "    y_train = train_data['WH_RTU_Total']\n",
        "\n",
        "    # Extract the best parameters from the results file\n",
        "    results_xgb_df = pd.read_csv('xgboost_2024_heating_hyperparameter_results_detailed.csv')\n",
        "    best_params = results_xgb_df.loc[\n",
        "        (results_xgb_df['Fold'] == fold) & (results_xgb_df['Dataset'] == 'heating'),\n",
        "        'Best Params'\n",
        "    ].iloc[0]\n",
        "    best_params_dict = eval(best_params)  # Parse string into dictionary\n",
        "\n",
        "    # Initialize and train the model with the best parameters\n",
        "    best_xgb = XGBRegressor(random_state=100, **best_params_dict)\n",
        "    best_xgb.fit(X_train, y_train)\n",
        "\n",
        "    # Calculate feature importance\n",
        "    feature_importances = best_xgb.feature_importances_\n",
        "    feature_names = X_train.columns\n",
        "    importance_df = pd.DataFrame({\n",
        "        'Feature': feature_names,\n",
        "        'Importance': feature_importances,\n",
        "        'Fold': fold,\n",
        "        'Seed': 2024,  # Add seed column\n",
        "        'Model': 'XGBoost',\n",
        "        'Experiment': experiment  # Add experiment column\n",
        "    })\n",
        "    feature_importance_results.append(importance_df)\n",
        "\n",
        "# Combine all feature importance results\n",
        "feature_importance_combined = pd.concat(feature_importance_results, ignore_index=True)\n",
        "\n",
        "# Save the feature importance results to a file\n",
        "feature_importance_combined.to_csv(f'xgboost_2024_heating_feature_importance_experiment_{experiment}.csv', index=False)\n",
        "\n",
        "print(f\"Feature importance for seed 2024 and experiment {experiment} has been successfully saved.\")"
      ]
    },
    {
      "cell_type": "markdown",
      "metadata": {
        "id": "Mtk1rEMvDINT"
      },
      "source": [
        "### Residual analysis"
      ]
    },
    {
      "cell_type": "code",
      "execution_count": null,
      "metadata": {
        "colab": {
          "base_uri": "https://localhost:8080/"
        },
        "outputId": "22886812-d5e6-4122-afa5-04d8b478af20",
        "id": "SWkU7sHkDINT"
      },
      "outputs": [
        {
          "output_type": "stream",
          "name": "stdout",
          "text": [
            "Processed fold 1.\n",
            "Processed fold 2.\n",
            "Processed fold 3.\n",
            "Processed fold 4.\n",
            "Processed fold 5.\n",
            "All folds processed and merged data saved successfully to xgboost_42_cooling_residual.csv.\n"
          ]
        }
      ],
      "source": [
        "import pandas as pd\n",
        "from xgboost import XGBRegressor\n",
        "\n",
        "\n",
        "experiment = 2  # Experiment number\n",
        "merged_data = []  # Placeholder for storing final merged data\n",
        "\n",
        "# Loop through each fold\n",
        "for fold in range(1, 6):\n",
        "    # Load training data\n",
        "    train_data = pd.read_csv(f'fold{fold}_heating_filtered_train_2024_data.csv')\n",
        "    X_train = train_data.drop(columns=['WH_RTU_Total'])\n",
        "    y_train = train_data['WH_RTU_Total']\n",
        "\n",
        "    # Load the best model parameters for the current fold\n",
        "    best_params_df = pd.read_csv('xgboost_2024_heating_hyperparameter_results_detailed.csv')\n",
        "    best_params = best_params_df.loc[(best_params_df['Fold'] == fold) & (best_params_df['Dataset'] == 'heating'), 'Best Params'].iloc[0]\n",
        "    best_params_dict = eval(best_params)\n",
        "\n",
        "    # Train XGBoost model with best parameters\n",
        "    best_xgb = XGBRegressor(random_state=100, **best_params_dict)\n",
        "    best_xgb.fit(X_train, y_train)\n",
        "\n",
        "    # Load test data\n",
        "    test_data = pd.read_csv(f'fold{fold}_heating_filtered_test_2024_data.csv')\n",
        "    test_data['Label'] = 'heating'  # Dynamically add label based on dataset type\n",
        "\n",
        "    # Split features and target\n",
        "    X_test = test_data.drop(columns=['WH_RTU_Total', 'Label'])\n",
        "    y_test = test_data['WH_RTU_Total']\n",
        "\n",
        "    # Predict and calculate residuals\n",
        "    y_pred = best_xgb.predict(X_test)\n",
        "    test_data['Predicted'] = y_pred\n",
        "    test_data['Residual'] = test_data['WH_RTU_Total'] - test_data['Predicted']\n",
        "\n",
        "    # Select and rename required columns\n",
        "    if 'T_out' in test_data.columns and 'RH_out' in test_data.columns:\n",
        "        selected_data = test_data[['WH_RTU_Total', 'Predicted', 'Residual', 'T_out', 'RH_out', 'Label']].rename(columns={\n",
        "            'WH_RTU_Total': 'Actual'\n",
        "        })\n",
        "    else:\n",
        "        missing_columns = [col for col in ['T_out', 'RH_out'] if col not in test_data.columns]\n",
        "        raise ValueError(f\"{', '.join(missing_columns)} is/are missing in test data for fold {fold}\")\n",
        "\n",
        "    # Add fold, seed, and model columns\n",
        "    selected_data['Fold'] = fold\n",
        "    selected_data['Seed'] = 2024\n",
        "    selected_data['Model'] = 'XGBoost'\n",
        "    selected_data['Experiment'] = experiment\n",
        "\n",
        "    # Append to final merged data\n",
        "    merged_data.append(selected_data)\n",
        "    print(f\"Processed fold {fold}.\")\n",
        "\n",
        "# Combine all folds into a single DataFrame\n",
        "merged_final_data = pd.concat(merged_data, ignore_index=True)\n",
        "\n",
        "# Save the merged data\n",
        "output_file = 'xgboost_2024_heating_residual.csv'\n",
        "merged_final_data.to_csv(output_file, index=False)\n",
        "\n",
        "print(f\"All folds processed and merged data saved successfully to {output_file}.\")\n"
      ]
    },
    {
      "cell_type": "markdown",
      "metadata": {
        "id": "oZ81VcOpDINT"
      },
      "source": [
        "## Stacking Regressor"
      ]
    },
    {
      "cell_type": "markdown",
      "metadata": {
        "id": "qKcY0Z2wDINU"
      },
      "source": [
        "### hyper parameter tuning for heating Stacking Regressor"
      ]
    },
    {
      "cell_type": "code",
      "execution_count": null,
      "metadata": {
        "colab": {
          "base_uri": "https://localhost:8080/"
        },
        "outputId": "20abe4b0-570a-4122-da74-07d653db065f",
        "id": "10TYJ-9dDINU"
      },
      "outputs": [
        {
          "output_type": "stream",
          "name": "stdout",
          "text": [
            "Fold 1, Model Stacking Regressor, Dataset heating, MAE: 2.8941, R²: 0.5911, Best Params: {'final_estimator__fit_intercept': False, 'gb__learning_rate': 0.1, 'gb__max_depth': 6, 'rf__max_depth': 10, 'rf__n_estimators': 50}\n",
            "Fold 2, Model Stacking Regressor, Dataset heating, MAE: 2.8038, R²: 0.5630, Best Params: {'final_estimator__fit_intercept': False, 'gb__learning_rate': 0.1, 'gb__max_depth': 6, 'rf__max_depth': 10, 'rf__n_estimators': 100}\n",
            "Fold 3, Model Stacking Regressor, Dataset heating, MAE: 3.1387, R²: 0.5293, Best Params: {'final_estimator__fit_intercept': False, 'gb__learning_rate': 0.1, 'gb__max_depth': 6, 'rf__max_depth': 20, 'rf__n_estimators': 50}\n",
            "Fold 4, Model Stacking Regressor, Dataset heating, MAE: 3.0217, R²: 0.6004, Best Params: {'final_estimator__fit_intercept': True, 'gb__learning_rate': 0.01, 'gb__max_depth': 6, 'rf__max_depth': 20, 'rf__n_estimators': 100}\n",
            "Fold 5, Model Stacking Regressor, Dataset heating, MAE: 2.9156, R²: 0.6347, Best Params: {'final_estimator__fit_intercept': False, 'gb__learning_rate': 0.1, 'gb__max_depth': 6, 'rf__max_depth': 10, 'rf__n_estimators': 100}\n",
            "\n",
            "Summary Results for Stacking Regressor:\n",
            "                Model  Dataset       MAE        R²\n",
            "0  Stacking Regressor  heating  2.954779  0.583689\n"
          ]
        }
      ],
      "source": [
        "import pandas as pd\n",
        "from sklearn.model_selection import GridSearchCV\n",
        "from sklearn.ensemble import StackingRegressor\n",
        "from sklearn.linear_model import LinearRegression\n",
        "from sklearn.ensemble import RandomForestRegressor, GradientBoostingRegressor\n",
        "from sklearn.metrics import mean_absolute_error, r2_score\n",
        "\n",
        "# Placeholder for storing results\n",
        "results_stacking = []\n",
        "\n",
        "experiment = 2  # Experiment number\n",
        "# Define hyperparameter grid for Stacking Regressor\n",
        "param_grid_stacking = {\n",
        "    'final_estimator__fit_intercept': [True, False],  # Meta-model parameter (LinearRegression)\n",
        "    'rf__n_estimators': [50, 100],                   # Base model: Random Forest\n",
        "    'rf__max_depth': [10, 20],                       # Base model: Random Forest\n",
        "    'gb__learning_rate': [0.01, 0.1],                # Base model: Gradient Boosting\n",
        "    'gb__max_depth': [3, 6]                          # Base model: Gradient Boosting\n",
        "}\n",
        "\n",
        "for i in range(1, 6):\n",
        "    # Load datasets\n",
        "    train_data = pd.read_csv(f'fold{i}_heating_filtered_train_2024_data.csv')\n",
        "    test_data = pd.read_csv(f'fold{i}_heating_filtered_test_2024_data.csv')\n",
        "\n",
        "    # Split features and target\n",
        "    X_train = train_data.drop(columns=['WH_RTU_Total'])\n",
        "    y_train = train_data['WH_RTU_Total']\n",
        "\n",
        "    # Define base models and Stacking Regressor\n",
        "    base_models = [\n",
        "        ('rf', RandomForestRegressor(random_state=100)),\n",
        "        ('gb', GradientBoostingRegressor(random_state=100))\n",
        "    ]\n",
        "    meta_model = LinearRegression()\n",
        "    stacking = StackingRegressor(estimators=base_models, final_estimator=meta_model)\n",
        "\n",
        "    # Perform GridSearchCV on the Stacking Regressor\n",
        "    grid_search_stacking = GridSearchCV(stacking, param_grid_stacking, cv=3, scoring='neg_mean_absolute_error', n_jobs=-1)\n",
        "    grid_search_stacking.fit(X_train, y_train)\n",
        "\n",
        "    # Get the best model and hyperparameters\n",
        "    best_stacking = grid_search_stacking.best_estimator_\n",
        "    best_params = grid_search_stacking.best_params_\n",
        "\n",
        "    # Split test features and target\n",
        "    X_test = test_data.drop(columns=['WH_RTU_Total'])\n",
        "    y_test = test_data['WH_RTU_Total']\n",
        "\n",
        "    # Predict and calculate metrics\n",
        "    y_pred = best_stacking.predict(X_test)\n",
        "    mae = mean_absolute_error(y_test, y_pred)\n",
        "    r2 = r2_score(y_test, y_pred)\n",
        "\n",
        "    # Store results\n",
        "    results_stacking.append({\n",
        "        'Fold': i,\n",
        "        'Seed': 2024,\n",
        "        'Model': 'Stacking Regressor',\n",
        "        'Dataset': 'heating',\n",
        "        'MAE': mae,\n",
        "        'R²': r2,\n",
        "        'Best Params': best_params,\n",
        "        'Experiment': experiment\n",
        "    })\n",
        "\n",
        "    print(f\"Fold {i}, Model Stacking Regressor, Dataset heating, MAE: {mae:.4f}, R²: {r2:.4f}, Best Params: {best_params}\")\n",
        "\n",
        "# Convert results to DataFrame\n",
        "results_stacking_df = pd.DataFrame(results_stacking)\n",
        "\n",
        "# Save detailed results to CSV\n",
        "results_stacking_df.to_csv('stacking_2024_heating_hyperparameter_results_detailed.csv', index=False)\n",
        "\n",
        "# Display overall summary\n",
        "print(\"\\nSummary Results for Stacking Regressor:\")\n",
        "summary_stacking = results_stacking_df.groupby(['Model', 'Dataset']).agg({'MAE': 'mean', 'R²': 'mean'}).reset_index()\n",
        "print(summary_stacking)\n",
        "\n",
        "# Save summary to CSV\n",
        "summary_stacking.to_csv('stacking_2024_heating_summary_results.csv', index=False)\n"
      ]
    },
    {
      "cell_type": "markdown",
      "metadata": {
        "id": "qgHnpWSrDINU"
      },
      "source": [
        "### Feature Importance"
      ]
    },
    {
      "cell_type": "code",
      "execution_count": null,
      "metadata": {
        "colab": {
          "base_uri": "https://localhost:8080/"
        },
        "outputId": "4f5b4d63-2a58-46fd-c769-ea69996a40e7",
        "id": "l0U__hbvDINU"
      },
      "outputs": [
        {
          "output_type": "stream",
          "name": "stdout",
          "text": [
            "Feature importance for seed 2024 and experiment 2 has been successfully saved.\n"
          ]
        }
      ],
      "source": [
        "import pandas as pd\n",
        "from sklearn.linear_model import LinearRegression\n",
        "from sklearn.ensemble import RandomForestRegressor, GradientBoostingRegressor, StackingRegressor\n",
        "\n",
        "# Placeholder for feature importance results\n",
        "feature_importance_results = []\n",
        "\n",
        "\n",
        "experiment = 2  # Experiment number\n",
        "\n",
        "# Section 1: Calculate Feature Importance\n",
        "for fold in range(1, 6):\n",
        "    # Load training data\n",
        "    train_data = pd.read_csv(f'fold{fold}_heating_filtered_train_2024_data.csv')\n",
        "    X_train = train_data.drop(columns=['WH_RTU_Total'])\n",
        "    y_train = train_data['WH_RTU_Total']\n",
        "\n",
        "    # Extract the best parameters from the results file\n",
        "    results_stacking_df = pd.read_csv('stacking_2024_heating_hyperparameter_results_detailed.csv')\n",
        "    best_params = results_stacking_df.loc[\n",
        "        (results_stacking_df['Fold'] == fold) & (results_stacking_df['Dataset'] == 'heating'),\n",
        "        'Best Params'\n",
        "    ].iloc[0]\n",
        "    best_params_dict = eval(best_params)  # Parse string into dictionary\n",
        "\n",
        "    # Define base models\n",
        "    base_models = [\n",
        "        ('rf', RandomForestRegressor(random_state=100, **{k.split('__')[1]: v for k, v in best_params_dict.items() if k.startswith('rf__')})),\n",
        "        ('gb', GradientBoostingRegressor(random_state=100, **{k.split('__')[1]: v for k, v in best_params_dict.items() if k.startswith('gb__')}))\n",
        "    ]\n",
        "    meta_model = LinearRegression(**{k.split('__')[1]: v for k, v in best_params_dict.items() if k.startswith('final_estimator__')})\n",
        "\n",
        "    # Define Stacking Regressor and fit the model\n",
        "    stacking = StackingRegressor(estimators=base_models, final_estimator=meta_model)\n",
        "    stacking.fit(X_train, y_train)\n",
        "\n",
        "    # Calculate feature importances from base models\n",
        "    for model_name, model in stacking.named_estimators_.items():\n",
        "        if hasattr(model, 'feature_importances_'):  # Check if the model supports feature importance\n",
        "            feature_importances = model.feature_importances_\n",
        "            feature_names = X_train.columns\n",
        "            importance_df = pd.DataFrame({\n",
        "                'Feature': feature_names,\n",
        "                'Importance': feature_importances,\n",
        "                'Model': model_name,\n",
        "                'Fold': fold,\n",
        "                'Seed': 2024,\n",
        "                'Experiment': experiment  # Add experiment column\n",
        "            })\n",
        "            feature_importance_results.append(importance_df)\n",
        "\n",
        "# Combine all feature importance results\n",
        "feature_importance_combined = pd.concat(feature_importance_results, ignore_index=True)\n",
        "\n",
        "# Save the feature importance results to a file\n",
        "feature_importance_combined.to_csv(f'stacking_2024_heating_feature_importance_experiment_{experiment}.csv', index=False)\n",
        "\n",
        "print(f\"Feature importance for seed 2024 and experiment {experiment} has been successfully saved.\")"
      ]
    },
    {
      "cell_type": "markdown",
      "metadata": {
        "id": "S985yyfqDINU"
      },
      "source": [
        "### Residual Analysis"
      ]
    },
    {
      "cell_type": "code",
      "execution_count": null,
      "metadata": {
        "colab": {
          "base_uri": "https://localhost:8080/"
        },
        "outputId": "1f3b4635-f2af-474c-dab6-e312875f46ba",
        "id": "KraZ8ZshDINU"
      },
      "outputs": [
        {
          "output_type": "stream",
          "name": "stdout",
          "text": [
            "Processed fold 1.\n",
            "Processed fold 2.\n",
            "Processed fold 3.\n",
            "Processed fold 4.\n",
            "Processed fold 5.\n",
            "All folds processed and merged data saved successfully to stacking_2024_heating_residual.csv.\n"
          ]
        }
      ],
      "source": [
        "import pandas as pd\n",
        "from sklearn.ensemble import StackingRegressor, RandomForestRegressor, GradientBoostingRegressor\n",
        "from sklearn.linear_model import LinearRegression\n",
        "\n",
        "\n",
        "experiment = 2  # Experiment number\n",
        "merged_data = []  # Placeholder for storing final merged data\n",
        "\n",
        "# Load the best model parameters for each fold\n",
        "best_params_df = pd.read_csv('stacking_2024_heating_hyperparameter_results_detailed.csv')\n",
        "\n",
        "# Loop through each fold\n",
        "for fold in range(1, 6):\n",
        "    # Load training data\n",
        "    train_data = pd.read_csv(f'fold{fold}_heating_filtered_train_2024_data.csv')\n",
        "    X_train = train_data.drop(columns=['WH_RTU_Total'])\n",
        "    y_train = train_data['WH_RTU_Total']\n",
        "\n",
        "    # Get the best parameters for the current fold\n",
        "    best_params = best_params_df.loc[best_params_df['Fold'] == fold, 'Best Params'].iloc[0]\n",
        "    best_params_dict = eval(best_params)\n",
        "\n",
        "    # Define base models and Stacking Regressor with best parameters\n",
        "    base_models = [\n",
        "        ('rf', RandomForestRegressor(random_state=100,\n",
        "                                     n_estimators=best_params_dict['rf__n_estimators'],\n",
        "                                     max_depth=best_params_dict['rf__max_depth'])),\n",
        "        ('gb', GradientBoostingRegressor(random_state=100,\n",
        "                                         learning_rate=best_params_dict['gb__learning_rate'],\n",
        "                                         max_depth=best_params_dict['gb__max_depth']))\n",
        "    ]\n",
        "    meta_model = LinearRegression(fit_intercept=best_params_dict['final_estimator__fit_intercept'])\n",
        "    best_stacking = StackingRegressor(estimators=base_models, final_estimator=meta_model)\n",
        "\n",
        "    # Train the Stacking Regressor\n",
        "    best_stacking.fit(X_train, y_train)\n",
        "\n",
        "    # Load test data\n",
        "    test_data = pd.read_csv(f'fold{fold}_heating_filtered_test_2024_data.csv')\n",
        "    test_data['Label'] = 'heating'  # Dynamically add label based on dataset type\n",
        "\n",
        "    # Split features and target\n",
        "    X_test = test_data.drop(columns=['WH_RTU_Total', 'Label'])\n",
        "    y_test = test_data['WH_RTU_Total']\n",
        "\n",
        "    # Predict and calculate residuals\n",
        "    y_pred = best_stacking.predict(X_test)\n",
        "    test_data = test_data.reset_index(drop=True)  # Reset test_data index\n",
        "    y_pred_series = pd.Series(y_pred, index=test_data.index)  # Align y_pred with test_data index\n",
        "    test_data['Predicted'] = y_pred_series\n",
        "    test_data['Residual'] = test_data['WH_RTU_Total'] - test_data['Predicted']\n",
        "\n",
        "    # Select and rename required columns\n",
        "    if 'T_out' in test_data.columns and 'RH_out' in test_data.columns:\n",
        "        selected_data = test_data[['WH_RTU_Total', 'Predicted', 'Residual', 'T_out', 'RH_out', 'Label']].rename(columns={\n",
        "            'WH_RTU_Total': 'Actual'\n",
        "        })\n",
        "    else:\n",
        "        missing_columns = [col for col in ['T_out', 'RH_out'] if col not in test_data.columns]\n",
        "        raise ValueError(f\"{', '.join(missing_columns)} is/are missing in test data for fold {fold}\")\n",
        "\n",
        "    # Add fold, seed, and model columns\n",
        "    selected_data['Fold'] = fold\n",
        "    selected_data['Seed'] = 2024\n",
        "    selected_data['Model'] = 'StackingRegressor'\n",
        "    selected_data['Experiment'] = experiment\n",
        "\n",
        "    # Append to final merged data\n",
        "    merged_data.append(selected_data)\n",
        "    print(f\"Processed fold {fold}.\")\n",
        "\n",
        "# Combine all folds into a single DataFrame\n",
        "merged_final_data = pd.concat(merged_data, ignore_index=True)\n",
        "\n",
        "# Save the merged data\n",
        "output_file = 'stacking_2024_heating_residual.csv'\n",
        "merged_final_data.to_csv(output_file, index=False)\n",
        "\n",
        "print(f\"All folds processed and merged data saved successfully to {output_file}.\")\n"
      ]
    }
  ],
  "metadata": {
    "accelerator": "GPU",
    "colab": {
      "gpuType": "T4",
      "machine_shape": "hm",
      "provenance": []
    },
    "kernelspec": {
      "display_name": "Python 3",
      "name": "python3"
    },
    "language_info": {
      "name": "python"
    }
  },
  "nbformat": 4,
  "nbformat_minor": 0
}